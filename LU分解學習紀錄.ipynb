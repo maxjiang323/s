{
 "cells": [
  {
   "cell_type": "markdown",
   "metadata": {},
   "source": [
    "# $LU$分解學習紀錄"
   ]
  },
  {
   "cell_type": "markdown",
   "metadata": {},
   "source": [
    "## 以下十幾頁是我在學習$LU$分解時，以筆記的形式記錄下我的學習過程，了解曾正男教授的每一行程式碼的意義，分析教授的程式碼有哪些地方不妥？要如何解決？是用了什麼方法處理問題的？另外，我只是一個線性代數的初學者，內容可能有些許錯誤之處，敬請見諒，我願接受指教。"
   ]
  },
  {
   "cell_type": "markdown",
   "metadata": {},
   "source": [
    "## 註記:以下內容可能有部分在螢幕放大比例較小的模式會稍顯模糊，放大一點看即可"
   ]
  },
  {
   "cell_type": "markdown",
   "metadata": {},
   "source": [
    "[![image](https://www.linkpicture.com/q/LU分解學習記錄-3-1.jpg)](https://www.linkpicture.com/view.php?img=LPic61c3e900ab66037027803)"
   ]
  },
  {
   "cell_type": "markdown",
   "metadata": {},
   "source": [
    "[![image](https://www.linkpicture.com/q/LU分解學習記錄-3-2.jpg)](https://www.linkpicture.com/view.php?img=LPic61c3e96c2df351445409314)"
   ]
  },
  {
   "cell_type": "markdown",
   "metadata": {},
   "source": [
    "[![image](https://www.linkpicture.com/q/LU分解學習記錄-3-3.jpg)](https://www.linkpicture.com/view.php?img=LPic61c3eaa9388c61501042745)"
   ]
  },
  {
   "cell_type": "markdown",
   "metadata": {},
   "source": [
    "[![image](https://www.linkpicture.com/q/LU分解學習記錄-3-4.jpg)](https://www.linkpicture.com/view.php?img=LPic61c3eac1905131346859023)"
   ]
  },
  {
   "cell_type": "markdown",
   "metadata": {},
   "source": [
    "[![image](https://www.linkpicture.com/q/LU分解學習記錄-3-5.jpg)](https://www.linkpicture.com/view.php?img=LPic61c6cce8ad7711802732901)"
   ]
  },
  {
   "cell_type": "markdown",
   "metadata": {},
   "source": [
    "[![image](https://www.linkpicture.com/q/LU分解學習記錄-3-6.jpg)](https://www.linkpicture.com/view.php?img=LPic61c3ead9dcc69704549720)"
   ]
  },
  {
   "cell_type": "markdown",
   "metadata": {},
   "source": [
    "[![image](https://www.linkpicture.com/q/LU分解學習記錄-3-7_1.jpg)](https://www.linkpicture.com/view.php?img=LPic61c3eb49eedd01631565656)"
   ]
  },
  {
   "cell_type": "markdown",
   "metadata": {},
   "source": [
    "[![image](https://www.linkpicture.com/q/LU分解學習記錄-3-8.jpg)](https://www.linkpicture.com/view.php?img=LPic61c3eb76a700d1242770025)"
   ]
  },
  {
   "cell_type": "markdown",
   "metadata": {},
   "source": [
    "[![image](https://www.linkpicture.com/q/LU分解學習記錄-3-9.jpg)](https://www.linkpicture.com/view.php?img=LPic61c3eb8934a891493878755)"
   ]
  },
  {
   "cell_type": "markdown",
   "metadata": {},
   "source": [
    "[![image](https://www.linkpicture.com/q/LU分解學習記錄-3-10.jpg)](https://www.linkpicture.com/view.php?img=LPic61c3eb9e84b7d1613219358)"
   ]
  },
  {
   "cell_type": "markdown",
   "metadata": {},
   "source": [
    "[![image](https://www.linkpicture.com/q/LU分解學習記錄-3-11.jpg)](https://www.linkpicture.com/view.php?img=LPic61c3ebaf9880f2031488218)"
   ]
  },
  {
   "cell_type": "markdown",
   "metadata": {},
   "source": [
    "[![image](https://www.linkpicture.com/q/LU分解學習記錄-3-12.jpg)](https://www.linkpicture.com/view.php?img=LPic61c3ebc473c72713002325)"
   ]
  },
  {
   "cell_type": "markdown",
   "metadata": {},
   "source": [
    "[![image](https://www.linkpicture.com/q/LU分解學習記錄-3-13.jpg)](https://www.linkpicture.com/view.php?img=LPic61c3ebdf2ffc51184387925)"
   ]
  },
  {
   "cell_type": "markdown",
   "metadata": {},
   "source": [
    "[![image](https://www.linkpicture.com/q/LU分解學習記錄-3-14_1.jpg)](https://www.linkpicture.com/view.php?img=LPic61c3ec3d8f1f51456983546)"
   ]
  },
  {
   "cell_type": "markdown",
   "metadata": {},
   "source": [
    "[![image](https://www.linkpicture.com/q/LU分解學習記錄-3-15_1.jpg)](https://www.linkpicture.com/view.php?img=LPic61c3ec5592504920177091)"
   ]
  },
  {
   "cell_type": "markdown",
   "metadata": {},
   "source": [
    "[![image](https://www.linkpicture.com/q/LU分解學習記錄-3-16.jpg)](https://www.linkpicture.com/view.php?img=LPic61c3ec6d15df463340646)"
   ]
  },
  {
   "cell_type": "markdown",
   "metadata": {},
   "source": [
    "[![image](https://www.linkpicture.com/q/LU分解學習記錄-3-17.jpg)](https://www.linkpicture.com/view.php?img=LPic61c3ec94739001693882679)"
   ]
  },
  {
   "cell_type": "code",
   "execution_count": null,
   "metadata": {},
   "outputs": [],
   "source": []
  }
 ],
 "metadata": {
  "kernelspec": {
   "display_name": "Python 3",
   "language": "python",
   "name": "python3"
  },
  "language_info": {
   "codemirror_mode": {
    "name": "ipython",
    "version": 3
   },
   "file_extension": ".py",
   "mimetype": "text/x-python",
   "name": "python",
   "nbconvert_exporter": "python",
   "pygments_lexer": "ipython3",
   "version": "3.8.8"
  }
 },
 "nbformat": 4,
 "nbformat_minor": 4
}
