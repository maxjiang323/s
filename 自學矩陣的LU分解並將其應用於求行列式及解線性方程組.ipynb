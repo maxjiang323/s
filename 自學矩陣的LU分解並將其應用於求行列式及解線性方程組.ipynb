{
 "cells": [
  {
   "cell_type": "markdown",
   "metadata": {},
   "source": [
    "# 自學矩陣的$LU$分解並將其應用於求行列式及解線性方程組"
   ]
  },
  {
   "cell_type": "markdown",
   "metadata": {},
   "source": [
    "## 前情提要，請點下面的連結(兩個連結的內容皆相同)"
   ]
  },
  {
   "cell_type": "markdown",
   "metadata": {},
   "source": [
    "## [LU分解學習紀錄連結1](https://nbviewer.org/github/maxjiang323/s/blob/main/LU%E5%88%86%E8%A7%A3%E5%AD%B8%E7%BF%92%E7%B4%80%E9%8C%84.ipynb)"
   ]
  },
  {
   "cell_type": "markdown",
   "metadata": {},
   "source": [
    "## [LU分解學習紀錄連結2](https://github.com/maxjiang323/s/blob/main/LU%E5%88%86%E8%A7%A3%E5%AD%B8%E7%BF%92%E7%B4%80%E9%8C%84.ipynb)"
   ]
  },
  {
   "cell_type": "markdown",
   "metadata": {},
   "source": [
    "### 在上面的筆記中，所有的程式碼我皆有測試過，只是當時僅用手寫的方式記錄下來。接下來，我要記錄我實作的部分，我會先寫下教授的程式碼，以及我第一、二次修改的程式碼，以幾個矩陣分別測試我和教授的程式碼的計算結果，並進行比較。"
   ]
  },
  {
   "cell_type": "markdown",
   "metadata": {},
   "source": [
    "# 1. $LU$分解法"
   ]
  },
  {
   "cell_type": "markdown",
   "metadata": {},
   "source": [
    "## (1)教授寫的程式碼(有的註解是我自己加的，方便我記錄及理解)"
   ]
  },
  {
   "cell_type": "markdown",
   "metadata": {},
   "source": [
    "### [曾正男教授的LU分解教學影片連結](https://www.youtube.com/watch?v=W1elv5pS9xg)"
   ]
  },
  {
   "cell_type": "code",
   "execution_count": 152,
   "metadata": {},
   "outputs": [],
   "source": [
    "import numpy as np"
   ]
  },
  {
   "cell_type": "code",
   "execution_count": 153,
   "metadata": {},
   "outputs": [],
   "source": [
    "def LU_1(A):\n",
    "    m, n = A.shape # array(matrix).shape 可以看array(matrix)的形狀 ; m-->rows ; n-->columns\n",
    "    U = A.copy()\n",
    "    L = np.mat(np.identity(m)) # L最初的型態為單位矩陣\n",
    "    P = L.copy()\n",
    "    \n",
    "    for i in range(m):\n",
    "        \n",
    "        maxEc = abs(U[i, i])\n",
    "        maxRow = i\n",
    "        for k in range(i+1, m):\n",
    "            if abs(U[k, i]) > maxEc:\n",
    "                maxEc = U[k, i]\n",
    "                maxRow = k\n",
    "        # swap maximum row with current row\n",
    "        # [rows, columns] ; 第 i 列與第 maxRow 列互換 \n",
    "        # 從該列的第 i 行開始(省略前面從第 0 行到第 (i-1)行的互換 ∵ 都是 0, 不用互換)\n",
    "        U[[i, maxRow], i:] = U[[maxRow, i], i:]\n",
    "        # [rows, columns] ; L矩陣要整行都互換, 而 P矩陣也要整列都互換\n",
    "        L[[i, maxRow], :] = L[[maxRow, i], :]\n",
    "        P[:, [i, maxRow]] = P[:, [maxRow, i]]\n",
    "        \n",
    "        # gauss elimination \n",
    "        for t in range(i+1, m):\n",
    "            c = -float(U[t, i])/U[i, i] # U[i, i]--> U矩陣對角線上的數值\n",
    "            # delete row t by i\n",
    "            U[t, i:] = U[t, i:] + c*U[i, i:] # 列運算\n",
    "            # delete column i by t\n",
    "            L[t:, i] = L[t:, i] - c*L[t:, t] # 行運算\n",
    "    return L, U, P"
   ]
  },
  {
   "cell_type": "markdown",
   "metadata": {},
   "source": [
    "## (2)我第一次修改後的程式碼"
   ]
  },
  {
   "cell_type": "code",
   "execution_count": 154,
   "metadata": {},
   "outputs": [],
   "source": [
    "import numpy as np"
   ]
  },
  {
   "cell_type": "code",
   "execution_count": 155,
   "metadata": {},
   "outputs": [],
   "source": [
    "def LU_2(A):\n",
    "    m, n = A.shape\n",
    "    U = np.array(A.copy())\n",
    "    L = np.mat(np.identity(m))\n",
    "    P = L.copy()\n",
    "    \n",
    "    for i in range(m):\n",
    "         for t in range(i, m-1): \n",
    "         # from the first row to (the second to last), from the second row to (the second to last)... \n",
    "            for h in range(t+1, m): \n",
    "            # from the second row to the last, from the third row to the last...\n",
    "                U = np.mat(U)\n",
    "                if U[t, i] == 0:\n",
    "                    continue\n",
    "                else:\n",
    "                    c = -(U[h ,i] / U[t, i])\n",
    "                    U[h, :] = U[h, :] + c * U[t,:]\n",
    "                    L[:, t] = L[:, t] - c * L[:, h]\n",
    "                \n",
    "                   \n",
    "    \n",
    "   \n",
    "         for k in range(i+1, m):\n",
    "            changeRow = i\n",
    "            U = np.array(U)\n",
    "            nonzero = np.count_nonzero(U, axis = 1) # row\n",
    "            if nonzero[k] > nonzero[i]:\n",
    "                changeRow = k\n",
    "                U = np.mat(U)\n",
    "                U[[changeRow, i], :] = U[[i, changeRow], :]\n",
    "                P[[changeRow, i], :] = P[[i, changeRow], :]\n",
    "                L[[changeRow, i], :] = L[[i, changeRow], :]\n",
    "                L[:, [changeRow, i]] = L[:, [i, changeRow]]\n",
    "                \n",
    "                \n",
    "    \n",
    "       \n",
    "    U = np.mat(U)\n",
    "    return L, U, P\n",
    "       "
   ]
  },
  {
   "cell_type": "markdown",
   "metadata": {},
   "source": [
    "## (3)我第二次修改後的程式碼"
   ]
  },
  {
   "cell_type": "code",
   "execution_count": 156,
   "metadata": {},
   "outputs": [],
   "source": [
    "import numpy as np"
   ]
  },
  {
   "cell_type": "code",
   "execution_count": 157,
   "metadata": {},
   "outputs": [],
   "source": [
    "def LU_3(A):\n",
    "    m, n = A.shape\n",
    "    U = A.copy()\n",
    "    U = U.astype('float64')\n",
    "    P = np.mat(np.identity(m))\n",
    "    L = P.copy()\n",
    "    \n",
    "    for i in range(m-1):\n",
    "        for x in range(i+1, m):\n",
    "            if U[i, i] == 0:\n",
    "                if U[x, i] != 0:\n",
    "                    U[[x, i], i:] = U[[i, x], i:]\n",
    "                    P[[x, i], :] = P[[i, x], :]\n",
    "                    L[[x, i], :] = L[[i, x], :]\n",
    "                    L[:, [x, i]] = L[:, [i, x]]\n",
    "        \n",
    "        for t in range(i+1, m):\n",
    "            if U[i, i] == 0:\n",
    "                continue\n",
    "            c = -(U[t, i]/U[i, i])\n",
    "            U[t, i:] = U[t, i:] + c*U[i, i:]\n",
    "            L[t, i] = L[t, i] - c*L[t, t]\n",
    "            \n",
    "    return L, U, P"
   ]
  },
  {
   "cell_type": "markdown",
   "metadata": {},
   "source": [
    "### 為了「清楚地表示數學式」，下面我不會使用$print$直接輸出矩陣及算式，我會將我和教授的輸出的矩陣從$numpy.mat( )$轉換成$sympy.Matrix( )$的形式($sympy$在後面我會提到) ，然後用$display$&$Markdown$這兩個函式輸出矩陣。\n",
    "### 註記:用$display$&$Markdown$取代$print$輸出矩陣及算式的原因是:用$display$&$Markdown$的話，輸出的字體較用$print$來得大且較工整，下面我舉個例子來比較兩者差異"
   ]
  },
  {
   "cell_type": "markdown",
   "metadata": {},
   "source": [
    "## 1.使用$print$輸出矩陣及算式"
   ]
  },
  {
   "cell_type": "code",
   "execution_count": 158,
   "metadata": {},
   "outputs": [],
   "source": [
    "import numpy as np"
   ]
  },
  {
   "cell_type": "code",
   "execution_count": 159,
   "metadata": {},
   "outputs": [
    {
     "name": "stdout",
     "output_type": "stream",
     "text": [
      "ss = \n",
      "[[1 2 3]\n",
      " [4 5 6]\n",
      " [7 8 9]]\n",
      "ss * I3 =[[1 2 3]\n",
      " [4 5 6]\n",
      " [7 8 9]][[1. 0. 0.]\n",
      " [0. 1. 0.]\n",
      " [0. 0. 1.]]=[[1. 2. 3.]\n",
      " [4. 5. 6.]\n",
      " [7. 8. 9.]]\n"
     ]
    }
   ],
   "source": [
    "ss = np.mat([[1, 2, 3],\n",
    "             [4, 5, 6],\n",
    "             [7, 8, 9]])\n",
    "print('ss = ')\n",
    "print(ss)\n",
    "\n",
    "print('ss * I3 =' + str(ss) + str(np.identity(3)) + '=' + str(ss*np.identity(3)))"
   ]
  },
  {
   "cell_type": "markdown",
   "metadata": {},
   "source": [
    "## 2.使用$display$&$Markdown$輸出矩陣及算式(先把矩陣轉換成$sympy.Matrix( )$的形式)"
   ]
  },
  {
   "cell_type": "code",
   "execution_count": 160,
   "metadata": {},
   "outputs": [],
   "source": [
    "from IPython.display import display, Markdown\n",
    "import numpy as np\n",
    "import sympy as sp"
   ]
  },
  {
   "cell_type": "code",
   "execution_count": 161,
   "metadata": {},
   "outputs": [
    {
     "data": {
      "text/markdown": [
       "### $ss =\\left[\\begin{matrix}1 & 2 & 3\\\\4 & 5 & 6\\\\7 & 8 & 9\\end{matrix}\\right]$"
      ],
      "text/plain": [
       "<IPython.core.display.Markdown object>"
      ]
     },
     "metadata": {},
     "output_type": "display_data"
    },
    {
     "data": {
      "text/markdown": [
       "### $ss * I_3  =\\left[\\begin{matrix}1 & 2 & 3\\\\4 & 5 & 6\\\\7 & 8 & 9\\end{matrix}\\right]\\left[\\begin{matrix}1 & 0 & 0\\\\0 & 1 & 0\\\\0 & 0 & 1\\end{matrix}\\right]=\\left[\\begin{matrix}1 & 2 & 3\\\\4 & 5 & 6\\\\7 & 8 & 9\\end{matrix}\\right]$"
      ],
      "text/plain": [
       "<IPython.core.display.Markdown object>"
      ]
     },
     "metadata": {},
     "output_type": "display_data"
    }
   ],
   "source": [
    "ss = np.mat([[1, 2, 3],\n",
    "             [4, 5, 6],\n",
    "             [7, 8, 9]])\n",
    "ss_1 = sp.Matrix(ss)\n",
    "\n",
    "a1 = '### $' + 'ss =' + sp.latex(ss_1) + '$'\n",
    "display(Markdown(a1))\n",
    "\n",
    "a2 = '### $' + 'ss * I_3  =' + sp.latex(ss_1) + sp.latex(sp.eye(3)) + '=' + sp.latex(ss_1 * sp.eye(3)) + '$'\n",
    "display(Markdown(a2))"
   ]
  },
  {
   "cell_type": "markdown",
   "metadata": {},
   "source": [
    "### 由上可見兩者之差異。因此，下面的矩陣及算式我將全部採用$display$&$Markdown$進行輸出(若矩陣的型態為$numpy.mat()$，我會將它先轉換成$sympy.Matrix()$的形式)"
   ]
  },
  {
   "cell_type": "markdown",
   "metadata": {},
   "source": [
    "### 接下來我會分別以一個 $4$ x $5$ 的矩陣$A$和 $5$ x $4$ 的矩陣$B$ 測試三個(包含教授的)不同的程式碼計算矩陣的 $LU$分解的結果，並測試該次$LU$分解後，矩陣$A$和矩陣$B$各自的$L$矩陣、$U$矩陣、$P$矩陣是否可以滿足: $PA = LU$ 還有 $PB = LU$。"
   ]
  },
  {
   "cell_type": "code",
   "execution_count": 162,
   "metadata": {},
   "outputs": [],
   "source": [
    "from IPython.display import display, Markdown"
   ]
  },
  {
   "cell_type": "code",
   "execution_count": 163,
   "metadata": {},
   "outputs": [
    {
     "data": {
      "text/markdown": [
       "### $A\\;=\\left[\\begin{matrix}4 & 6 & 2 & 0 & 1\\\\0 & 5 & -2 & -1 & 2\\\\12 & 38 & -2 & 0 & 3\\\\0 & 3 & 4 & 0 & 4\\end{matrix}\\right],\\;B\\;=\\left[\\begin{matrix}4 & 6 & 2 & 0\\\\0 & 5 & -2 & -1\\\\12 & 38 & -2 & 0\\\\0 & 3 & 4 & 0\\\\1 & 2 & 3 & 4\\end{matrix}\\right]$"
      ],
      "text/plain": [
       "<IPython.core.display.Markdown object>"
      ]
     },
     "metadata": {},
     "output_type": "display_data"
    }
   ],
   "source": [
    "A = np.mat([[4, 6, 2, 0, 1], \n",
    "            [0, 5, -2, -1, 2], \n",
    "            [12, 38, -2, 0, 3], \n",
    "            [0, 3, 4, 0, 4]])\n",
    "\n",
    "B = np.mat([[4, 6, 2, 0], \n",
    "            [0, 5, -2, -1], \n",
    "            [12, 38, -2, 0], \n",
    "            [0, 3, 4, 0], \n",
    "            [1, 2, 3, 4]])\n",
    "\n",
    "\n",
    "A_1 = sp.Matrix(A)\n",
    "B_1 = sp.Matrix(B)\n",
    "a = '### $'+'A\\;=' +  sp.latex(A_1) + ',\\;' +'B\\;=' +  sp.latex(B_1) + '$'\n",
    "display(Markdown(a))"
   ]
  },
  {
   "cell_type": "markdown",
   "metadata": {},
   "source": [
    "## 教授程式碼的計算結果"
   ]
  },
  {
   "cell_type": "code",
   "execution_count": 164,
   "metadata": {
    "scrolled": false
   },
   "outputs": [
    {
     "data": {
      "text/markdown": [
       "### $P\\;=\\left[\\begin{matrix}0.0 & 0.0 & 1.0 & 0.0\\\\0.0 & 0.0 & 0.0 & 1.0\\\\1.0 & 0.0 & 0.0 & 0.0\\\\0.0 & 1.0 & 0.0 & 0.0\\end{matrix}\\right],\\;A\\;=\\left[\\begin{matrix}4 & 6 & 2 & 0 & 1\\\\0 & 5 & -2 & -1 & 2\\\\12 & 38 & -2 & 0 & 3\\\\0 & 3 & 4 & 0 & 4\\end{matrix}\\right]$"
      ],
      "text/plain": [
       "<IPython.core.display.Markdown object>"
      ]
     },
     "metadata": {},
     "output_type": "display_data"
    },
    {
     "data": {
      "text/markdown": [
       "### $L\\;=\\left[\\begin{matrix}0.0 & 0.0 & 1.0 & 0.0\\\\0.0 & 0.0 & 0.0 & 1.0\\\\1.0 & 0.0 & 0.0 & 0.0\\\\0.0 & 1.0 & 0.0 & 0.0\\end{matrix}\\right],\\;U\\;=\\left[\\begin{matrix}12 & 38 & -2 & 0 & 3\\\\0 & 3 & 4 & 0 & 4\\\\0 & 0 & 10 & 0 & 8\\\\0 & 0 & 0 & -1 & 2\\end{matrix}\\right]$"
      ],
      "text/plain": [
       "<IPython.core.display.Markdown object>"
      ]
     },
     "metadata": {},
     "output_type": "display_data"
    },
    {
     "data": {
      "text/markdown": [
       "### $PA\\;=\\left[\\begin{matrix}12.0 & 38.0 & -2.0 & 0 & 3.0\\\\0 & 3.0 & 4.0 & 0 & 4.0\\\\4.0 & 6.0 & 2.0 & 0 & 1.0\\\\0 & 5.0 & -2.0 & -1.0 & 2.0\\end{matrix}\\right],\\;LU\\;=\\left[\\begin{matrix}0 & 0 & 10.0 & 0 & 8.0\\\\0 & 0 & 0 & -1.0 & 2.0\\\\12.0 & 38.0 & -2.0 & 0 & 3.0\\\\0 & 3.0 & 4.0 & 0 & 4.0\\end{matrix}\\right]$"
      ],
      "text/plain": [
       "<IPython.core.display.Markdown object>"
      ]
     },
     "metadata": {},
     "output_type": "display_data"
    }
   ],
   "source": [
    "L, U, P = LU_1(A)\n",
    "L_1 = sp.Matrix(L)\n",
    "U_1 = sp.Matrix(U)\n",
    "P_1 = sp.Matrix(P)\n",
    "\n",
    "a0 = '### $'+'P\\;=' +  sp.latex(P_1) + ',\\;' + 'A\\;=' + sp.latex(A_1) +'$'\n",
    "display(Markdown(a0))\n",
    "\n",
    "a1 = '### $'+'L\\;=' +  sp.latex(L_1) + ',\\;' + 'U\\;=' + sp.latex(U_1) +'$'\n",
    "display(Markdown(a1))\n",
    "\n",
    "a2 = '### $'+'PA\\;=' +  sp.latex(P_1 * A_1) + ',\\;' + 'LU\\;=' + sp.latex(L_1 * U_1) +'$'\n",
    "display(Markdown(a2))"
   ]
  },
  {
   "cell_type": "markdown",
   "metadata": {},
   "source": [
    "### $↑PA ≠ LU$，而$L$矩陣主對角線上元素皆不為$\\;1\\;$(不合$L$矩陣的規則)，且其主對角線上方的元素有兩個不為$\\;0\\;$(不合$L$矩陣的規則)"
   ]
  },
  {
   "cell_type": "code",
   "execution_count": 165,
   "metadata": {},
   "outputs": [
    {
     "ename": "IndexError",
     "evalue": "index 4 is out of bounds for axis 1 with size 4",
     "output_type": "error",
     "traceback": [
      "\u001b[1;31m---------------------------------------------------------------------------\u001b[0m",
      "\u001b[1;31mIndexError\u001b[0m                                Traceback (most recent call last)",
      "\u001b[1;32m<ipython-input-165-aa6a5d253735>\u001b[0m in \u001b[0;36m<module>\u001b[1;34m\u001b[0m\n\u001b[1;32m----> 1\u001b[1;33m \u001b[0mL\u001b[0m\u001b[1;33m,\u001b[0m \u001b[0mU\u001b[0m\u001b[1;33m,\u001b[0m \u001b[0mP\u001b[0m \u001b[1;33m=\u001b[0m \u001b[0mLU_1\u001b[0m\u001b[1;33m(\u001b[0m\u001b[0mB\u001b[0m\u001b[1;33m)\u001b[0m\u001b[1;33m\u001b[0m\u001b[1;33m\u001b[0m\u001b[0m\n\u001b[0m\u001b[0;32m      2\u001b[0m \u001b[0mL_1\u001b[0m \u001b[1;33m=\u001b[0m \u001b[0msp\u001b[0m\u001b[1;33m.\u001b[0m\u001b[0mMatrix\u001b[0m\u001b[1;33m(\u001b[0m\u001b[0mL\u001b[0m\u001b[1;33m)\u001b[0m\u001b[1;33m\u001b[0m\u001b[1;33m\u001b[0m\u001b[0m\n\u001b[0;32m      3\u001b[0m \u001b[0mU_1\u001b[0m \u001b[1;33m=\u001b[0m \u001b[0msp\u001b[0m\u001b[1;33m.\u001b[0m\u001b[0mMatrix\u001b[0m\u001b[1;33m(\u001b[0m\u001b[0mU\u001b[0m\u001b[1;33m)\u001b[0m\u001b[1;33m\u001b[0m\u001b[1;33m\u001b[0m\u001b[0m\n\u001b[0;32m      4\u001b[0m \u001b[0mP_1\u001b[0m \u001b[1;33m=\u001b[0m \u001b[0msp\u001b[0m\u001b[1;33m.\u001b[0m\u001b[0mMatrix\u001b[0m\u001b[1;33m(\u001b[0m\u001b[0mP\u001b[0m\u001b[1;33m)\u001b[0m\u001b[1;33m\u001b[0m\u001b[1;33m\u001b[0m\u001b[0m\n\u001b[0;32m      5\u001b[0m \u001b[1;33m\u001b[0m\u001b[0m\n",
      "\u001b[1;32m<ipython-input-153-842410d16eb4>\u001b[0m in \u001b[0;36mLU_1\u001b[1;34m(A)\u001b[0m\n\u001b[0;32m      7\u001b[0m     \u001b[1;32mfor\u001b[0m \u001b[0mi\u001b[0m \u001b[1;32min\u001b[0m \u001b[0mrange\u001b[0m\u001b[1;33m(\u001b[0m\u001b[0mm\u001b[0m\u001b[1;33m)\u001b[0m\u001b[1;33m:\u001b[0m\u001b[1;33m\u001b[0m\u001b[1;33m\u001b[0m\u001b[0m\n\u001b[0;32m      8\u001b[0m \u001b[1;33m\u001b[0m\u001b[0m\n\u001b[1;32m----> 9\u001b[1;33m         \u001b[0mmaxEc\u001b[0m \u001b[1;33m=\u001b[0m \u001b[0mabs\u001b[0m\u001b[1;33m(\u001b[0m\u001b[0mU\u001b[0m\u001b[1;33m[\u001b[0m\u001b[0mi\u001b[0m\u001b[1;33m,\u001b[0m \u001b[0mi\u001b[0m\u001b[1;33m]\u001b[0m\u001b[1;33m)\u001b[0m\u001b[1;33m\u001b[0m\u001b[1;33m\u001b[0m\u001b[0m\n\u001b[0m\u001b[0;32m     10\u001b[0m         \u001b[0mmaxRow\u001b[0m \u001b[1;33m=\u001b[0m \u001b[0mi\u001b[0m\u001b[1;33m\u001b[0m\u001b[1;33m\u001b[0m\u001b[0m\n\u001b[0;32m     11\u001b[0m         \u001b[1;32mfor\u001b[0m \u001b[0mk\u001b[0m \u001b[1;32min\u001b[0m \u001b[0mrange\u001b[0m\u001b[1;33m(\u001b[0m\u001b[0mi\u001b[0m\u001b[1;33m+\u001b[0m\u001b[1;36m1\u001b[0m\u001b[1;33m,\u001b[0m \u001b[0mm\u001b[0m\u001b[1;33m)\u001b[0m\u001b[1;33m:\u001b[0m\u001b[1;33m\u001b[0m\u001b[1;33m\u001b[0m\u001b[0m\n",
      "\u001b[1;32m~\\AppData\\Roaming\\Python\\Python38\\site-packages\\numpy\\matrixlib\\defmatrix.py\u001b[0m in \u001b[0;36m__getitem__\u001b[1;34m(self, index)\u001b[0m\n\u001b[0;32m    191\u001b[0m \u001b[1;33m\u001b[0m\u001b[0m\n\u001b[0;32m    192\u001b[0m         \u001b[1;32mtry\u001b[0m\u001b[1;33m:\u001b[0m\u001b[1;33m\u001b[0m\u001b[1;33m\u001b[0m\u001b[0m\n\u001b[1;32m--> 193\u001b[1;33m             \u001b[0mout\u001b[0m \u001b[1;33m=\u001b[0m \u001b[0mN\u001b[0m\u001b[1;33m.\u001b[0m\u001b[0mndarray\u001b[0m\u001b[1;33m.\u001b[0m\u001b[0m__getitem__\u001b[0m\u001b[1;33m(\u001b[0m\u001b[0mself\u001b[0m\u001b[1;33m,\u001b[0m \u001b[0mindex\u001b[0m\u001b[1;33m)\u001b[0m\u001b[1;33m\u001b[0m\u001b[1;33m\u001b[0m\u001b[0m\n\u001b[0m\u001b[0;32m    194\u001b[0m         \u001b[1;32mfinally\u001b[0m\u001b[1;33m:\u001b[0m\u001b[1;33m\u001b[0m\u001b[1;33m\u001b[0m\u001b[0m\n\u001b[0;32m    195\u001b[0m             \u001b[0mself\u001b[0m\u001b[1;33m.\u001b[0m\u001b[0m_getitem\u001b[0m \u001b[1;33m=\u001b[0m \u001b[1;32mFalse\u001b[0m\u001b[1;33m\u001b[0m\u001b[1;33m\u001b[0m\u001b[0m\n",
      "\u001b[1;31mIndexError\u001b[0m: index 4 is out of bounds for axis 1 with size 4"
     ]
    }
   ],
   "source": [
    "L, U, P = LU_1(B)\n",
    "L_1 = sp.Matrix(L)\n",
    "U_1 = sp.Matrix(U)\n",
    "P_1 = sp.Matrix(P)\n",
    "\n",
    "a0 = '### $'+'P\\;=' +  sp.latex(P_1) + ',\\;' + 'B\\;=' + sp.latex(B_1) +'$'\n",
    "display(Markdown(a0))\n",
    "\n",
    "a1 = '### $'+'L\\;=' +  sp.latex(L_1) + ',\\;' + 'U\\;=' + sp.latex(U_1) +'$'\n",
    "display(Markdown(a1))\n",
    "\n",
    "a2 = '### $'+'PB\\;=' +  sp.latex(P_1 * B_1) + ',\\;' + 'LU\\;=' + sp.latex(L_1 * U_1) +'$'\n",
    "display(Markdown(a2))"
   ]
  },
  {
   "cell_type": "markdown",
   "metadata": {},
   "source": [
    "### $↑Compile\\;Errors$(編譯錯誤)"
   ]
  },
  {
   "cell_type": "markdown",
   "metadata": {},
   "source": [
    "## 我第一次修改後的程式碼的計算結果"
   ]
  },
  {
   "cell_type": "code",
   "execution_count": 166,
   "metadata": {},
   "outputs": [
    {
     "data": {
      "text/markdown": [
       "### $P\\;=\\left[\\begin{matrix}1.0 & 0.0 & 0.0 & 0.0\\\\0.0 & 1.0 & 0.0 & 0.0\\\\0.0 & 0.0 & 1.0 & 0.0\\\\0.0 & 0.0 & 0.0 & 1.0\\end{matrix}\\right],\\;A\\;=\\left[\\begin{matrix}4 & 6 & 2 & 0 & 1\\\\0 & 5 & -2 & -1 & 2\\\\12 & 38 & -2 & 0 & 3\\\\0 & 3 & 4 & 0 & 4\\end{matrix}\\right]$"
      ],
      "text/plain": [
       "<IPython.core.display.Markdown object>"
      ]
     },
     "metadata": {},
     "output_type": "display_data"
    },
    {
     "data": {
      "text/markdown": [
       "### $L\\;=\\left[\\begin{matrix}1.0 & 0.0 & 0.0 & 0.0\\\\0.0 & 1.0 & 0.0 & 0.0\\\\3.0 & 4.0 & 1.0 & 0.0\\\\0.0 & 0.6 & 0.0 & 1.0\\end{matrix}\\right],\\;U\\;=\\left[\\begin{matrix}4 & 6 & 2 & 0 & 1\\\\0 & 5 & -2 & -1 & 2\\\\0 & 0 & 0 & 4 & -8\\\\0 & 0 & 5 & 0 & 2\\end{matrix}\\right]$"
      ],
      "text/plain": [
       "<IPython.core.display.Markdown object>"
      ]
     },
     "metadata": {},
     "output_type": "display_data"
    },
    {
     "data": {
      "text/markdown": [
       "### $PA\\;=\\left[\\begin{matrix}4.0 & 6.0 & 2.0 & 0 & 1.0\\\\0 & 5.0 & -2.0 & -1.0 & 2.0\\\\12.0 & 38.0 & -2.0 & 0 & 3.0\\\\0 & 3.0 & 4.0 & 0 & 4.0\\end{matrix}\\right],\\;LU\\;=\\left[\\begin{matrix}4.0 & 6.0 & 2.0 & 0 & 1.0\\\\0 & 5.0 & -2.0 & -1.0 & 2.0\\\\12.0 & 38.0 & -2.0 & 0 & 3.0\\\\0 & 3.0 & 3.8 & -0.6 & 3.2\\end{matrix}\\right]$"
      ],
      "text/plain": [
       "<IPython.core.display.Markdown object>"
      ]
     },
     "metadata": {},
     "output_type": "display_data"
    }
   ],
   "source": [
    "L, U, P = LU_2(A)\n",
    "L_1 = sp.Matrix(L)\n",
    "U_1 = sp.Matrix(U)\n",
    "P_1 = sp.Matrix(P)\n",
    "\n",
    "a0 = '### $'+'P\\;=' +  sp.latex(P_1) + ',\\;' + 'A\\;=' + sp.latex(A_1) +'$'\n",
    "display(Markdown(a0))\n",
    "\n",
    "a1 = '### $'+'L\\;=' +  sp.latex(L_1) + ',\\;' + 'U\\;=' + sp.latex(U_1) +'$'\n",
    "display(Markdown(a1))\n",
    "\n",
    "a2 = '### $'+'PA\\;=' +  sp.latex(P_1 * A_1) + ',\\;' + 'LU\\;=' + sp.latex(L_1 * U_1) +'$'\n",
    "display(Markdown(a2))"
   ]
  },
  {
   "cell_type": "markdown",
   "metadata": {},
   "source": [
    "### $↑PA ≠ LU$，且$U$矩陣主對角線下有一個元素不為$\\;0\\;$(不合$U$矩陣的規則)"
   ]
  },
  {
   "cell_type": "code",
   "execution_count": 167,
   "metadata": {},
   "outputs": [
    {
     "data": {
      "text/markdown": [
       "### $P\\;=\\left[\\begin{matrix}1.0 & 0.0 & 0.0 & 0.0 & 0.0\\\\0.0 & 1.0 & 0.0 & 0.0 & 0.0\\\\0.0 & 0.0 & 1.0 & 0.0 & 0.0\\\\0.0 & 0.0 & 0.0 & 1.0 & 0.0\\\\0.0 & 0.0 & 0.0 & 0.0 & 1.0\\end{matrix}\\right],\\;B\\;=\\left[\\begin{matrix}4 & 6 & 2 & 0\\\\0 & 5 & -2 & -1\\\\12 & 38 & -2 & 0\\\\0 & 3 & 4 & 0\\\\1 & 2 & 3 & 4\\end{matrix}\\right]$"
      ],
      "text/plain": [
       "<IPython.core.display.Markdown object>"
      ]
     },
     "metadata": {},
     "output_type": "display_data"
    },
    {
     "data": {
      "text/markdown": [
       "### $L\\;=\\left[\\begin{matrix}1.0 & 0.0 & 0.0 & 0.0 & 0.0\\\\0.0 & 1.0 & 0.0 & 0.0 & 0.0\\\\3.0 & 4.0 & 1.0 & 0.0 & 0.0\\\\0.0 & 0.6 & 0.0 & 1.0 & 0.0\\\\0.25 & 0.0 & 0.0 & 0.4 & 1.0\\end{matrix}\\right],\\;U\\;=\\left[\\begin{matrix}4 & 6 & 2 & 0\\\\0 & 5 & -2 & -1\\\\0 & 0 & 0 & 4\\\\0 & 0 & 5 & 0\\\\0 & 0 & 0 & 4\\end{matrix}\\right]$"
      ],
      "text/plain": [
       "<IPython.core.display.Markdown object>"
      ]
     },
     "metadata": {},
     "output_type": "display_data"
    },
    {
     "data": {
      "text/markdown": [
       "### $PB\\;=\\left[\\begin{matrix}4.0 & 6.0 & 2.0 & 0\\\\0 & 5.0 & -2.0 & -1.0\\\\12.0 & 38.0 & -2.0 & 0\\\\0 & 3.0 & 4.0 & 0\\\\1.0 & 2.0 & 3.0 & 4.0\\end{matrix}\\right],\\;LU\\;=\\left[\\begin{matrix}4.0 & 6.0 & 2.0 & 0\\\\0 & 5.0 & -2.0 & -1.0\\\\12.0 & 38.0 & -2.0 & 0\\\\0 & 3.0 & 3.8 & -0.6\\\\1.0 & 1.5 & 2.5 & 4.0\\end{matrix}\\right]$"
      ],
      "text/plain": [
       "<IPython.core.display.Markdown object>"
      ]
     },
     "metadata": {},
     "output_type": "display_data"
    }
   ],
   "source": [
    "L, U, P = LU_2(B)\n",
    "L_1 = sp.Matrix(L)\n",
    "U_1 = sp.Matrix(U)\n",
    "P_1 = sp.Matrix(P)\n",
    "\n",
    "a0 = '### $'+'P\\;=' +  sp.latex(P_1) + ',\\;' + 'B\\;=' + sp.latex(B_1) +'$'\n",
    "display(Markdown(a0))\n",
    "\n",
    "a1 = '### $'+'L\\;=' +  sp.latex(L_1) + ',\\;' + 'U\\;=' + sp.latex(U_1) +'$'\n",
    "display(Markdown(a1))\n",
    "\n",
    "a2 = '### $'+'PB\\;=' +  sp.latex(P_1 * B_1) + ',\\;' + 'LU\\;=' + sp.latex(L_1 * U_1) +'$'\n",
    "display(Markdown(a2))"
   ]
  },
  {
   "cell_type": "markdown",
   "metadata": {},
   "source": [
    "### $↑PB ≠ LU$，且$U$矩陣主對角線下方有一個元素不為$\\;0\\;$(不合$U$矩陣的規則)"
   ]
  },
  {
   "cell_type": "markdown",
   "metadata": {},
   "source": [
    "## 我第二次修改後的程式的計算結果"
   ]
  },
  {
   "cell_type": "code",
   "execution_count": 168,
   "metadata": {
    "scrolled": false
   },
   "outputs": [
    {
     "data": {
      "text/markdown": [
       "### $P\\;=\\left[\\begin{matrix}1.0 & 0.0 & 0.0 & 0.0\\\\0.0 & 1.0 & 0.0 & 0.0\\\\0.0 & 0.0 & 0.0 & 1.0\\\\0.0 & 0.0 & 1.0 & 0.0\\end{matrix}\\right],\\;A\\;=\\left[\\begin{matrix}4 & 6 & 2 & 0 & 1\\\\0 & 5 & -2 & -1 & 2\\\\12 & 38 & -2 & 0 & 3\\\\0 & 3 & 4 & 0 & 4\\end{matrix}\\right]$"
      ],
      "text/plain": [
       "<IPython.core.display.Markdown object>"
      ]
     },
     "metadata": {},
     "output_type": "display_data"
    },
    {
     "data": {
      "text/markdown": [
       "### $L\\;=\\left[\\begin{matrix}1.0 & 0.0 & 0.0 & 0.0\\\\0.0 & 1.0 & 0.0 & 0.0\\\\0.0 & 0.6 & 1.0 & 0.0\\\\3.0 & 4.0 & 0.0 & 1.0\\end{matrix}\\right],\\;U\\;=\\left[\\begin{matrix}4.0 & 6.0 & 2.0 & 0.0 & 1.0\\\\0.0 & 5.0 & -2.0 & -1.0 & 2.0\\\\0.0 & 0.0 & 5.2 & 0.6 & 2.8\\\\0.0 & 0.0 & 0.0 & 4.0 & -8.0\\end{matrix}\\right]$"
      ],
      "text/plain": [
       "<IPython.core.display.Markdown object>"
      ]
     },
     "metadata": {},
     "output_type": "display_data"
    },
    {
     "data": {
      "text/markdown": [
       "### $PA\\;=\\left[\\begin{matrix}4.0 & 6.0 & 2.0 & 0 & 1.0\\\\0 & 5.0 & -2.0 & -1.0 & 2.0\\\\0 & 3.0 & 4.0 & 0 & 4.0\\\\12.0 & 38.0 & -2.0 & 0 & 3.0\\end{matrix}\\right],\\;LU\\;=\\left[\\begin{matrix}4.0 & 6.0 & 2.0 & 0 & 1.0\\\\0 & 5.0 & -2.0 & -1.0 & 2.0\\\\0 & 3.0 & 4.0 & 0 & 4.0\\\\12.0 & 38.0 & -2.0 & 0 & 3.0\\end{matrix}\\right]$"
      ],
      "text/plain": [
       "<IPython.core.display.Markdown object>"
      ]
     },
     "metadata": {},
     "output_type": "display_data"
    }
   ],
   "source": [
    "L, U, P = LU_3(A)\n",
    "L_1 = sp.Matrix(L)\n",
    "U_1 = sp.Matrix(U)\n",
    "P_1 = sp.Matrix(P)\n",
    "\n",
    "a0 = '### $'+'P\\;=' +  sp.latex(P_1) + ',\\;' + 'A\\;=' + sp.latex(A_1) +'$'\n",
    "display(Markdown(a0))\n",
    "\n",
    "a1 = '### $'+'L\\;=' +  sp.latex(L_1) + ',\\;' + 'U\\;=' + sp.latex(U_1) +'$'\n",
    "display(Markdown(a1))\n",
    "\n",
    "a2 = '### $'+'PA\\;=' +  sp.latex(P_1 * A_1) + ',\\;' + 'LU\\;=' + sp.latex(L_1 * U_1) +'$'\n",
    "display(Markdown(a2))"
   ]
  },
  {
   "cell_type": "markdown",
   "metadata": {},
   "source": [
    "### $↑PA = LU$，且$L$矩陣和$U$矩陣皆符合規則"
   ]
  },
  {
   "cell_type": "code",
   "execution_count": 169,
   "metadata": {},
   "outputs": [
    {
     "data": {
      "text/markdown": [
       "### $P\\;=\\left[\\begin{matrix}1.0 & 0.0 & 0.0 & 0.0 & 0.0\\\\0.0 & 1.0 & 0.0 & 0.0 & 0.0\\\\0.0 & 0.0 & 0.0 & 1.0 & 0.0\\\\0.0 & 0.0 & 1.0 & 0.0 & 0.0\\\\0.0 & 0.0 & 0.0 & 0.0 & 1.0\\end{matrix}\\right],\\;B\\;=\\left[\\begin{matrix}4 & 6 & 2 & 0\\\\0 & 5 & -2 & -1\\\\12 & 38 & -2 & 0\\\\0 & 3 & 4 & 0\\\\1 & 2 & 3 & 4\\end{matrix}\\right]$"
      ],
      "text/plain": [
       "<IPython.core.display.Markdown object>"
      ]
     },
     "metadata": {},
     "output_type": "display_data"
    },
    {
     "data": {
      "text/markdown": [
       "### $L\\;=\\left[\\begin{matrix}1.0 & 0.0 & 0.0 & 0.0 & 0.0\\\\0.0 & 1.0 & 0.0 & 0.0 & 0.0\\\\0.0 & 0.6 & 1.0 & 0.0 & 0.0\\\\3.0 & 4.0 & 0.0 & 1.0 & 0.0\\\\0.25 & 0.1 & 0.519230769230769 & 0.947115384615385 & 1.0\\end{matrix}\\right],\\;U\\;=\\left[\\begin{matrix}4.0 & 6.0 & 2.0 & 0.0\\\\0.0 & 5.0 & -2.0 & -1.0\\\\0.0 & 0.0 & 5.2 & 0.6\\\\0.0 & 0.0 & 0.0 & 4.0\\\\0.0 & 0.0 & 0.0 & 0.0\\end{matrix}\\right]$"
      ],
      "text/plain": [
       "<IPython.core.display.Markdown object>"
      ]
     },
     "metadata": {},
     "output_type": "display_data"
    },
    {
     "data": {
      "text/markdown": [
       "### $PB\\;=\\left[\\begin{matrix}4.0 & 6.0 & 2.0 & 0\\\\0 & 5.0 & -2.0 & -1.0\\\\0 & 3.0 & 4.0 & 0\\\\12.0 & 38.0 & -2.0 & 0\\\\1.0 & 2.0 & 3.0 & 4.0\\end{matrix}\\right],\\;LU\\;=\\left[\\begin{matrix}4.0 & 6.0 & 2.0 & 0\\\\0 & 5.0 & -2.0 & -1.0\\\\0 & 3.0 & 4.0 & 0\\\\12.0 & 38.0 & -2.0 & 0\\\\1.0 & 2.0 & 3.0 & 4.0\\end{matrix}\\right]$"
      ],
      "text/plain": [
       "<IPython.core.display.Markdown object>"
      ]
     },
     "metadata": {},
     "output_type": "display_data"
    }
   ],
   "source": [
    "L, U, P = LU_3(B)\n",
    "L_1 = sp.Matrix(L)\n",
    "U_1 = sp.Matrix(U)\n",
    "P_1 = sp.Matrix(P)\n",
    "\n",
    "a0 = '### $'+'P\\;=' +  sp.latex(P_1) + ',\\;' + 'B\\;=' + sp.latex(B_1) +'$'\n",
    "display(Markdown(a0))\n",
    "\n",
    "a1 = '### $'+'L\\;=' +  sp.latex(L_1) + ',\\;' + 'U\\;=' + sp.latex(U_1) +'$'\n",
    "display(Markdown(a1))\n",
    "\n",
    "a2 = '### $'+'PB\\;=' +  sp.latex(P_1 * B_1) + ',\\;' + 'LU\\;=' + sp.latex(L_1 * U_1) +'$'\n",
    "display(Markdown(a2))"
   ]
  },
  {
   "cell_type": "markdown",
   "metadata": {},
   "source": [
    "### $↑PB = LU$，且$L$矩陣和$U$矩陣皆符合規則"
   ]
  },
  {
   "cell_type": "markdown",
   "metadata": {},
   "source": [
    "### 下面附上我在網路上的矩陣計算器計算出來的結果截圖"
   ]
  },
  {
   "cell_type": "markdown",
   "metadata": {},
   "source": [
    "### $A$矩陣$LU$分解的計算結果(在網站上的矩陣計算器的計算結果截圖)"
   ]
  },
  {
   "cell_type": "markdown",
   "metadata": {},
   "source": [
    "[![image1](https://www.linkpicture.com/q/61b9eba42dd17.png)](https://www.linkpicture.com/view.php?img=LPic61baa39a169b824069399)"
   ]
  },
  {
   "cell_type": "markdown",
   "metadata": {},
   "source": [
    "### $B$矩陣$LU$分解的計算結果(在網站上的矩陣計算器的計算結果截圖)"
   ]
  },
  {
   "cell_type": "markdown",
   "metadata": {},
   "source": [
    "[![image2](https://www.linkpicture.com/q/61b9ebc0aded8.png)](https://www.linkpicture.com/view.php?img=LPic61baa417c43091198458380)"
   ]
  },
  {
   "cell_type": "markdown",
   "metadata": {},
   "source": [
    "### 由上可以發現，「只有」我第二次修改後的程式碼，其計算後的結果符合 $PA = LU$ 和$PB = LU$ 兩個等式，且$L$矩陣和$U$矩陣符合規則($L$矩陣主對角線上元素皆為$1$且對角線上元素皆為$0$；$U$矩陣對角線下元素皆為$0$)，沒有編譯錯誤，計算也正確。由上可知，教授的程式碼沒辦法處理某些特定情況的矩陣(我在筆記中有詳細說明)。\n",
    "### 註記:我在後面寫求行列式的程式碼時找到了一個更好、更準確的$LU$分解法，詳見下面的2.求行列式"
   ]
  },
  {
   "cell_type": "markdown",
   "metadata": {},
   "source": [
    "# 2.求行列式\n",
    "### 此前我在手寫筆記的心得中寫到$LU$分解後可以用來計算高階矩陣的行列式，但我那時候沒有考慮到那是在$P$矩陣是「進行列對調的次數為偶數時」的情況下， $det(A) = \\prod_{i = 1}^nU_{(i, i)}, where\\;A\\;is$ $a\\;nxn\\;matrix\\;$才必定成立。在$P$矩陣有進行列對調的情況下，有可能出現$det(P) = -1$的情況，使式子變成$det(A) = -\\prod_{i = 1}^nU_{(i, i)}, where\\;A\\;is$ $a\\;nxn\\;matrix$。所以$A$的行列式應該以\n",
    "\n",
    "## $ A\\;is\\;a\\;nxn\\;matrix,\\;det(A)= \\begin{cases} \\prod_{i = 1}^nU_{(i, i)}\\;, & \\text {if$\\;det(P)=1$} \\\\ -\\prod_{i = 1}^nU_{(i, i)}, & \\text{if$\\;det(P)=-1$} \\end{cases} $  \n",
    "### 來表示。這一點我在寫心得的時候沒有注意到，因此我在這裡說明清楚。另外，下面我的程式碼在計算矩陣的行列式即是利用上面的數學式來求出行列式。而我判斷$P$矩陣的行列式為$1$還是$-1$時，我利用了行列式的基本性質:「兩行(列)對調後，行列式的數值變號」。所以，只要$P$矩陣列對調的次數為$2$的倍數(即偶數)，$P$矩陣的行列式就是$1$，否則就是$-1$($∵$$P$矩陣的初始設定為單位矩陣，而單位矩陣的行列式必為$1$)。"
   ]
  },
  {
   "cell_type": "markdown",
   "metadata": {},
   "source": [
    "## (1)利用$LU$分解法"
   ]
  },
  {
   "cell_type": "code",
   "execution_count": 170,
   "metadata": {},
   "outputs": [],
   "source": [
    "import numpy as np\n",
    "import sympy as sp"
   ]
  },
  {
   "cell_type": "code",
   "execution_count": 171,
   "metadata": {},
   "outputs": [],
   "source": [
    "def det_LU(A):\n",
    "    # LU Decomposition\n",
    "    m, n = A.shape\n",
    "    U = A.copy()\n",
    "    U = U.astype('float64')\n",
    "    P = np.mat(np.identity(m))\n",
    "    L = P.copy()\n",
    "    count = 0\n",
    "    \n",
    "    for i in range(m-1):\n",
    "        for x in range(i+1, m):\n",
    "            if U[i, i] == 0:\n",
    "                if U[x, i] != 0:\n",
    "                    U[[x, i], i:] = U[[i, x], i:]\n",
    "                    P[[x, i], :] = P[[i, x], :]\n",
    "                    L[[x, i], :] = L[[i, x], :]\n",
    "                    L[:, [x, i]] = L[:, [i, x]]\n",
    "                    count = count + 1\n",
    "        \n",
    "        for t in range(i+1, m):\n",
    "            if U[i, i] == 0:\n",
    "                continue\n",
    "            c = -(U[t, i]/U[i, i])\n",
    "            U[t, i:] = U[t, i:] + c*U[i, i:]\n",
    "            L[t, i] = L[t, i] - c*L[t, t] \n",
    "\n",
    "                \n",
    "    det_U = 1\n",
    "    for j in range(m):\n",
    "        det_U = det_U * U[j, j]\n",
    "        \n",
    "    # check count is an even or odd to ascertain its determinant(1 or -1)\n",
    "    if count % 2 == 1:\n",
    "        det_P = -1\n",
    "    else:\n",
    "        det_P = 1\n",
    "    \n",
    "    # check whether det_U is going to multiply (-1) or not\n",
    "    # the final version of det_U is the determinant of A\n",
    "    if det_P == -1:\n",
    "        det_U = (-1)*det_U\n",
    "    \n",
    "    return det_P, det_U, L, U, P"
   ]
  },
  {
   "cell_type": "markdown",
   "metadata": {},
   "source": [
    "### 接下來我以一個 $4$ x $4$ 的矩陣 $A\\;$($A$的$P$矩陣的行列式為$1$)$\\;$及一個 $5$ x $5$ 的矩陣 $B\\;$($B$的$P$矩陣的行列式為$-1$)$\\;$為例子，利用我寫的程式碼來計算它們的行列式。(程式的計算結果下面附上在網站上的矩陣計算器的計算結果截圖)"
   ]
  },
  {
   "cell_type": "code",
   "execution_count": 172,
   "metadata": {},
   "outputs": [],
   "source": [
    "from IPython.display import display, Markdown"
   ]
  },
  {
   "cell_type": "code",
   "execution_count": 173,
   "metadata": {},
   "outputs": [
    {
     "data": {
      "text/markdown": [
       "### $det(P)\\;=1,\\;det(A)\\;=\\prod_{i = 1}^nU_{(i, i)}\\;=-27323.999999999454,\\;where\\;A\\;is\\;a\\;nxn\\;matrix$"
      ],
      "text/plain": [
       "<IPython.core.display.Markdown object>"
      ]
     },
     "metadata": {},
     "output_type": "display_data"
    }
   ],
   "source": [
    "A = np.mat([[1, 3, 4, 5], \n",
    "            [0, -11, 33, 7], \n",
    "            [81, 15, -15, 2], \n",
    "            [34, 1, 10, 2]])\n",
    "A_1 = sp.Matrix(A)\n",
    "det_P, det_U, L, U, P = det_LU(A)\n",
    "\n",
    "\n",
    "a41 = '### $'+'det(P)\\;=' + str(det_P) + ',\\;' + 'det(A)\\;=\\prod_{i = 1}^nU_{(i, i)}\\;=' \n",
    "a42 = str(det_U) + ',\\;where\\;A\\;is\\;a\\;nxn\\;matrix$'\n",
    "a4 = a41 + a42\n",
    "display(Markdown(a4))"
   ]
  },
  {
   "cell_type": "markdown",
   "metadata": {},
   "source": [
    "### $A$矩陣的行列式(在網站上的矩陣計算器的計算結果截圖)"
   ]
  },
  {
   "cell_type": "markdown",
   "metadata": {},
   "source": [
    "[![image3](https://www.linkpicture.com/q/6155234308ef7.jpg)](https://www.linkpicture.com/view.php?img=LPic61baa3d79fc9a410846949)"
   ]
  },
  {
   "cell_type": "code",
   "execution_count": 174,
   "metadata": {},
   "outputs": [
    {
     "data": {
      "text/markdown": [
       "### $det(P)\\;=-1,\\;det(B)\\;=-\\prod_{i = 1}^nU_{(i, i)}\\;=-745137.9999999763,\\;where\\;B\\;is\\;a\\;nxn\\;matrix$"
      ],
      "text/plain": [
       "<IPython.core.display.Markdown object>"
      ]
     },
     "metadata": {},
     "output_type": "display_data"
    }
   ],
   "source": [
    "B = np.mat([[0, -11, 33, 7, 13], \n",
    "            [1, 3, 4, 5, 8], \n",
    "            [81, 15, -15, 2, 4], \n",
    "            [34, 1, 10, 2, 5], \n",
    "            [-10, 4, 88, 9, 0]])\n",
    "B_1 = sp.Matrix(B)\n",
    "det_P, det_U, L, U, P = det_LU(B)\n",
    "\n",
    "a41 = '### $'+'det(P)\\;=' + str(det_P) + ',\\;' + 'det(B)\\;=-\\prod_{i = 1}^nU_{(i, i)}\\;=' \n",
    "a42 = str(det_U) + ',\\;where\\;B\\;is\\;a\\;nxn\\;matrix$'\n",
    "a4 = a41 + a42\n",
    "display(Markdown(a4))"
   ]
  },
  {
   "cell_type": "markdown",
   "metadata": {},
   "source": [
    "### $B$矩陣的行列式(在網站上的矩陣計算器的計算結果截圖)"
   ]
  },
  {
   "cell_type": "markdown",
   "metadata": {},
   "source": [
    "[![image4](https://www.linkpicture.com/q/615d52e99f772.png)](https://www.linkpicture.com/view.php?img=LPic61baa44d244ba1432427979)"
   ]
  },
  {
   "cell_type": "markdown",
   "metadata": {},
   "source": [
    "### 然而，在我用網路上的矩陣計算器確認我的行列式是否正確時，我發現我算的答案與實際答案差了一點。我推斷是$Python\\;$在計算上可能因為涉及到無限循環小數而造成數值上的誤差，在這裡就是如此。而我在想，究竟我用我$LU$分解算出的行列式要「無條件捨去小數」、「無條件進位」、還是「四捨五入」呢?"
   ]
  },
  {
   "cell_type": "markdown",
   "metadata": {},
   "source": [
    "### 此時，我想起之前在網路上無意間看到同為政治大學的蔡炎龍教授在$\\;youtube\\;$發布的教學影片(下面附上連結)，內容主要是用$「sympy」$這個模組來進行矩陣的各種計算。與$numpy.mat()$製造出的矩陣不同的是，$「sympy」$在計算時(以下簡稱$sympy$為$sp$)，能夠使用$sp.Rational().limit\\_denominator()$將$sp.Matrix()$製造出的矩陣中所有的元素強制轉換成「分數」的形式進行計算。這個設定幫了我一個大忙，如此一來，就可以避免在計算上涉及無限循環小數時產生的誤差，可以精準地算出該矩陣的行列式。"
   ]
  },
  {
   "cell_type": "markdown",
   "metadata": {},
   "source": [
    "### [蔡炎龍教授的教學影片連結-Sympy中的符號型的計算](https://www.youtube.com/watch?v=3PGQS6hzThc&t=221s)"
   ]
  },
  {
   "cell_type": "markdown",
   "metadata": {},
   "source": [
    "### [蔡炎龍教授的教學影片連結-Sympy中的矩陣](https://www.youtube.com/watch?v=NgdzGygs1NE&t=261s)"
   ]
  },
  {
   "cell_type": "markdown",
   "metadata": {},
   "source": [
    "## (2)利用$LU$分解法(修改後的程式碼):"
   ]
  },
  {
   "cell_type": "code",
   "execution_count": 175,
   "metadata": {},
   "outputs": [],
   "source": [
    "import numpy as np\n",
    "import sympy as sp"
   ]
  },
  {
   "cell_type": "code",
   "execution_count": 176,
   "metadata": {},
   "outputs": [],
   "source": [
    "def det_LU_sympy(A):\n",
    "    # LU Decomposition\n",
    "    m, n = A.shape\n",
    "    U = A.copy()\n",
    "    P = sp.eye(m)\n",
    "    L = P.copy()\n",
    "    count = 0\n",
    "    \n",
    "    for k in L or U or P:\n",
    "        k = sp.Rational(k)\n",
    "    \n",
    "    for i in range(m-1):\n",
    "        for x in range(i+1, m):\n",
    "            if U[i, i] == 0:\n",
    "                if U[x, i] != 0:\n",
    "                    L = np.mat(L)\n",
    "                    U = np.mat(U)\n",
    "                    P = np.mat(P)\n",
    "                    U[[x, i], i:] = U[[i, x], i:]\n",
    "                    P[[x, i], :] = P[[i, x], :]\n",
    "                    L[[x, i], :] = L[[i, x], :] # row interchange\n",
    "                    L[:, [x, i]] = L[:, [i, x]] # column interchange\n",
    "                    count = count + 1\n",
    "                    L = sp.Matrix(L)\n",
    "                    U = sp.Matrix(U)\n",
    "                    P = sp.Matrix(P)\n",
    "                    for g in range(m):\n",
    "                        for h in range(m):\n",
    "                            L[g, h] = sp.Rational(L[g, h]).limit_denominator()\n",
    "                            U[g, h] = sp.Rational(U[g, h]).limit_denominator()\n",
    "                    \n",
    "\n",
    "        \n",
    "        for t in range(i+1, m):\n",
    "            if U[i, i] == 0:\n",
    "                continue\n",
    "            c = -(U[t, i]/U[i, i])\n",
    "            U[t, i:] = U[t, i:] + c*U[i, i:]\n",
    "            L[t, i] = L[t, i] - c*L[t, t]    \n",
    "    det_U = 1\n",
    "    for j in range(m):\n",
    "        det_U = det_U * U[j, j]\n",
    "        \n",
    "    # check count is an even or odd to ascertain its determinant(1 or -1)\n",
    "    if count % 2 == 1:\n",
    "        det_P = -1\n",
    "    else:\n",
    "        det_P = 1\n",
    "    \n",
    "    # check whether det_U is going to multiply (-1) or not\n",
    "    # the final version of det_U is the determinant of A\n",
    "    if det_P == -1:\n",
    "        det_U = (-1)*det_U\n",
    "    \n",
    "    return det_P, det_U, L, U, P"
   ]
  },
  {
   "cell_type": "markdown",
   "metadata": {},
   "source": [
    "### 下面我使用和上面一樣的$A$矩陣和$B$矩陣作為例子來測試我的程式碼。另外，因為在計算矩陣行列式的過程中我使用了$LU$分解法，因此，在我輸出$A$矩陣和$B$矩陣各自行列式的計算結果後面，我附上在這過程裡所得的$A$矩陣和$B$矩陣個別的$L$矩陣、$U$矩陣、$P$矩陣、以及$PA(PB)$和$LU$的計算結果。(程式的計算結果下面附上在網站上的矩陣計算器的計算結果截圖)"
   ]
  },
  {
   "cell_type": "code",
   "execution_count": 177,
   "metadata": {},
   "outputs": [],
   "source": [
    "from IPython.display import display, Markdown"
   ]
  },
  {
   "cell_type": "code",
   "execution_count": 178,
   "metadata": {},
   "outputs": [
    {
     "data": {
      "text/markdown": [
       "### $det(P)\\;=1,\\;det(A)\\;=\\prod_{i = 1}^nU_{(i, i)}\\;=-27324,\\;where\\;A\\;is\\;a\\;nxn\\;matrix$"
      ],
      "text/plain": [
       "<IPython.core.display.Markdown object>"
      ]
     },
     "metadata": {},
     "output_type": "display_data"
    },
    {
     "data": {
      "text/markdown": [
       "### $P\\;=\\left[\\begin{matrix}1 & 0 & 0 & 0\\\\0 & 1 & 0 & 0\\\\0 & 0 & 1 & 0\\\\0 & 0 & 0 & 1\\end{matrix}\\right],\\;A\\;=\\left[\\begin{matrix}1 & 3 & 4 & 5\\\\0 & -11 & 33 & 7\\\\81 & 15 & -15 & 2\\\\34 & 1 & 10 & 2\\end{matrix}\\right]$"
      ],
      "text/plain": [
       "<IPython.core.display.Markdown object>"
      ]
     },
     "metadata": {},
     "output_type": "display_data"
    },
    {
     "data": {
      "text/markdown": [
       "### $L\\;=\\left[\\begin{matrix}1 & 0 & 0 & 0\\\\0 & 1 & 0 & 0\\\\81 & \\frac{228}{11} & 1 & 0\\\\34 & \\frac{101}{11} & \\frac{13}{31} & 1\\end{matrix}\\right],\\;U\\;=\\left[\\begin{matrix}1 & 3 & 4 & 5\\\\0 & -11 & 33 & 7\\\\0 & 0 & -1023 & - \\frac{6029}{11}\\\\0 & 0 & 0 & - \\frac{828}{341}\\end{matrix}\\right]$"
      ],
      "text/plain": [
       "<IPython.core.display.Markdown object>"
      ]
     },
     "metadata": {},
     "output_type": "display_data"
    },
    {
     "data": {
      "text/markdown": [
       "### $PA\\;=\\left[\\begin{matrix}1 & 3 & 4 & 5\\\\0 & -11 & 33 & 7\\\\81 & 15 & -15 & 2\\\\34 & 1 & 10 & 2\\end{matrix}\\right],\\;LU\\;=\\left[\\begin{matrix}1 & 3 & 4 & 5\\\\0 & -11 & 33 & 7\\\\81 & 15 & -15 & 2\\\\34 & 1 & 10 & 2\\end{matrix}\\right]$"
      ],
      "text/plain": [
       "<IPython.core.display.Markdown object>"
      ]
     },
     "metadata": {},
     "output_type": "display_data"
    }
   ],
   "source": [
    "A = sp.Matrix([[1, 3, 4, 5], \n",
    "            [0, -11, 33, 7], \n",
    "            [81, 15, -15, 2], \n",
    "            [34, 1, 10, 2]])\n",
    "det_P, det_U, L, U, P = det_LU_sympy(A)\n",
    "\n",
    "\n",
    "a31 = '### $'+'det(P)\\;=' + sp.latex(det_P) + ',\\;' + 'det(A)\\;=\\prod_{i = 1}^nU_{(i, i)}\\;=' \n",
    "a32 = sp.latex(det_U) + ',\\;where\\;A\\;is\\;a\\;nxn\\;matrix$'\n",
    "a3 = a31 + a32\n",
    "display(Markdown(a3))\n",
    "\n",
    "a0 = '### $'+'P\\;=' +  sp.latex(P) + ',\\;' + 'A\\;=' + sp.latex(A) +'$'\n",
    "display(Markdown(a0))\n",
    "\n",
    "a1 = '### $'+'L\\;=' +  sp.latex(L) + ',\\;' + 'U\\;=' + sp.latex(U) +'$'\n",
    "display(Markdown(a1))\n",
    "\n",
    "a2 = '### $'+'PA\\;=' +  sp.latex(P * A) + ',\\;' + 'LU\\;=' + sp.latex(L * U) +'$'\n",
    "display(Markdown(a2))"
   ]
  },
  {
   "cell_type": "markdown",
   "metadata": {},
   "source": [
    "### $A$矩陣的行列式(在網站上的矩陣計算器的計算結果截圖)"
   ]
  },
  {
   "cell_type": "markdown",
   "metadata": {},
   "source": [
    "[![image3](https://www.linkpicture.com/q/6155234308ef7.jpg)](https://www.linkpicture.com/view.php?img=LPic61baa3d79fc9a410846949)"
   ]
  },
  {
   "cell_type": "markdown",
   "metadata": {},
   "source": [
    "### $A$矩陣的$LU$分解結果(在網站上的矩陣計算器的計算結果截圖)\n",
    "### 註記:$A$矩陣的$P$矩陣為單位矩陣，所以網站上的計算結果截圖中沒有顯示出來。"
   ]
  },
  {
   "cell_type": "markdown",
   "metadata": {},
   "source": [
    "[![image5](https://www.linkpicture.com/q/615e65e7af288.png)](https://www.linkpicture.com/view.php?img=LPic61baa47504ce9219908038)"
   ]
  },
  {
   "cell_type": "code",
   "execution_count": 179,
   "metadata": {},
   "outputs": [
    {
     "data": {
      "text/markdown": [
       "### $det(P)\\;=-1,\\;det(B)\\;=-\\prod_{i = 1}^nU_{(i, i)}\\;=-745138,\\;where\\;B\\;is\\;a\\;nxn\\;matrix$"
      ],
      "text/plain": [
       "<IPython.core.display.Markdown object>"
      ]
     },
     "metadata": {},
     "output_type": "display_data"
    },
    {
     "data": {
      "text/markdown": [
       "### $P\\;=\\left[\\begin{matrix}0 & 1 & 0 & 0 & 0\\\\1 & 0 & 0 & 0 & 0\\\\0 & 0 & 1 & 0 & 0\\\\0 & 0 & 0 & 1 & 0\\\\0 & 0 & 0 & 0 & 1\\end{matrix}\\right],\\;B\\;=\\left[\\begin{matrix}0 & -11 & 33 & 7 & 13\\\\1 & 3 & 4 & 5 & 8\\\\81 & 15 & -15 & 2 & 4\\\\34 & 1 & 10 & 2 & 5\\\\-10 & 4 & 88 & 9 & 0\\end{matrix}\\right]$"
      ],
      "text/plain": [
       "<IPython.core.display.Markdown object>"
      ]
     },
     "metadata": {},
     "output_type": "display_data"
    },
    {
     "data": {
      "text/markdown": [
       "### $L\\;=\\left[\\begin{matrix}1 & 0 & 0 & 0 & 0\\\\0 & 1 & 0 & 0 & 0\\\\81 & \\frac{228}{11} & 1 & 0 & 0\\\\34 & \\frac{101}{11} & \\frac{13}{31} & 1 & 0\\\\-10 & - \\frac{34}{11} & - \\frac{230}{1023} & \\frac{479269}{27324} & 1\\end{matrix}\\right],\\;U\\;=\\left[\\begin{matrix}1 & 3 & 4 & 5 & 8\\\\0 & -11 & 33 & 7 & 13\\\\0 & 0 & -1023 & - \\frac{6029}{11} & - \\frac{10048}{11}\\\\0 & 0 & 0 & - \\frac{828}{341} & - \\frac{1126}{341}\\\\0 & 0 & 0 & 0 & - \\frac{372569}{13662}\\end{matrix}\\right]$"
      ],
      "text/plain": [
       "<IPython.core.display.Markdown object>"
      ]
     },
     "metadata": {},
     "output_type": "display_data"
    },
    {
     "data": {
      "text/markdown": [
       "### $PB\\;=\\left[\\begin{matrix}1 & 3 & 4 & 5 & 8\\\\0 & -11 & 33 & 7 & 13\\\\81 & 15 & -15 & 2 & 4\\\\34 & 1 & 10 & 2 & 5\\\\-10 & 4 & 88 & 9 & 0\\end{matrix}\\right],\\;LU\\;=\\left[\\begin{matrix}1 & 3 & 4 & 5 & 8\\\\0 & -11 & 33 & 7 & 13\\\\81 & 15 & -15 & 2 & 4\\\\34 & 1 & 10 & 2 & 5\\\\-10 & 4 & 88 & 9 & 0\\end{matrix}\\right]$"
      ],
      "text/plain": [
       "<IPython.core.display.Markdown object>"
      ]
     },
     "metadata": {},
     "output_type": "display_data"
    }
   ],
   "source": [
    "B = sp.Matrix([[0, -11, 33, 7, 13], \n",
    "               [1, 3, 4, 5, 8], \n",
    "               [81, 15, -15, 2, 4], \n",
    "               [34, 1, 10, 2, 5], \n",
    "               [-10, 4, 88, 9, 0]])\n",
    "det_P, det_U, L, U, P = det_LU_sympy(B)\n",
    "\n",
    "\n",
    "a31 = '### $'+'det(P)\\;=' + sp.latex(det_P) + ',\\;' + 'det(B)\\;=-\\prod_{i = 1}^nU_{(i, i)}\\;=' \n",
    "a32 = sp.latex(det_U) + ',\\;where\\;B\\;is\\;a\\;nxn\\;matrix$'\n",
    "a3 = a31 + a32\n",
    "display(Markdown(a3))\n",
    "\n",
    "a0 = '### $'+'P\\;=' +  sp.latex(P) + ',\\;' + 'B\\;=' + sp.latex(B) +'$'\n",
    "display(Markdown(a0))\n",
    "\n",
    "a1 = '### $'+'L\\;=' +  sp.latex(L) + ',\\;' +'U\\;=' +  sp.latex(U) +'$'\n",
    "display(Markdown(a1))\n",
    "\n",
    "a2 = '### $'+'PB\\;=' +  sp.latex(P * B) + ',\\;' + 'LU\\;=' + sp.latex(L * U) +'$'\n",
    "display(Markdown(a2))"
   ]
  },
  {
   "cell_type": "markdown",
   "metadata": {},
   "source": [
    "### $B$矩陣的行列式(在網站上的矩陣計算器的計算結果截圖)"
   ]
  },
  {
   "cell_type": "markdown",
   "metadata": {},
   "source": [
    "[![image4](https://www.linkpicture.com/q/615d52e99f772.png)](https://www.linkpicture.com/view.php?img=LPic61baa44d244ba1432427979)"
   ]
  },
  {
   "cell_type": "markdown",
   "metadata": {},
   "source": [
    "### $B$矩陣的$LU$分解結果(在網站上的矩陣計算器的計算結果截圖)"
   ]
  },
  {
   "cell_type": "markdown",
   "metadata": {},
   "source": [
    "[![image](https://www.linkpicture.com/q/61a72a546e647.png)](https://www.linkpicture.com/view.php?img=LPic61baa4c10a9591484895043)"
   ]
  },
  {
   "cell_type": "markdown",
   "metadata": {},
   "source": [
    "### 由上可以知道，用我修改後的程式碼可以算出準確的行列式(不論$P$矩陣的行列式為$1$或$-1$)，且修改後的程式碼也可以正確地求出矩陣的$LU$分解形式(即求出$L$矩陣、$U$矩陣、$P$矩陣)。"
   ]
  },
  {
   "cell_type": "markdown",
   "metadata": {},
   "source": [
    "## (3)利用特徵方程式\n",
    "### 我知道計算矩陣的行列式其實也可以使用$\\;Cayley-Hamilton\\;$定理。先寫出矩陣的特徵方程式，而方程式中的常數項即為矩陣的行列式。不過，這個部分超出我的能力範圍，以我現在所學的還無法寫出以此為基礎來計算行列式的程式碼，因此這部份我從略。"
   ]
  },
  {
   "cell_type": "markdown",
   "metadata": {},
   "source": [
    "# 3. 線性方程式求解"
   ]
  },
  {
   "cell_type": "markdown",
   "metadata": {},
   "source": [
    "## (1)克拉瑪公式(求解&判斷解的情況)"
   ]
  },
  {
   "cell_type": "markdown",
   "metadata": {},
   "source": [
    "### 承接上面的內容，利用$LU$分解，我得以快速且正確地求出高階矩陣的行列式，而不用將其一個個以餘因子降階展開整理。接著，我打算運用這個計算行列式的方法，結合克拉瑪公式，求出「恰有一解」的方程組之答案，並進一步判斷方程組之解的情況，即「恰有一解、無解、無限多組解」。\n",
    "### 註記:下面的$△,\\;△_x,\\;△_y,\\;△_z\\;$的數值計算使用上面計算行列式時使用的函數"
   ]
  },
  {
   "cell_type": "markdown",
   "metadata": {},
   "source": [
    "### 克拉瑪公式:$\\;1.\\;two-dimensional$(二維)$\\;\\begin{cases}x = \\frac{△_x}{△} \\\\y = \\frac{△_y}{△}\\end{cases} \\;,$ $2.\\;three-dimensional$(三維)$\\;\\begin{cases}x = \\frac{△_x}{△} \\\\y = \\frac{△_y}{△} \\\\z = \\frac{△_z}{△}\\end{cases} $"
   ]
  },
  {
   "cell_type": "code",
   "execution_count": 180,
   "metadata": {},
   "outputs": [],
   "source": [
    "import sympy as sp\n",
    "import numpy as np"
   ]
  },
  {
   "cell_type": "code",
   "execution_count": 181,
   "metadata": {},
   "outputs": [],
   "source": [
    "def Cramer(A, b):\n",
    "    m, n = A.shape\n",
    "    delta = A.copy() # delta --> the matrix form of △\n",
    "    \n",
    "    delta_x = sp.zeros(m, n) # delta_x --> the matrix form of △x\n",
    "    delta_x[:, :n] = A\n",
    "    delta_x[:, 0] = b\n",
    "   \n",
    "    delta_y = sp.zeros(m, n) # delta_y --> the matrix form of △y\n",
    "    delta_y[:, :n] = A\n",
    "    delta_y[:, 1] = b\n",
    "    \n",
    "    det_P1, det_delta, L1, U1, P1 = det_LU_sympy(A) # det_delta --> △\n",
    "    det_P2, det_delta_x, L2, U2, P2 = det_LU_sympy(delta_x) # det_delta_x --> △x\n",
    "    det_P3, det_delta_y, L3, U3, P3 = det_LU_sympy(delta_y) # det_delta_y --> △y\n",
    "\n",
    "    if m == 3: # three-dimensional \n",
    "        delta_z = sp.zeros(m, n) # delta_z --> the matrix form of △z\n",
    "        delta_z[:, :n] = A\n",
    "        delta_z[:, 2] = b\n",
    "      \n",
    "        det_P3, det_delta_z, L3, U3, P3 = det_LU_sympy(delta_z) # det_delta_z --> △z\n",
    " \n",
    "    \n",
    "    # a unique solution(一組解)\n",
    "    # △ ≠ 0\n",
    "    if det_delta != 0: \n",
    "        state = '恰有一解'\n",
    "        if m == 2: # two-dimensional\n",
    "            x = sp.zeros(2, 1)\n",
    "            x[0, 0] = det_delta_x / det_delta\n",
    "            x[1, 0] = det_delta_y / det_delta\n",
    "            \n",
    "        else: # three-dimensional\n",
    "            x = sp.zeros(3, 1)\n",
    "            x[0, 0] = det_delta_x / det_delta\n",
    "            x[1, 0] = det_delta_y / det_delta\n",
    "            x[2, 0] = det_delta_z / det_delta\n",
    "    \n",
    "    # no solution(無解)\n",
    "    # △ = 0, one (or more) of △x and △y is(are) ≠ 0  [two-dimensional]\n",
    "    # △ = 0, one (or more) of △x, △y and △z is(are) ≠ 0  [three-dimensional]\n",
    "    \n",
    "    # no solution or infinitely many solutions(無解, 或是無限多組解)\n",
    "    # △ = △x = △y = 0 → infinitely many solutions(無限多組解) [two-dimensional]\n",
    "    # △ = △x = △y = △z = 0 → no solution or infinitely many solutions(無解, 或是無限多組解) [three-dimensional]    \n",
    "    \n",
    "    if m == 2 and det_delta == 0: # two-dimensional\n",
    "        if det_delta_x != 0 or det_delta_y != 0:\n",
    "            state = '無解'\n",
    "            x = ''\n",
    "        else:\n",
    "            state = '無限多組解'\n",
    "            x = '' \n",
    "    \n",
    "    if m == 3 and det_delta == 0: # three-dimensional\n",
    "        # △x, △y, △z是否至少其一不為 0 的判斷 \n",
    "        if det_delta_x != 0 or det_delta_y != 0 or det_delta_z != 0: \n",
    "            state = '無解'\n",
    "            x = ''\n",
    "        else:\n",
    "            # △ = △x = △y = △z = 0的情形\n",
    "            \n",
    "            # 1. 取三平面法向量\n",
    "            n1 = A[0, :]\n",
    "            n2 = A[1, :]\n",
    "            n3 = A[2, :]\n",
    "            \n",
    "            # 2. 取三平面法向量兩兩的外積\n",
    "            s12 = n1.cross(n2)\n",
    "            s23 = n2.cross(n3)\n",
    "            s31 = n3.cross(n1)\n",
    "            \n",
    "            # 3. 以布林值(bool)判斷 s12, s23, s31 是否為零向量\n",
    "            #  是零向量 : 回傳 True ; 不是零向量 : 回傳 False\n",
    "            bool1 = s12.is_zero_matrix\n",
    "            bool2 = s23.is_zero_matrix\n",
    "            bool3 = s31.is_zero_matrix\n",
    "            \n",
    "            if bool1 and bool2 and bool3: # 如果 s12, s23, s31皆為零向量\n",
    "                d1 = b[0, 0]\n",
    "                d2 = b[1, 0]\n",
    "                d3 = b[2, 0]\n",
    "    \n",
    "                for i in range(0, n-1):\n",
    "                    if n1[0, i] == 0:\n",
    "                        continue\n",
    "        \n",
    "                    else:\n",
    "                        e1 = (1 / n1[0, i]) * d1\n",
    "                        e2 = (1 / n2[0, i]) * d2\n",
    "                        e3 = (1 / n3[0, i]) * d3\n",
    "                        break\n",
    "     \n",
    "                if e1 == e2 and e2 == e3: # 如果 e1 = e2 = e3\n",
    "                    state = '無限多組解'\n",
    "                    x = ''\n",
    "    \n",
    "                else:\n",
    "                    state = '無解'\n",
    "                    x = ''\n",
    "                    \n",
    "            else: # [s12, s23, s31皆為零向量]不成立時\n",
    "                state = '無限多組解' \n",
    "                x = ''\n",
    "              \n",
    "  \n",
    "    return state, x"
   ]
  },
  {
   "cell_type": "markdown",
   "metadata": {},
   "source": [
    "### 在寫主程式碼之前，我已經在紙上徹底地將各個不同條件下($△≠0;\\; △=△_x=△_y=△_z=0;\\;△=0, (△_x, △_y, △_z)$至少其一不為$0$)下所有可能發生的三平面的狀況，以自問自答的方式，依序分析這些狀況是否符合原先的條件？要用什麼方法來進行完整地分類？尤其是$△=△_x=△_y=△_z=0$的條件下，可能會有「無解」或是「無限多組解」兩種結果，這部分我也有記錄我判斷的依據及流程。以下連結的內容是我在學習「克拉瑪公式&三元線性方程組」的筆記(我以拍照的方式上傳到另一個$Jupyter Notebook$的檔案儲存為下面的線上連結，兩個連結的內容皆相同)。另外，下面的圖片為我上方程式碼的完整流程圖。"
   ]
  },
  {
   "cell_type": "markdown",
   "metadata": {},
   "source": [
    "## [克拉瑪公式&三元線性方程組的統整筆記連結1](https://nbviewer.org/github/maxjiang323/s/blob/main/%E5%85%8B%E6%8B%89%E7%91%AA%E5%85%AC%E5%BC%8F%20%26%20%E4%B8%89%E5%85%83%E7%B7%9A%E6%80%A7%E6%96%B9%E7%A8%8B%E7%B5%84%E7%9A%84%E7%B5%B1%E6%95%B4%E7%AD%86%E8%A8%98.ipynb)"
   ]
  },
  {
   "cell_type": "markdown",
   "metadata": {},
   "source": [
    "## [克拉瑪公式&三元線性方程組的統整筆記連結2](https://github.com/maxjiang323/s/blob/main/%E5%85%8B%E6%8B%89%E7%91%AA%E5%85%AC%E5%BC%8F%20%26%20%E4%B8%89%E5%85%83%E7%B7%9A%E6%80%A7%E6%96%B9%E7%A8%8B%E7%B5%84%E7%9A%84%E7%B5%B1%E6%95%B4%E7%AD%86%E8%A8%98.ipynb)"
   ]
  },
  {
   "cell_type": "markdown",
   "metadata": {},
   "source": [
    "### 註記:以下的流程圖是我的程式碼計算「三元」線性方程組的過程"
   ]
  },
  {
   "cell_type": "markdown",
   "metadata": {},
   "source": [
    "#### [![image](https://www.linkpicture.com/q/0001_81.jpg)](https://www.linkpicture.com/view.php?img=LPic61c5a27ae61541019528714)"
   ]
  },
  {
   "cell_type": "markdown",
   "metadata": {},
   "source": [
    "###  接下來，我會以三種不同三元線性方程組的情況(恰有一解、無解、和無限多組解)各舉出一個例子，用我的程式碼來進行計算。其中，我會把方程組以$Ax=b$的形式表示，而恰有一解中算出來的答案我會用$A$矩陣與解($x$矩陣)相乘，測試其結果是否會和$b$矩陣相同，即是否能滿足$Ax=b$的等式。另外，雖然我的程式碼也可以進行二元線性方程組的求解及判斷解的情況，但因為二元線性方程組計算上及判斷解不會太複雜，而教授在教學影片中也只有提及三元的方程組，所以我這裡只舉出三元的三個例子。"
   ]
  },
  {
   "cell_type": "markdown",
   "metadata": {},
   "source": [
    "## 1.恰有一解"
   ]
  },
  {
   "cell_type": "markdown",
   "metadata": {},
   "source": [
    "###   $\\begin{cases}85x+69y-34z=120\\\\69x-85y+47z=10 \\;\\;\\;--→\\\\23x-200y-21z=-23\\end{cases} \\; \\left[\\begin{matrix}85 & 69 & -34\\\\69 & -85 & 47\\\\23 & -200 & -21\\end{matrix}\\right]  \\left[\\begin{matrix}x\\\\y\\\\z\\end{matrix}\\right]  =  \\left[\\begin{matrix}120\\\\10\\\\-23\\end{matrix}\\right]$"
   ]
  },
  {
   "cell_type": "code",
   "execution_count": 182,
   "metadata": {},
   "outputs": [],
   "source": [
    "from sympy.abc import x, y, z\n",
    "import sympy as sp"
   ]
  },
  {
   "cell_type": "code",
   "execution_count": 183,
   "metadata": {},
   "outputs": [],
   "source": [
    "from IPython.display import display, Markdown"
   ]
  },
  {
   "cell_type": "code",
   "execution_count": 184,
   "metadata": {},
   "outputs": [
    {
     "data": {
      "text/markdown": [
       "### $A\\;=\\left[\\begin{matrix}85 & 69 & -34\\\\69 & -85 & 47\\\\23 & -200 & -21\\end{matrix}\\right],\\;x(matrix)\\;=\\left[\\begin{matrix}x\\\\y\\\\z\\end{matrix}\\right],\\;b\\;=\\left[\\begin{matrix}120\\\\10\\\\-23\\end{matrix}\\right]$"
      ],
      "text/plain": [
       "<IPython.core.display.Markdown object>"
      ]
     },
     "metadata": {},
     "output_type": "display_data"
    }
   ],
   "source": [
    "A = sp.Matrix([[85, 69, -34], \n",
    "               [69, -85, 47], \n",
    "               [23, -200, -21]])\n",
    "x_matrix = sp.Matrix([[x],\n",
    "                      [y], \n",
    "                      [z]])\n",
    "b = sp.Matrix([[120], \n",
    "               [10], \n",
    "               [-23]])\n",
    "\n",
    "a = '### $'+'A\\;=' +  sp.latex(A) + ',\\;' + 'x(matrix)\\;=' + sp.latex(x_matrix) + ',\\;' + 'b\\;=' +  sp.latex(b) + '$'\n",
    "display(Markdown(a))"
   ]
  },
  {
   "cell_type": "markdown",
   "metadata": {},
   "source": [
    "## 我的程式碼計算的結果"
   ]
  },
  {
   "cell_type": "code",
   "execution_count": 185,
   "metadata": {},
   "outputs": [
    {
     "name": "stdout",
     "output_type": "stream",
     "text": [
      "恰有一解\n"
     ]
    },
    {
     "data": {
      "text/markdown": [
       "### $x_\\;=\\left[\\begin{matrix}\\frac{1416571}{1528025}\\\\\\frac{439413}{1528025}\\\\- \\frac{959852}{1528025}\\end{matrix}\\right],\\;Ax_\\;=\\left[\\begin{matrix}120\\\\10\\\\-23\\end{matrix}\\right],\\;b\\;=\\left[\\begin{matrix}120\\\\10\\\\-23\\end{matrix}\\right]→\\;Ax = b  (成立)$"
      ],
      "text/plain": [
       "<IPython.core.display.Markdown object>"
      ]
     },
     "metadata": {},
     "output_type": "display_data"
    }
   ],
   "source": [
    "state, x = Cramer(A, b)\n",
    "print(state)\n",
    "\n",
    "a1 = '### $'+'x_\\;=' + sp.latex(x) + ',\\;' + 'Ax_\\;=' \n",
    "a2 = sp.latex(A*x) + ',\\;' + 'b\\;=' + sp.latex(b) + '→\\;' + 'Ax = b  (成立)'+'$'\n",
    "a3 = a1 + a2\n",
    "display(Markdown(a3))"
   ]
  },
  {
   "cell_type": "markdown",
   "metadata": {},
   "source": [
    "### 因為我的程式碼計算出來的$x$矩陣可以滿足$Ax=b$，且沒有發生編譯錯誤或是計算錯誤，因此這個答案是正確的"
   ]
  },
  {
   "cell_type": "markdown",
   "metadata": {},
   "source": [
    "## 2.無解"
   ]
  },
  {
   "cell_type": "markdown",
   "metadata": {},
   "source": [
    "###   $\\begin{cases}-4x+2y-z=-1\\\\3x+y+3z=1 \\;\\;\\;\\;\\;-→\\\\2x+4y+5z=3\\end{cases}  \\left[\\begin{matrix}-4 & 2 & -1\\\\3 & 1 & 3\\\\2 & 4 & 5\\end{matrix}\\right]  \\left[\\begin{matrix}x\\\\y\\\\z\\end{matrix}\\right]  =  \\left[\\begin{matrix}-1\\\\1\\\\3\\end{matrix}\\right]$'"
   ]
  },
  {
   "cell_type": "code",
   "execution_count": 186,
   "metadata": {},
   "outputs": [],
   "source": [
    "from sympy.abc import x, y, z\n",
    "import sympy as sp"
   ]
  },
  {
   "cell_type": "code",
   "execution_count": 187,
   "metadata": {},
   "outputs": [],
   "source": [
    "from IPython.display import display, Markdown"
   ]
  },
  {
   "cell_type": "code",
   "execution_count": 188,
   "metadata": {},
   "outputs": [
    {
     "data": {
      "text/markdown": [
       "### $A\\;=\\left[\\begin{matrix}-4 & 2 & -1\\\\3 & 1 & 3\\\\2 & 4 & 5\\end{matrix}\\right],\\;x(matrix)\\;=\\left[\\begin{matrix}x\\\\y\\\\z\\end{matrix}\\right],\\;b\\;=\\left[\\begin{matrix}-1\\\\1\\\\3\\end{matrix}\\right]$"
      ],
      "text/plain": [
       "<IPython.core.display.Markdown object>"
      ]
     },
     "metadata": {},
     "output_type": "display_data"
    }
   ],
   "source": [
    "A = sp.Matrix([[-4, 2, -1], \n",
    "               [3, 1, 3], \n",
    "               [2, 4, 5]])\n",
    "x_matrix = sp.Matrix([[x], \n",
    "                      [y], \n",
    "                      [z]])\n",
    "b = sp.Matrix([[-1], \n",
    "               [1], \n",
    "               [3]])\n",
    "\n",
    "a = '### $'+'A\\;=' +  sp.latex(A) + ',\\;' + 'x(matrix)\\;=' + sp.latex(x_matrix) + ',\\;' + 'b\\;=' +  sp.latex(b) + '$'\n",
    "display(Markdown(a))"
   ]
  },
  {
   "cell_type": "markdown",
   "metadata": {},
   "source": [
    "## 我的程式碼計算的結果"
   ]
  },
  {
   "cell_type": "code",
   "execution_count": 189,
   "metadata": {},
   "outputs": [
    {
     "name": "stdout",
     "output_type": "stream",
     "text": [
      "無解\n"
     ]
    },
    {
     "data": {
      "text/plain": [
       "''"
      ]
     },
     "execution_count": 189,
     "metadata": {},
     "output_type": "execute_result"
    }
   ],
   "source": [
    "state, x = Cramer(A, b)\n",
    "print(state)\n",
    "x"
   ]
  },
  {
   "cell_type": "markdown",
   "metadata": {},
   "source": [
    "### 下面為了驗證我的判斷，我在下面將該線性方程組的圖形畫出來，利用這些平面之間的幾何關係來驗證我的判斷是否正確。"
   ]
  },
  {
   "cell_type": "code",
   "execution_count": 190,
   "metadata": {},
   "outputs": [],
   "source": [
    "%matplotlib notebook\n",
    "from mpl_toolkits.mplot3d import Axes3D\n",
    "import matplotlib.pyplot as plt\n",
    "import numpy as np\n",
    "%config InlineBackend.figure_format  = 'svg'"
   ]
  },
  {
   "cell_type": "code",
   "execution_count": 191,
   "metadata": {},
   "outputs": [
    {
     "data": {
      "application/javascript": [
       "/* Put everything inside the global mpl namespace */\n",
       "/* global mpl */\n",
       "window.mpl = {};\n",
       "\n",
       "mpl.get_websocket_type = function () {\n",
       "    if (typeof WebSocket !== 'undefined') {\n",
       "        return WebSocket;\n",
       "    } else if (typeof MozWebSocket !== 'undefined') {\n",
       "        return MozWebSocket;\n",
       "    } else {\n",
       "        alert(\n",
       "            'Your browser does not have WebSocket support. ' +\n",
       "                'Please try Chrome, Safari or Firefox ≥ 6. ' +\n",
       "                'Firefox 4 and 5 are also supported but you ' +\n",
       "                'have to enable WebSockets in about:config.'\n",
       "        );\n",
       "    }\n",
       "};\n",
       "\n",
       "mpl.figure = function (figure_id, websocket, ondownload, parent_element) {\n",
       "    this.id = figure_id;\n",
       "\n",
       "    this.ws = websocket;\n",
       "\n",
       "    this.supports_binary = this.ws.binaryType !== undefined;\n",
       "\n",
       "    if (!this.supports_binary) {\n",
       "        var warnings = document.getElementById('mpl-warnings');\n",
       "        if (warnings) {\n",
       "            warnings.style.display = 'block';\n",
       "            warnings.textContent =\n",
       "                'This browser does not support binary websocket messages. ' +\n",
       "                'Performance may be slow.';\n",
       "        }\n",
       "    }\n",
       "\n",
       "    this.imageObj = new Image();\n",
       "\n",
       "    this.context = undefined;\n",
       "    this.message = undefined;\n",
       "    this.canvas = undefined;\n",
       "    this.rubberband_canvas = undefined;\n",
       "    this.rubberband_context = undefined;\n",
       "    this.format_dropdown = undefined;\n",
       "\n",
       "    this.image_mode = 'full';\n",
       "\n",
       "    this.root = document.createElement('div');\n",
       "    this.root.setAttribute('style', 'display: inline-block');\n",
       "    this._root_extra_style(this.root);\n",
       "\n",
       "    parent_element.appendChild(this.root);\n",
       "\n",
       "    this._init_header(this);\n",
       "    this._init_canvas(this);\n",
       "    this._init_toolbar(this);\n",
       "\n",
       "    var fig = this;\n",
       "\n",
       "    this.waiting = false;\n",
       "\n",
       "    this.ws.onopen = function () {\n",
       "        fig.send_message('supports_binary', { value: fig.supports_binary });\n",
       "        fig.send_message('send_image_mode', {});\n",
       "        if (fig.ratio !== 1) {\n",
       "            fig.send_message('set_dpi_ratio', { dpi_ratio: fig.ratio });\n",
       "        }\n",
       "        fig.send_message('refresh', {});\n",
       "    };\n",
       "\n",
       "    this.imageObj.onload = function () {\n",
       "        if (fig.image_mode === 'full') {\n",
       "            // Full images could contain transparency (where diff images\n",
       "            // almost always do), so we need to clear the canvas so that\n",
       "            // there is no ghosting.\n",
       "            fig.context.clearRect(0, 0, fig.canvas.width, fig.canvas.height);\n",
       "        }\n",
       "        fig.context.drawImage(fig.imageObj, 0, 0);\n",
       "    };\n",
       "\n",
       "    this.imageObj.onunload = function () {\n",
       "        fig.ws.close();\n",
       "    };\n",
       "\n",
       "    this.ws.onmessage = this._make_on_message_function(this);\n",
       "\n",
       "    this.ondownload = ondownload;\n",
       "};\n",
       "\n",
       "mpl.figure.prototype._init_header = function () {\n",
       "    var titlebar = document.createElement('div');\n",
       "    titlebar.classList =\n",
       "        'ui-dialog-titlebar ui-widget-header ui-corner-all ui-helper-clearfix';\n",
       "    var titletext = document.createElement('div');\n",
       "    titletext.classList = 'ui-dialog-title';\n",
       "    titletext.setAttribute(\n",
       "        'style',\n",
       "        'width: 100%; text-align: center; padding: 3px;'\n",
       "    );\n",
       "    titlebar.appendChild(titletext);\n",
       "    this.root.appendChild(titlebar);\n",
       "    this.header = titletext;\n",
       "};\n",
       "\n",
       "mpl.figure.prototype._canvas_extra_style = function (_canvas_div) {};\n",
       "\n",
       "mpl.figure.prototype._root_extra_style = function (_canvas_div) {};\n",
       "\n",
       "mpl.figure.prototype._init_canvas = function () {\n",
       "    var fig = this;\n",
       "\n",
       "    var canvas_div = (this.canvas_div = document.createElement('div'));\n",
       "    canvas_div.setAttribute(\n",
       "        'style',\n",
       "        'border: 1px solid #ddd;' +\n",
       "            'box-sizing: content-box;' +\n",
       "            'clear: both;' +\n",
       "            'min-height: 1px;' +\n",
       "            'min-width: 1px;' +\n",
       "            'outline: 0;' +\n",
       "            'overflow: hidden;' +\n",
       "            'position: relative;' +\n",
       "            'resize: both;'\n",
       "    );\n",
       "\n",
       "    function on_keyboard_event_closure(name) {\n",
       "        return function (event) {\n",
       "            return fig.key_event(event, name);\n",
       "        };\n",
       "    }\n",
       "\n",
       "    canvas_div.addEventListener(\n",
       "        'keydown',\n",
       "        on_keyboard_event_closure('key_press')\n",
       "    );\n",
       "    canvas_div.addEventListener(\n",
       "        'keyup',\n",
       "        on_keyboard_event_closure('key_release')\n",
       "    );\n",
       "\n",
       "    this._canvas_extra_style(canvas_div);\n",
       "    this.root.appendChild(canvas_div);\n",
       "\n",
       "    var canvas = (this.canvas = document.createElement('canvas'));\n",
       "    canvas.classList.add('mpl-canvas');\n",
       "    canvas.setAttribute('style', 'box-sizing: content-box;');\n",
       "\n",
       "    this.context = canvas.getContext('2d');\n",
       "\n",
       "    var backingStore =\n",
       "        this.context.backingStorePixelRatio ||\n",
       "        this.context.webkitBackingStorePixelRatio ||\n",
       "        this.context.mozBackingStorePixelRatio ||\n",
       "        this.context.msBackingStorePixelRatio ||\n",
       "        this.context.oBackingStorePixelRatio ||\n",
       "        this.context.backingStorePixelRatio ||\n",
       "        1;\n",
       "\n",
       "    this.ratio = (window.devicePixelRatio || 1) / backingStore;\n",
       "\n",
       "    var rubberband_canvas = (this.rubberband_canvas = document.createElement(\n",
       "        'canvas'\n",
       "    ));\n",
       "    rubberband_canvas.setAttribute(\n",
       "        'style',\n",
       "        'box-sizing: content-box; position: absolute; left: 0; top: 0; z-index: 1;'\n",
       "    );\n",
       "\n",
       "    // Apply a ponyfill if ResizeObserver is not implemented by browser.\n",
       "    if (this.ResizeObserver === undefined) {\n",
       "        if (window.ResizeObserver !== undefined) {\n",
       "            this.ResizeObserver = window.ResizeObserver;\n",
       "        } else {\n",
       "            var obs = _JSXTOOLS_RESIZE_OBSERVER({});\n",
       "            this.ResizeObserver = obs.ResizeObserver;\n",
       "        }\n",
       "    }\n",
       "\n",
       "    this.resizeObserverInstance = new this.ResizeObserver(function (entries) {\n",
       "        var nentries = entries.length;\n",
       "        for (var i = 0; i < nentries; i++) {\n",
       "            var entry = entries[i];\n",
       "            var width, height;\n",
       "            if (entry.contentBoxSize) {\n",
       "                if (entry.contentBoxSize instanceof Array) {\n",
       "                    // Chrome 84 implements new version of spec.\n",
       "                    width = entry.contentBoxSize[0].inlineSize;\n",
       "                    height = entry.contentBoxSize[0].blockSize;\n",
       "                } else {\n",
       "                    // Firefox implements old version of spec.\n",
       "                    width = entry.contentBoxSize.inlineSize;\n",
       "                    height = entry.contentBoxSize.blockSize;\n",
       "                }\n",
       "            } else {\n",
       "                // Chrome <84 implements even older version of spec.\n",
       "                width = entry.contentRect.width;\n",
       "                height = entry.contentRect.height;\n",
       "            }\n",
       "\n",
       "            // Keep the size of the canvas and rubber band canvas in sync with\n",
       "            // the canvas container.\n",
       "            if (entry.devicePixelContentBoxSize) {\n",
       "                // Chrome 84 implements new version of spec.\n",
       "                canvas.setAttribute(\n",
       "                    'width',\n",
       "                    entry.devicePixelContentBoxSize[0].inlineSize\n",
       "                );\n",
       "                canvas.setAttribute(\n",
       "                    'height',\n",
       "                    entry.devicePixelContentBoxSize[0].blockSize\n",
       "                );\n",
       "            } else {\n",
       "                canvas.setAttribute('width', width * fig.ratio);\n",
       "                canvas.setAttribute('height', height * fig.ratio);\n",
       "            }\n",
       "            canvas.setAttribute(\n",
       "                'style',\n",
       "                'width: ' + width + 'px; height: ' + height + 'px;'\n",
       "            );\n",
       "\n",
       "            rubberband_canvas.setAttribute('width', width);\n",
       "            rubberband_canvas.setAttribute('height', height);\n",
       "\n",
       "            // And update the size in Python. We ignore the initial 0/0 size\n",
       "            // that occurs as the element is placed into the DOM, which should\n",
       "            // otherwise not happen due to the minimum size styling.\n",
       "            if (fig.ws.readyState == 1 && width != 0 && height != 0) {\n",
       "                fig.request_resize(width, height);\n",
       "            }\n",
       "        }\n",
       "    });\n",
       "    this.resizeObserverInstance.observe(canvas_div);\n",
       "\n",
       "    function on_mouse_event_closure(name) {\n",
       "        return function (event) {\n",
       "            return fig.mouse_event(event, name);\n",
       "        };\n",
       "    }\n",
       "\n",
       "    rubberband_canvas.addEventListener(\n",
       "        'mousedown',\n",
       "        on_mouse_event_closure('button_press')\n",
       "    );\n",
       "    rubberband_canvas.addEventListener(\n",
       "        'mouseup',\n",
       "        on_mouse_event_closure('button_release')\n",
       "    );\n",
       "    rubberband_canvas.addEventListener(\n",
       "        'dblclick',\n",
       "        on_mouse_event_closure('dblclick')\n",
       "    );\n",
       "    // Throttle sequential mouse events to 1 every 20ms.\n",
       "    rubberband_canvas.addEventListener(\n",
       "        'mousemove',\n",
       "        on_mouse_event_closure('motion_notify')\n",
       "    );\n",
       "\n",
       "    rubberband_canvas.addEventListener(\n",
       "        'mouseenter',\n",
       "        on_mouse_event_closure('figure_enter')\n",
       "    );\n",
       "    rubberband_canvas.addEventListener(\n",
       "        'mouseleave',\n",
       "        on_mouse_event_closure('figure_leave')\n",
       "    );\n",
       "\n",
       "    canvas_div.addEventListener('wheel', function (event) {\n",
       "        if (event.deltaY < 0) {\n",
       "            event.step = 1;\n",
       "        } else {\n",
       "            event.step = -1;\n",
       "        }\n",
       "        on_mouse_event_closure('scroll')(event);\n",
       "    });\n",
       "\n",
       "    canvas_div.appendChild(canvas);\n",
       "    canvas_div.appendChild(rubberband_canvas);\n",
       "\n",
       "    this.rubberband_context = rubberband_canvas.getContext('2d');\n",
       "    this.rubberband_context.strokeStyle = '#000000';\n",
       "\n",
       "    this._resize_canvas = function (width, height, forward) {\n",
       "        if (forward) {\n",
       "            canvas_div.style.width = width + 'px';\n",
       "            canvas_div.style.height = height + 'px';\n",
       "        }\n",
       "    };\n",
       "\n",
       "    // Disable right mouse context menu.\n",
       "    this.rubberband_canvas.addEventListener('contextmenu', function (_e) {\n",
       "        event.preventDefault();\n",
       "        return false;\n",
       "    });\n",
       "\n",
       "    function set_focus() {\n",
       "        canvas.focus();\n",
       "        canvas_div.focus();\n",
       "    }\n",
       "\n",
       "    window.setTimeout(set_focus, 100);\n",
       "};\n",
       "\n",
       "mpl.figure.prototype._init_toolbar = function () {\n",
       "    var fig = this;\n",
       "\n",
       "    var toolbar = document.createElement('div');\n",
       "    toolbar.classList = 'mpl-toolbar';\n",
       "    this.root.appendChild(toolbar);\n",
       "\n",
       "    function on_click_closure(name) {\n",
       "        return function (_event) {\n",
       "            return fig.toolbar_button_onclick(name);\n",
       "        };\n",
       "    }\n",
       "\n",
       "    function on_mouseover_closure(tooltip) {\n",
       "        return function (event) {\n",
       "            if (!event.currentTarget.disabled) {\n",
       "                return fig.toolbar_button_onmouseover(tooltip);\n",
       "            }\n",
       "        };\n",
       "    }\n",
       "\n",
       "    fig.buttons = {};\n",
       "    var buttonGroup = document.createElement('div');\n",
       "    buttonGroup.classList = 'mpl-button-group';\n",
       "    for (var toolbar_ind in mpl.toolbar_items) {\n",
       "        var name = mpl.toolbar_items[toolbar_ind][0];\n",
       "        var tooltip = mpl.toolbar_items[toolbar_ind][1];\n",
       "        var image = mpl.toolbar_items[toolbar_ind][2];\n",
       "        var method_name = mpl.toolbar_items[toolbar_ind][3];\n",
       "\n",
       "        if (!name) {\n",
       "            /* Instead of a spacer, we start a new button group. */\n",
       "            if (buttonGroup.hasChildNodes()) {\n",
       "                toolbar.appendChild(buttonGroup);\n",
       "            }\n",
       "            buttonGroup = document.createElement('div');\n",
       "            buttonGroup.classList = 'mpl-button-group';\n",
       "            continue;\n",
       "        }\n",
       "\n",
       "        var button = (fig.buttons[name] = document.createElement('button'));\n",
       "        button.classList = 'mpl-widget';\n",
       "        button.setAttribute('role', 'button');\n",
       "        button.setAttribute('aria-disabled', 'false');\n",
       "        button.addEventListener('click', on_click_closure(method_name));\n",
       "        button.addEventListener('mouseover', on_mouseover_closure(tooltip));\n",
       "\n",
       "        var icon_img = document.createElement('img');\n",
       "        icon_img.src = '_images/' + image + '.png';\n",
       "        icon_img.srcset = '_images/' + image + '_large.png 2x';\n",
       "        icon_img.alt = tooltip;\n",
       "        button.appendChild(icon_img);\n",
       "\n",
       "        buttonGroup.appendChild(button);\n",
       "    }\n",
       "\n",
       "    if (buttonGroup.hasChildNodes()) {\n",
       "        toolbar.appendChild(buttonGroup);\n",
       "    }\n",
       "\n",
       "    var fmt_picker = document.createElement('select');\n",
       "    fmt_picker.classList = 'mpl-widget';\n",
       "    toolbar.appendChild(fmt_picker);\n",
       "    this.format_dropdown = fmt_picker;\n",
       "\n",
       "    for (var ind in mpl.extensions) {\n",
       "        var fmt = mpl.extensions[ind];\n",
       "        var option = document.createElement('option');\n",
       "        option.selected = fmt === mpl.default_extension;\n",
       "        option.innerHTML = fmt;\n",
       "        fmt_picker.appendChild(option);\n",
       "    }\n",
       "\n",
       "    var status_bar = document.createElement('span');\n",
       "    status_bar.classList = 'mpl-message';\n",
       "    toolbar.appendChild(status_bar);\n",
       "    this.message = status_bar;\n",
       "};\n",
       "\n",
       "mpl.figure.prototype.request_resize = function (x_pixels, y_pixels) {\n",
       "    // Request matplotlib to resize the figure. Matplotlib will then trigger a resize in the client,\n",
       "    // which will in turn request a refresh of the image.\n",
       "    this.send_message('resize', { width: x_pixels, height: y_pixels });\n",
       "};\n",
       "\n",
       "mpl.figure.prototype.send_message = function (type, properties) {\n",
       "    properties['type'] = type;\n",
       "    properties['figure_id'] = this.id;\n",
       "    this.ws.send(JSON.stringify(properties));\n",
       "};\n",
       "\n",
       "mpl.figure.prototype.send_draw_message = function () {\n",
       "    if (!this.waiting) {\n",
       "        this.waiting = true;\n",
       "        this.ws.send(JSON.stringify({ type: 'draw', figure_id: this.id }));\n",
       "    }\n",
       "};\n",
       "\n",
       "mpl.figure.prototype.handle_save = function (fig, _msg) {\n",
       "    var format_dropdown = fig.format_dropdown;\n",
       "    var format = format_dropdown.options[format_dropdown.selectedIndex].value;\n",
       "    fig.ondownload(fig, format);\n",
       "};\n",
       "\n",
       "mpl.figure.prototype.handle_resize = function (fig, msg) {\n",
       "    var size = msg['size'];\n",
       "    if (size[0] !== fig.canvas.width || size[1] !== fig.canvas.height) {\n",
       "        fig._resize_canvas(size[0], size[1], msg['forward']);\n",
       "        fig.send_message('refresh', {});\n",
       "    }\n",
       "};\n",
       "\n",
       "mpl.figure.prototype.handle_rubberband = function (fig, msg) {\n",
       "    var x0 = msg['x0'] / fig.ratio;\n",
       "    var y0 = (fig.canvas.height - msg['y0']) / fig.ratio;\n",
       "    var x1 = msg['x1'] / fig.ratio;\n",
       "    var y1 = (fig.canvas.height - msg['y1']) / fig.ratio;\n",
       "    x0 = Math.floor(x0) + 0.5;\n",
       "    y0 = Math.floor(y0) + 0.5;\n",
       "    x1 = Math.floor(x1) + 0.5;\n",
       "    y1 = Math.floor(y1) + 0.5;\n",
       "    var min_x = Math.min(x0, x1);\n",
       "    var min_y = Math.min(y0, y1);\n",
       "    var width = Math.abs(x1 - x0);\n",
       "    var height = Math.abs(y1 - y0);\n",
       "\n",
       "    fig.rubberband_context.clearRect(\n",
       "        0,\n",
       "        0,\n",
       "        fig.canvas.width / fig.ratio,\n",
       "        fig.canvas.height / fig.ratio\n",
       "    );\n",
       "\n",
       "    fig.rubberband_context.strokeRect(min_x, min_y, width, height);\n",
       "};\n",
       "\n",
       "mpl.figure.prototype.handle_figure_label = function (fig, msg) {\n",
       "    // Updates the figure title.\n",
       "    fig.header.textContent = msg['label'];\n",
       "};\n",
       "\n",
       "mpl.figure.prototype.handle_cursor = function (fig, msg) {\n",
       "    var cursor = msg['cursor'];\n",
       "    switch (cursor) {\n",
       "        case 0:\n",
       "            cursor = 'pointer';\n",
       "            break;\n",
       "        case 1:\n",
       "            cursor = 'default';\n",
       "            break;\n",
       "        case 2:\n",
       "            cursor = 'crosshair';\n",
       "            break;\n",
       "        case 3:\n",
       "            cursor = 'move';\n",
       "            break;\n",
       "    }\n",
       "    fig.rubberband_canvas.style.cursor = cursor;\n",
       "};\n",
       "\n",
       "mpl.figure.prototype.handle_message = function (fig, msg) {\n",
       "    fig.message.textContent = msg['message'];\n",
       "};\n",
       "\n",
       "mpl.figure.prototype.handle_draw = function (fig, _msg) {\n",
       "    // Request the server to send over a new figure.\n",
       "    fig.send_draw_message();\n",
       "};\n",
       "\n",
       "mpl.figure.prototype.handle_image_mode = function (fig, msg) {\n",
       "    fig.image_mode = msg['mode'];\n",
       "};\n",
       "\n",
       "mpl.figure.prototype.handle_history_buttons = function (fig, msg) {\n",
       "    for (var key in msg) {\n",
       "        if (!(key in fig.buttons)) {\n",
       "            continue;\n",
       "        }\n",
       "        fig.buttons[key].disabled = !msg[key];\n",
       "        fig.buttons[key].setAttribute('aria-disabled', !msg[key]);\n",
       "    }\n",
       "};\n",
       "\n",
       "mpl.figure.prototype.handle_navigate_mode = function (fig, msg) {\n",
       "    if (msg['mode'] === 'PAN') {\n",
       "        fig.buttons['Pan'].classList.add('active');\n",
       "        fig.buttons['Zoom'].classList.remove('active');\n",
       "    } else if (msg['mode'] === 'ZOOM') {\n",
       "        fig.buttons['Pan'].classList.remove('active');\n",
       "        fig.buttons['Zoom'].classList.add('active');\n",
       "    } else {\n",
       "        fig.buttons['Pan'].classList.remove('active');\n",
       "        fig.buttons['Zoom'].classList.remove('active');\n",
       "    }\n",
       "};\n",
       "\n",
       "mpl.figure.prototype.updated_canvas_event = function () {\n",
       "    // Called whenever the canvas gets updated.\n",
       "    this.send_message('ack', {});\n",
       "};\n",
       "\n",
       "// A function to construct a web socket function for onmessage handling.\n",
       "// Called in the figure constructor.\n",
       "mpl.figure.prototype._make_on_message_function = function (fig) {\n",
       "    return function socket_on_message(evt) {\n",
       "        if (evt.data instanceof Blob) {\n",
       "            var img = evt.data;\n",
       "            if (img.type !== 'image/png') {\n",
       "                /* FIXME: We get \"Resource interpreted as Image but\n",
       "                 * transferred with MIME type text/plain:\" errors on\n",
       "                 * Chrome.  But how to set the MIME type?  It doesn't seem\n",
       "                 * to be part of the websocket stream */\n",
       "                img.type = 'image/png';\n",
       "            }\n",
       "\n",
       "            /* Free the memory for the previous frames */\n",
       "            if (fig.imageObj.src) {\n",
       "                (window.URL || window.webkitURL).revokeObjectURL(\n",
       "                    fig.imageObj.src\n",
       "                );\n",
       "            }\n",
       "\n",
       "            fig.imageObj.src = (window.URL || window.webkitURL).createObjectURL(\n",
       "                img\n",
       "            );\n",
       "            fig.updated_canvas_event();\n",
       "            fig.waiting = false;\n",
       "            return;\n",
       "        } else if (\n",
       "            typeof evt.data === 'string' &&\n",
       "            evt.data.slice(0, 21) === 'data:image/png;base64'\n",
       "        ) {\n",
       "            fig.imageObj.src = evt.data;\n",
       "            fig.updated_canvas_event();\n",
       "            fig.waiting = false;\n",
       "            return;\n",
       "        }\n",
       "\n",
       "        var msg = JSON.parse(evt.data);\n",
       "        var msg_type = msg['type'];\n",
       "\n",
       "        // Call the  \"handle_{type}\" callback, which takes\n",
       "        // the figure and JSON message as its only arguments.\n",
       "        try {\n",
       "            var callback = fig['handle_' + msg_type];\n",
       "        } catch (e) {\n",
       "            console.log(\n",
       "                \"No handler for the '\" + msg_type + \"' message type: \",\n",
       "                msg\n",
       "            );\n",
       "            return;\n",
       "        }\n",
       "\n",
       "        if (callback) {\n",
       "            try {\n",
       "                // console.log(\"Handling '\" + msg_type + \"' message: \", msg);\n",
       "                callback(fig, msg);\n",
       "            } catch (e) {\n",
       "                console.log(\n",
       "                    \"Exception inside the 'handler_\" + msg_type + \"' callback:\",\n",
       "                    e,\n",
       "                    e.stack,\n",
       "                    msg\n",
       "                );\n",
       "            }\n",
       "        }\n",
       "    };\n",
       "};\n",
       "\n",
       "// from http://stackoverflow.com/questions/1114465/getting-mouse-location-in-canvas\n",
       "mpl.findpos = function (e) {\n",
       "    //this section is from http://www.quirksmode.org/js/events_properties.html\n",
       "    var targ;\n",
       "    if (!e) {\n",
       "        e = window.event;\n",
       "    }\n",
       "    if (e.target) {\n",
       "        targ = e.target;\n",
       "    } else if (e.srcElement) {\n",
       "        targ = e.srcElement;\n",
       "    }\n",
       "    if (targ.nodeType === 3) {\n",
       "        // defeat Safari bug\n",
       "        targ = targ.parentNode;\n",
       "    }\n",
       "\n",
       "    // pageX,Y are the mouse positions relative to the document\n",
       "    var boundingRect = targ.getBoundingClientRect();\n",
       "    var x = e.pageX - (boundingRect.left + document.body.scrollLeft);\n",
       "    var y = e.pageY - (boundingRect.top + document.body.scrollTop);\n",
       "\n",
       "    return { x: x, y: y };\n",
       "};\n",
       "\n",
       "/*\n",
       " * return a copy of an object with only non-object keys\n",
       " * we need this to avoid circular references\n",
       " * http://stackoverflow.com/a/24161582/3208463\n",
       " */\n",
       "function simpleKeys(original) {\n",
       "    return Object.keys(original).reduce(function (obj, key) {\n",
       "        if (typeof original[key] !== 'object') {\n",
       "            obj[key] = original[key];\n",
       "        }\n",
       "        return obj;\n",
       "    }, {});\n",
       "}\n",
       "\n",
       "mpl.figure.prototype.mouse_event = function (event, name) {\n",
       "    var canvas_pos = mpl.findpos(event);\n",
       "\n",
       "    if (name === 'button_press') {\n",
       "        this.canvas.focus();\n",
       "        this.canvas_div.focus();\n",
       "    }\n",
       "\n",
       "    var x = canvas_pos.x * this.ratio;\n",
       "    var y = canvas_pos.y * this.ratio;\n",
       "\n",
       "    this.send_message(name, {\n",
       "        x: x,\n",
       "        y: y,\n",
       "        button: event.button,\n",
       "        step: event.step,\n",
       "        guiEvent: simpleKeys(event),\n",
       "    });\n",
       "\n",
       "    /* This prevents the web browser from automatically changing to\n",
       "     * the text insertion cursor when the button is pressed.  We want\n",
       "     * to control all of the cursor setting manually through the\n",
       "     * 'cursor' event from matplotlib */\n",
       "    event.preventDefault();\n",
       "    return false;\n",
       "};\n",
       "\n",
       "mpl.figure.prototype._key_event_extra = function (_event, _name) {\n",
       "    // Handle any extra behaviour associated with a key event\n",
       "};\n",
       "\n",
       "mpl.figure.prototype.key_event = function (event, name) {\n",
       "    // Prevent repeat events\n",
       "    if (name === 'key_press') {\n",
       "        if (event.key === this._key) {\n",
       "            return;\n",
       "        } else {\n",
       "            this._key = event.key;\n",
       "        }\n",
       "    }\n",
       "    if (name === 'key_release') {\n",
       "        this._key = null;\n",
       "    }\n",
       "\n",
       "    var value = '';\n",
       "    if (event.ctrlKey && event.key !== 'Control') {\n",
       "        value += 'ctrl+';\n",
       "    }\n",
       "    else if (event.altKey && event.key !== 'Alt') {\n",
       "        value += 'alt+';\n",
       "    }\n",
       "    else if (event.shiftKey && event.key !== 'Shift') {\n",
       "        value += 'shift+';\n",
       "    }\n",
       "\n",
       "    value += 'k' + event.key;\n",
       "\n",
       "    this._key_event_extra(event, name);\n",
       "\n",
       "    this.send_message(name, { key: value, guiEvent: simpleKeys(event) });\n",
       "    return false;\n",
       "};\n",
       "\n",
       "mpl.figure.prototype.toolbar_button_onclick = function (name) {\n",
       "    if (name === 'download') {\n",
       "        this.handle_save(this, null);\n",
       "    } else {\n",
       "        this.send_message('toolbar_button', { name: name });\n",
       "    }\n",
       "};\n",
       "\n",
       "mpl.figure.prototype.toolbar_button_onmouseover = function (tooltip) {\n",
       "    this.message.textContent = tooltip;\n",
       "};\n",
       "\n",
       "///////////////// REMAINING CONTENT GENERATED BY embed_js.py /////////////////\n",
       "// prettier-ignore\n",
       "var _JSXTOOLS_RESIZE_OBSERVER=function(A){var t,i=new WeakMap,n=new WeakMap,a=new WeakMap,r=new WeakMap,o=new Set;function s(e){if(!(this instanceof s))throw new TypeError(\"Constructor requires 'new' operator\");i.set(this,e)}function h(){throw new TypeError(\"Function is not a constructor\")}function c(e,t,i,n){e=0 in arguments?Number(arguments[0]):0,t=1 in arguments?Number(arguments[1]):0,i=2 in arguments?Number(arguments[2]):0,n=3 in arguments?Number(arguments[3]):0,this.right=(this.x=this.left=e)+(this.width=i),this.bottom=(this.y=this.top=t)+(this.height=n),Object.freeze(this)}function d(){t=requestAnimationFrame(d);var s=new WeakMap,p=new Set;o.forEach((function(t){r.get(t).forEach((function(i){var r=t instanceof window.SVGElement,o=a.get(t),d=r?0:parseFloat(o.paddingTop),f=r?0:parseFloat(o.paddingRight),l=r?0:parseFloat(o.paddingBottom),u=r?0:parseFloat(o.paddingLeft),g=r?0:parseFloat(o.borderTopWidth),m=r?0:parseFloat(o.borderRightWidth),w=r?0:parseFloat(o.borderBottomWidth),b=u+f,F=d+l,v=(r?0:parseFloat(o.borderLeftWidth))+m,W=g+w,y=r?0:t.offsetHeight-W-t.clientHeight,E=r?0:t.offsetWidth-v-t.clientWidth,R=b+v,z=F+W,M=r?t.width:parseFloat(o.width)-R-E,O=r?t.height:parseFloat(o.height)-z-y;if(n.has(t)){var k=n.get(t);if(k[0]===M&&k[1]===O)return}n.set(t,[M,O]);var S=Object.create(h.prototype);S.target=t,S.contentRect=new c(u,d,M,O),s.has(i)||(s.set(i,[]),p.add(i)),s.get(i).push(S)}))})),p.forEach((function(e){i.get(e).call(e,s.get(e),e)}))}return s.prototype.observe=function(i){if(i instanceof window.Element){r.has(i)||(r.set(i,new Set),o.add(i),a.set(i,window.getComputedStyle(i)));var n=r.get(i);n.has(this)||n.add(this),cancelAnimationFrame(t),t=requestAnimationFrame(d)}},s.prototype.unobserve=function(i){if(i instanceof window.Element&&r.has(i)){var n=r.get(i);n.has(this)&&(n.delete(this),n.size||(r.delete(i),o.delete(i))),n.size||r.delete(i),o.size||cancelAnimationFrame(t)}},A.DOMRectReadOnly=c,A.ResizeObserver=s,A.ResizeObserverEntry=h,A}; // eslint-disable-line\n",
       "mpl.toolbar_items = [[\"Home\", \"Reset original view\", \"fa fa-home icon-home\", \"home\"], [\"Back\", \"Back to previous view\", \"fa fa-arrow-left icon-arrow-left\", \"back\"], [\"Forward\", \"Forward to next view\", \"fa fa-arrow-right icon-arrow-right\", \"forward\"], [\"\", \"\", \"\", \"\"], [\"Pan\", \"Left button pans, Right button zooms\\nx/y fixes axis, CTRL fixes aspect\", \"fa fa-arrows icon-move\", \"pan\"], [\"Zoom\", \"Zoom to rectangle\\nx/y fixes axis, CTRL fixes aspect\", \"fa fa-square-o icon-check-empty\", \"zoom\"], [\"\", \"\", \"\", \"\"], [\"Download\", \"Download plot\", \"fa fa-floppy-o icon-save\", \"download\"]];\n",
       "\n",
       "mpl.extensions = [\"eps\", \"jpeg\", \"pgf\", \"pdf\", \"png\", \"ps\", \"raw\", \"svg\", \"tif\"];\n",
       "\n",
       "mpl.default_extension = \"png\";/* global mpl */\n",
       "\n",
       "var comm_websocket_adapter = function (comm) {\n",
       "    // Create a \"websocket\"-like object which calls the given IPython comm\n",
       "    // object with the appropriate methods. Currently this is a non binary\n",
       "    // socket, so there is still some room for performance tuning.\n",
       "    var ws = {};\n",
       "\n",
       "    ws.binaryType = comm.kernel.ws.binaryType;\n",
       "    ws.readyState = comm.kernel.ws.readyState;\n",
       "    function updateReadyState(_event) {\n",
       "        if (comm.kernel.ws) {\n",
       "            ws.readyState = comm.kernel.ws.readyState;\n",
       "        } else {\n",
       "            ws.readyState = 3; // Closed state.\n",
       "        }\n",
       "    }\n",
       "    comm.kernel.ws.addEventListener('open', updateReadyState);\n",
       "    comm.kernel.ws.addEventListener('close', updateReadyState);\n",
       "    comm.kernel.ws.addEventListener('error', updateReadyState);\n",
       "\n",
       "    ws.close = function () {\n",
       "        comm.close();\n",
       "    };\n",
       "    ws.send = function (m) {\n",
       "        //console.log('sending', m);\n",
       "        comm.send(m);\n",
       "    };\n",
       "    // Register the callback with on_msg.\n",
       "    comm.on_msg(function (msg) {\n",
       "        //console.log('receiving', msg['content']['data'], msg);\n",
       "        var data = msg['content']['data'];\n",
       "        if (data['blob'] !== undefined) {\n",
       "            data = {\n",
       "                data: new Blob(msg['buffers'], { type: data['blob'] }),\n",
       "            };\n",
       "        }\n",
       "        // Pass the mpl event to the overridden (by mpl) onmessage function.\n",
       "        ws.onmessage(data);\n",
       "    });\n",
       "    return ws;\n",
       "};\n",
       "\n",
       "mpl.mpl_figure_comm = function (comm, msg) {\n",
       "    // This is the function which gets called when the mpl process\n",
       "    // starts-up an IPython Comm through the \"matplotlib\" channel.\n",
       "\n",
       "    var id = msg.content.data.id;\n",
       "    // Get hold of the div created by the display call when the Comm\n",
       "    // socket was opened in Python.\n",
       "    var element = document.getElementById(id);\n",
       "    var ws_proxy = comm_websocket_adapter(comm);\n",
       "\n",
       "    function ondownload(figure, _format) {\n",
       "        window.open(figure.canvas.toDataURL());\n",
       "    }\n",
       "\n",
       "    var fig = new mpl.figure(id, ws_proxy, ondownload, element);\n",
       "\n",
       "    // Call onopen now - mpl needs it, as it is assuming we've passed it a real\n",
       "    // web socket which is closed, not our websocket->open comm proxy.\n",
       "    ws_proxy.onopen();\n",
       "\n",
       "    fig.parent_element = element;\n",
       "    fig.cell_info = mpl.find_output_cell(\"<div id='\" + id + \"'></div>\");\n",
       "    if (!fig.cell_info) {\n",
       "        console.error('Failed to find cell for figure', id, fig);\n",
       "        return;\n",
       "    }\n",
       "    fig.cell_info[0].output_area.element.on(\n",
       "        'cleared',\n",
       "        { fig: fig },\n",
       "        fig._remove_fig_handler\n",
       "    );\n",
       "};\n",
       "\n",
       "mpl.figure.prototype.handle_close = function (fig, msg) {\n",
       "    var width = fig.canvas.width / fig.ratio;\n",
       "    fig.cell_info[0].output_area.element.off(\n",
       "        'cleared',\n",
       "        fig._remove_fig_handler\n",
       "    );\n",
       "    fig.resizeObserverInstance.unobserve(fig.canvas_div);\n",
       "\n",
       "    // Update the output cell to use the data from the current canvas.\n",
       "    fig.push_to_output();\n",
       "    var dataURL = fig.canvas.toDataURL();\n",
       "    // Re-enable the keyboard manager in IPython - without this line, in FF,\n",
       "    // the notebook keyboard shortcuts fail.\n",
       "    IPython.keyboard_manager.enable();\n",
       "    fig.parent_element.innerHTML =\n",
       "        '<img src=\"' + dataURL + '\" width=\"' + width + '\">';\n",
       "    fig.close_ws(fig, msg);\n",
       "};\n",
       "\n",
       "mpl.figure.prototype.close_ws = function (fig, msg) {\n",
       "    fig.send_message('closing', msg);\n",
       "    // fig.ws.close()\n",
       "};\n",
       "\n",
       "mpl.figure.prototype.push_to_output = function (_remove_interactive) {\n",
       "    // Turn the data on the canvas into data in the output cell.\n",
       "    var width = this.canvas.width / this.ratio;\n",
       "    var dataURL = this.canvas.toDataURL();\n",
       "    this.cell_info[1]['text/html'] =\n",
       "        '<img src=\"' + dataURL + '\" width=\"' + width + '\">';\n",
       "};\n",
       "\n",
       "mpl.figure.prototype.updated_canvas_event = function () {\n",
       "    // Tell IPython that the notebook contents must change.\n",
       "    IPython.notebook.set_dirty(true);\n",
       "    this.send_message('ack', {});\n",
       "    var fig = this;\n",
       "    // Wait a second, then push the new image to the DOM so\n",
       "    // that it is saved nicely (might be nice to debounce this).\n",
       "    setTimeout(function () {\n",
       "        fig.push_to_output();\n",
       "    }, 1000);\n",
       "};\n",
       "\n",
       "mpl.figure.prototype._init_toolbar = function () {\n",
       "    var fig = this;\n",
       "\n",
       "    var toolbar = document.createElement('div');\n",
       "    toolbar.classList = 'btn-toolbar';\n",
       "    this.root.appendChild(toolbar);\n",
       "\n",
       "    function on_click_closure(name) {\n",
       "        return function (_event) {\n",
       "            return fig.toolbar_button_onclick(name);\n",
       "        };\n",
       "    }\n",
       "\n",
       "    function on_mouseover_closure(tooltip) {\n",
       "        return function (event) {\n",
       "            if (!event.currentTarget.disabled) {\n",
       "                return fig.toolbar_button_onmouseover(tooltip);\n",
       "            }\n",
       "        };\n",
       "    }\n",
       "\n",
       "    fig.buttons = {};\n",
       "    var buttonGroup = document.createElement('div');\n",
       "    buttonGroup.classList = 'btn-group';\n",
       "    var button;\n",
       "    for (var toolbar_ind in mpl.toolbar_items) {\n",
       "        var name = mpl.toolbar_items[toolbar_ind][0];\n",
       "        var tooltip = mpl.toolbar_items[toolbar_ind][1];\n",
       "        var image = mpl.toolbar_items[toolbar_ind][2];\n",
       "        var method_name = mpl.toolbar_items[toolbar_ind][3];\n",
       "\n",
       "        if (!name) {\n",
       "            /* Instead of a spacer, we start a new button group. */\n",
       "            if (buttonGroup.hasChildNodes()) {\n",
       "                toolbar.appendChild(buttonGroup);\n",
       "            }\n",
       "            buttonGroup = document.createElement('div');\n",
       "            buttonGroup.classList = 'btn-group';\n",
       "            continue;\n",
       "        }\n",
       "\n",
       "        button = fig.buttons[name] = document.createElement('button');\n",
       "        button.classList = 'btn btn-default';\n",
       "        button.href = '#';\n",
       "        button.title = name;\n",
       "        button.innerHTML = '<i class=\"fa ' + image + ' fa-lg\"></i>';\n",
       "        button.addEventListener('click', on_click_closure(method_name));\n",
       "        button.addEventListener('mouseover', on_mouseover_closure(tooltip));\n",
       "        buttonGroup.appendChild(button);\n",
       "    }\n",
       "\n",
       "    if (buttonGroup.hasChildNodes()) {\n",
       "        toolbar.appendChild(buttonGroup);\n",
       "    }\n",
       "\n",
       "    // Add the status bar.\n",
       "    var status_bar = document.createElement('span');\n",
       "    status_bar.classList = 'mpl-message pull-right';\n",
       "    toolbar.appendChild(status_bar);\n",
       "    this.message = status_bar;\n",
       "\n",
       "    // Add the close button to the window.\n",
       "    var buttongrp = document.createElement('div');\n",
       "    buttongrp.classList = 'btn-group inline pull-right';\n",
       "    button = document.createElement('button');\n",
       "    button.classList = 'btn btn-mini btn-primary';\n",
       "    button.href = '#';\n",
       "    button.title = 'Stop Interaction';\n",
       "    button.innerHTML = '<i class=\"fa fa-power-off icon-remove icon-large\"></i>';\n",
       "    button.addEventListener('click', function (_evt) {\n",
       "        fig.handle_close(fig, {});\n",
       "    });\n",
       "    button.addEventListener(\n",
       "        'mouseover',\n",
       "        on_mouseover_closure('Stop Interaction')\n",
       "    );\n",
       "    buttongrp.appendChild(button);\n",
       "    var titlebar = this.root.querySelector('.ui-dialog-titlebar');\n",
       "    titlebar.insertBefore(buttongrp, titlebar.firstChild);\n",
       "};\n",
       "\n",
       "mpl.figure.prototype._remove_fig_handler = function (event) {\n",
       "    var fig = event.data.fig;\n",
       "    if (event.target !== this) {\n",
       "        // Ignore bubbled events from children.\n",
       "        return;\n",
       "    }\n",
       "    fig.close_ws(fig, {});\n",
       "};\n",
       "\n",
       "mpl.figure.prototype._root_extra_style = function (el) {\n",
       "    el.style.boxSizing = 'content-box'; // override notebook setting of border-box.\n",
       "};\n",
       "\n",
       "mpl.figure.prototype._canvas_extra_style = function (el) {\n",
       "    // this is important to make the div 'focusable\n",
       "    el.setAttribute('tabindex', 0);\n",
       "    // reach out to IPython and tell the keyboard manager to turn it's self\n",
       "    // off when our div gets focus\n",
       "\n",
       "    // location in version 3\n",
       "    if (IPython.notebook.keyboard_manager) {\n",
       "        IPython.notebook.keyboard_manager.register_events(el);\n",
       "    } else {\n",
       "        // location in version 2\n",
       "        IPython.keyboard_manager.register_events(el);\n",
       "    }\n",
       "};\n",
       "\n",
       "mpl.figure.prototype._key_event_extra = function (event, _name) {\n",
       "    var manager = IPython.notebook.keyboard_manager;\n",
       "    if (!manager) {\n",
       "        manager = IPython.keyboard_manager;\n",
       "    }\n",
       "\n",
       "    // Check for shift+enter\n",
       "    if (event.shiftKey && event.which === 13) {\n",
       "        this.canvas_div.blur();\n",
       "        // select the cell after this one\n",
       "        var index = IPython.notebook.find_cell_index(this.cell_info[0]);\n",
       "        IPython.notebook.select(index + 1);\n",
       "    }\n",
       "};\n",
       "\n",
       "mpl.figure.prototype.handle_save = function (fig, _msg) {\n",
       "    fig.ondownload(fig, null);\n",
       "};\n",
       "\n",
       "mpl.find_output_cell = function (html_output) {\n",
       "    // Return the cell and output element which can be found *uniquely* in the notebook.\n",
       "    // Note - this is a bit hacky, but it is done because the \"notebook_saving.Notebook\"\n",
       "    // IPython event is triggered only after the cells have been serialised, which for\n",
       "    // our purposes (turning an active figure into a static one), is too late.\n",
       "    var cells = IPython.notebook.get_cells();\n",
       "    var ncells = cells.length;\n",
       "    for (var i = 0; i < ncells; i++) {\n",
       "        var cell = cells[i];\n",
       "        if (cell.cell_type === 'code') {\n",
       "            for (var j = 0; j < cell.output_area.outputs.length; j++) {\n",
       "                var data = cell.output_area.outputs[j];\n",
       "                if (data.data) {\n",
       "                    // IPython >= 3 moved mimebundle to data attribute of output\n",
       "                    data = data.data;\n",
       "                }\n",
       "                if (data['text/html'] === html_output) {\n",
       "                    return [cell, data, j];\n",
       "                }\n",
       "            }\n",
       "        }\n",
       "    }\n",
       "};\n",
       "\n",
       "// Register the function which deals with the matplotlib target/channel.\n",
       "// The kernel may be null if the page has been refreshed.\n",
       "if (IPython.notebook.kernel !== null) {\n",
       "    IPython.notebook.kernel.comm_manager.register_target(\n",
       "        'matplotlib',\n",
       "        mpl.mpl_figure_comm\n",
       "    );\n",
       "}\n"
      ],
      "text/plain": [
       "<IPython.core.display.Javascript object>"
      ]
     },
     "metadata": {},
     "output_type": "display_data"
    },
    {
     "data": {
      "text/html": [
       "<img src=\"data:image/png;base64,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\" width=\"800\">"
      ],
      "text/plain": [
       "<IPython.core.display.HTML object>"
      ]
     },
     "metadata": {},
     "output_type": "display_data"
    }
   ],
   "source": [
    "x = np.arange(1.6, 3, 0.5)\n",
    "y = np.arange(1.6, 3, 0.5)\n",
    "X, Y = np.meshgrid(x, y)\n",
    "# print(np.meshgrid(x, y))\n",
    "# print(type(X)) # array\n",
    "Z1 = -4*X + 2*Y + 1\n",
    "Z2 = (-3*X - Y + 1)/3\n",
    "Z3 = (-2*X - 4*Y + 3)/5\n",
    "\n",
    "fig = plt.figure()\n",
    "ax1 = Axes3D(fig, auto_add_to_figure=False)\n",
    "fig.add_axes(ax1)\n",
    "ax1.plot_surface(X, Y, Z1, alpha = 0.5, color = 'red')\n",
    "ax1.plot_surface(X, Y, Z2, alpha = 0.5, color = 'blue')\n",
    "ax1.plot_surface(X, Y, Z3, alpha = 0.5, color = 'orange')\n",
    "ax1.set_xlabel('x axis')\n",
    "ax1.set_ylabel('y axis')\n",
    "ax1.set_zlabel('z axis')\n",
    "\n",
    "fig.set_figwidth(8) \n",
    "fig.set_figheight(6)"
   ]
  },
  {
   "cell_type": "markdown",
   "metadata": {},
   "source": [
    "### 從圖形來看，此三平面兩兩交於一直線，且沒有共同交點，所以我的程式碼判斷此方程組無解是正確的。"
   ]
  },
  {
   "cell_type": "markdown",
   "metadata": {},
   "source": [
    "## 3.無限多組解"
   ]
  },
  {
   "cell_type": "markdown",
   "metadata": {},
   "source": [
    "###   $\\begin{cases}2x-y-z=1\\\\x+y+2z=2 \\;\\;\\;\\;\\;\\;\\;-→\\\\-7x+2y+z=-5\\end{cases}  \\left[\\begin{matrix}2 & -1 & -1\\\\1 & 1 & 2\\\\-7 & 2 & 1\\end{matrix}\\right]  \\left[\\begin{matrix}x\\\\y\\\\z\\end{matrix}\\right]  =  \\left[\\begin{matrix}1\\\\2\\\\-5\\end{matrix}\\right]$"
   ]
  },
  {
   "cell_type": "code",
   "execution_count": 192,
   "metadata": {},
   "outputs": [],
   "source": [
    "from sympy.abc import x, y, z\n",
    "import sympy as sp"
   ]
  },
  {
   "cell_type": "code",
   "execution_count": 193,
   "metadata": {},
   "outputs": [],
   "source": [
    "from IPython.display import display, Markdown"
   ]
  },
  {
   "cell_type": "code",
   "execution_count": 194,
   "metadata": {},
   "outputs": [
    {
     "data": {
      "text/markdown": [
       "### $A\\;=\\left[\\begin{matrix}2 & -1 & -1\\\\1 & 1 & 2\\\\-7 & 2 & 1\\end{matrix}\\right],\\;x(matrix)\\;=\\left[\\begin{matrix}x\\\\y\\\\z\\end{matrix}\\right],\\;b\\;=\\left[\\begin{matrix}1\\\\2\\\\-5\\end{matrix}\\right]$"
      ],
      "text/plain": [
       "<IPython.core.display.Markdown object>"
      ]
     },
     "metadata": {},
     "output_type": "display_data"
    }
   ],
   "source": [
    "A = sp.Matrix([[2, -1, -1], \n",
    "               [1, 1, 2], \n",
    "               [-7, 2, 1]])\n",
    "x_matrix = sp.Matrix([[x], \n",
    "               [y], \n",
    "               [z]])\n",
    "b = sp.Matrix([[1], \n",
    "               [2], \n",
    "               [-5]])\n",
    "\n",
    "a = '### $'+'A\\;=' +  sp.latex(A) + ',\\;' + 'x(matrix)\\;=' + sp.latex(x_matrix) + ',\\;' + 'b\\;=' +  sp.latex(b) + '$'\n",
    "display(Markdown(a))"
   ]
  },
  {
   "cell_type": "markdown",
   "metadata": {},
   "source": [
    "## 我的程式碼計算的結果"
   ]
  },
  {
   "cell_type": "code",
   "execution_count": 195,
   "metadata": {},
   "outputs": [
    {
     "name": "stdout",
     "output_type": "stream",
     "text": [
      "無限多組解\n"
     ]
    },
    {
     "data": {
      "text/plain": [
       "''"
      ]
     },
     "execution_count": 195,
     "metadata": {},
     "output_type": "execute_result"
    }
   ],
   "source": [
    "state, x = Cramer(A, b)\n",
    "print(state)\n",
    "x"
   ]
  },
  {
   "cell_type": "markdown",
   "metadata": {},
   "source": [
    "### 下面為了驗證我的判斷，我在下面將該線性方程組的圖形畫出來，利用這些平面之間的幾何關係來驗證我的判斷是否正確。"
   ]
  },
  {
   "cell_type": "code",
   "execution_count": 196,
   "metadata": {},
   "outputs": [],
   "source": [
    "%matplotlib notebook\n",
    "from mpl_toolkits.mplot3d import Axes3D \n",
    "import matplotlib.pyplot as plt\n",
    "import numpy as np\n",
    "%config InlineBackend.figure_format  = 'svg'"
   ]
  },
  {
   "cell_type": "code",
   "execution_count": 197,
   "metadata": {
    "scrolled": false
   },
   "outputs": [
    {
     "data": {
      "application/javascript": [
       "/* Put everything inside the global mpl namespace */\n",
       "/* global mpl */\n",
       "window.mpl = {};\n",
       "\n",
       "mpl.get_websocket_type = function () {\n",
       "    if (typeof WebSocket !== 'undefined') {\n",
       "        return WebSocket;\n",
       "    } else if (typeof MozWebSocket !== 'undefined') {\n",
       "        return MozWebSocket;\n",
       "    } else {\n",
       "        alert(\n",
       "            'Your browser does not have WebSocket support. ' +\n",
       "                'Please try Chrome, Safari or Firefox ≥ 6. ' +\n",
       "                'Firefox 4 and 5 are also supported but you ' +\n",
       "                'have to enable WebSockets in about:config.'\n",
       "        );\n",
       "    }\n",
       "};\n",
       "\n",
       "mpl.figure = function (figure_id, websocket, ondownload, parent_element) {\n",
       "    this.id = figure_id;\n",
       "\n",
       "    this.ws = websocket;\n",
       "\n",
       "    this.supports_binary = this.ws.binaryType !== undefined;\n",
       "\n",
       "    if (!this.supports_binary) {\n",
       "        var warnings = document.getElementById('mpl-warnings');\n",
       "        if (warnings) {\n",
       "            warnings.style.display = 'block';\n",
       "            warnings.textContent =\n",
       "                'This browser does not support binary websocket messages. ' +\n",
       "                'Performance may be slow.';\n",
       "        }\n",
       "    }\n",
       "\n",
       "    this.imageObj = new Image();\n",
       "\n",
       "    this.context = undefined;\n",
       "    this.message = undefined;\n",
       "    this.canvas = undefined;\n",
       "    this.rubberband_canvas = undefined;\n",
       "    this.rubberband_context = undefined;\n",
       "    this.format_dropdown = undefined;\n",
       "\n",
       "    this.image_mode = 'full';\n",
       "\n",
       "    this.root = document.createElement('div');\n",
       "    this.root.setAttribute('style', 'display: inline-block');\n",
       "    this._root_extra_style(this.root);\n",
       "\n",
       "    parent_element.appendChild(this.root);\n",
       "\n",
       "    this._init_header(this);\n",
       "    this._init_canvas(this);\n",
       "    this._init_toolbar(this);\n",
       "\n",
       "    var fig = this;\n",
       "\n",
       "    this.waiting = false;\n",
       "\n",
       "    this.ws.onopen = function () {\n",
       "        fig.send_message('supports_binary', { value: fig.supports_binary });\n",
       "        fig.send_message('send_image_mode', {});\n",
       "        if (fig.ratio !== 1) {\n",
       "            fig.send_message('set_dpi_ratio', { dpi_ratio: fig.ratio });\n",
       "        }\n",
       "        fig.send_message('refresh', {});\n",
       "    };\n",
       "\n",
       "    this.imageObj.onload = function () {\n",
       "        if (fig.image_mode === 'full') {\n",
       "            // Full images could contain transparency (where diff images\n",
       "            // almost always do), so we need to clear the canvas so that\n",
       "            // there is no ghosting.\n",
       "            fig.context.clearRect(0, 0, fig.canvas.width, fig.canvas.height);\n",
       "        }\n",
       "        fig.context.drawImage(fig.imageObj, 0, 0);\n",
       "    };\n",
       "\n",
       "    this.imageObj.onunload = function () {\n",
       "        fig.ws.close();\n",
       "    };\n",
       "\n",
       "    this.ws.onmessage = this._make_on_message_function(this);\n",
       "\n",
       "    this.ondownload = ondownload;\n",
       "};\n",
       "\n",
       "mpl.figure.prototype._init_header = function () {\n",
       "    var titlebar = document.createElement('div');\n",
       "    titlebar.classList =\n",
       "        'ui-dialog-titlebar ui-widget-header ui-corner-all ui-helper-clearfix';\n",
       "    var titletext = document.createElement('div');\n",
       "    titletext.classList = 'ui-dialog-title';\n",
       "    titletext.setAttribute(\n",
       "        'style',\n",
       "        'width: 100%; text-align: center; padding: 3px;'\n",
       "    );\n",
       "    titlebar.appendChild(titletext);\n",
       "    this.root.appendChild(titlebar);\n",
       "    this.header = titletext;\n",
       "};\n",
       "\n",
       "mpl.figure.prototype._canvas_extra_style = function (_canvas_div) {};\n",
       "\n",
       "mpl.figure.prototype._root_extra_style = function (_canvas_div) {};\n",
       "\n",
       "mpl.figure.prototype._init_canvas = function () {\n",
       "    var fig = this;\n",
       "\n",
       "    var canvas_div = (this.canvas_div = document.createElement('div'));\n",
       "    canvas_div.setAttribute(\n",
       "        'style',\n",
       "        'border: 1px solid #ddd;' +\n",
       "            'box-sizing: content-box;' +\n",
       "            'clear: both;' +\n",
       "            'min-height: 1px;' +\n",
       "            'min-width: 1px;' +\n",
       "            'outline: 0;' +\n",
       "            'overflow: hidden;' +\n",
       "            'position: relative;' +\n",
       "            'resize: both;'\n",
       "    );\n",
       "\n",
       "    function on_keyboard_event_closure(name) {\n",
       "        return function (event) {\n",
       "            return fig.key_event(event, name);\n",
       "        };\n",
       "    }\n",
       "\n",
       "    canvas_div.addEventListener(\n",
       "        'keydown',\n",
       "        on_keyboard_event_closure('key_press')\n",
       "    );\n",
       "    canvas_div.addEventListener(\n",
       "        'keyup',\n",
       "        on_keyboard_event_closure('key_release')\n",
       "    );\n",
       "\n",
       "    this._canvas_extra_style(canvas_div);\n",
       "    this.root.appendChild(canvas_div);\n",
       "\n",
       "    var canvas = (this.canvas = document.createElement('canvas'));\n",
       "    canvas.classList.add('mpl-canvas');\n",
       "    canvas.setAttribute('style', 'box-sizing: content-box;');\n",
       "\n",
       "    this.context = canvas.getContext('2d');\n",
       "\n",
       "    var backingStore =\n",
       "        this.context.backingStorePixelRatio ||\n",
       "        this.context.webkitBackingStorePixelRatio ||\n",
       "        this.context.mozBackingStorePixelRatio ||\n",
       "        this.context.msBackingStorePixelRatio ||\n",
       "        this.context.oBackingStorePixelRatio ||\n",
       "        this.context.backingStorePixelRatio ||\n",
       "        1;\n",
       "\n",
       "    this.ratio = (window.devicePixelRatio || 1) / backingStore;\n",
       "\n",
       "    var rubberband_canvas = (this.rubberband_canvas = document.createElement(\n",
       "        'canvas'\n",
       "    ));\n",
       "    rubberband_canvas.setAttribute(\n",
       "        'style',\n",
       "        'box-sizing: content-box; position: absolute; left: 0; top: 0; z-index: 1;'\n",
       "    );\n",
       "\n",
       "    // Apply a ponyfill if ResizeObserver is not implemented by browser.\n",
       "    if (this.ResizeObserver === undefined) {\n",
       "        if (window.ResizeObserver !== undefined) {\n",
       "            this.ResizeObserver = window.ResizeObserver;\n",
       "        } else {\n",
       "            var obs = _JSXTOOLS_RESIZE_OBSERVER({});\n",
       "            this.ResizeObserver = obs.ResizeObserver;\n",
       "        }\n",
       "    }\n",
       "\n",
       "    this.resizeObserverInstance = new this.ResizeObserver(function (entries) {\n",
       "        var nentries = entries.length;\n",
       "        for (var i = 0; i < nentries; i++) {\n",
       "            var entry = entries[i];\n",
       "            var width, height;\n",
       "            if (entry.contentBoxSize) {\n",
       "                if (entry.contentBoxSize instanceof Array) {\n",
       "                    // Chrome 84 implements new version of spec.\n",
       "                    width = entry.contentBoxSize[0].inlineSize;\n",
       "                    height = entry.contentBoxSize[0].blockSize;\n",
       "                } else {\n",
       "                    // Firefox implements old version of spec.\n",
       "                    width = entry.contentBoxSize.inlineSize;\n",
       "                    height = entry.contentBoxSize.blockSize;\n",
       "                }\n",
       "            } else {\n",
       "                // Chrome <84 implements even older version of spec.\n",
       "                width = entry.contentRect.width;\n",
       "                height = entry.contentRect.height;\n",
       "            }\n",
       "\n",
       "            // Keep the size of the canvas and rubber band canvas in sync with\n",
       "            // the canvas container.\n",
       "            if (entry.devicePixelContentBoxSize) {\n",
       "                // Chrome 84 implements new version of spec.\n",
       "                canvas.setAttribute(\n",
       "                    'width',\n",
       "                    entry.devicePixelContentBoxSize[0].inlineSize\n",
       "                );\n",
       "                canvas.setAttribute(\n",
       "                    'height',\n",
       "                    entry.devicePixelContentBoxSize[0].blockSize\n",
       "                );\n",
       "            } else {\n",
       "                canvas.setAttribute('width', width * fig.ratio);\n",
       "                canvas.setAttribute('height', height * fig.ratio);\n",
       "            }\n",
       "            canvas.setAttribute(\n",
       "                'style',\n",
       "                'width: ' + width + 'px; height: ' + height + 'px;'\n",
       "            );\n",
       "\n",
       "            rubberband_canvas.setAttribute('width', width);\n",
       "            rubberband_canvas.setAttribute('height', height);\n",
       "\n",
       "            // And update the size in Python. We ignore the initial 0/0 size\n",
       "            // that occurs as the element is placed into the DOM, which should\n",
       "            // otherwise not happen due to the minimum size styling.\n",
       "            if (fig.ws.readyState == 1 && width != 0 && height != 0) {\n",
       "                fig.request_resize(width, height);\n",
       "            }\n",
       "        }\n",
       "    });\n",
       "    this.resizeObserverInstance.observe(canvas_div);\n",
       "\n",
       "    function on_mouse_event_closure(name) {\n",
       "        return function (event) {\n",
       "            return fig.mouse_event(event, name);\n",
       "        };\n",
       "    }\n",
       "\n",
       "    rubberband_canvas.addEventListener(\n",
       "        'mousedown',\n",
       "        on_mouse_event_closure('button_press')\n",
       "    );\n",
       "    rubberband_canvas.addEventListener(\n",
       "        'mouseup',\n",
       "        on_mouse_event_closure('button_release')\n",
       "    );\n",
       "    rubberband_canvas.addEventListener(\n",
       "        'dblclick',\n",
       "        on_mouse_event_closure('dblclick')\n",
       "    );\n",
       "    // Throttle sequential mouse events to 1 every 20ms.\n",
       "    rubberband_canvas.addEventListener(\n",
       "        'mousemove',\n",
       "        on_mouse_event_closure('motion_notify')\n",
       "    );\n",
       "\n",
       "    rubberband_canvas.addEventListener(\n",
       "        'mouseenter',\n",
       "        on_mouse_event_closure('figure_enter')\n",
       "    );\n",
       "    rubberband_canvas.addEventListener(\n",
       "        'mouseleave',\n",
       "        on_mouse_event_closure('figure_leave')\n",
       "    );\n",
       "\n",
       "    canvas_div.addEventListener('wheel', function (event) {\n",
       "        if (event.deltaY < 0) {\n",
       "            event.step = 1;\n",
       "        } else {\n",
       "            event.step = -1;\n",
       "        }\n",
       "        on_mouse_event_closure('scroll')(event);\n",
       "    });\n",
       "\n",
       "    canvas_div.appendChild(canvas);\n",
       "    canvas_div.appendChild(rubberband_canvas);\n",
       "\n",
       "    this.rubberband_context = rubberband_canvas.getContext('2d');\n",
       "    this.rubberband_context.strokeStyle = '#000000';\n",
       "\n",
       "    this._resize_canvas = function (width, height, forward) {\n",
       "        if (forward) {\n",
       "            canvas_div.style.width = width + 'px';\n",
       "            canvas_div.style.height = height + 'px';\n",
       "        }\n",
       "    };\n",
       "\n",
       "    // Disable right mouse context menu.\n",
       "    this.rubberband_canvas.addEventListener('contextmenu', function (_e) {\n",
       "        event.preventDefault();\n",
       "        return false;\n",
       "    });\n",
       "\n",
       "    function set_focus() {\n",
       "        canvas.focus();\n",
       "        canvas_div.focus();\n",
       "    }\n",
       "\n",
       "    window.setTimeout(set_focus, 100);\n",
       "};\n",
       "\n",
       "mpl.figure.prototype._init_toolbar = function () {\n",
       "    var fig = this;\n",
       "\n",
       "    var toolbar = document.createElement('div');\n",
       "    toolbar.classList = 'mpl-toolbar';\n",
       "    this.root.appendChild(toolbar);\n",
       "\n",
       "    function on_click_closure(name) {\n",
       "        return function (_event) {\n",
       "            return fig.toolbar_button_onclick(name);\n",
       "        };\n",
       "    }\n",
       "\n",
       "    function on_mouseover_closure(tooltip) {\n",
       "        return function (event) {\n",
       "            if (!event.currentTarget.disabled) {\n",
       "                return fig.toolbar_button_onmouseover(tooltip);\n",
       "            }\n",
       "        };\n",
       "    }\n",
       "\n",
       "    fig.buttons = {};\n",
       "    var buttonGroup = document.createElement('div');\n",
       "    buttonGroup.classList = 'mpl-button-group';\n",
       "    for (var toolbar_ind in mpl.toolbar_items) {\n",
       "        var name = mpl.toolbar_items[toolbar_ind][0];\n",
       "        var tooltip = mpl.toolbar_items[toolbar_ind][1];\n",
       "        var image = mpl.toolbar_items[toolbar_ind][2];\n",
       "        var method_name = mpl.toolbar_items[toolbar_ind][3];\n",
       "\n",
       "        if (!name) {\n",
       "            /* Instead of a spacer, we start a new button group. */\n",
       "            if (buttonGroup.hasChildNodes()) {\n",
       "                toolbar.appendChild(buttonGroup);\n",
       "            }\n",
       "            buttonGroup = document.createElement('div');\n",
       "            buttonGroup.classList = 'mpl-button-group';\n",
       "            continue;\n",
       "        }\n",
       "\n",
       "        var button = (fig.buttons[name] = document.createElement('button'));\n",
       "        button.classList = 'mpl-widget';\n",
       "        button.setAttribute('role', 'button');\n",
       "        button.setAttribute('aria-disabled', 'false');\n",
       "        button.addEventListener('click', on_click_closure(method_name));\n",
       "        button.addEventListener('mouseover', on_mouseover_closure(tooltip));\n",
       "\n",
       "        var icon_img = document.createElement('img');\n",
       "        icon_img.src = '_images/' + image + '.png';\n",
       "        icon_img.srcset = '_images/' + image + '_large.png 2x';\n",
       "        icon_img.alt = tooltip;\n",
       "        button.appendChild(icon_img);\n",
       "\n",
       "        buttonGroup.appendChild(button);\n",
       "    }\n",
       "\n",
       "    if (buttonGroup.hasChildNodes()) {\n",
       "        toolbar.appendChild(buttonGroup);\n",
       "    }\n",
       "\n",
       "    var fmt_picker = document.createElement('select');\n",
       "    fmt_picker.classList = 'mpl-widget';\n",
       "    toolbar.appendChild(fmt_picker);\n",
       "    this.format_dropdown = fmt_picker;\n",
       "\n",
       "    for (var ind in mpl.extensions) {\n",
       "        var fmt = mpl.extensions[ind];\n",
       "        var option = document.createElement('option');\n",
       "        option.selected = fmt === mpl.default_extension;\n",
       "        option.innerHTML = fmt;\n",
       "        fmt_picker.appendChild(option);\n",
       "    }\n",
       "\n",
       "    var status_bar = document.createElement('span');\n",
       "    status_bar.classList = 'mpl-message';\n",
       "    toolbar.appendChild(status_bar);\n",
       "    this.message = status_bar;\n",
       "};\n",
       "\n",
       "mpl.figure.prototype.request_resize = function (x_pixels, y_pixels) {\n",
       "    // Request matplotlib to resize the figure. Matplotlib will then trigger a resize in the client,\n",
       "    // which will in turn request a refresh of the image.\n",
       "    this.send_message('resize', { width: x_pixels, height: y_pixels });\n",
       "};\n",
       "\n",
       "mpl.figure.prototype.send_message = function (type, properties) {\n",
       "    properties['type'] = type;\n",
       "    properties['figure_id'] = this.id;\n",
       "    this.ws.send(JSON.stringify(properties));\n",
       "};\n",
       "\n",
       "mpl.figure.prototype.send_draw_message = function () {\n",
       "    if (!this.waiting) {\n",
       "        this.waiting = true;\n",
       "        this.ws.send(JSON.stringify({ type: 'draw', figure_id: this.id }));\n",
       "    }\n",
       "};\n",
       "\n",
       "mpl.figure.prototype.handle_save = function (fig, _msg) {\n",
       "    var format_dropdown = fig.format_dropdown;\n",
       "    var format = format_dropdown.options[format_dropdown.selectedIndex].value;\n",
       "    fig.ondownload(fig, format);\n",
       "};\n",
       "\n",
       "mpl.figure.prototype.handle_resize = function (fig, msg) {\n",
       "    var size = msg['size'];\n",
       "    if (size[0] !== fig.canvas.width || size[1] !== fig.canvas.height) {\n",
       "        fig._resize_canvas(size[0], size[1], msg['forward']);\n",
       "        fig.send_message('refresh', {});\n",
       "    }\n",
       "};\n",
       "\n",
       "mpl.figure.prototype.handle_rubberband = function (fig, msg) {\n",
       "    var x0 = msg['x0'] / fig.ratio;\n",
       "    var y0 = (fig.canvas.height - msg['y0']) / fig.ratio;\n",
       "    var x1 = msg['x1'] / fig.ratio;\n",
       "    var y1 = (fig.canvas.height - msg['y1']) / fig.ratio;\n",
       "    x0 = Math.floor(x0) + 0.5;\n",
       "    y0 = Math.floor(y0) + 0.5;\n",
       "    x1 = Math.floor(x1) + 0.5;\n",
       "    y1 = Math.floor(y1) + 0.5;\n",
       "    var min_x = Math.min(x0, x1);\n",
       "    var min_y = Math.min(y0, y1);\n",
       "    var width = Math.abs(x1 - x0);\n",
       "    var height = Math.abs(y1 - y0);\n",
       "\n",
       "    fig.rubberband_context.clearRect(\n",
       "        0,\n",
       "        0,\n",
       "        fig.canvas.width / fig.ratio,\n",
       "        fig.canvas.height / fig.ratio\n",
       "    );\n",
       "\n",
       "    fig.rubberband_context.strokeRect(min_x, min_y, width, height);\n",
       "};\n",
       "\n",
       "mpl.figure.prototype.handle_figure_label = function (fig, msg) {\n",
       "    // Updates the figure title.\n",
       "    fig.header.textContent = msg['label'];\n",
       "};\n",
       "\n",
       "mpl.figure.prototype.handle_cursor = function (fig, msg) {\n",
       "    var cursor = msg['cursor'];\n",
       "    switch (cursor) {\n",
       "        case 0:\n",
       "            cursor = 'pointer';\n",
       "            break;\n",
       "        case 1:\n",
       "            cursor = 'default';\n",
       "            break;\n",
       "        case 2:\n",
       "            cursor = 'crosshair';\n",
       "            break;\n",
       "        case 3:\n",
       "            cursor = 'move';\n",
       "            break;\n",
       "    }\n",
       "    fig.rubberband_canvas.style.cursor = cursor;\n",
       "};\n",
       "\n",
       "mpl.figure.prototype.handle_message = function (fig, msg) {\n",
       "    fig.message.textContent = msg['message'];\n",
       "};\n",
       "\n",
       "mpl.figure.prototype.handle_draw = function (fig, _msg) {\n",
       "    // Request the server to send over a new figure.\n",
       "    fig.send_draw_message();\n",
       "};\n",
       "\n",
       "mpl.figure.prototype.handle_image_mode = function (fig, msg) {\n",
       "    fig.image_mode = msg['mode'];\n",
       "};\n",
       "\n",
       "mpl.figure.prototype.handle_history_buttons = function (fig, msg) {\n",
       "    for (var key in msg) {\n",
       "        if (!(key in fig.buttons)) {\n",
       "            continue;\n",
       "        }\n",
       "        fig.buttons[key].disabled = !msg[key];\n",
       "        fig.buttons[key].setAttribute('aria-disabled', !msg[key]);\n",
       "    }\n",
       "};\n",
       "\n",
       "mpl.figure.prototype.handle_navigate_mode = function (fig, msg) {\n",
       "    if (msg['mode'] === 'PAN') {\n",
       "        fig.buttons['Pan'].classList.add('active');\n",
       "        fig.buttons['Zoom'].classList.remove('active');\n",
       "    } else if (msg['mode'] === 'ZOOM') {\n",
       "        fig.buttons['Pan'].classList.remove('active');\n",
       "        fig.buttons['Zoom'].classList.add('active');\n",
       "    } else {\n",
       "        fig.buttons['Pan'].classList.remove('active');\n",
       "        fig.buttons['Zoom'].classList.remove('active');\n",
       "    }\n",
       "};\n",
       "\n",
       "mpl.figure.prototype.updated_canvas_event = function () {\n",
       "    // Called whenever the canvas gets updated.\n",
       "    this.send_message('ack', {});\n",
       "};\n",
       "\n",
       "// A function to construct a web socket function for onmessage handling.\n",
       "// Called in the figure constructor.\n",
       "mpl.figure.prototype._make_on_message_function = function (fig) {\n",
       "    return function socket_on_message(evt) {\n",
       "        if (evt.data instanceof Blob) {\n",
       "            var img = evt.data;\n",
       "            if (img.type !== 'image/png') {\n",
       "                /* FIXME: We get \"Resource interpreted as Image but\n",
       "                 * transferred with MIME type text/plain:\" errors on\n",
       "                 * Chrome.  But how to set the MIME type?  It doesn't seem\n",
       "                 * to be part of the websocket stream */\n",
       "                img.type = 'image/png';\n",
       "            }\n",
       "\n",
       "            /* Free the memory for the previous frames */\n",
       "            if (fig.imageObj.src) {\n",
       "                (window.URL || window.webkitURL).revokeObjectURL(\n",
       "                    fig.imageObj.src\n",
       "                );\n",
       "            }\n",
       "\n",
       "            fig.imageObj.src = (window.URL || window.webkitURL).createObjectURL(\n",
       "                img\n",
       "            );\n",
       "            fig.updated_canvas_event();\n",
       "            fig.waiting = false;\n",
       "            return;\n",
       "        } else if (\n",
       "            typeof evt.data === 'string' &&\n",
       "            evt.data.slice(0, 21) === 'data:image/png;base64'\n",
       "        ) {\n",
       "            fig.imageObj.src = evt.data;\n",
       "            fig.updated_canvas_event();\n",
       "            fig.waiting = false;\n",
       "            return;\n",
       "        }\n",
       "\n",
       "        var msg = JSON.parse(evt.data);\n",
       "        var msg_type = msg['type'];\n",
       "\n",
       "        // Call the  \"handle_{type}\" callback, which takes\n",
       "        // the figure and JSON message as its only arguments.\n",
       "        try {\n",
       "            var callback = fig['handle_' + msg_type];\n",
       "        } catch (e) {\n",
       "            console.log(\n",
       "                \"No handler for the '\" + msg_type + \"' message type: \",\n",
       "                msg\n",
       "            );\n",
       "            return;\n",
       "        }\n",
       "\n",
       "        if (callback) {\n",
       "            try {\n",
       "                // console.log(\"Handling '\" + msg_type + \"' message: \", msg);\n",
       "                callback(fig, msg);\n",
       "            } catch (e) {\n",
       "                console.log(\n",
       "                    \"Exception inside the 'handler_\" + msg_type + \"' callback:\",\n",
       "                    e,\n",
       "                    e.stack,\n",
       "                    msg\n",
       "                );\n",
       "            }\n",
       "        }\n",
       "    };\n",
       "};\n",
       "\n",
       "// from http://stackoverflow.com/questions/1114465/getting-mouse-location-in-canvas\n",
       "mpl.findpos = function (e) {\n",
       "    //this section is from http://www.quirksmode.org/js/events_properties.html\n",
       "    var targ;\n",
       "    if (!e) {\n",
       "        e = window.event;\n",
       "    }\n",
       "    if (e.target) {\n",
       "        targ = e.target;\n",
       "    } else if (e.srcElement) {\n",
       "        targ = e.srcElement;\n",
       "    }\n",
       "    if (targ.nodeType === 3) {\n",
       "        // defeat Safari bug\n",
       "        targ = targ.parentNode;\n",
       "    }\n",
       "\n",
       "    // pageX,Y are the mouse positions relative to the document\n",
       "    var boundingRect = targ.getBoundingClientRect();\n",
       "    var x = e.pageX - (boundingRect.left + document.body.scrollLeft);\n",
       "    var y = e.pageY - (boundingRect.top + document.body.scrollTop);\n",
       "\n",
       "    return { x: x, y: y };\n",
       "};\n",
       "\n",
       "/*\n",
       " * return a copy of an object with only non-object keys\n",
       " * we need this to avoid circular references\n",
       " * http://stackoverflow.com/a/24161582/3208463\n",
       " */\n",
       "function simpleKeys(original) {\n",
       "    return Object.keys(original).reduce(function (obj, key) {\n",
       "        if (typeof original[key] !== 'object') {\n",
       "            obj[key] = original[key];\n",
       "        }\n",
       "        return obj;\n",
       "    }, {});\n",
       "}\n",
       "\n",
       "mpl.figure.prototype.mouse_event = function (event, name) {\n",
       "    var canvas_pos = mpl.findpos(event);\n",
       "\n",
       "    if (name === 'button_press') {\n",
       "        this.canvas.focus();\n",
       "        this.canvas_div.focus();\n",
       "    }\n",
       "\n",
       "    var x = canvas_pos.x * this.ratio;\n",
       "    var y = canvas_pos.y * this.ratio;\n",
       "\n",
       "    this.send_message(name, {\n",
       "        x: x,\n",
       "        y: y,\n",
       "        button: event.button,\n",
       "        step: event.step,\n",
       "        guiEvent: simpleKeys(event),\n",
       "    });\n",
       "\n",
       "    /* This prevents the web browser from automatically changing to\n",
       "     * the text insertion cursor when the button is pressed.  We want\n",
       "     * to control all of the cursor setting manually through the\n",
       "     * 'cursor' event from matplotlib */\n",
       "    event.preventDefault();\n",
       "    return false;\n",
       "};\n",
       "\n",
       "mpl.figure.prototype._key_event_extra = function (_event, _name) {\n",
       "    // Handle any extra behaviour associated with a key event\n",
       "};\n",
       "\n",
       "mpl.figure.prototype.key_event = function (event, name) {\n",
       "    // Prevent repeat events\n",
       "    if (name === 'key_press') {\n",
       "        if (event.key === this._key) {\n",
       "            return;\n",
       "        } else {\n",
       "            this._key = event.key;\n",
       "        }\n",
       "    }\n",
       "    if (name === 'key_release') {\n",
       "        this._key = null;\n",
       "    }\n",
       "\n",
       "    var value = '';\n",
       "    if (event.ctrlKey && event.key !== 'Control') {\n",
       "        value += 'ctrl+';\n",
       "    }\n",
       "    else if (event.altKey && event.key !== 'Alt') {\n",
       "        value += 'alt+';\n",
       "    }\n",
       "    else if (event.shiftKey && event.key !== 'Shift') {\n",
       "        value += 'shift+';\n",
       "    }\n",
       "\n",
       "    value += 'k' + event.key;\n",
       "\n",
       "    this._key_event_extra(event, name);\n",
       "\n",
       "    this.send_message(name, { key: value, guiEvent: simpleKeys(event) });\n",
       "    return false;\n",
       "};\n",
       "\n",
       "mpl.figure.prototype.toolbar_button_onclick = function (name) {\n",
       "    if (name === 'download') {\n",
       "        this.handle_save(this, null);\n",
       "    } else {\n",
       "        this.send_message('toolbar_button', { name: name });\n",
       "    }\n",
       "};\n",
       "\n",
       "mpl.figure.prototype.toolbar_button_onmouseover = function (tooltip) {\n",
       "    this.message.textContent = tooltip;\n",
       "};\n",
       "\n",
       "///////////////// REMAINING CONTENT GENERATED BY embed_js.py /////////////////\n",
       "// prettier-ignore\n",
       "var _JSXTOOLS_RESIZE_OBSERVER=function(A){var t,i=new WeakMap,n=new WeakMap,a=new WeakMap,r=new WeakMap,o=new Set;function s(e){if(!(this instanceof s))throw new TypeError(\"Constructor requires 'new' operator\");i.set(this,e)}function h(){throw new TypeError(\"Function is not a constructor\")}function c(e,t,i,n){e=0 in arguments?Number(arguments[0]):0,t=1 in arguments?Number(arguments[1]):0,i=2 in arguments?Number(arguments[2]):0,n=3 in arguments?Number(arguments[3]):0,this.right=(this.x=this.left=e)+(this.width=i),this.bottom=(this.y=this.top=t)+(this.height=n),Object.freeze(this)}function d(){t=requestAnimationFrame(d);var s=new WeakMap,p=new Set;o.forEach((function(t){r.get(t).forEach((function(i){var r=t instanceof window.SVGElement,o=a.get(t),d=r?0:parseFloat(o.paddingTop),f=r?0:parseFloat(o.paddingRight),l=r?0:parseFloat(o.paddingBottom),u=r?0:parseFloat(o.paddingLeft),g=r?0:parseFloat(o.borderTopWidth),m=r?0:parseFloat(o.borderRightWidth),w=r?0:parseFloat(o.borderBottomWidth),b=u+f,F=d+l,v=(r?0:parseFloat(o.borderLeftWidth))+m,W=g+w,y=r?0:t.offsetHeight-W-t.clientHeight,E=r?0:t.offsetWidth-v-t.clientWidth,R=b+v,z=F+W,M=r?t.width:parseFloat(o.width)-R-E,O=r?t.height:parseFloat(o.height)-z-y;if(n.has(t)){var k=n.get(t);if(k[0]===M&&k[1]===O)return}n.set(t,[M,O]);var S=Object.create(h.prototype);S.target=t,S.contentRect=new c(u,d,M,O),s.has(i)||(s.set(i,[]),p.add(i)),s.get(i).push(S)}))})),p.forEach((function(e){i.get(e).call(e,s.get(e),e)}))}return s.prototype.observe=function(i){if(i instanceof window.Element){r.has(i)||(r.set(i,new Set),o.add(i),a.set(i,window.getComputedStyle(i)));var n=r.get(i);n.has(this)||n.add(this),cancelAnimationFrame(t),t=requestAnimationFrame(d)}},s.prototype.unobserve=function(i){if(i instanceof window.Element&&r.has(i)){var n=r.get(i);n.has(this)&&(n.delete(this),n.size||(r.delete(i),o.delete(i))),n.size||r.delete(i),o.size||cancelAnimationFrame(t)}},A.DOMRectReadOnly=c,A.ResizeObserver=s,A.ResizeObserverEntry=h,A}; // eslint-disable-line\n",
       "mpl.toolbar_items = [[\"Home\", \"Reset original view\", \"fa fa-home icon-home\", \"home\"], [\"Back\", \"Back to previous view\", \"fa fa-arrow-left icon-arrow-left\", \"back\"], [\"Forward\", \"Forward to next view\", \"fa fa-arrow-right icon-arrow-right\", \"forward\"], [\"\", \"\", \"\", \"\"], [\"Pan\", \"Left button pans, Right button zooms\\nx/y fixes axis, CTRL fixes aspect\", \"fa fa-arrows icon-move\", \"pan\"], [\"Zoom\", \"Zoom to rectangle\\nx/y fixes axis, CTRL fixes aspect\", \"fa fa-square-o icon-check-empty\", \"zoom\"], [\"\", \"\", \"\", \"\"], [\"Download\", \"Download plot\", \"fa fa-floppy-o icon-save\", \"download\"]];\n",
       "\n",
       "mpl.extensions = [\"eps\", \"jpeg\", \"pgf\", \"pdf\", \"png\", \"ps\", \"raw\", \"svg\", \"tif\"];\n",
       "\n",
       "mpl.default_extension = \"png\";/* global mpl */\n",
       "\n",
       "var comm_websocket_adapter = function (comm) {\n",
       "    // Create a \"websocket\"-like object which calls the given IPython comm\n",
       "    // object with the appropriate methods. Currently this is a non binary\n",
       "    // socket, so there is still some room for performance tuning.\n",
       "    var ws = {};\n",
       "\n",
       "    ws.binaryType = comm.kernel.ws.binaryType;\n",
       "    ws.readyState = comm.kernel.ws.readyState;\n",
       "    function updateReadyState(_event) {\n",
       "        if (comm.kernel.ws) {\n",
       "            ws.readyState = comm.kernel.ws.readyState;\n",
       "        } else {\n",
       "            ws.readyState = 3; // Closed state.\n",
       "        }\n",
       "    }\n",
       "    comm.kernel.ws.addEventListener('open', updateReadyState);\n",
       "    comm.kernel.ws.addEventListener('close', updateReadyState);\n",
       "    comm.kernel.ws.addEventListener('error', updateReadyState);\n",
       "\n",
       "    ws.close = function () {\n",
       "        comm.close();\n",
       "    };\n",
       "    ws.send = function (m) {\n",
       "        //console.log('sending', m);\n",
       "        comm.send(m);\n",
       "    };\n",
       "    // Register the callback with on_msg.\n",
       "    comm.on_msg(function (msg) {\n",
       "        //console.log('receiving', msg['content']['data'], msg);\n",
       "        var data = msg['content']['data'];\n",
       "        if (data['blob'] !== undefined) {\n",
       "            data = {\n",
       "                data: new Blob(msg['buffers'], { type: data['blob'] }),\n",
       "            };\n",
       "        }\n",
       "        // Pass the mpl event to the overridden (by mpl) onmessage function.\n",
       "        ws.onmessage(data);\n",
       "    });\n",
       "    return ws;\n",
       "};\n",
       "\n",
       "mpl.mpl_figure_comm = function (comm, msg) {\n",
       "    // This is the function which gets called when the mpl process\n",
       "    // starts-up an IPython Comm through the \"matplotlib\" channel.\n",
       "\n",
       "    var id = msg.content.data.id;\n",
       "    // Get hold of the div created by the display call when the Comm\n",
       "    // socket was opened in Python.\n",
       "    var element = document.getElementById(id);\n",
       "    var ws_proxy = comm_websocket_adapter(comm);\n",
       "\n",
       "    function ondownload(figure, _format) {\n",
       "        window.open(figure.canvas.toDataURL());\n",
       "    }\n",
       "\n",
       "    var fig = new mpl.figure(id, ws_proxy, ondownload, element);\n",
       "\n",
       "    // Call onopen now - mpl needs it, as it is assuming we've passed it a real\n",
       "    // web socket which is closed, not our websocket->open comm proxy.\n",
       "    ws_proxy.onopen();\n",
       "\n",
       "    fig.parent_element = element;\n",
       "    fig.cell_info = mpl.find_output_cell(\"<div id='\" + id + \"'></div>\");\n",
       "    if (!fig.cell_info) {\n",
       "        console.error('Failed to find cell for figure', id, fig);\n",
       "        return;\n",
       "    }\n",
       "    fig.cell_info[0].output_area.element.on(\n",
       "        'cleared',\n",
       "        { fig: fig },\n",
       "        fig._remove_fig_handler\n",
       "    );\n",
       "};\n",
       "\n",
       "mpl.figure.prototype.handle_close = function (fig, msg) {\n",
       "    var width = fig.canvas.width / fig.ratio;\n",
       "    fig.cell_info[0].output_area.element.off(\n",
       "        'cleared',\n",
       "        fig._remove_fig_handler\n",
       "    );\n",
       "    fig.resizeObserverInstance.unobserve(fig.canvas_div);\n",
       "\n",
       "    // Update the output cell to use the data from the current canvas.\n",
       "    fig.push_to_output();\n",
       "    var dataURL = fig.canvas.toDataURL();\n",
       "    // Re-enable the keyboard manager in IPython - without this line, in FF,\n",
       "    // the notebook keyboard shortcuts fail.\n",
       "    IPython.keyboard_manager.enable();\n",
       "    fig.parent_element.innerHTML =\n",
       "        '<img src=\"' + dataURL + '\" width=\"' + width + '\">';\n",
       "    fig.close_ws(fig, msg);\n",
       "};\n",
       "\n",
       "mpl.figure.prototype.close_ws = function (fig, msg) {\n",
       "    fig.send_message('closing', msg);\n",
       "    // fig.ws.close()\n",
       "};\n",
       "\n",
       "mpl.figure.prototype.push_to_output = function (_remove_interactive) {\n",
       "    // Turn the data on the canvas into data in the output cell.\n",
       "    var width = this.canvas.width / this.ratio;\n",
       "    var dataURL = this.canvas.toDataURL();\n",
       "    this.cell_info[1]['text/html'] =\n",
       "        '<img src=\"' + dataURL + '\" width=\"' + width + '\">';\n",
       "};\n",
       "\n",
       "mpl.figure.prototype.updated_canvas_event = function () {\n",
       "    // Tell IPython that the notebook contents must change.\n",
       "    IPython.notebook.set_dirty(true);\n",
       "    this.send_message('ack', {});\n",
       "    var fig = this;\n",
       "    // Wait a second, then push the new image to the DOM so\n",
       "    // that it is saved nicely (might be nice to debounce this).\n",
       "    setTimeout(function () {\n",
       "        fig.push_to_output();\n",
       "    }, 1000);\n",
       "};\n",
       "\n",
       "mpl.figure.prototype._init_toolbar = function () {\n",
       "    var fig = this;\n",
       "\n",
       "    var toolbar = document.createElement('div');\n",
       "    toolbar.classList = 'btn-toolbar';\n",
       "    this.root.appendChild(toolbar);\n",
       "\n",
       "    function on_click_closure(name) {\n",
       "        return function (_event) {\n",
       "            return fig.toolbar_button_onclick(name);\n",
       "        };\n",
       "    }\n",
       "\n",
       "    function on_mouseover_closure(tooltip) {\n",
       "        return function (event) {\n",
       "            if (!event.currentTarget.disabled) {\n",
       "                return fig.toolbar_button_onmouseover(tooltip);\n",
       "            }\n",
       "        };\n",
       "    }\n",
       "\n",
       "    fig.buttons = {};\n",
       "    var buttonGroup = document.createElement('div');\n",
       "    buttonGroup.classList = 'btn-group';\n",
       "    var button;\n",
       "    for (var toolbar_ind in mpl.toolbar_items) {\n",
       "        var name = mpl.toolbar_items[toolbar_ind][0];\n",
       "        var tooltip = mpl.toolbar_items[toolbar_ind][1];\n",
       "        var image = mpl.toolbar_items[toolbar_ind][2];\n",
       "        var method_name = mpl.toolbar_items[toolbar_ind][3];\n",
       "\n",
       "        if (!name) {\n",
       "            /* Instead of a spacer, we start a new button group. */\n",
       "            if (buttonGroup.hasChildNodes()) {\n",
       "                toolbar.appendChild(buttonGroup);\n",
       "            }\n",
       "            buttonGroup = document.createElement('div');\n",
       "            buttonGroup.classList = 'btn-group';\n",
       "            continue;\n",
       "        }\n",
       "\n",
       "        button = fig.buttons[name] = document.createElement('button');\n",
       "        button.classList = 'btn btn-default';\n",
       "        button.href = '#';\n",
       "        button.title = name;\n",
       "        button.innerHTML = '<i class=\"fa ' + image + ' fa-lg\"></i>';\n",
       "        button.addEventListener('click', on_click_closure(method_name));\n",
       "        button.addEventListener('mouseover', on_mouseover_closure(tooltip));\n",
       "        buttonGroup.appendChild(button);\n",
       "    }\n",
       "\n",
       "    if (buttonGroup.hasChildNodes()) {\n",
       "        toolbar.appendChild(buttonGroup);\n",
       "    }\n",
       "\n",
       "    // Add the status bar.\n",
       "    var status_bar = document.createElement('span');\n",
       "    status_bar.classList = 'mpl-message pull-right';\n",
       "    toolbar.appendChild(status_bar);\n",
       "    this.message = status_bar;\n",
       "\n",
       "    // Add the close button to the window.\n",
       "    var buttongrp = document.createElement('div');\n",
       "    buttongrp.classList = 'btn-group inline pull-right';\n",
       "    button = document.createElement('button');\n",
       "    button.classList = 'btn btn-mini btn-primary';\n",
       "    button.href = '#';\n",
       "    button.title = 'Stop Interaction';\n",
       "    button.innerHTML = '<i class=\"fa fa-power-off icon-remove icon-large\"></i>';\n",
       "    button.addEventListener('click', function (_evt) {\n",
       "        fig.handle_close(fig, {});\n",
       "    });\n",
       "    button.addEventListener(\n",
       "        'mouseover',\n",
       "        on_mouseover_closure('Stop Interaction')\n",
       "    );\n",
       "    buttongrp.appendChild(button);\n",
       "    var titlebar = this.root.querySelector('.ui-dialog-titlebar');\n",
       "    titlebar.insertBefore(buttongrp, titlebar.firstChild);\n",
       "};\n",
       "\n",
       "mpl.figure.prototype._remove_fig_handler = function (event) {\n",
       "    var fig = event.data.fig;\n",
       "    if (event.target !== this) {\n",
       "        // Ignore bubbled events from children.\n",
       "        return;\n",
       "    }\n",
       "    fig.close_ws(fig, {});\n",
       "};\n",
       "\n",
       "mpl.figure.prototype._root_extra_style = function (el) {\n",
       "    el.style.boxSizing = 'content-box'; // override notebook setting of border-box.\n",
       "};\n",
       "\n",
       "mpl.figure.prototype._canvas_extra_style = function (el) {\n",
       "    // this is important to make the div 'focusable\n",
       "    el.setAttribute('tabindex', 0);\n",
       "    // reach out to IPython and tell the keyboard manager to turn it's self\n",
       "    // off when our div gets focus\n",
       "\n",
       "    // location in version 3\n",
       "    if (IPython.notebook.keyboard_manager) {\n",
       "        IPython.notebook.keyboard_manager.register_events(el);\n",
       "    } else {\n",
       "        // location in version 2\n",
       "        IPython.keyboard_manager.register_events(el);\n",
       "    }\n",
       "};\n",
       "\n",
       "mpl.figure.prototype._key_event_extra = function (event, _name) {\n",
       "    var manager = IPython.notebook.keyboard_manager;\n",
       "    if (!manager) {\n",
       "        manager = IPython.keyboard_manager;\n",
       "    }\n",
       "\n",
       "    // Check for shift+enter\n",
       "    if (event.shiftKey && event.which === 13) {\n",
       "        this.canvas_div.blur();\n",
       "        // select the cell after this one\n",
       "        var index = IPython.notebook.find_cell_index(this.cell_info[0]);\n",
       "        IPython.notebook.select(index + 1);\n",
       "    }\n",
       "};\n",
       "\n",
       "mpl.figure.prototype.handle_save = function (fig, _msg) {\n",
       "    fig.ondownload(fig, null);\n",
       "};\n",
       "\n",
       "mpl.find_output_cell = function (html_output) {\n",
       "    // Return the cell and output element which can be found *uniquely* in the notebook.\n",
       "    // Note - this is a bit hacky, but it is done because the \"notebook_saving.Notebook\"\n",
       "    // IPython event is triggered only after the cells have been serialised, which for\n",
       "    // our purposes (turning an active figure into a static one), is too late.\n",
       "    var cells = IPython.notebook.get_cells();\n",
       "    var ncells = cells.length;\n",
       "    for (var i = 0; i < ncells; i++) {\n",
       "        var cell = cells[i];\n",
       "        if (cell.cell_type === 'code') {\n",
       "            for (var j = 0; j < cell.output_area.outputs.length; j++) {\n",
       "                var data = cell.output_area.outputs[j];\n",
       "                if (data.data) {\n",
       "                    // IPython >= 3 moved mimebundle to data attribute of output\n",
       "                    data = data.data;\n",
       "                }\n",
       "                if (data['text/html'] === html_output) {\n",
       "                    return [cell, data, j];\n",
       "                }\n",
       "            }\n",
       "        }\n",
       "    }\n",
       "};\n",
       "\n",
       "// Register the function which deals with the matplotlib target/channel.\n",
       "// The kernel may be null if the page has been refreshed.\n",
       "if (IPython.notebook.kernel !== null) {\n",
       "    IPython.notebook.kernel.comm_manager.register_target(\n",
       "        'matplotlib',\n",
       "        mpl.mpl_figure_comm\n",
       "    );\n",
       "}\n"
      ],
      "text/plain": [
       "<IPython.core.display.Javascript object>"
      ]
     },
     "metadata": {},
     "output_type": "display_data"
    },
    {
     "data": {
      "text/html": [
       "<img src=\"data:image/png;base64,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\" width=\"1249.92\">"
      ],
      "text/plain": [
       "<IPython.core.display.HTML object>"
      ]
     },
     "metadata": {},
     "output_type": "display_data"
    }
   ],
   "source": [
    "x = np.arange(-1, 3, 0.5)\n",
    "y = np.arange(-1, 3, 0.5)\n",
    "X, Y = np.meshgrid(x, y)\n",
    "# print(np.meshgrid(x, y))\n",
    "# print(type(X)) # array\n",
    "Z1 = 2*X - Y -1\n",
    "Z2 = (-X - Y + 2)/2\n",
    "Z3 = 7*X - 2*Y - 5\n",
    "\n",
    "fig = plt.figure()\n",
    "ax1 = Axes3D(fig, auto_add_to_figure=False)\n",
    "fig.add_axes(ax1)\n",
    "ax1.plot_surface(X, Y, Z1, alpha = 0.5, color = 'red')\n",
    "ax1.plot_surface(X, Y, Z2, alpha = 0.5, color = 'blue')\n",
    "ax1.plot_surface(X, Y, Z3, alpha = 0.5, color = 'orange')\n",
    "ax1.set_xlabel('x axis')\n",
    "ax1.set_ylabel('y axis')\n",
    "ax1.set_zlabel('z axis')\n",
    "\n",
    "fig.set_figwidth(8) \n",
    "fig.set_figheight(6)"
   ]
  },
  {
   "cell_type": "markdown",
   "metadata": {},
   "source": [
    "### 從圖形來看，此三平面共同交於一條直線，所以我的程式碼判斷出這個線性方程組為無線多組解是正確的。"
   ]
  },
  {
   "cell_type": "markdown",
   "metadata": {},
   "source": [
    "## (2)高斯消去法"
   ]
  },
  {
   "cell_type": "markdown",
   "metadata": {},
   "source": [
    "### 畢竟高斯消去法是$LU$分解重要的一環，而我又討論到線性方程組的求解，那就不能不提它了。其實在曾正男教授講解$LU$分解法前，他就有另外做了一個高斯消去法的教學影片，可見它的重要性。而教授同樣在影片最後面附上他所寫的程式碼，下面我同樣會對教授的程式碼進行修改。"
   ]
  },
  {
   "cell_type": "markdown",
   "metadata": {},
   "source": [
    "### 我在先前測試的時候發現教授的程式碼有與$LU$分解的程式碼相似的問題，只要主對角線上很多$0$的時候就容易發生問題。其實教授也有提到，他寫的程式碼沒辦法解出所有的線性方程組。所以，我想說，既然教授都寫到這裡了，剩下的部分為什麼不直接完成呢?$\\;$於是，我修改了教授的程式碼，使其能正確地求出解。"
   ]
  },
  {
   "cell_type": "markdown",
   "metadata": {},
   "source": [
    "## [曾正男教授的高斯消去法教學影片連結](https://www.youtube.com/watch?v=HWNgsIRt_oM)"
   ]
  },
  {
   "cell_type": "markdown",
   "metadata": {},
   "source": [
    "## <1> 教授寫的程式碼(有的註解是我自己加的，方便我記錄及理解)"
   ]
  },
  {
   "cell_type": "code",
   "execution_count": 198,
   "metadata": {},
   "outputs": [],
   "source": [
    "import numpy as np"
   ]
  },
  {
   "cell_type": "code",
   "execution_count": 199,
   "metadata": {},
   "outputs": [],
   "source": [
    "def Gauss_Elimination_1(A, b):\n",
    "    m, n = A.shape # array(matrix).shape 可以看array(matrix)的形狀 ; m-->rows ; n-->columns\n",
    "    R = np.mat(np.zeros([m, n+1])) \n",
    "    # R is the reduced row echelon form-->簡化後的列階梯形矩陣 ; n+1-->要在A矩陣中放入b, 即改成增廣矩陣\n",
    "    R[:,:n] = A # [rows, columns] ; [:, :n]-->rows:all ; cloloumns:0 ~ (n-1)\n",
    "    R[:,n] = b # [rows, columns] ; [:, n]-->rows:all ; cloloumn:n\n",
    "    \n",
    "    for i in range(m):\n",
    "        # find maximal element in the column i\n",
    "        maxEc = abs(R[i, i]) # maxEc為 A矩陣對角線上的值\n",
    "        maxRow = i\n",
    "        for k in range(i+1, m):\n",
    "            if abs(R[k, i]) > maxEc:\n",
    "                maxEc = abs(R[k, i])\n",
    "                maxRow = k\n",
    "                \n",
    "        # swap maximum row with current row\n",
    "        R[[i, maxRow], i:] = R[[maxRow, i], i:] \n",
    "        # [rows, columns] ; 第 i 列與第 maxRow 列互換 , 從該列的第 i 行開始(省略前面從第 0 行到第 (i-1)行的互換 ∵ 都是 0, 不用互換) \n",
    "        \n",
    "        # make all rows below this one to 0\n",
    "        for k in range(i+1, m):\n",
    "            c = -float(R[k, i])/R[i, i] # float要加, 避免發生計算錯誤\n",
    "            R[k, i:] = R[k, i:] + c*R[i, i:]\n",
    "    # solve equation for an upper triangular matrix(the numbers in the lower triangular matrix are all solved to 0)\n",
    "    x = np.mat(np.zeros([m, 1]))\n",
    "    for i in range(m-1, -1, -1):\n",
    "    # range(m-1, -1, -1)-->(m-1) ~ 0\n",
    "        x[i] = float(R[i, -1])/R[i, i] # 最後一行(b矩陣) / 對角線上對應的變數係數 [一元一次方程式]\n",
    "        # x[i]即是[i][0](只有一行不一定要寫) ; np.mat的形式可以用index去改變數值 \n",
    "        # R[i][i]在矩陣的對角線上,不包含矩陣 b的部分, 只有矩陣 A\n",
    "        \n",
    "        # 事實上 , 上三角不會被換成 0 最終目標是解出未知數 , \n",
    "        # 所以從最右列的最下面那行的一元一次方程式開始往上代入 , 以求出上面的其他未知數\n",
    "        for k in range(i-1, -1, -1):  \n",
    "        # range(i-1, -1, -1)-->(i-1) ~ 0\n",
    "            R[k, -1] -= R[k, i]*x[i] \n",
    "                     \n",
    "    return x "
   ]
  },
  {
   "cell_type": "markdown",
   "metadata": {},
   "source": [
    "## <2> 我修改後的的程式碼"
   ]
  },
  {
   "cell_type": "code",
   "execution_count": 200,
   "metadata": {},
   "outputs": [],
   "source": [
    "import numpy as np\n",
    "import sympy as sp"
   ]
  },
  {
   "cell_type": "code",
   "execution_count": 201,
   "metadata": {},
   "outputs": [],
   "source": [
    "def Gauss_Elimination_2(A, b):\n",
    "    m, n = A.shape\n",
    "    # Gauss Elimination(all contents below this line)\n",
    "    R = sp.Matrix(np.zeros([m, n+1]))\n",
    "    R[:, :n] = A\n",
    "    R[:,  n] = b\n",
    "    for k in R:\n",
    "        k = sp.Rational(k).limit_denominator()\n",
    "    \n",
    "    for i in range(m):\n",
    "        for v in range(i+1, m):\n",
    "            if R[i, i] == 0:\n",
    "                if R[v, i] != 0:\n",
    "                    R = np.mat(R)\n",
    "                    R[[v, i], :] = R[[i, v], :]\n",
    "                    R = sp.Matrix(R)\n",
    "                        \n",
    "        for h in range(i+1, m):\n",
    "            if R[i, i] == 0:\n",
    "                continue\n",
    "            c = R[h, i]/R[i, i]\n",
    "            R[h, :] = R[h, :] - c*R[i, :]\n",
    "    x = sp.zeros(m, 1) \n",
    "    for z in range(m-1, -1, -1):\n",
    "    # (m-1) ~ 0; index = (-1) --> the last one\n",
    "        x[z] = R[z, -1] / R[z, z]\n",
    "        for y in range(z-1, -1, -1):\n",
    "            R[y, -1] -= R[y, z] * x[z] \n",
    "        # 倒車往上消去未知數(先把A矩陣在主對角線下的元素全部消成0, \n",
    "        # 然後解好最下面的一元方程式, 往上代入二元方程式, 三元方程式, ...\n",
    "    \n",
    "\n",
    "        \n",
    "    return x"
   ]
  },
  {
   "cell_type": "markdown",
   "metadata": {},
   "source": [
    "### 下面我用和上面測試「恰有一解」時，一模一樣的方程組，比較我和教授的程式碼計算出來的答案有什麼不同"
   ]
  },
  {
   "cell_type": "markdown",
   "metadata": {},
   "source": [
    "###   $\\begin{cases}85x+69y-34z=120\\\\69x-85y+47z=10 \\;\\;\\;--→\\\\23x-200y-21z=-23\\end{cases} \\; \\left[\\begin{matrix}85 & 69 & -34\\\\69 & -85 & 47\\\\23 & -200 & -21\\end{matrix}\\right]  \\left[\\begin{matrix}x\\\\y\\\\z\\end{matrix}\\right]  =  \\left[\\begin{matrix}120\\\\10\\\\-23\\end{matrix}\\right]$"
   ]
  },
  {
   "cell_type": "code",
   "execution_count": 202,
   "metadata": {},
   "outputs": [],
   "source": [
    "from sympy.abc import x, y, z"
   ]
  },
  {
   "cell_type": "code",
   "execution_count": 203,
   "metadata": {},
   "outputs": [],
   "source": [
    "from IPython.display import display, Markdown"
   ]
  },
  {
   "cell_type": "code",
   "execution_count": 204,
   "metadata": {},
   "outputs": [
    {
     "data": {
      "text/markdown": [
       "### $A\\;=\\left[\\begin{matrix}85 & 69 & -34\\\\69 & -85 & 47\\\\23 & -200 & -21\\end{matrix}\\right],\\;x(matrix)\\;=\\left[\\begin{matrix}x\\\\y\\\\z\\end{matrix}\\right],\\;b\\;=\\left[\\begin{matrix}120\\\\10\\\\-23\\end{matrix}\\right]$"
      ],
      "text/plain": [
       "<IPython.core.display.Markdown object>"
      ]
     },
     "metadata": {},
     "output_type": "display_data"
    }
   ],
   "source": [
    "A = sp.Matrix([[85, 69, -34], \n",
    "               [69, -85, 47], \n",
    "               [23, -200, -21]])\n",
    "x_matrix = sp.Matrix([[x],\n",
    "                      [y], \n",
    "                      [z]])\n",
    "b = sp.Matrix([[120], \n",
    "               [10], \n",
    "               [-23]])\n",
    "\n",
    "a = '### $'+'A\\;=' +  sp.latex(A) + ',\\;' + 'x(matrix)\\;=' + sp.latex(x_matrix) + ',\\;' + 'b\\;=' +  sp.latex(b) + '$'\n",
    "display(Markdown(a))"
   ]
  },
  {
   "cell_type": "markdown",
   "metadata": {},
   "source": [
    "## 教授的程式碼計算的結果(為了清楚表示數學式，我將教授輸出的$x$矩陣從$np.mat( )$的形式切換成$sp.Matrix( )$的形式)"
   ]
  },
  {
   "cell_type": "code",
   "execution_count": 205,
   "metadata": {},
   "outputs": [
    {
     "data": {
      "text/markdown": [
       "### $x_1\\;=\\left[\\begin{matrix}0.927060093912076\\\\0.287569247885342\\\\-0.628165115099557\\end{matrix}\\right],\\;Ax_1\\;=\\left[\\begin{matrix}120.0\\\\9.99999999999999\\\\-23.0\\end{matrix}\\right],\\;b\\;=\\left[\\begin{matrix}120\\\\10\\\\-23\\end{matrix}\\right]\\;→Ax_1 ≠ b $"
      ],
      "text/plain": [
       "<IPython.core.display.Markdown object>"
      ]
     },
     "metadata": {},
     "output_type": "display_data"
    }
   ],
   "source": [
    "x1 = Gauss_Elimination_1(A, b)\n",
    "x1 = sp.Matrix(x1)\n",
    "a1 = '### $'+'x_1\\;=' + sp.latex(x1) + ',\\;' + 'Ax_1\\;=' \n",
    "a2 = sp.latex(A*x1) + ',\\;' + 'b\\;=' + sp.latex(b) + '\\;→' + 'Ax_1 ≠ b '+'$'\n",
    "a3 = a1 + a2\n",
    "display(Markdown(a3))"
   ]
  },
  {
   "cell_type": "markdown",
   "metadata": {},
   "source": [
    "## 我的程式碼計算的結果(高斯消去法, 此處我修改後的程式碼)"
   ]
  },
  {
   "cell_type": "code",
   "execution_count": 206,
   "metadata": {},
   "outputs": [
    {
     "data": {
      "text/markdown": [
       "### $x_2\\;=\\left[\\begin{matrix}\\frac{1416571}{1528025}\\\\\\frac{439413}{1528025}\\\\- \\frac{959852}{1528025}\\end{matrix}\\right],\\;Ax_2\\;=\\left[\\begin{matrix}120\\\\10\\\\-23\\end{matrix}\\right],\\;b\\;=\\left[\\begin{matrix}120\\\\10\\\\-23\\end{matrix}\\right]→\\;Ax_2 = b  (成立)$"
      ],
      "text/plain": [
       "<IPython.core.display.Markdown object>"
      ]
     },
     "metadata": {},
     "output_type": "display_data"
    }
   ],
   "source": [
    "x2 = Gauss_Elimination_2(A, b)\n",
    "a1 = '### $'+'x_2\\;=' + sp.latex(x2) + ',\\;' + 'Ax_2\\;=' \n",
    "a2 = sp.latex(A*x2) + ',\\;' + 'b\\;=' + sp.latex(b) + '→\\;' + 'Ax_2 = b  (成立)'+'$'\n",
    "a3 = a1 + a2\n",
    "display(Markdown(a3))"
   ]
  },
  {
   "cell_type": "markdown",
   "metadata": {},
   "source": [
    "## 我的程式碼計算的結果(在1.克拉瑪公式那裡寫的程式碼)"
   ]
  },
  {
   "cell_type": "code",
   "execution_count": 207,
   "metadata": {},
   "outputs": [
    {
     "name": "stdout",
     "output_type": "stream",
     "text": [
      "恰有一解\n"
     ]
    },
    {
     "data": {
      "text/markdown": [
       "### $x_3\\;=\\left[\\begin{matrix}\\frac{1416571}{1528025}\\\\\\frac{439413}{1528025}\\\\- \\frac{959852}{1528025}\\end{matrix}\\right],\\;Ax_3\\;=\\left[\\begin{matrix}120\\\\10\\\\-23\\end{matrix}\\right],\\;b\\;=\\left[\\begin{matrix}120\\\\10\\\\-23\\end{matrix}\\right]→\\;Ax_3 = b  (成立)$"
      ],
      "text/plain": [
       "<IPython.core.display.Markdown object>"
      ]
     },
     "metadata": {},
     "output_type": "display_data"
    }
   ],
   "source": [
    "state, x3 = Cramer(A, b)\n",
    "print(state)\n",
    "a1 = '### $'+'x_3\\;=' + sp.latex(x3) + ',\\;' + 'Ax_3\\;=' \n",
    "a2 = sp.latex(A*x3) + ',\\;' + 'b\\;=' + sp.latex(b) + '→\\;' + 'Ax_3 = b  (成立)'+'$'\n",
    "a3 = a1 + a2\n",
    "display(Markdown(a3))"
   ]
  },
  {
   "cell_type": "markdown",
   "metadata": {},
   "source": [
    "### ↑$x_2 = x_3$，加上$x_3$這個答案在上面已經被驗證為正確的，所以我的程式碼計算出的$x_2$也是正確的。"
   ]
  },
  {
   "cell_type": "markdown",
   "metadata": {},
   "source": [
    "### 由上可知，儘管教授的程式碼在計算時沒有出現差錯，一樣能計算出答案。不過，因為每個解皆是非常複雜的小數，若用$「float」$的小數形式來計算，則$Python$在顯示小數的數值時，小數末幾位可能產生偏差，進而導致$A$矩陣與$x_1$矩陣相乘後，與$b$矩陣間有極小的誤差。而我主要用和上面，改良$LU$分解在計算時產生的誤差一樣的想法進行修改: 「用分數取代小數進行計算」，這樣可使解的各個數值皆為標準無偏差，也能使$Ax=b$的等式成立。"
   ]
  },
  {
   "cell_type": "markdown",
   "metadata": {},
   "source": [
    "## (3)矩陣計算直接求解"
   ]
  },
  {
   "cell_type": "markdown",
   "metadata": {},
   "source": [
    "### 如果說要偷懶一下，省去高斯消去法的計算，事實上只要確定$A$矩陣為可逆矩陣$(det(A)≠0)$，在$Ax=b$的兩邊同乘$A^{-1}$，然後就可得到:$x = A^{-1}b$，$「x$矩陣」中的元素即為解。下面我用和上面測試「恰有一解」時，一模一樣的方程組，看看使用矩陣計算求出來的解和我在上面算出來的正確答案是否相同。"
   ]
  },
  {
   "cell_type": "markdown",
   "metadata": {},
   "source": [
    "###   $\\begin{cases}85x+69y-34z=120\\\\69x-85y+47z=10 \\;\\;\\;--→\\\\23x-200y-21z=-23\\end{cases} \\; \\left[\\begin{matrix}85 & 69 & -34\\\\69 & -85 & 47\\\\23 & -200 & -21\\end{matrix}\\right]  \\left[\\begin{matrix}x\\\\y\\\\z\\end{matrix}\\right]  =  \\left[\\begin{matrix}120\\\\10\\\\-23\\end{matrix}\\right]$"
   ]
  },
  {
   "cell_type": "code",
   "execution_count": 208,
   "metadata": {},
   "outputs": [],
   "source": [
    "import numpy as np\n",
    "import sympy as sp"
   ]
  },
  {
   "cell_type": "code",
   "execution_count": 209,
   "metadata": {},
   "outputs": [],
   "source": [
    "from IPython.display import display, Markdown"
   ]
  },
  {
   "cell_type": "code",
   "execution_count": 210,
   "metadata": {},
   "outputs": [
    {
     "data": {
      "text/markdown": [
       "### $A\\;=\\left[\\begin{matrix}85 & 69 & -34\\\\69 & -85 & 47\\\\23 & -200 & -21\\end{matrix}\\right],\\;x(matrix)\\;=\\left[\\begin{matrix}x\\\\y\\\\z\\end{matrix}\\right],\\;b\\;=\\left[\\begin{matrix}120\\\\10\\\\-23\\end{matrix}\\right]$"
      ],
      "text/plain": [
       "<IPython.core.display.Markdown object>"
      ]
     },
     "metadata": {},
     "output_type": "display_data"
    }
   ],
   "source": [
    "A = sp.Matrix([[85, 69, -34], \n",
    "               [69, -85, 47], \n",
    "               [23, -200, -21]])\n",
    "x_matrix = sp.Matrix([[x],\n",
    "                      [y], \n",
    "                      [z]])\n",
    "b = sp.Matrix([[120], \n",
    "               [10], \n",
    "               [-23]])\n",
    "\n",
    "a = '### $'+'A\\;=' +  sp.latex(A) + ',\\;' + 'x(matrix)\\;=' + sp.latex(x_matrix) + ',\\;' + 'b\\;=' +  sp.latex(b) + '$'\n",
    "display(Markdown(a))"
   ]
  },
  {
   "cell_type": "markdown",
   "metadata": {},
   "source": [
    "## 我的程式碼計算的結果(矩陣直接計算)"
   ]
  },
  {
   "cell_type": "code",
   "execution_count": 211,
   "metadata": {},
   "outputs": [
    {
     "data": {
      "text/markdown": [
       "### $x_4\\;=\\left[\\begin{matrix}\\frac{1416571}{1528025}\\\\\\frac{439413}{1528025}\\\\- \\frac{959852}{1528025}\\end{matrix}\\right],\\;Ax_4\\;=\\left[\\begin{matrix}120\\\\10\\\\-23\\end{matrix}\\right],\\;b\\;=\\left[\\begin{matrix}120\\\\10\\\\-23\\end{matrix}\\right]→\\;Ax_4 = b  (成立)$"
      ],
      "text/plain": [
       "<IPython.core.display.Markdown object>"
      ]
     },
     "metadata": {},
     "output_type": "display_data"
    }
   ],
   "source": [
    "A1 = A.inv()\n",
    "x4 = A1 * b\n",
    "a1 = '### $'+'x_4\\;=' + sp.latex(x3) + ',\\;' + 'Ax_4\\;=' \n",
    "a2 = sp.latex(A*x4) + ',\\;' + 'b\\;=' + sp.latex(b) + '→\\;' + 'Ax_4 = b  (成立)'+'$'\n",
    "a3 = a1 + a2\n",
    "display(Markdown(a3))"
   ]
  },
  {
   "cell_type": "markdown",
   "metadata": {},
   "source": [
    "## 我的程式碼計算的結果(在1.克拉瑪公式那裡寫的程式碼)"
   ]
  },
  {
   "cell_type": "code",
   "execution_count": 212,
   "metadata": {},
   "outputs": [
    {
     "name": "stdout",
     "output_type": "stream",
     "text": [
      "恰有一解\n"
     ]
    },
    {
     "data": {
      "text/markdown": [
       "### $x_5\\;=\\left[\\begin{matrix}\\frac{1416571}{1528025}\\\\\\frac{439413}{1528025}\\\\- \\frac{959852}{1528025}\\end{matrix}\\right],\\;Ax_5\\;=\\left[\\begin{matrix}120\\\\10\\\\-23\\end{matrix}\\right],\\;b\\;=\\left[\\begin{matrix}120\\\\10\\\\-23\\end{matrix}\\right]→\\;Ax_5 = b  (成立)$"
      ],
      "text/plain": [
       "<IPython.core.display.Markdown object>"
      ]
     },
     "metadata": {},
     "output_type": "display_data"
    }
   ],
   "source": [
    "state, x5 = Cramer(A, b)\n",
    "print(state)\n",
    "a1 = '### $'+'x_5\\;=' + sp.latex(x5) + ',\\;' + 'Ax_5\\;=' \n",
    "a2 = sp.latex(A*x5) + ',\\;' + 'b\\;=' + sp.latex(b) + '→\\;' + 'Ax_5 = b  (成立)'+'$'\n",
    "a3 = a1 + a2\n",
    "display(Markdown(a3))"
   ]
  },
  {
   "cell_type": "markdown",
   "metadata": {},
   "source": [
    "## 我的程式碼計算的結果(在2.高斯消去法那裡寫的程式碼)"
   ]
  },
  {
   "cell_type": "code",
   "execution_count": 213,
   "metadata": {},
   "outputs": [
    {
     "data": {
      "text/markdown": [
       "### $x_6\\;=\\left[\\begin{matrix}\\frac{1416571}{1528025}\\\\\\frac{439413}{1528025}\\\\- \\frac{959852}{1528025}\\end{matrix}\\right],\\;Ax_6\\;=\\left[\\begin{matrix}120\\\\10\\\\-23\\end{matrix}\\right],\\;b\\;=\\left[\\begin{matrix}120\\\\10\\\\-23\\end{matrix}\\right]→\\;Ax_6 = b  (成立)$"
      ],
      "text/plain": [
       "<IPython.core.display.Markdown object>"
      ]
     },
     "metadata": {},
     "output_type": "display_data"
    }
   ],
   "source": [
    "x6 = Gauss_Elimination_2(A, b)\n",
    "a1 = '### $'+'x_6\\;=' + sp.latex(x6) + ',\\;' + 'Ax_6\\;=' \n",
    "a2 = sp.latex(A*x6) + ',\\;' + 'b\\;=' + sp.latex(b) + '→\\;' + 'Ax_6 = b  (成立)'+'$'\n",
    "a3 = a1 + a2\n",
    "display(Markdown(a3))"
   ]
  },
  {
   "cell_type": "markdown",
   "metadata": {},
   "source": [
    "### $↑x_4 = x_5 = x_6$，且由上可知，運用矩陣計算求出來的$x_4$與我利用克拉瑪公式所得的$x_5$及高斯消去法求得的$x_6$相同，且$x_5$和$x_6$在上面已經被驗證過是正確的，所以運用矩陣計算求出來的$x_4$也是正確的。"
   ]
  },
  {
   "cell_type": "code",
   "execution_count": null,
   "metadata": {},
   "outputs": [],
   "source": []
  }
 ],
 "metadata": {
  "kernelspec": {
   "display_name": "Python 3",
   "language": "python",
   "name": "python3"
  },
  "language_info": {
   "codemirror_mode": {
    "name": "ipython",
    "version": 3
   },
   "file_extension": ".py",
   "mimetype": "text/x-python",
   "name": "python",
   "nbconvert_exporter": "python",
   "pygments_lexer": "ipython3",
   "version": "3.8.8"
  }
 },
 "nbformat": 4,
 "nbformat_minor": 5
}
