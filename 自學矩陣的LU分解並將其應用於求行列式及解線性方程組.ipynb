{
 "cells": [
  {
   "cell_type": "markdown",
   "metadata": {},
   "source": [
    "# 自學矩陣的$LU$分解並將其應用於求行列式及解線性方程組"
   ]
  },
  {
   "cell_type": "markdown",
   "metadata": {},
   "source": [
    "## 前情提要，請點下面的連結(兩個連結的內容皆相同)"
   ]
  },
  {
   "cell_type": "markdown",
   "metadata": {},
   "source": [
    "## [LU分解學習紀錄連結1](https://nbviewer.org/github/maxjiang323/s/blob/main/LU%E5%88%86%E8%A7%A3%E5%AD%B8%E7%BF%92%E7%B4%80%E9%8C%84.ipynb)"
   ]
  },
  {
   "cell_type": "markdown",
   "metadata": {},
   "source": [
    "## [LU分解學習紀錄連結2](https://github.com/maxjiang323/s/blob/main/LU%E5%88%86%E8%A7%A3%E5%AD%B8%E7%BF%92%E7%B4%80%E9%8C%84.ipynb)"
   ]
  },
  {
   "cell_type": "markdown",
   "metadata": {},
   "source": [
    "### 在上面的筆記中，所有的程式碼我皆有測試過，只是當時僅用手寫的方式記錄下來。接下來，我要記錄我實作的部分，我會先寫下教授的程式碼，以及我第一、二次修改的程式碼，以幾個矩陣分別測試我和教授的程式碼的計算結果，並進行比較。"
   ]
  },
  {
   "cell_type": "markdown",
   "metadata": {},
   "source": [
    "# 1. $LU$分解法"
   ]
  },
  {
   "cell_type": "markdown",
   "metadata": {},
   "source": [
    "## (1)教授寫的程式碼(有的註解是我自己加的，方便我記錄及理解)"
   ]
  },
  {
   "cell_type": "markdown",
   "metadata": {},
   "source": [
    "### [曾正男教授的LU分解教學影片連結](https://www.youtube.com/watch?v=W1elv5pS9xg)"
   ]
  },
  {
   "cell_type": "code",
   "execution_count": 1,
   "metadata": {},
   "outputs": [],
   "source": [
    "import numpy as np"
   ]
  },
  {
   "cell_type": "code",
   "execution_count": 2,
   "metadata": {},
   "outputs": [],
   "source": [
    "def LU_1(A):\n",
    "    m, n = A.shape # array(matrix).shape 可以看array(matrix)的形狀 ; m-->rows ; n-->columns\n",
    "    U = A.copy()\n",
    "    L = np.mat(np.identity(m)) # L最初的型態為單位矩陣\n",
    "    P = L.copy()\n",
    "    \n",
    "    for i in range(m):\n",
    "        \n",
    "        maxEc = abs(U[i, i])\n",
    "        maxRow = i\n",
    "        for k in range(i+1, m):\n",
    "            if abs(U[k, i]) > maxEc:\n",
    "                maxEc = U[k, i]\n",
    "                maxRow = k\n",
    "        # swap maximum row with current row\n",
    "        # [rows, columns] ; 第 i 列與第 maxRow 列互換 \n",
    "        # 從該列的第 i 行開始(省略前面從第 0 行到第 (i-1)行的互換 ∵ 都是 0, 不用互換)\n",
    "        U[[i, maxRow], i:] = U[[maxRow, i], i:]\n",
    "        # [rows, columns] ; L矩陣要整行都互換, 而 P矩陣也要整列都互換\n",
    "        L[[i, maxRow], :] = L[[maxRow, i], :]\n",
    "        P[:, [i, maxRow]] = P[:, [maxRow, i]]\n",
    "        \n",
    "        # gauss elimination \n",
    "        for t in range(i+1, m):\n",
    "            c = -float(U[t, i])/U[i, i] # U[i, i]--> U矩陣對角線上的數值\n",
    "            # delete row t by i\n",
    "            U[t, i:] = U[t, i:] + c*U[i, i:] # 列運算\n",
    "            # delete column i by t\n",
    "            L[t:, i] = L[t:, i] - c*L[t:, t] # 行運算\n",
    "    return L, U, P"
   ]
  },
  {
   "cell_type": "markdown",
   "metadata": {},
   "source": [
    "## (2)我第一次修改後的程式碼"
   ]
  },
  {
   "cell_type": "code",
   "execution_count": 3,
   "metadata": {},
   "outputs": [],
   "source": [
    "import numpy as np"
   ]
  },
  {
   "cell_type": "code",
   "execution_count": 4,
   "metadata": {},
   "outputs": [],
   "source": [
    "def LU_2(A):\n",
    "    m, n = A.shape\n",
    "    U = np.array(A.copy())\n",
    "    L = np.mat(np.identity(m))\n",
    "    P = L.copy()\n",
    "    \n",
    "    for i in range(m):\n",
    "         for t in range(i, m-1): \n",
    "         # from the first row to (the second to last), from the second row to (the second to last)... \n",
    "            for h in range(t+1, m): \n",
    "            # from the second row to the last, from the third row to the last...\n",
    "                U = np.mat(U)\n",
    "                if U[t, i] == 0:\n",
    "                    continue\n",
    "                else:\n",
    "                    c = -(U[h ,i] / U[t, i])\n",
    "                    U[h, :] = U[h, :] + c * U[t,:]\n",
    "                    L[:, t] = L[:, t] - c * L[:, h]\n",
    "                \n",
    "                   \n",
    "    \n",
    "   \n",
    "         for k in range(i+1, m):\n",
    "            changeRow = i\n",
    "            U = np.array(U)\n",
    "            nonzero = np.count_nonzero(U, axis = 1) # row\n",
    "            if nonzero[k] > nonzero[i]:\n",
    "                changeRow = k\n",
    "                U = np.mat(U)\n",
    "                U[[changeRow, i], :] = U[[i, changeRow], :]\n",
    "                P[[changeRow, i], :] = P[[i, changeRow], :]\n",
    "                L[[changeRow, i], :] = L[[i, changeRow], :]\n",
    "                L[:, [changeRow, i]] = L[:, [i, changeRow]]\n",
    "                \n",
    "                \n",
    "    \n",
    "       \n",
    "    U = np.mat(U)\n",
    "    return L, U, P\n",
    "       "
   ]
  },
  {
   "cell_type": "markdown",
   "metadata": {},
   "source": [
    "## (3)我第二次修改後的程式碼"
   ]
  },
  {
   "cell_type": "code",
   "execution_count": 5,
   "metadata": {},
   "outputs": [],
   "source": [
    "import numpy as np"
   ]
  },
  {
   "cell_type": "code",
   "execution_count": 6,
   "metadata": {},
   "outputs": [],
   "source": [
    "def LU_3(A):\n",
    "    m, n = A.shape\n",
    "    U = A.copy()\n",
    "    U = U.astype('float64')\n",
    "    P = np.mat(np.identity(m))\n",
    "    L = P.copy()\n",
    "    \n",
    "    for i in range(m-1):\n",
    "        for x in range(i+1, m):\n",
    "            if U[i, i] == 0:\n",
    "                if U[x, i] != 0:\n",
    "                    U[[x, i], i:] = U[[i, x], i:]\n",
    "                    P[[x, i], :] = P[[i, x], :]\n",
    "                    L[[x, i], :] = L[[i, x], :]\n",
    "                    L[:, [x, i]] = L[:, [i, x]]\n",
    "        \n",
    "        for t in range(i+1, m):\n",
    "            if U[i, i] == 0:\n",
    "                continue\n",
    "            c = -(U[t, i]/U[i, i])\n",
    "            U[t, i:] = U[t, i:] + c*U[i, i:]\n",
    "            L[t, i] = L[t, i] - c*L[t, t]\n",
    "            \n",
    "    return L, U, P"
   ]
  },
  {
   "cell_type": "markdown",
   "metadata": {},
   "source": [
    "### 為了「清楚地表示數學式」，下面我不會使用$print$直接輸出矩陣及算式，我會將我和教授的輸出的矩陣從$numpy.mat( )$轉換成$sympy.Matrix( )$的形式($sympy$在後面我會提到) ，然後用$display$&$Markdown$這兩個函式輸出矩陣。\n",
    "### 註記:用$display$&$Markdown$取代$print$輸出矩陣及算式的原因是:用$display$&$Markdown$的話，輸出的字體較用$print$來得大且較工整，下面我舉個例子來比較兩者差異"
   ]
  },
  {
   "cell_type": "markdown",
   "metadata": {},
   "source": [
    "## 1.使用$print$輸出矩陣及算式"
   ]
  },
  {
   "cell_type": "code",
   "execution_count": 7,
   "metadata": {},
   "outputs": [],
   "source": [
    "import numpy as np"
   ]
  },
  {
   "cell_type": "code",
   "execution_count": 8,
   "metadata": {},
   "outputs": [
    {
     "name": "stdout",
     "output_type": "stream",
     "text": [
      "ss = \n",
      "[[1 2 3]\n",
      " [4 5 6]\n",
      " [7 8 9]]\n",
      "ss * I3 =[[1 2 3]\n",
      " [4 5 6]\n",
      " [7 8 9]][[1. 0. 0.]\n",
      " [0. 1. 0.]\n",
      " [0. 0. 1.]]=[[1. 2. 3.]\n",
      " [4. 5. 6.]\n",
      " [7. 8. 9.]]\n"
     ]
    }
   ],
   "source": [
    "ss = np.mat([[1, 2, 3],\n",
    "             [4, 5, 6],\n",
    "             [7, 8, 9]])\n",
    "print('ss = ')\n",
    "print(ss)\n",
    "\n",
    "print('ss * I3 =' + str(ss) + str(np.identity(3)) + '=' + str(ss*np.identity(3)))"
   ]
  },
  {
   "cell_type": "markdown",
   "metadata": {},
   "source": [
    "## 2.使用$display$&$Markdown$輸出矩陣及算式(先把矩陣轉換成$sympy.Matrix( )$的形式)"
   ]
  },
  {
   "cell_type": "code",
   "execution_count": 9,
   "metadata": {},
   "outputs": [],
   "source": [
    "from IPython.display import display, Markdown\n",
    "import numpy as np\n",
    "import sympy as sp"
   ]
  },
  {
   "cell_type": "code",
   "execution_count": 10,
   "metadata": {},
   "outputs": [
    {
     "data": {
      "text/markdown": [
       "### $ss =\\left[\\begin{matrix}1 & 2 & 3\\\\4 & 5 & 6\\\\7 & 8 & 9\\end{matrix}\\right]$"
      ],
      "text/plain": [
       "<IPython.core.display.Markdown object>"
      ]
     },
     "metadata": {},
     "output_type": "display_data"
    },
    {
     "data": {
      "text/markdown": [
       "### $ss * I_3  =\\left[\\begin{matrix}1 & 2 & 3\\\\4 & 5 & 6\\\\7 & 8 & 9\\end{matrix}\\right]\\left[\\begin{matrix}1 & 0 & 0\\\\0 & 1 & 0\\\\0 & 0 & 1\\end{matrix}\\right]=\\left[\\begin{matrix}1 & 2 & 3\\\\4 & 5 & 6\\\\7 & 8 & 9\\end{matrix}\\right]$"
      ],
      "text/plain": [
       "<IPython.core.display.Markdown object>"
      ]
     },
     "metadata": {},
     "output_type": "display_data"
    }
   ],
   "source": [
    "ss = np.mat([[1, 2, 3],\n",
    "             [4, 5, 6],\n",
    "             [7, 8, 9]])\n",
    "ss_1 = sp.Matrix(ss)\n",
    "\n",
    "a1 = '### $' + 'ss =' + sp.latex(ss_1) + '$'\n",
    "display(Markdown(a1))\n",
    "\n",
    "a2 = '### $' + 'ss * I_3  =' + sp.latex(ss_1) + sp.latex(sp.eye(3)) + '=' + sp.latex(ss_1 * sp.eye(3)) + '$'\n",
    "display(Markdown(a2))"
   ]
  },
  {
   "cell_type": "markdown",
   "metadata": {},
   "source": [
    "### 由上可見兩者之差異。因此，下面的矩陣及算式我將全部採用$display$&$Markdown$進行輸出(若矩陣的型態為$numpy.mat()$，我會將它先轉換成$sympy.Matrix()$的形式)"
   ]
  },
  {
   "cell_type": "markdown",
   "metadata": {},
   "source": [
    "### 接下來我會分別以一個 $4$ x $5$ 的矩陣$A$和 $5$ x $4$ 的矩陣$B$ 測試三個(包含教授的)不同的程式碼計算矩陣的 $LU$分解的結果，並測試該次$LU$分解後，矩陣$A$和矩陣$B$各自的$L$矩陣、$U$矩陣、$P$矩陣是否可以滿足: $PA = LU$ 還有 $PB = LU$。"
   ]
  },
  {
   "cell_type": "code",
   "execution_count": 11,
   "metadata": {},
   "outputs": [],
   "source": [
    "from IPython.display import display, Markdown"
   ]
  },
  {
   "cell_type": "code",
   "execution_count": 12,
   "metadata": {},
   "outputs": [
    {
     "data": {
      "text/markdown": [
       "### $A\\;=\\left[\\begin{matrix}4 & 6 & 2 & 0 & 1\\\\0 & 5 & -2 & -1 & 2\\\\12 & 38 & -2 & 0 & 3\\\\0 & 3 & 4 & 0 & 4\\end{matrix}\\right],\\;B\\;=\\left[\\begin{matrix}4 & 6 & 2 & 0\\\\0 & 5 & -2 & -1\\\\12 & 38 & -2 & 0\\\\0 & 3 & 4 & 0\\\\1 & 2 & 3 & 4\\end{matrix}\\right]$"
      ],
      "text/plain": [
       "<IPython.core.display.Markdown object>"
      ]
     },
     "metadata": {},
     "output_type": "display_data"
    }
   ],
   "source": [
    "A = np.mat([[4, 6, 2, 0, 1], \n",
    "            [0, 5, -2, -1, 2], \n",
    "            [12, 38, -2, 0, 3], \n",
    "            [0, 3, 4, 0, 4]])\n",
    "\n",
    "B = np.mat([[4, 6, 2, 0], \n",
    "            [0, 5, -2, -1], \n",
    "            [12, 38, -2, 0], \n",
    "            [0, 3, 4, 0], \n",
    "            [1, 2, 3, 4]])\n",
    "\n",
    "\n",
    "A_1 = sp.Matrix(A)\n",
    "B_1 = sp.Matrix(B)\n",
    "a = '### $'+'A\\;=' +  sp.latex(A_1) + ',\\;' +'B\\;=' +  sp.latex(B_1) + '$'\n",
    "display(Markdown(a))"
   ]
  },
  {
   "cell_type": "markdown",
   "metadata": {},
   "source": [
    "## 教授程式碼的計算結果"
   ]
  },
  {
   "cell_type": "code",
   "execution_count": 13,
   "metadata": {
    "scrolled": false
   },
   "outputs": [
    {
     "data": {
      "text/markdown": [
       "### $P\\;=\\left[\\begin{matrix}0.0 & 0.0 & 1.0 & 0.0\\\\0.0 & 0.0 & 0.0 & 1.0\\\\1.0 & 0.0 & 0.0 & 0.0\\\\0.0 & 1.0 & 0.0 & 0.0\\end{matrix}\\right],\\;A\\;=\\left[\\begin{matrix}4 & 6 & 2 & 0 & 1\\\\0 & 5 & -2 & -1 & 2\\\\12 & 38 & -2 & 0 & 3\\\\0 & 3 & 4 & 0 & 4\\end{matrix}\\right]$"
      ],
      "text/plain": [
       "<IPython.core.display.Markdown object>"
      ]
     },
     "metadata": {},
     "output_type": "display_data"
    },
    {
     "data": {
      "text/markdown": [
       "### $L\\;=\\left[\\begin{matrix}0.0 & 0.0 & 1.0 & 0.0\\\\0.0 & 0.0 & 0.0 & 1.0\\\\1.0 & 0.0 & 0.0 & 0.0\\\\0.0 & 1.0 & 0.0 & 0.0\\end{matrix}\\right],\\;U\\;=\\left[\\begin{matrix}12 & 38 & -2 & 0 & 3\\\\0 & 3 & 4 & 0 & 4\\\\0 & 0 & 10 & 0 & 8\\\\0 & 0 & 0 & -1 & 2\\end{matrix}\\right]$"
      ],
      "text/plain": [
       "<IPython.core.display.Markdown object>"
      ]
     },
     "metadata": {},
     "output_type": "display_data"
    },
    {
     "data": {
      "text/markdown": [
       "### $PA\\;=\\left[\\begin{matrix}12.0 & 38.0 & -2.0 & 0 & 3.0\\\\0 & 3.0 & 4.0 & 0 & 4.0\\\\4.0 & 6.0 & 2.0 & 0 & 1.0\\\\0 & 5.0 & -2.0 & -1.0 & 2.0\\end{matrix}\\right],\\;LU\\;=\\left[\\begin{matrix}0 & 0 & 10.0 & 0 & 8.0\\\\0 & 0 & 0 & -1.0 & 2.0\\\\12.0 & 38.0 & -2.0 & 0 & 3.0\\\\0 & 3.0 & 4.0 & 0 & 4.0\\end{matrix}\\right]$"
      ],
      "text/plain": [
       "<IPython.core.display.Markdown object>"
      ]
     },
     "metadata": {},
     "output_type": "display_data"
    }
   ],
   "source": [
    "L, U, P = LU_1(A)\n",
    "L_1 = sp.Matrix(L)\n",
    "U_1 = sp.Matrix(U)\n",
    "P_1 = sp.Matrix(P)\n",
    "\n",
    "a0 = '### $'+'P\\;=' +  sp.latex(P_1) + ',\\;' + 'A\\;=' + sp.latex(A_1) +'$'\n",
    "display(Markdown(a0))\n",
    "\n",
    "a1 = '### $'+'L\\;=' +  sp.latex(L_1) + ',\\;' + 'U\\;=' + sp.latex(U_1) +'$'\n",
    "display(Markdown(a1))\n",
    "\n",
    "a2 = '### $'+'PA\\;=' +  sp.latex(P_1 * A_1) + ',\\;' + 'LU\\;=' + sp.latex(L_1 * U_1) +'$'\n",
    "display(Markdown(a2))"
   ]
  },
  {
   "cell_type": "markdown",
   "metadata": {},
   "source": [
    "### $↑PA ≠ LU$，而$L$矩陣主對角線上元素皆不為$\\;1\\;$(不合$L$矩陣的規則)，且其主對角線上方的元素有兩個不為$\\;0\\;$(不合$L$矩陣的規則)"
   ]
  },
  {
   "cell_type": "code",
   "execution_count": 14,
   "metadata": {},
   "outputs": [
    {
     "ename": "IndexError",
     "evalue": "index 4 is out of bounds for axis 1 with size 4",
     "output_type": "error",
     "traceback": [
      "\u001b[1;31m---------------------------------------------------------------------------\u001b[0m",
      "\u001b[1;31mIndexError\u001b[0m                                Traceback (most recent call last)",
      "\u001b[1;32m<ipython-input-14-aa6a5d253735>\u001b[0m in \u001b[0;36m<module>\u001b[1;34m\u001b[0m\n\u001b[1;32m----> 1\u001b[1;33m \u001b[0mL\u001b[0m\u001b[1;33m,\u001b[0m \u001b[0mU\u001b[0m\u001b[1;33m,\u001b[0m \u001b[0mP\u001b[0m \u001b[1;33m=\u001b[0m \u001b[0mLU_1\u001b[0m\u001b[1;33m(\u001b[0m\u001b[0mB\u001b[0m\u001b[1;33m)\u001b[0m\u001b[1;33m\u001b[0m\u001b[1;33m\u001b[0m\u001b[0m\n\u001b[0m\u001b[0;32m      2\u001b[0m \u001b[0mL_1\u001b[0m \u001b[1;33m=\u001b[0m \u001b[0msp\u001b[0m\u001b[1;33m.\u001b[0m\u001b[0mMatrix\u001b[0m\u001b[1;33m(\u001b[0m\u001b[0mL\u001b[0m\u001b[1;33m)\u001b[0m\u001b[1;33m\u001b[0m\u001b[1;33m\u001b[0m\u001b[0m\n\u001b[0;32m      3\u001b[0m \u001b[0mU_1\u001b[0m \u001b[1;33m=\u001b[0m \u001b[0msp\u001b[0m\u001b[1;33m.\u001b[0m\u001b[0mMatrix\u001b[0m\u001b[1;33m(\u001b[0m\u001b[0mU\u001b[0m\u001b[1;33m)\u001b[0m\u001b[1;33m\u001b[0m\u001b[1;33m\u001b[0m\u001b[0m\n\u001b[0;32m      4\u001b[0m \u001b[0mP_1\u001b[0m \u001b[1;33m=\u001b[0m \u001b[0msp\u001b[0m\u001b[1;33m.\u001b[0m\u001b[0mMatrix\u001b[0m\u001b[1;33m(\u001b[0m\u001b[0mP\u001b[0m\u001b[1;33m)\u001b[0m\u001b[1;33m\u001b[0m\u001b[1;33m\u001b[0m\u001b[0m\n\u001b[0;32m      5\u001b[0m \u001b[1;33m\u001b[0m\u001b[0m\n",
      "\u001b[1;32m<ipython-input-2-842410d16eb4>\u001b[0m in \u001b[0;36mLU_1\u001b[1;34m(A)\u001b[0m\n\u001b[0;32m      7\u001b[0m     \u001b[1;32mfor\u001b[0m \u001b[0mi\u001b[0m \u001b[1;32min\u001b[0m \u001b[0mrange\u001b[0m\u001b[1;33m(\u001b[0m\u001b[0mm\u001b[0m\u001b[1;33m)\u001b[0m\u001b[1;33m:\u001b[0m\u001b[1;33m\u001b[0m\u001b[1;33m\u001b[0m\u001b[0m\n\u001b[0;32m      8\u001b[0m \u001b[1;33m\u001b[0m\u001b[0m\n\u001b[1;32m----> 9\u001b[1;33m         \u001b[0mmaxEc\u001b[0m \u001b[1;33m=\u001b[0m \u001b[0mabs\u001b[0m\u001b[1;33m(\u001b[0m\u001b[0mU\u001b[0m\u001b[1;33m[\u001b[0m\u001b[0mi\u001b[0m\u001b[1;33m,\u001b[0m \u001b[0mi\u001b[0m\u001b[1;33m]\u001b[0m\u001b[1;33m)\u001b[0m\u001b[1;33m\u001b[0m\u001b[1;33m\u001b[0m\u001b[0m\n\u001b[0m\u001b[0;32m     10\u001b[0m         \u001b[0mmaxRow\u001b[0m \u001b[1;33m=\u001b[0m \u001b[0mi\u001b[0m\u001b[1;33m\u001b[0m\u001b[1;33m\u001b[0m\u001b[0m\n\u001b[0;32m     11\u001b[0m         \u001b[1;32mfor\u001b[0m \u001b[0mk\u001b[0m \u001b[1;32min\u001b[0m \u001b[0mrange\u001b[0m\u001b[1;33m(\u001b[0m\u001b[0mi\u001b[0m\u001b[1;33m+\u001b[0m\u001b[1;36m1\u001b[0m\u001b[1;33m,\u001b[0m \u001b[0mm\u001b[0m\u001b[1;33m)\u001b[0m\u001b[1;33m:\u001b[0m\u001b[1;33m\u001b[0m\u001b[1;33m\u001b[0m\u001b[0m\n",
      "\u001b[1;32m~\\AppData\\Roaming\\Python\\Python38\\site-packages\\numpy\\matrixlib\\defmatrix.py\u001b[0m in \u001b[0;36m__getitem__\u001b[1;34m(self, index)\u001b[0m\n\u001b[0;32m    191\u001b[0m \u001b[1;33m\u001b[0m\u001b[0m\n\u001b[0;32m    192\u001b[0m         \u001b[1;32mtry\u001b[0m\u001b[1;33m:\u001b[0m\u001b[1;33m\u001b[0m\u001b[1;33m\u001b[0m\u001b[0m\n\u001b[1;32m--> 193\u001b[1;33m             \u001b[0mout\u001b[0m \u001b[1;33m=\u001b[0m \u001b[0mN\u001b[0m\u001b[1;33m.\u001b[0m\u001b[0mndarray\u001b[0m\u001b[1;33m.\u001b[0m\u001b[0m__getitem__\u001b[0m\u001b[1;33m(\u001b[0m\u001b[0mself\u001b[0m\u001b[1;33m,\u001b[0m \u001b[0mindex\u001b[0m\u001b[1;33m)\u001b[0m\u001b[1;33m\u001b[0m\u001b[1;33m\u001b[0m\u001b[0m\n\u001b[0m\u001b[0;32m    194\u001b[0m         \u001b[1;32mfinally\u001b[0m\u001b[1;33m:\u001b[0m\u001b[1;33m\u001b[0m\u001b[1;33m\u001b[0m\u001b[0m\n\u001b[0;32m    195\u001b[0m             \u001b[0mself\u001b[0m\u001b[1;33m.\u001b[0m\u001b[0m_getitem\u001b[0m \u001b[1;33m=\u001b[0m \u001b[1;32mFalse\u001b[0m\u001b[1;33m\u001b[0m\u001b[1;33m\u001b[0m\u001b[0m\n",
      "\u001b[1;31mIndexError\u001b[0m: index 4 is out of bounds for axis 1 with size 4"
     ]
    }
   ],
   "source": [
    "L, U, P = LU_1(B)\n",
    "L_1 = sp.Matrix(L)\n",
    "U_1 = sp.Matrix(U)\n",
    "P_1 = sp.Matrix(P)\n",
    "\n",
    "a0 = '### $'+'P\\;=' +  sp.latex(P_1) + ',\\;' + 'B\\;=' + sp.latex(B_1) +'$'\n",
    "display(Markdown(a0))\n",
    "\n",
    "a1 = '### $'+'L\\;=' +  sp.latex(L_1) + ',\\;' + 'U\\;=' + sp.latex(U_1) +'$'\n",
    "display(Markdown(a1))\n",
    "\n",
    "a2 = '### $'+'PB\\;=' +  sp.latex(P_1 * B_1) + ',\\;' + 'LU\\;=' + sp.latex(L_1 * U_1) +'$'\n",
    "display(Markdown(a2))"
   ]
  },
  {
   "cell_type": "markdown",
   "metadata": {},
   "source": [
    "### $↑Compile\\;Errors$(編譯錯誤)"
   ]
  },
  {
   "cell_type": "markdown",
   "metadata": {},
   "source": [
    "## 我第一次修改後的程式碼的計算結果"
   ]
  },
  {
   "cell_type": "code",
   "execution_count": null,
   "metadata": {},
   "outputs": [],
   "source": [
    "L, U, P = LU_2(A)\n",
    "L_1 = sp.Matrix(L)\n",
    "U_1 = sp.Matrix(U)\n",
    "P_1 = sp.Matrix(P)\n",
    "\n",
    "a0 = '### $'+'P\\;=' +  sp.latex(P_1) + ',\\;' + 'A\\;=' + sp.latex(A_1) +'$'\n",
    "display(Markdown(a0))\n",
    "\n",
    "a1 = '### $'+'L\\;=' +  sp.latex(L_1) + ',\\;' + 'U\\;=' + sp.latex(U_1) +'$'\n",
    "display(Markdown(a1))\n",
    "\n",
    "a2 = '### $'+'PA\\;=' +  sp.latex(P_1 * A_1) + ',\\;' + 'LU\\;=' + sp.latex(L_1 * U_1) +'$'\n",
    "display(Markdown(a2))"
   ]
  },
  {
   "cell_type": "markdown",
   "metadata": {},
   "source": [
    "### $↑PA ≠ LU$，且$U$矩陣主對角線下有一個元素不為$\\;0\\;$(不合$U$矩陣的規則)"
   ]
  },
  {
   "cell_type": "code",
   "execution_count": null,
   "metadata": {},
   "outputs": [],
   "source": [
    "L, U, P = LU_2(B)\n",
    "L_1 = sp.Matrix(L)\n",
    "U_1 = sp.Matrix(U)\n",
    "P_1 = sp.Matrix(P)\n",
    "\n",
    "a0 = '### $'+'P\\;=' +  sp.latex(P_1) + ',\\;' + 'B\\;=' + sp.latex(B_1) +'$'\n",
    "display(Markdown(a0))\n",
    "\n",
    "a1 = '### $'+'L\\;=' +  sp.latex(L_1) + ',\\;' + 'U\\;=' + sp.latex(U_1) +'$'\n",
    "display(Markdown(a1))\n",
    "\n",
    "a2 = '### $'+'PB\\;=' +  sp.latex(P_1 * B_1) + ',\\;' + 'LU\\;=' + sp.latex(L_1 * U_1) +'$'\n",
    "display(Markdown(a2))"
   ]
  },
  {
   "cell_type": "markdown",
   "metadata": {},
   "source": [
    "### $↑PB ≠ LU$，且$U$矩陣主對角線下方有一個元素不為$\\;0\\;$(不合$U$矩陣的規則)"
   ]
  },
  {
   "cell_type": "markdown",
   "metadata": {},
   "source": [
    "## 我第二次修改後的程式的計算結果"
   ]
  },
  {
   "cell_type": "code",
   "execution_count": null,
   "metadata": {
    "scrolled": false
   },
   "outputs": [],
   "source": [
    "L, U, P = LU_3(A)\n",
    "L_1 = sp.Matrix(L)\n",
    "U_1 = sp.Matrix(U)\n",
    "P_1 = sp.Matrix(P)\n",
    "\n",
    "a0 = '### $'+'P\\;=' +  sp.latex(P_1) + ',\\;' + 'A\\;=' + sp.latex(A_1) +'$'\n",
    "display(Markdown(a0))\n",
    "\n",
    "a1 = '### $'+'L\\;=' +  sp.latex(L_1) + ',\\;' + 'U\\;=' + sp.latex(U_1) +'$'\n",
    "display(Markdown(a1))\n",
    "\n",
    "a2 = '### $'+'PA\\;=' +  sp.latex(P_1 * A_1) + ',\\;' + 'LU\\;=' + sp.latex(L_1 * U_1) +'$'\n",
    "display(Markdown(a2))"
   ]
  },
  {
   "cell_type": "markdown",
   "metadata": {},
   "source": [
    "### $↑PA = LU$，且$L$矩陣和$U$矩陣皆符合規則"
   ]
  },
  {
   "cell_type": "code",
   "execution_count": null,
   "metadata": {},
   "outputs": [],
   "source": [
    "L, U, P = LU_3(B)\n",
    "L_1 = sp.Matrix(L)\n",
    "U_1 = sp.Matrix(U)\n",
    "P_1 = sp.Matrix(P)\n",
    "\n",
    "a0 = '### $'+'P\\;=' +  sp.latex(P_1) + ',\\;' + 'B\\;=' + sp.latex(B_1) +'$'\n",
    "display(Markdown(a0))\n",
    "\n",
    "a1 = '### $'+'L\\;=' +  sp.latex(L_1) + ',\\;' + 'U\\;=' + sp.latex(U_1) +'$'\n",
    "display(Markdown(a1))\n",
    "\n",
    "a2 = '### $'+'PB\\;=' +  sp.latex(P_1 * B_1) + ',\\;' + 'LU\\;=' + sp.latex(L_1 * U_1) +'$'\n",
    "display(Markdown(a2))"
   ]
  },
  {
   "cell_type": "markdown",
   "metadata": {},
   "source": [
    "### $↑PB = LU$，且$L$矩陣和$U$矩陣皆符合規則"
   ]
  },
  {
   "cell_type": "markdown",
   "metadata": {},
   "source": [
    "### 下面附上我在網路上的矩陣計算器計算出來的結果截圖"
   ]
  },
  {
   "cell_type": "markdown",
   "metadata": {},
   "source": [
    "### $A$矩陣$LU$分解的計算結果(在網站上的矩陣計算器的計算結果截圖)"
   ]
  },
  {
   "cell_type": "markdown",
   "metadata": {},
   "source": [
    "[![image1](https://www.linkpicture.com/q/61b9eba42dd17.png)](https://www.linkpicture.com/view.php?img=LPic61baa39a169b824069399)"
   ]
  },
  {
   "cell_type": "markdown",
   "metadata": {},
   "source": [
    "### $B$矩陣$LU$分解的計算結果(在網站上的矩陣計算器的計算結果截圖)"
   ]
  },
  {
   "cell_type": "markdown",
   "metadata": {},
   "source": [
    "[![image2](https://www.linkpicture.com/q/61b9ebc0aded8.png)](https://www.linkpicture.com/view.php?img=LPic61baa417c43091198458380)"
   ]
  },
  {
   "cell_type": "markdown",
   "metadata": {},
   "source": [
    "### 由上可以發現，「只有」我第二次修改後的程式碼，其計算後的結果符合 $PA = LU$ 和$PB = LU$ 兩個等式，且$L$矩陣和$U$矩陣符合規則($L$矩陣主對角線上元素皆為$1$且對角線上元素皆為$0$；$U$矩陣對角線下元素皆為$0$)，沒有編譯錯誤，計算也正確。由上可知，教授的程式碼沒辦法處理某些特定情況的矩陣(我在筆記中有詳細說明)。\n",
    "### 註記:我在後面寫求行列式的程式碼時找到了一個更好、更準確的$LU$分解法，詳見下面的2.求行列式"
   ]
  },
  {
   "cell_type": "markdown",
   "metadata": {},
   "source": [
    "# 2.求行列式\n",
    "### 此前我在手寫筆記的心得中寫到$LU$分解後可以用來計算高階矩陣的行列式，但我那時候沒有考慮到那是在$P$矩陣是「進行列對調的次數為偶數時」的情況下， $det(A) = \\prod_{i = 1}^nU_{(i, i)}, where\\;A\\;is$ $a\\;nxn\\;matrix\\;$才必定成立。在$P$矩陣有進行列對調的情況下，有可能出現$det(P) = -1$的情況，使式子變成$det(A) = -\\prod_{i = 1}^nU_{(i, i)}, where\\;A\\;is$ $a\\;nxn\\;matrix$。所以$A$的行列式應該以\n",
    "\n",
    "## $ A\\;is\\;a\\;nxn\\;matrix,\\;det(A)= \\begin{cases} \\prod_{i = 1}^nU_{(i, i)}\\;, & \\text {if$\\;det(P)=1$} \\\\ -\\prod_{i = 1}^nU_{(i, i)}, & \\text{if$\\;det(P)=-1$} \\end{cases} $  \n",
    "### 來表示。這一點我在寫心得的時候沒有注意到，因此我在這裡說明清楚。另外，下面我的程式碼在計算矩陣的行列式即是利用上面的數學式來求出行列式。而我判斷$P$矩陣的行列式為$1$還是$-1$時，我利用了行列式的基本性質:「兩行(列)對調後，行列式的數值變號」。所以，只要$P$矩陣列對調的次數為$2$的倍數(即偶數)，$P$矩陣的行列式就是$1$，否則就是$-1$($∵$$P$矩陣的初始設定為單位矩陣，而單位矩陣的行列式必為$1$)。"
   ]
  },
  {
   "cell_type": "markdown",
   "metadata": {},
   "source": [
    "## (1)利用$LU$分解法"
   ]
  },
  {
   "cell_type": "code",
   "execution_count": 15,
   "metadata": {},
   "outputs": [],
   "source": [
    "import numpy as np\n",
    "import sympy as sp"
   ]
  },
  {
   "cell_type": "code",
   "execution_count": 16,
   "metadata": {},
   "outputs": [],
   "source": [
    "def det_LU(A):\n",
    "    # LU Decomposition\n",
    "    m, n = A.shape\n",
    "    U = A.copy()\n",
    "    U = U.astype('float64')\n",
    "    P = np.mat(np.identity(m))\n",
    "    L = P.copy()\n",
    "    count = 0\n",
    "    \n",
    "    for i in range(m-1):\n",
    "        for x in range(i+1, m):\n",
    "            if U[i, i] == 0:\n",
    "                if U[x, i] != 0:\n",
    "                    U[[x, i], i:] = U[[i, x], i:]\n",
    "                    P[[x, i], :] = P[[i, x], :]\n",
    "                    L[[x, i], :] = L[[i, x], :]\n",
    "                    L[:, [x, i]] = L[:, [i, x]]\n",
    "                    count = count + 1\n",
    "        \n",
    "        for t in range(i+1, m):\n",
    "            if U[i, i] == 0:\n",
    "                continue\n",
    "            c = -(U[t, i]/U[i, i])\n",
    "            U[t, i:] = U[t, i:] + c*U[i, i:]\n",
    "            L[t, i] = L[t, i] - c*L[t, t] \n",
    "\n",
    "                \n",
    "    det_U = 1\n",
    "    for j in range(m):\n",
    "        det_U = det_U * U[j, j]\n",
    "        \n",
    "    # check count is an even or odd to ascertain its determinant(1 or -1)\n",
    "    if count % 2 == 1:\n",
    "        det_P = -1\n",
    "    else:\n",
    "        det_P = 1\n",
    "    \n",
    "    # check whether det_U is going to multiply (-1) or not\n",
    "    # the final version of det_U is the determinant of A\n",
    "    if det_P == -1:\n",
    "        det_U = (-1)*det_U\n",
    "    \n",
    "    return det_P, det_U, L, U, P"
   ]
  },
  {
   "cell_type": "markdown",
   "metadata": {},
   "source": [
    "### 接下來我以一個 $4$ x $4$ 的矩陣 $A\\;$($A$的$P$矩陣的行列式為$1$)$\\;$及一個 $5$ x $5$ 的矩陣 $B\\;$($B$的$P$矩陣的行列式為$-1$)$\\;$為例子，利用我寫的程式碼來計算它們的行列式。(程式的計算結果下面附上在網站上的矩陣計算器的計算結果截圖)"
   ]
  },
  {
   "cell_type": "code",
   "execution_count": 17,
   "metadata": {},
   "outputs": [],
   "source": [
    "from IPython.display import display, Markdown"
   ]
  },
  {
   "cell_type": "code",
   "execution_count": 18,
   "metadata": {},
   "outputs": [
    {
     "data": {
      "text/markdown": [
       "### $det(P)\\;=1,\\;det(A)\\;=\\prod_{i = 1}^nU_{(i, i)}\\;=-27323.999999999454,\\;where\\;A\\;is\\;a\\;nxn\\;matrix$"
      ],
      "text/plain": [
       "<IPython.core.display.Markdown object>"
      ]
     },
     "metadata": {},
     "output_type": "display_data"
    }
   ],
   "source": [
    "A = np.mat([[1, 3, 4, 5], \n",
    "            [0, -11, 33, 7], \n",
    "            [81, 15, -15, 2], \n",
    "            [34, 1, 10, 2]])\n",
    "A_1 = sp.Matrix(A)\n",
    "det_P, det_U, L, U, P = det_LU(A)\n",
    "\n",
    "\n",
    "a41 = '### $'+'det(P)\\;=' + str(det_P) + ',\\;' + 'det(A)\\;=\\prod_{i = 1}^nU_{(i, i)}\\;=' \n",
    "a42 = str(det_U) + ',\\;where\\;A\\;is\\;a\\;nxn\\;matrix$'\n",
    "a4 = a41 + a42\n",
    "display(Markdown(a4))"
   ]
  },
  {
   "cell_type": "markdown",
   "metadata": {},
   "source": [
    "### $A$矩陣的行列式(在網站上的矩陣計算器的計算結果截圖)"
   ]
  },
  {
   "cell_type": "markdown",
   "metadata": {},
   "source": [
    "[![image3](https://www.linkpicture.com/q/6155234308ef7.jpg)](https://www.linkpicture.com/view.php?img=LPic61baa3d79fc9a410846949)"
   ]
  },
  {
   "cell_type": "code",
   "execution_count": 19,
   "metadata": {},
   "outputs": [
    {
     "data": {
      "text/markdown": [
       "### $det(P)\\;=-1,\\;det(B)\\;=-\\prod_{i = 1}^nU_{(i, i)}\\;=-745137.9999999763,\\;where\\;B\\;is\\;a\\;nxn\\;matrix$"
      ],
      "text/plain": [
       "<IPython.core.display.Markdown object>"
      ]
     },
     "metadata": {},
     "output_type": "display_data"
    }
   ],
   "source": [
    "B = np.mat([[0, -11, 33, 7, 13], \n",
    "            [1, 3, 4, 5, 8], \n",
    "            [81, 15, -15, 2, 4], \n",
    "            [34, 1, 10, 2, 5], \n",
    "            [-10, 4, 88, 9, 0]])\n",
    "B_1 = sp.Matrix(B)\n",
    "det_P, det_U, L, U, P = det_LU(B)\n",
    "\n",
    "a41 = '### $'+'det(P)\\;=' + str(det_P) + ',\\;' + 'det(B)\\;=-\\prod_{i = 1}^nU_{(i, i)}\\;=' \n",
    "a42 = str(det_U) + ',\\;where\\;B\\;is\\;a\\;nxn\\;matrix$'\n",
    "a4 = a41 + a42\n",
    "display(Markdown(a4))"
   ]
  },
  {
   "cell_type": "markdown",
   "metadata": {},
   "source": [
    "### $B$矩陣的行列式(在網站上的矩陣計算器的計算結果截圖)"
   ]
  },
  {
   "cell_type": "markdown",
   "metadata": {},
   "source": [
    "[![image4](https://www.linkpicture.com/q/615d52e99f772.png)](https://www.linkpicture.com/view.php?img=LPic61baa44d244ba1432427979)"
   ]
  },
  {
   "cell_type": "markdown",
   "metadata": {},
   "source": [
    "### 然而，在我用網路上的矩陣計算器確認我的行列式是否正確時，我發現我算的答案與實際答案差了一點。我推斷是$Python\\;$在計算上可能因為涉及到無限循環小數而造成數值上的誤差，在這裡就是如此。而我在想，究竟我用我$LU$分解算出的行列式要「無條件捨去小數」、「無條件進位」、還是「四捨五入」呢?"
   ]
  },
  {
   "cell_type": "markdown",
   "metadata": {},
   "source": [
    "### 此時，我想起之前在網路上無意間看到同為政治大學的蔡炎龍教授在$\\;youtube\\;$發布的教學影片(下面附上連結)，內容主要是用$「sympy」$這個模組來進行矩陣的各種計算。與$numpy.mat()$製造出的矩陣不同的是，$「sympy」$在計算時(以下簡稱$sympy$為$sp$)，能夠使用$sp.Rational().limit\\_denominator()$將$sp.Matrix()$製造出的矩陣中所有的元素強制轉換成「分數」的形式進行計算。這個設定幫了我一個大忙，如此一來，就可以避免在計算上涉及無限循環小數時產生的誤差，可以精準地算出該矩陣的行列式。"
   ]
  },
  {
   "cell_type": "markdown",
   "metadata": {},
   "source": [
    "### [蔡炎龍教授的教學影片連結-Sympy中的符號型的計算](https://www.youtube.com/watch?v=3PGQS6hzThc&t=221s)"
   ]
  },
  {
   "cell_type": "markdown",
   "metadata": {},
   "source": [
    "### [蔡炎龍教授的教學影片連結-Sympy中的矩陣](https://www.youtube.com/watch?v=NgdzGygs1NE&t=261s)"
   ]
  },
  {
   "cell_type": "markdown",
   "metadata": {},
   "source": [
    "## (2)利用$LU$分解法(修改後的程式碼):"
   ]
  },
  {
   "cell_type": "code",
   "execution_count": 20,
   "metadata": {},
   "outputs": [],
   "source": [
    "import numpy as np\n",
    "import sympy as sp"
   ]
  },
  {
   "cell_type": "code",
   "execution_count": 21,
   "metadata": {},
   "outputs": [],
   "source": [
    "def det_LU_sympy(A):\n",
    "    # LU Decomposition\n",
    "    m, n = A.shape\n",
    "    U = A.copy()\n",
    "    P = sp.eye(m)\n",
    "    L = P.copy()\n",
    "    count = 0\n",
    "    \n",
    "    for k in L or U or P:\n",
    "        k = sp.Rational(k)\n",
    "    \n",
    "    for i in range(m-1):\n",
    "        for x in range(i+1, m):\n",
    "            if U[i, i] == 0:\n",
    "                if U[x, i] != 0:\n",
    "                    L = np.mat(L)\n",
    "                    U = np.mat(U)\n",
    "                    P = np.mat(P)\n",
    "                    U[[x, i], i:] = U[[i, x], i:]\n",
    "                    P[[x, i], :] = P[[i, x], :]\n",
    "                    L[[x, i], :] = L[[i, x], :] # row interchange\n",
    "                    L[:, [x, i]] = L[:, [i, x]] # column interchange\n",
    "                    count = count + 1\n",
    "                    L = sp.Matrix(L)\n",
    "                    U = sp.Matrix(U)\n",
    "                    P = sp.Matrix(P)\n",
    "                    for g in range(m):\n",
    "                        for h in range(m):\n",
    "                            L[g, h] = sp.Rational(L[g, h]).limit_denominator()\n",
    "                            U[g, h] = sp.Rational(U[g, h]).limit_denominator()\n",
    "                    \n",
    "\n",
    "        \n",
    "        for t in range(i+1, m):\n",
    "            if U[i, i] == 0:\n",
    "                continue\n",
    "            c = -(U[t, i]/U[i, i])\n",
    "            U[t, i:] = U[t, i:] + c*U[i, i:]\n",
    "            L[t, i] = L[t, i] - c*L[t, t]    \n",
    "    det_U = 1\n",
    "    for j in range(m):\n",
    "        det_U = det_U * U[j, j]\n",
    "        \n",
    "    # check count is an even or odd to ascertain its determinant(1 or -1)\n",
    "    if count % 2 == 1:\n",
    "        det_P = -1\n",
    "    else:\n",
    "        det_P = 1\n",
    "    \n",
    "    # check whether det_U is going to multiply (-1) or not\n",
    "    # the final version of det_U is the determinant of A\n",
    "    if det_P == -1:\n",
    "        det_U = (-1)*det_U\n",
    "    \n",
    "    return det_P, det_U, L, U, P"
   ]
  },
  {
   "cell_type": "markdown",
   "metadata": {},
   "source": [
    "### 下面我使用和上面一樣的$A$矩陣和$B$矩陣作為例子來測試我的程式碼。另外，因為在計算矩陣行列式的過程中我使用了$LU$分解法，因此，在我輸出$A$矩陣和$B$矩陣各自行列式的計算結果後面，我附上在這過程裡所得的$A$矩陣和$B$矩陣個別的$L$矩陣、$U$矩陣、$P$矩陣、以及$PA(PB)$和$LU$的計算結果。(程式的計算結果下面附上在網站上的矩陣計算器的計算結果截圖)"
   ]
  },
  {
   "cell_type": "code",
   "execution_count": 22,
   "metadata": {},
   "outputs": [],
   "source": [
    "from IPython.display import display, Markdown"
   ]
  },
  {
   "cell_type": "code",
   "execution_count": 23,
   "metadata": {},
   "outputs": [
    {
     "data": {
      "text/markdown": [
       "### $det(P)\\;=1,\\;det(A)\\;=\\prod_{i = 1}^nU_{(i, i)}\\;=-27324,\\;where\\;A\\;is\\;a\\;nxn\\;matrix$"
      ],
      "text/plain": [
       "<IPython.core.display.Markdown object>"
      ]
     },
     "metadata": {},
     "output_type": "display_data"
    },
    {
     "data": {
      "text/markdown": [
       "### $P\\;=\\left[\\begin{matrix}1 & 0 & 0 & 0\\\\0 & 1 & 0 & 0\\\\0 & 0 & 1 & 0\\\\0 & 0 & 0 & 1\\end{matrix}\\right],\\;A\\;=\\left[\\begin{matrix}1 & 3 & 4 & 5\\\\0 & -11 & 33 & 7\\\\81 & 15 & -15 & 2\\\\34 & 1 & 10 & 2\\end{matrix}\\right]$"
      ],
      "text/plain": [
       "<IPython.core.display.Markdown object>"
      ]
     },
     "metadata": {},
     "output_type": "display_data"
    },
    {
     "data": {
      "text/markdown": [
       "### $L\\;=\\left[\\begin{matrix}1 & 0 & 0 & 0\\\\0 & 1 & 0 & 0\\\\81 & \\frac{228}{11} & 1 & 0\\\\34 & \\frac{101}{11} & \\frac{13}{31} & 1\\end{matrix}\\right],\\;U\\;=\\left[\\begin{matrix}1 & 3 & 4 & 5\\\\0 & -11 & 33 & 7\\\\0 & 0 & -1023 & - \\frac{6029}{11}\\\\0 & 0 & 0 & - \\frac{828}{341}\\end{matrix}\\right]$"
      ],
      "text/plain": [
       "<IPython.core.display.Markdown object>"
      ]
     },
     "metadata": {},
     "output_type": "display_data"
    },
    {
     "data": {
      "text/markdown": [
       "### $PA\\;=\\left[\\begin{matrix}1 & 3 & 4 & 5\\\\0 & -11 & 33 & 7\\\\81 & 15 & -15 & 2\\\\34 & 1 & 10 & 2\\end{matrix}\\right],\\;LU\\;=\\left[\\begin{matrix}1 & 3 & 4 & 5\\\\0 & -11 & 33 & 7\\\\81 & 15 & -15 & 2\\\\34 & 1 & 10 & 2\\end{matrix}\\right]$"
      ],
      "text/plain": [
       "<IPython.core.display.Markdown object>"
      ]
     },
     "metadata": {},
     "output_type": "display_data"
    }
   ],
   "source": [
    "A = sp.Matrix([[1, 3, 4, 5], \n",
    "            [0, -11, 33, 7], \n",
    "            [81, 15, -15, 2], \n",
    "            [34, 1, 10, 2]])\n",
    "det_P, det_U, L, U, P = det_LU_sympy(A)\n",
    "\n",
    "\n",
    "a31 = '### $'+'det(P)\\;=' + sp.latex(det_P) + ',\\;' + 'det(A)\\;=\\prod_{i = 1}^nU_{(i, i)}\\;=' \n",
    "a32 = sp.latex(det_U) + ',\\;where\\;A\\;is\\;a\\;nxn\\;matrix$'\n",
    "a3 = a31 + a32\n",
    "display(Markdown(a3))\n",
    "\n",
    "a0 = '### $'+'P\\;=' +  sp.latex(P) + ',\\;' + 'A\\;=' + sp.latex(A) +'$'\n",
    "display(Markdown(a0))\n",
    "\n",
    "a1 = '### $'+'L\\;=' +  sp.latex(L) + ',\\;' + 'U\\;=' + sp.latex(U) +'$'\n",
    "display(Markdown(a1))\n",
    "\n",
    "a2 = '### $'+'PA\\;=' +  sp.latex(P * A) + ',\\;' + 'LU\\;=' + sp.latex(L * U) +'$'\n",
    "display(Markdown(a2))"
   ]
  },
  {
   "cell_type": "markdown",
   "metadata": {},
   "source": [
    "### $A$矩陣的行列式(在網站上的矩陣計算器的計算結果截圖)"
   ]
  },
  {
   "cell_type": "markdown",
   "metadata": {},
   "source": [
    "[![image3](https://www.linkpicture.com/q/6155234308ef7.jpg)](https://www.linkpicture.com/view.php?img=LPic61baa3d79fc9a410846949)"
   ]
  },
  {
   "cell_type": "markdown",
   "metadata": {},
   "source": [
    "### $A$矩陣的$LU$分解結果(在網站上的矩陣計算器的計算結果截圖)\n",
    "### 註記:$A$矩陣的$P$矩陣為單位矩陣，所以網站上的計算結果截圖中沒有顯示出來。"
   ]
  },
  {
   "cell_type": "markdown",
   "metadata": {},
   "source": [
    "[![image5](https://www.linkpicture.com/q/615e65e7af288.png)](https://www.linkpicture.com/view.php?img=LPic61baa47504ce9219908038)"
   ]
  },
  {
   "cell_type": "code",
   "execution_count": 24,
   "metadata": {},
   "outputs": [
    {
     "data": {
      "text/markdown": [
       "### $det(P)\\;=-1,\\;det(B)\\;=-\\prod_{i = 1}^nU_{(i, i)}\\;=-745138,\\;where\\;B\\;is\\;a\\;nxn\\;matrix$"
      ],
      "text/plain": [
       "<IPython.core.display.Markdown object>"
      ]
     },
     "metadata": {},
     "output_type": "display_data"
    },
    {
     "data": {
      "text/markdown": [
       "### $P\\;=\\left[\\begin{matrix}0 & 1 & 0 & 0 & 0\\\\1 & 0 & 0 & 0 & 0\\\\0 & 0 & 1 & 0 & 0\\\\0 & 0 & 0 & 1 & 0\\\\0 & 0 & 0 & 0 & 1\\end{matrix}\\right],\\;B\\;=\\left[\\begin{matrix}0 & -11 & 33 & 7 & 13\\\\1 & 3 & 4 & 5 & 8\\\\81 & 15 & -15 & 2 & 4\\\\34 & 1 & 10 & 2 & 5\\\\-10 & 4 & 88 & 9 & 0\\end{matrix}\\right]$"
      ],
      "text/plain": [
       "<IPython.core.display.Markdown object>"
      ]
     },
     "metadata": {},
     "output_type": "display_data"
    },
    {
     "data": {
      "text/markdown": [
       "### $L\\;=\\left[\\begin{matrix}1 & 0 & 0 & 0 & 0\\\\0 & 1 & 0 & 0 & 0\\\\81 & \\frac{228}{11} & 1 & 0 & 0\\\\34 & \\frac{101}{11} & \\frac{13}{31} & 1 & 0\\\\-10 & - \\frac{34}{11} & - \\frac{230}{1023} & \\frac{479269}{27324} & 1\\end{matrix}\\right],\\;U\\;=\\left[\\begin{matrix}1 & 3 & 4 & 5 & 8\\\\0 & -11 & 33 & 7 & 13\\\\0 & 0 & -1023 & - \\frac{6029}{11} & - \\frac{10048}{11}\\\\0 & 0 & 0 & - \\frac{828}{341} & - \\frac{1126}{341}\\\\0 & 0 & 0 & 0 & - \\frac{372569}{13662}\\end{matrix}\\right]$"
      ],
      "text/plain": [
       "<IPython.core.display.Markdown object>"
      ]
     },
     "metadata": {},
     "output_type": "display_data"
    },
    {
     "data": {
      "text/markdown": [
       "### $PB\\;=\\left[\\begin{matrix}1 & 3 & 4 & 5 & 8\\\\0 & -11 & 33 & 7 & 13\\\\81 & 15 & -15 & 2 & 4\\\\34 & 1 & 10 & 2 & 5\\\\-10 & 4 & 88 & 9 & 0\\end{matrix}\\right],\\;LU\\;=\\left[\\begin{matrix}1 & 3 & 4 & 5 & 8\\\\0 & -11 & 33 & 7 & 13\\\\81 & 15 & -15 & 2 & 4\\\\34 & 1 & 10 & 2 & 5\\\\-10 & 4 & 88 & 9 & 0\\end{matrix}\\right]$"
      ],
      "text/plain": [
       "<IPython.core.display.Markdown object>"
      ]
     },
     "metadata": {},
     "output_type": "display_data"
    }
   ],
   "source": [
    "B = sp.Matrix([[0, -11, 33, 7, 13], \n",
    "               [1, 3, 4, 5, 8], \n",
    "               [81, 15, -15, 2, 4], \n",
    "               [34, 1, 10, 2, 5], \n",
    "               [-10, 4, 88, 9, 0]])\n",
    "det_P, det_U, L, U, P = det_LU_sympy(B)\n",
    "\n",
    "\n",
    "a31 = '### $'+'det(P)\\;=' + sp.latex(det_P) + ',\\;' + 'det(B)\\;=-\\prod_{i = 1}^nU_{(i, i)}\\;=' \n",
    "a32 = sp.latex(det_U) + ',\\;where\\;B\\;is\\;a\\;nxn\\;matrix$'\n",
    "a3 = a31 + a32\n",
    "display(Markdown(a3))\n",
    "\n",
    "a0 = '### $'+'P\\;=' +  sp.latex(P) + ',\\;' + 'B\\;=' + sp.latex(B) +'$'\n",
    "display(Markdown(a0))\n",
    "\n",
    "a1 = '### $'+'L\\;=' +  sp.latex(L) + ',\\;' +'U\\;=' +  sp.latex(U) +'$'\n",
    "display(Markdown(a1))\n",
    "\n",
    "a2 = '### $'+'PB\\;=' +  sp.latex(P * B) + ',\\;' + 'LU\\;=' + sp.latex(L * U) +'$'\n",
    "display(Markdown(a2))"
   ]
  },
  {
   "cell_type": "markdown",
   "metadata": {},
   "source": [
    "### $B$矩陣的行列式(在網站上的矩陣計算器的計算結果截圖)"
   ]
  },
  {
   "cell_type": "markdown",
   "metadata": {},
   "source": [
    "[![image4](https://www.linkpicture.com/q/615d52e99f772.png)](https://www.linkpicture.com/view.php?img=LPic61baa44d244ba1432427979)"
   ]
  },
  {
   "cell_type": "markdown",
   "metadata": {},
   "source": [
    "### $B$矩陣的$LU$分解結果(在網站上的矩陣計算器的計算結果截圖)"
   ]
  },
  {
   "cell_type": "markdown",
   "metadata": {},
   "source": [
    "[![image](https://www.linkpicture.com/q/61a72a546e647.png)](https://www.linkpicture.com/view.php?img=LPic61baa4c10a9591484895043)"
   ]
  },
  {
   "cell_type": "markdown",
   "metadata": {},
   "source": [
    "### 由上可以知道，用我修改後的程式碼可以算出準確的行列式(不論$P$矩陣的行列式為$1$或$-1$)，且修改後的程式碼也可以正確地求出矩陣的$LU$分解形式(即求出$L$矩陣、$U$矩陣、$P$矩陣)。"
   ]
  },
  {
   "cell_type": "markdown",
   "metadata": {},
   "source": [
    "## (3)利用特徵方程式\n",
    "### 我知道計算矩陣的行列式其實也可以使用$\\;Cayley-Hamilton\\;$定理。先寫出矩陣的特徵方程式，而方程式中的常數項即為矩陣的行列式。不過，這個部分超出我的能力範圍，以我現在所學的還無法寫出以此為基礎來計算行列式的程式碼，因此這部份我從略。"
   ]
  },
  {
   "cell_type": "markdown",
   "metadata": {},
   "source": [
    "# 3. 線性方程式求解"
   ]
  },
  {
   "cell_type": "markdown",
   "metadata": {},
   "source": [
    "## (1)克拉瑪公式(求解&判斷解的情況)"
   ]
  },
  {
   "cell_type": "markdown",
   "metadata": {},
   "source": [
    "### 承接上面的內容，利用$LU$分解，我得以快速且正確地求出高階矩陣的行列式，而不用將其一個個以餘因子降階展開整理。接著，我打算運用這個計算行列式的方法，結合克拉瑪公式，求出「恰有一解」的方程組之答案，並進一步判斷方程組之解的情況，即「恰有一解、無解、無限多組解」。\n",
    "### 註記:下面的$△,\\;△_x,\\;△_y,\\;△_z\\;$的數值計算使用上面計算行列式時使用的函數"
   ]
  },
  {
   "cell_type": "markdown",
   "metadata": {},
   "source": [
    "### 克拉瑪公式:$\\;1.\\;two-dimensional$(二維)$\\;\\begin{cases}x = \\frac{△_x}{△} \\\\y = \\frac{△_y}{△}\\end{cases} \\;,$ $2.\\;three-dimensional$(三維)$\\;\\begin{cases}x = \\frac{△_x}{△} \\\\y = \\frac{△_y}{△} \\\\z = \\frac{△_z}{△}\\end{cases} $"
   ]
  },
  {
   "cell_type": "code",
   "execution_count": 25,
   "metadata": {},
   "outputs": [],
   "source": [
    "import sympy as sp\n",
    "import numpy as np"
   ]
  },
  {
   "cell_type": "code",
   "execution_count": 26,
   "metadata": {},
   "outputs": [],
   "source": [
    "def Cramer(A, b):\n",
    "    m, n = A.shape\n",
    "    delta = A.copy() # delta --> the matrix form of △\n",
    "    \n",
    "    delta_x = sp.zeros(m, n) # delta_x --> the matrix form of △x\n",
    "    delta_x[:, :n] = A\n",
    "    delta_x[:, 0] = b\n",
    "   \n",
    "    delta_y = sp.zeros(m, n) # delta_y --> the matrix form of △y\n",
    "    delta_y[:, :n] = A\n",
    "    delta_y[:, 1] = b\n",
    "    \n",
    "    det_P1, det_delta, L1, U1, P1 = det_LU_sympy(A) # det_delta --> △\n",
    "    det_P2, det_delta_x, L2, U2, P2 = det_LU_sympy(delta_x) # det_delta_x --> △x\n",
    "    det_P3, det_delta_y, L3, U3, P3 = det_LU_sympy(delta_y) # det_delta_y --> △y\n",
    "\n",
    "    if m == 3: # three-dimensional \n",
    "        delta_z = sp.zeros(m, n) # delta_z --> the matrix form of △z\n",
    "        delta_z[:, :n] = A\n",
    "        delta_z[:, 2] = b\n",
    "      \n",
    "        det_P3, det_delta_z, L3, U3, P3 = det_LU_sympy(delta_z) # det_delta_z --> △z\n",
    " \n",
    "    \n",
    "    # a unique solution(一組解)\n",
    "    # △ ≠ 0\n",
    "    if det_delta != 0: \n",
    "        state = '恰有一解'\n",
    "        if m == 2: # two-dimensional\n",
    "            x = sp.zeros(2, 1)\n",
    "            x[0, 0] = det_delta_x / det_delta\n",
    "            x[1, 0] = det_delta_y / det_delta\n",
    "            \n",
    "        else: # three-dimensional\n",
    "            x = sp.zeros(3, 1)\n",
    "            x[0, 0] = det_delta_x / det_delta\n",
    "            x[1, 0] = det_delta_y / det_delta\n",
    "            x[2, 0] = det_delta_z / det_delta\n",
    "    \n",
    "    # no solution(無解)\n",
    "    # △ = 0, one (or more) of △x and △y is(are) ≠ 0  [two-dimensional]\n",
    "    # △ = 0, one (or more) of △x, △y and △z is(are) ≠ 0  [three-dimensional]\n",
    "    \n",
    "    # no solution or infinitely many solutions(無解, 或是無限多組解)\n",
    "    # △ = △x = △y = 0 → infinitely many solutions(無限多組解) [two-dimensional]\n",
    "    # △ = △x = △y = △z = 0 → no solution or infinitely many solutions(無解, 或是無限多組解) [three-dimensional]    \n",
    "    \n",
    "    if m == 2 and det_delta == 0: # two-dimensional\n",
    "        if det_delta_x != 0 or det_delta_y != 0:\n",
    "            state = '無解'\n",
    "            x = ''\n",
    "        else:\n",
    "            state = '無限多組解'\n",
    "            x = '' \n",
    "    \n",
    "    if m == 3 and det_delta == 0: # three-dimensional\n",
    "        # △x, △y, △z是否至少其一不為 0 的判斷 \n",
    "        if det_delta_x != 0 or det_delta_y != 0 or det_delta_z != 0: \n",
    "            state = '無解'\n",
    "            x = ''\n",
    "        else:\n",
    "            # △ = △x = △y = △z = 0的情形\n",
    "            \n",
    "            # 1. 取三平面法向量\n",
    "            n1 = A[0, :]\n",
    "            n2 = A[1, :]\n",
    "            n3 = A[2, :]\n",
    "            \n",
    "            # 2. 取三平面法向量兩兩的外積\n",
    "            s12 = n1.cross(n2)\n",
    "            s23 = n2.cross(n3)\n",
    "            s31 = n3.cross(n1)\n",
    "            \n",
    "            # 3. 以布林值(bool)判斷 s12, s23, s31 是否為零向量\n",
    "            #  是零向量 : 回傳 True ; 不是零向量 : 回傳 False\n",
    "            bool1 = s12.is_zero_matrix\n",
    "            bool2 = s23.is_zero_matrix\n",
    "            bool3 = s31.is_zero_matrix\n",
    "            \n",
    "            if bool1 and bool2 and bool3: # 如果 s12, s23, s31皆為零向量\n",
    "                d1 = b[0, 0]\n",
    "                d2 = b[1, 0]\n",
    "                d3 = b[2, 0]\n",
    "    \n",
    "                for i in range(0, n-1):\n",
    "                    if n1[0, i] == 0:\n",
    "                        continue\n",
    "        \n",
    "                    else:\n",
    "                        e1 = (1 / n1[0, i]) * d1\n",
    "                        e2 = (1 / n2[0, i]) * d2\n",
    "                        e3 = (1 / n3[0, i]) * d3\n",
    "                        break\n",
    "     \n",
    "                if e1 == e2 and e2 == e3: # 如果 e1 = e2 = e3\n",
    "                    state = '無限多組解'\n",
    "                    x = ''\n",
    "    \n",
    "                else:\n",
    "                    state = '無解'\n",
    "                    x = ''\n",
    "                    \n",
    "            else: # [s12, s23, s31皆為零向量]不成立時\n",
    "                state = '無限多組解' \n",
    "                x = ''\n",
    "              \n",
    "  \n",
    "    return state, x"
   ]
  },
  {
   "cell_type": "markdown",
   "metadata": {},
   "source": [
    "### 在寫主程式碼之前，我已經在紙上徹底地將各個不同條件下($△≠0;\\; △=△_x=△_y=△_z=0;\\;△=0, (△_x, △_y, △_z)$至少其一不為$0$)下所有可能發生的三平面的狀況，以自問自答的方式，依序分析這些狀況是否符合原先的條件？要用什麼方法來進行完整地分類？尤其是$△=△_x=△_y=△_z=0$的條件下，可能會有「無解」或是「無限多組解」兩種結果，這部分我也有記錄我判斷的依據及流程。以下連結的內容是我在學習「克拉瑪公式&三元線性方程組」的筆記(我以拍照的方式上傳到另一個$Jupyter Notebook$的檔案儲存為下面的線上連結，兩個連結的內容皆相同)。另外，下面的圖片為我上方程式碼的完整流程圖。"
   ]
  },
  {
   "cell_type": "markdown",
   "metadata": {},
   "source": [
    "## [克拉瑪公式&三元線性方程組的統整筆記連結1](https://nbviewer.org/github/maxjiang323/s/blob/main/%E5%85%8B%E6%8B%89%E7%91%AA%E5%85%AC%E5%BC%8F%20%26%20%E4%B8%89%E5%85%83%E7%B7%9A%E6%80%A7%E6%96%B9%E7%A8%8B%E7%B5%84%E7%9A%84%E7%B5%B1%E6%95%B4%E7%AD%86%E8%A8%98.ipynb)"
   ]
  },
  {
   "cell_type": "markdown",
   "metadata": {},
   "source": [
    "## [克拉瑪公式&三元線性方程組的統整筆記連結2](https://github.com/maxjiang323/s/blob/main/%E5%85%8B%E6%8B%89%E7%91%AA%E5%85%AC%E5%BC%8F%20%26%20%E4%B8%89%E5%85%83%E7%B7%9A%E6%80%A7%E6%96%B9%E7%A8%8B%E7%B5%84%E7%9A%84%E7%B5%B1%E6%95%B4%E7%AD%86%E8%A8%98.ipynb)"
   ]
  },
  {
   "cell_type": "markdown",
   "metadata": {},
   "source": [
    "### 註記:以下的流程圖是我的程式碼計算「三元」線性方程組的過程"
   ]
  },
  {
   "cell_type": "markdown",
   "metadata": {},
   "source": [
    "#### [![image](https://www.linkpicture.com/q/0001_81.jpg)](https://www.linkpicture.com/view.php?img=LPic61c5a27ae61541019528714)"
   ]
  },
  {
   "cell_type": "markdown",
   "metadata": {},
   "source": [
    "###  接下來，我會以三種不同三元線性方程組的情況(恰有一解、無解、和無限多組解)各舉出一個例子，用我的程式碼來進行計算。其中，我會把方程組以$Ax=b$的形式表示，而恰有一解中算出來的答案我會用$A$矩陣與解($x$矩陣)相乘，測試其結果是否會和$b$矩陣相同，即是否能滿足$Ax=b$的等式。另外，雖然我的程式碼也可以進行二元線性方程組的求解及判斷解的情況，但因為二元線性方程組計算上及判斷解不會太複雜，而教授在教學影片中也只有提及三元的方程組，所以我這裡只舉出三元的三個例子。"
   ]
  },
  {
   "cell_type": "markdown",
   "metadata": {},
   "source": [
    "## 1.恰有一解"
   ]
  },
  {
   "cell_type": "markdown",
   "metadata": {},
   "source": [
    "###   $\\begin{cases}85x+69y-34z=120\\\\69x-85y+47z=10 \\;\\;\\;--→\\\\23x-200y-21z=-23\\end{cases} \\; \\left[\\begin{matrix}85 & 69 & -34\\\\69 & -85 & 47\\\\23 & -200 & -21\\end{matrix}\\right]  \\left[\\begin{matrix}x\\\\y\\\\z\\end{matrix}\\right]  =  \\left[\\begin{matrix}120\\\\10\\\\-23\\end{matrix}\\right]$"
   ]
  },
  {
   "cell_type": "code",
   "execution_count": 27,
   "metadata": {},
   "outputs": [],
   "source": [
    "from sympy.abc import x, y, z\n",
    "import sympy as sp"
   ]
  },
  {
   "cell_type": "code",
   "execution_count": 28,
   "metadata": {},
   "outputs": [],
   "source": [
    "from IPython.display import display, Markdown"
   ]
  },
  {
   "cell_type": "code",
   "execution_count": 29,
   "metadata": {},
   "outputs": [
    {
     "data": {
      "text/markdown": [
       "### $A\\;=\\left[\\begin{matrix}85 & 69 & -34\\\\69 & -85 & 47\\\\23 & -200 & -21\\end{matrix}\\right],\\;x(matrix)\\;=\\left[\\begin{matrix}x\\\\y\\\\z\\end{matrix}\\right],\\;b\\;=\\left[\\begin{matrix}120\\\\10\\\\-23\\end{matrix}\\right]$"
      ],
      "text/plain": [
       "<IPython.core.display.Markdown object>"
      ]
     },
     "metadata": {},
     "output_type": "display_data"
    }
   ],
   "source": [
    "A = sp.Matrix([[85, 69, -34], \n",
    "               [69, -85, 47], \n",
    "               [23, -200, -21]])\n",
    "x_matrix = sp.Matrix([[x],\n",
    "                      [y], \n",
    "                      [z]])\n",
    "b = sp.Matrix([[120], \n",
    "               [10], \n",
    "               [-23]])\n",
    "\n",
    "a = '### $'+'A\\;=' +  sp.latex(A) + ',\\;' + 'x(matrix)\\;=' + sp.latex(x_matrix) + ',\\;' + 'b\\;=' +  sp.latex(b) + '$'\n",
    "display(Markdown(a))"
   ]
  },
  {
   "cell_type": "markdown",
   "metadata": {},
   "source": [
    "## 我的程式碼計算的結果"
   ]
  },
  {
   "cell_type": "code",
   "execution_count": 30,
   "metadata": {},
   "outputs": [
    {
     "name": "stdout",
     "output_type": "stream",
     "text": [
      "恰有一解\n"
     ]
    },
    {
     "data": {
      "text/markdown": [
       "### $x_\\;=\\left[\\begin{matrix}\\frac{1416571}{1528025}\\\\\\frac{439413}{1528025}\\\\- \\frac{959852}{1528025}\\end{matrix}\\right],\\;Ax_\\;=\\left[\\begin{matrix}120\\\\10\\\\-23\\end{matrix}\\right],\\;b\\;=\\left[\\begin{matrix}120\\\\10\\\\-23\\end{matrix}\\right]→\\;Ax = b  (成立)$"
      ],
      "text/plain": [
       "<IPython.core.display.Markdown object>"
      ]
     },
     "metadata": {},
     "output_type": "display_data"
    }
   ],
   "source": [
    "state, x = Cramer(A, b)\n",
    "print(state)\n",
    "\n",
    "a1 = '### $'+'x_\\;=' + sp.latex(x) + ',\\;' + 'Ax_\\;=' \n",
    "a2 = sp.latex(A*x) + ',\\;' + 'b\\;=' + sp.latex(b) + '→\\;' + 'Ax = b  (成立)'+'$'\n",
    "a3 = a1 + a2\n",
    "display(Markdown(a3))"
   ]
  },
  {
   "cell_type": "markdown",
   "metadata": {},
   "source": [
    "### 因為我的程式碼計算出來的$x$矩陣可以滿足$Ax=b$，且沒有發生編譯錯誤或是計算錯誤，因此這個答案是正確的"
   ]
  },
  {
   "cell_type": "markdown",
   "metadata": {},
   "source": [
    "## 2.無解"
   ]
  },
  {
   "cell_type": "markdown",
   "metadata": {},
   "source": [
    "###   $\\begin{cases}-4x+2y-z=-1\\\\3x+y+3z=1 \\;\\;\\;\\;\\;-→\\\\2x+4y+5z=3\\end{cases}  \\left[\\begin{matrix}-4 & 2 & -1\\\\3 & 1 & 3\\\\2 & 4 & 5\\end{matrix}\\right]  \\left[\\begin{matrix}x\\\\y\\\\z\\end{matrix}\\right]  =  \\left[\\begin{matrix}-1\\\\1\\\\3\\end{matrix}\\right]$'"
   ]
  },
  {
   "cell_type": "code",
   "execution_count": 31,
   "metadata": {},
   "outputs": [],
   "source": [
    "from sympy.abc import x, y, z\n",
    "import sympy as sp"
   ]
  },
  {
   "cell_type": "code",
   "execution_count": 32,
   "metadata": {},
   "outputs": [],
   "source": [
    "from IPython.display import display, Markdown"
   ]
  },
  {
   "cell_type": "code",
   "execution_count": 33,
   "metadata": {},
   "outputs": [
    {
     "data": {
      "text/markdown": [
       "### $A\\;=\\left[\\begin{matrix}-4 & 2 & -1\\\\3 & 1 & 3\\\\2 & 4 & 5\\end{matrix}\\right],\\;x(matrix)\\;=\\left[\\begin{matrix}x\\\\y\\\\z\\end{matrix}\\right],\\;b\\;=\\left[\\begin{matrix}-1\\\\1\\\\3\\end{matrix}\\right]$"
      ],
      "text/plain": [
       "<IPython.core.display.Markdown object>"
      ]
     },
     "metadata": {},
     "output_type": "display_data"
    }
   ],
   "source": [
    "A = sp.Matrix([[-4, 2, -1], \n",
    "               [3, 1, 3], \n",
    "               [2, 4, 5]])\n",
    "x_matrix = sp.Matrix([[x], \n",
    "                      [y], \n",
    "                      [z]])\n",
    "b = sp.Matrix([[-1], \n",
    "               [1], \n",
    "               [3]])\n",
    "\n",
    "a = '### $'+'A\\;=' +  sp.latex(A) + ',\\;' + 'x(matrix)\\;=' + sp.latex(x_matrix) + ',\\;' + 'b\\;=' +  sp.latex(b) + '$'\n",
    "display(Markdown(a))"
   ]
  },
  {
   "cell_type": "markdown",
   "metadata": {},
   "source": [
    "## 我的程式碼計算的結果"
   ]
  },
  {
   "cell_type": "code",
   "execution_count": 34,
   "metadata": {},
   "outputs": [
    {
     "name": "stdout",
     "output_type": "stream",
     "text": [
      "無解\n"
     ]
    },
    {
     "data": {
      "text/plain": [
       "''"
      ]
     },
     "execution_count": 34,
     "metadata": {},
     "output_type": "execute_result"
    }
   ],
   "source": [
    "state, x = Cramer(A, b)\n",
    "print(state)\n",
    "x"
   ]
  },
  {
   "cell_type": "markdown",
   "metadata": {},
   "source": [
    "### 下面為了驗證我的判斷，我在下面將該線性方程組的圖形畫出來，利用這些平面之間的幾何關係來驗證我的判斷是否正確。"
   ]
  },
  {
   "cell_type": "code",
   "execution_count": 35,
   "metadata": {},
   "outputs": [],
   "source": [
    "%matplotlib notebook\n",
    "from mpl_toolkits.mplot3d import Axes3D\n",
    "import matplotlib.pyplot as plt\n",
    "import numpy as np\n",
    "%config InlineBackend.figure_format  = 'svg'"
   ]
  },
  {
   "cell_type": "code",
   "execution_count": 39,
   "metadata": {},
   "outputs": [
    {
     "data": {
      "application/javascript": [
       "/* Put everything inside the global mpl namespace */\n",
       "/* global mpl */\n",
       "window.mpl = {};\n",
       "\n",
       "mpl.get_websocket_type = function () {\n",
       "    if (typeof WebSocket !== 'undefined') {\n",
       "        return WebSocket;\n",
       "    } else if (typeof MozWebSocket !== 'undefined') {\n",
       "        return MozWebSocket;\n",
       "    } else {\n",
       "        alert(\n",
       "            'Your browser does not have WebSocket support. ' +\n",
       "                'Please try Chrome, Safari or Firefox ≥ 6. ' +\n",
       "                'Firefox 4 and 5 are also supported but you ' +\n",
       "                'have to enable WebSockets in about:config.'\n",
       "        );\n",
       "    }\n",
       "};\n",
       "\n",
       "mpl.figure = function (figure_id, websocket, ondownload, parent_element) {\n",
       "    this.id = figure_id;\n",
       "\n",
       "    this.ws = websocket;\n",
       "\n",
       "    this.supports_binary = this.ws.binaryType !== undefined;\n",
       "\n",
       "    if (!this.supports_binary) {\n",
       "        var warnings = document.getElementById('mpl-warnings');\n",
       "        if (warnings) {\n",
       "            warnings.style.display = 'block';\n",
       "            warnings.textContent =\n",
       "                'This browser does not support binary websocket messages. ' +\n",
       "                'Performance may be slow.';\n",
       "        }\n",
       "    }\n",
       "\n",
       "    this.imageObj = new Image();\n",
       "\n",
       "    this.context = undefined;\n",
       "    this.message = undefined;\n",
       "    this.canvas = undefined;\n",
       "    this.rubberband_canvas = undefined;\n",
       "    this.rubberband_context = undefined;\n",
       "    this.format_dropdown = undefined;\n",
       "\n",
       "    this.image_mode = 'full';\n",
       "\n",
       "    this.root = document.createElement('div');\n",
       "    this.root.setAttribute('style', 'display: inline-block');\n",
       "    this._root_extra_style(this.root);\n",
       "\n",
       "    parent_element.appendChild(this.root);\n",
       "\n",
       "    this._init_header(this);\n",
       "    this._init_canvas(this);\n",
       "    this._init_toolbar(this);\n",
       "\n",
       "    var fig = this;\n",
       "\n",
       "    this.waiting = false;\n",
       "\n",
       "    this.ws.onopen = function () {\n",
       "        fig.send_message('supports_binary', { value: fig.supports_binary });\n",
       "        fig.send_message('send_image_mode', {});\n",
       "        if (fig.ratio !== 1) {\n",
       "            fig.send_message('set_dpi_ratio', { dpi_ratio: fig.ratio });\n",
       "        }\n",
       "        fig.send_message('refresh', {});\n",
       "    };\n",
       "\n",
       "    this.imageObj.onload = function () {\n",
       "        if (fig.image_mode === 'full') {\n",
       "            // Full images could contain transparency (where diff images\n",
       "            // almost always do), so we need to clear the canvas so that\n",
       "            // there is no ghosting.\n",
       "            fig.context.clearRect(0, 0, fig.canvas.width, fig.canvas.height);\n",
       "        }\n",
       "        fig.context.drawImage(fig.imageObj, 0, 0);\n",
       "    };\n",
       "\n",
       "    this.imageObj.onunload = function () {\n",
       "        fig.ws.close();\n",
       "    };\n",
       "\n",
       "    this.ws.onmessage = this._make_on_message_function(this);\n",
       "\n",
       "    this.ondownload = ondownload;\n",
       "};\n",
       "\n",
       "mpl.figure.prototype._init_header = function () {\n",
       "    var titlebar = document.createElement('div');\n",
       "    titlebar.classList =\n",
       "        'ui-dialog-titlebar ui-widget-header ui-corner-all ui-helper-clearfix';\n",
       "    var titletext = document.createElement('div');\n",
       "    titletext.classList = 'ui-dialog-title';\n",
       "    titletext.setAttribute(\n",
       "        'style',\n",
       "        'width: 100%; text-align: center; padding: 3px;'\n",
       "    );\n",
       "    titlebar.appendChild(titletext);\n",
       "    this.root.appendChild(titlebar);\n",
       "    this.header = titletext;\n",
       "};\n",
       "\n",
       "mpl.figure.prototype._canvas_extra_style = function (_canvas_div) {};\n",
       "\n",
       "mpl.figure.prototype._root_extra_style = function (_canvas_div) {};\n",
       "\n",
       "mpl.figure.prototype._init_canvas = function () {\n",
       "    var fig = this;\n",
       "\n",
       "    var canvas_div = (this.canvas_div = document.createElement('div'));\n",
       "    canvas_div.setAttribute(\n",
       "        'style',\n",
       "        'border: 1px solid #ddd;' +\n",
       "            'box-sizing: content-box;' +\n",
       "            'clear: both;' +\n",
       "            'min-height: 1px;' +\n",
       "            'min-width: 1px;' +\n",
       "            'outline: 0;' +\n",
       "            'overflow: hidden;' +\n",
       "            'position: relative;' +\n",
       "            'resize: both;'\n",
       "    );\n",
       "\n",
       "    function on_keyboard_event_closure(name) {\n",
       "        return function (event) {\n",
       "            return fig.key_event(event, name);\n",
       "        };\n",
       "    }\n",
       "\n",
       "    canvas_div.addEventListener(\n",
       "        'keydown',\n",
       "        on_keyboard_event_closure('key_press')\n",
       "    );\n",
       "    canvas_div.addEventListener(\n",
       "        'keyup',\n",
       "        on_keyboard_event_closure('key_release')\n",
       "    );\n",
       "\n",
       "    this._canvas_extra_style(canvas_div);\n",
       "    this.root.appendChild(canvas_div);\n",
       "\n",
       "    var canvas = (this.canvas = document.createElement('canvas'));\n",
       "    canvas.classList.add('mpl-canvas');\n",
       "    canvas.setAttribute('style', 'box-sizing: content-box;');\n",
       "\n",
       "    this.context = canvas.getContext('2d');\n",
       "\n",
       "    var backingStore =\n",
       "        this.context.backingStorePixelRatio ||\n",
       "        this.context.webkitBackingStorePixelRatio ||\n",
       "        this.context.mozBackingStorePixelRatio ||\n",
       "        this.context.msBackingStorePixelRatio ||\n",
       "        this.context.oBackingStorePixelRatio ||\n",
       "        this.context.backingStorePixelRatio ||\n",
       "        1;\n",
       "\n",
       "    this.ratio = (window.devicePixelRatio || 1) / backingStore;\n",
       "\n",
       "    var rubberband_canvas = (this.rubberband_canvas = document.createElement(\n",
       "        'canvas'\n",
       "    ));\n",
       "    rubberband_canvas.setAttribute(\n",
       "        'style',\n",
       "        'box-sizing: content-box; position: absolute; left: 0; top: 0; z-index: 1;'\n",
       "    );\n",
       "\n",
       "    // Apply a ponyfill if ResizeObserver is not implemented by browser.\n",
       "    if (this.ResizeObserver === undefined) {\n",
       "        if (window.ResizeObserver !== undefined) {\n",
       "            this.ResizeObserver = window.ResizeObserver;\n",
       "        } else {\n",
       "            var obs = _JSXTOOLS_RESIZE_OBSERVER({});\n",
       "            this.ResizeObserver = obs.ResizeObserver;\n",
       "        }\n",
       "    }\n",
       "\n",
       "    this.resizeObserverInstance = new this.ResizeObserver(function (entries) {\n",
       "        var nentries = entries.length;\n",
       "        for (var i = 0; i < nentries; i++) {\n",
       "            var entry = entries[i];\n",
       "            var width, height;\n",
       "            if (entry.contentBoxSize) {\n",
       "                if (entry.contentBoxSize instanceof Array) {\n",
       "                    // Chrome 84 implements new version of spec.\n",
       "                    width = entry.contentBoxSize[0].inlineSize;\n",
       "                    height = entry.contentBoxSize[0].blockSize;\n",
       "                } else {\n",
       "                    // Firefox implements old version of spec.\n",
       "                    width = entry.contentBoxSize.inlineSize;\n",
       "                    height = entry.contentBoxSize.blockSize;\n",
       "                }\n",
       "            } else {\n",
       "                // Chrome <84 implements even older version of spec.\n",
       "                width = entry.contentRect.width;\n",
       "                height = entry.contentRect.height;\n",
       "            }\n",
       "\n",
       "            // Keep the size of the canvas and rubber band canvas in sync with\n",
       "            // the canvas container.\n",
       "            if (entry.devicePixelContentBoxSize) {\n",
       "                // Chrome 84 implements new version of spec.\n",
       "                canvas.setAttribute(\n",
       "                    'width',\n",
       "                    entry.devicePixelContentBoxSize[0].inlineSize\n",
       "                );\n",
       "                canvas.setAttribute(\n",
       "                    'height',\n",
       "                    entry.devicePixelContentBoxSize[0].blockSize\n",
       "                );\n",
       "            } else {\n",
       "                canvas.setAttribute('width', width * fig.ratio);\n",
       "                canvas.setAttribute('height', height * fig.ratio);\n",
       "            }\n",
       "            canvas.setAttribute(\n",
       "                'style',\n",
       "                'width: ' + width + 'px; height: ' + height + 'px;'\n",
       "            );\n",
       "\n",
       "            rubberband_canvas.setAttribute('width', width);\n",
       "            rubberband_canvas.setAttribute('height', height);\n",
       "\n",
       "            // And update the size in Python. We ignore the initial 0/0 size\n",
       "            // that occurs as the element is placed into the DOM, which should\n",
       "            // otherwise not happen due to the minimum size styling.\n",
       "            if (fig.ws.readyState == 1 && width != 0 && height != 0) {\n",
       "                fig.request_resize(width, height);\n",
       "            }\n",
       "        }\n",
       "    });\n",
       "    this.resizeObserverInstance.observe(canvas_div);\n",
       "\n",
       "    function on_mouse_event_closure(name) {\n",
       "        return function (event) {\n",
       "            return fig.mouse_event(event, name);\n",
       "        };\n",
       "    }\n",
       "\n",
       "    rubberband_canvas.addEventListener(\n",
       "        'mousedown',\n",
       "        on_mouse_event_closure('button_press')\n",
       "    );\n",
       "    rubberband_canvas.addEventListener(\n",
       "        'mouseup',\n",
       "        on_mouse_event_closure('button_release')\n",
       "    );\n",
       "    rubberband_canvas.addEventListener(\n",
       "        'dblclick',\n",
       "        on_mouse_event_closure('dblclick')\n",
       "    );\n",
       "    // Throttle sequential mouse events to 1 every 20ms.\n",
       "    rubberband_canvas.addEventListener(\n",
       "        'mousemove',\n",
       "        on_mouse_event_closure('motion_notify')\n",
       "    );\n",
       "\n",
       "    rubberband_canvas.addEventListener(\n",
       "        'mouseenter',\n",
       "        on_mouse_event_closure('figure_enter')\n",
       "    );\n",
       "    rubberband_canvas.addEventListener(\n",
       "        'mouseleave',\n",
       "        on_mouse_event_closure('figure_leave')\n",
       "    );\n",
       "\n",
       "    canvas_div.addEventListener('wheel', function (event) {\n",
       "        if (event.deltaY < 0) {\n",
       "            event.step = 1;\n",
       "        } else {\n",
       "            event.step = -1;\n",
       "        }\n",
       "        on_mouse_event_closure('scroll')(event);\n",
       "    });\n",
       "\n",
       "    canvas_div.appendChild(canvas);\n",
       "    canvas_div.appendChild(rubberband_canvas);\n",
       "\n",
       "    this.rubberband_context = rubberband_canvas.getContext('2d');\n",
       "    this.rubberband_context.strokeStyle = '#000000';\n",
       "\n",
       "    this._resize_canvas = function (width, height, forward) {\n",
       "        if (forward) {\n",
       "            canvas_div.style.width = width + 'px';\n",
       "            canvas_div.style.height = height + 'px';\n",
       "        }\n",
       "    };\n",
       "\n",
       "    // Disable right mouse context menu.\n",
       "    this.rubberband_canvas.addEventListener('contextmenu', function (_e) {\n",
       "        event.preventDefault();\n",
       "        return false;\n",
       "    });\n",
       "\n",
       "    function set_focus() {\n",
       "        canvas.focus();\n",
       "        canvas_div.focus();\n",
       "    }\n",
       "\n",
       "    window.setTimeout(set_focus, 100);\n",
       "};\n",
       "\n",
       "mpl.figure.prototype._init_toolbar = function () {\n",
       "    var fig = this;\n",
       "\n",
       "    var toolbar = document.createElement('div');\n",
       "    toolbar.classList = 'mpl-toolbar';\n",
       "    this.root.appendChild(toolbar);\n",
       "\n",
       "    function on_click_closure(name) {\n",
       "        return function (_event) {\n",
       "            return fig.toolbar_button_onclick(name);\n",
       "        };\n",
       "    }\n",
       "\n",
       "    function on_mouseover_closure(tooltip) {\n",
       "        return function (event) {\n",
       "            if (!event.currentTarget.disabled) {\n",
       "                return fig.toolbar_button_onmouseover(tooltip);\n",
       "            }\n",
       "        };\n",
       "    }\n",
       "\n",
       "    fig.buttons = {};\n",
       "    var buttonGroup = document.createElement('div');\n",
       "    buttonGroup.classList = 'mpl-button-group';\n",
       "    for (var toolbar_ind in mpl.toolbar_items) {\n",
       "        var name = mpl.toolbar_items[toolbar_ind][0];\n",
       "        var tooltip = mpl.toolbar_items[toolbar_ind][1];\n",
       "        var image = mpl.toolbar_items[toolbar_ind][2];\n",
       "        var method_name = mpl.toolbar_items[toolbar_ind][3];\n",
       "\n",
       "        if (!name) {\n",
       "            /* Instead of a spacer, we start a new button group. */\n",
       "            if (buttonGroup.hasChildNodes()) {\n",
       "                toolbar.appendChild(buttonGroup);\n",
       "            }\n",
       "            buttonGroup = document.createElement('div');\n",
       "            buttonGroup.classList = 'mpl-button-group';\n",
       "            continue;\n",
       "        }\n",
       "\n",
       "        var button = (fig.buttons[name] = document.createElement('button'));\n",
       "        button.classList = 'mpl-widget';\n",
       "        button.setAttribute('role', 'button');\n",
       "        button.setAttribute('aria-disabled', 'false');\n",
       "        button.addEventListener('click', on_click_closure(method_name));\n",
       "        button.addEventListener('mouseover', on_mouseover_closure(tooltip));\n",
       "\n",
       "        var icon_img = document.createElement('img');\n",
       "        icon_img.src = '_images/' + image + '.png';\n",
       "        icon_img.srcset = '_images/' + image + '_large.png 2x';\n",
       "        icon_img.alt = tooltip;\n",
       "        button.appendChild(icon_img);\n",
       "\n",
       "        buttonGroup.appendChild(button);\n",
       "    }\n",
       "\n",
       "    if (buttonGroup.hasChildNodes()) {\n",
       "        toolbar.appendChild(buttonGroup);\n",
       "    }\n",
       "\n",
       "    var fmt_picker = document.createElement('select');\n",
       "    fmt_picker.classList = 'mpl-widget';\n",
       "    toolbar.appendChild(fmt_picker);\n",
       "    this.format_dropdown = fmt_picker;\n",
       "\n",
       "    for (var ind in mpl.extensions) {\n",
       "        var fmt = mpl.extensions[ind];\n",
       "        var option = document.createElement('option');\n",
       "        option.selected = fmt === mpl.default_extension;\n",
       "        option.innerHTML = fmt;\n",
       "        fmt_picker.appendChild(option);\n",
       "    }\n",
       "\n",
       "    var status_bar = document.createElement('span');\n",
       "    status_bar.classList = 'mpl-message';\n",
       "    toolbar.appendChild(status_bar);\n",
       "    this.message = status_bar;\n",
       "};\n",
       "\n",
       "mpl.figure.prototype.request_resize = function (x_pixels, y_pixels) {\n",
       "    // Request matplotlib to resize the figure. Matplotlib will then trigger a resize in the client,\n",
       "    // which will in turn request a refresh of the image.\n",
       "    this.send_message('resize', { width: x_pixels, height: y_pixels });\n",
       "};\n",
       "\n",
       "mpl.figure.prototype.send_message = function (type, properties) {\n",
       "    properties['type'] = type;\n",
       "    properties['figure_id'] = this.id;\n",
       "    this.ws.send(JSON.stringify(properties));\n",
       "};\n",
       "\n",
       "mpl.figure.prototype.send_draw_message = function () {\n",
       "    if (!this.waiting) {\n",
       "        this.waiting = true;\n",
       "        this.ws.send(JSON.stringify({ type: 'draw', figure_id: this.id }));\n",
       "    }\n",
       "};\n",
       "\n",
       "mpl.figure.prototype.handle_save = function (fig, _msg) {\n",
       "    var format_dropdown = fig.format_dropdown;\n",
       "    var format = format_dropdown.options[format_dropdown.selectedIndex].value;\n",
       "    fig.ondownload(fig, format);\n",
       "};\n",
       "\n",
       "mpl.figure.prototype.handle_resize = function (fig, msg) {\n",
       "    var size = msg['size'];\n",
       "    if (size[0] !== fig.canvas.width || size[1] !== fig.canvas.height) {\n",
       "        fig._resize_canvas(size[0], size[1], msg['forward']);\n",
       "        fig.send_message('refresh', {});\n",
       "    }\n",
       "};\n",
       "\n",
       "mpl.figure.prototype.handle_rubberband = function (fig, msg) {\n",
       "    var x0 = msg['x0'] / fig.ratio;\n",
       "    var y0 = (fig.canvas.height - msg['y0']) / fig.ratio;\n",
       "    var x1 = msg['x1'] / fig.ratio;\n",
       "    var y1 = (fig.canvas.height - msg['y1']) / fig.ratio;\n",
       "    x0 = Math.floor(x0) + 0.5;\n",
       "    y0 = Math.floor(y0) + 0.5;\n",
       "    x1 = Math.floor(x1) + 0.5;\n",
       "    y1 = Math.floor(y1) + 0.5;\n",
       "    var min_x = Math.min(x0, x1);\n",
       "    var min_y = Math.min(y0, y1);\n",
       "    var width = Math.abs(x1 - x0);\n",
       "    var height = Math.abs(y1 - y0);\n",
       "\n",
       "    fig.rubberband_context.clearRect(\n",
       "        0,\n",
       "        0,\n",
       "        fig.canvas.width / fig.ratio,\n",
       "        fig.canvas.height / fig.ratio\n",
       "    );\n",
       "\n",
       "    fig.rubberband_context.strokeRect(min_x, min_y, width, height);\n",
       "};\n",
       "\n",
       "mpl.figure.prototype.handle_figure_label = function (fig, msg) {\n",
       "    // Updates the figure title.\n",
       "    fig.header.textContent = msg['label'];\n",
       "};\n",
       "\n",
       "mpl.figure.prototype.handle_cursor = function (fig, msg) {\n",
       "    var cursor = msg['cursor'];\n",
       "    switch (cursor) {\n",
       "        case 0:\n",
       "            cursor = 'pointer';\n",
       "            break;\n",
       "        case 1:\n",
       "            cursor = 'default';\n",
       "            break;\n",
       "        case 2:\n",
       "            cursor = 'crosshair';\n",
       "            break;\n",
       "        case 3:\n",
       "            cursor = 'move';\n",
       "            break;\n",
       "    }\n",
       "    fig.rubberband_canvas.style.cursor = cursor;\n",
       "};\n",
       "\n",
       "mpl.figure.prototype.handle_message = function (fig, msg) {\n",
       "    fig.message.textContent = msg['message'];\n",
       "};\n",
       "\n",
       "mpl.figure.prototype.handle_draw = function (fig, _msg) {\n",
       "    // Request the server to send over a new figure.\n",
       "    fig.send_draw_message();\n",
       "};\n",
       "\n",
       "mpl.figure.prototype.handle_image_mode = function (fig, msg) {\n",
       "    fig.image_mode = msg['mode'];\n",
       "};\n",
       "\n",
       "mpl.figure.prototype.handle_history_buttons = function (fig, msg) {\n",
       "    for (var key in msg) {\n",
       "        if (!(key in fig.buttons)) {\n",
       "            continue;\n",
       "        }\n",
       "        fig.buttons[key].disabled = !msg[key];\n",
       "        fig.buttons[key].setAttribute('aria-disabled', !msg[key]);\n",
       "    }\n",
       "};\n",
       "\n",
       "mpl.figure.prototype.handle_navigate_mode = function (fig, msg) {\n",
       "    if (msg['mode'] === 'PAN') {\n",
       "        fig.buttons['Pan'].classList.add('active');\n",
       "        fig.buttons['Zoom'].classList.remove('active');\n",
       "    } else if (msg['mode'] === 'ZOOM') {\n",
       "        fig.buttons['Pan'].classList.remove('active');\n",
       "        fig.buttons['Zoom'].classList.add('active');\n",
       "    } else {\n",
       "        fig.buttons['Pan'].classList.remove('active');\n",
       "        fig.buttons['Zoom'].classList.remove('active');\n",
       "    }\n",
       "};\n",
       "\n",
       "mpl.figure.prototype.updated_canvas_event = function () {\n",
       "    // Called whenever the canvas gets updated.\n",
       "    this.send_message('ack', {});\n",
       "};\n",
       "\n",
       "// A function to construct a web socket function for onmessage handling.\n",
       "// Called in the figure constructor.\n",
       "mpl.figure.prototype._make_on_message_function = function (fig) {\n",
       "    return function socket_on_message(evt) {\n",
       "        if (evt.data instanceof Blob) {\n",
       "            var img = evt.data;\n",
       "            if (img.type !== 'image/png') {\n",
       "                /* FIXME: We get \"Resource interpreted as Image but\n",
       "                 * transferred with MIME type text/plain:\" errors on\n",
       "                 * Chrome.  But how to set the MIME type?  It doesn't seem\n",
       "                 * to be part of the websocket stream */\n",
       "                img.type = 'image/png';\n",
       "            }\n",
       "\n",
       "            /* Free the memory for the previous frames */\n",
       "            if (fig.imageObj.src) {\n",
       "                (window.URL || window.webkitURL).revokeObjectURL(\n",
       "                    fig.imageObj.src\n",
       "                );\n",
       "            }\n",
       "\n",
       "            fig.imageObj.src = (window.URL || window.webkitURL).createObjectURL(\n",
       "                img\n",
       "            );\n",
       "            fig.updated_canvas_event();\n",
       "            fig.waiting = false;\n",
       "            return;\n",
       "        } else if (\n",
       "            typeof evt.data === 'string' &&\n",
       "            evt.data.slice(0, 21) === 'data:image/png;base64'\n",
       "        ) {\n",
       "            fig.imageObj.src = evt.data;\n",
       "            fig.updated_canvas_event();\n",
       "            fig.waiting = false;\n",
       "            return;\n",
       "        }\n",
       "\n",
       "        var msg = JSON.parse(evt.data);\n",
       "        var msg_type = msg['type'];\n",
       "\n",
       "        // Call the  \"handle_{type}\" callback, which takes\n",
       "        // the figure and JSON message as its only arguments.\n",
       "        try {\n",
       "            var callback = fig['handle_' + msg_type];\n",
       "        } catch (e) {\n",
       "            console.log(\n",
       "                \"No handler for the '\" + msg_type + \"' message type: \",\n",
       "                msg\n",
       "            );\n",
       "            return;\n",
       "        }\n",
       "\n",
       "        if (callback) {\n",
       "            try {\n",
       "                // console.log(\"Handling '\" + msg_type + \"' message: \", msg);\n",
       "                callback(fig, msg);\n",
       "            } catch (e) {\n",
       "                console.log(\n",
       "                    \"Exception inside the 'handler_\" + msg_type + \"' callback:\",\n",
       "                    e,\n",
       "                    e.stack,\n",
       "                    msg\n",
       "                );\n",
       "            }\n",
       "        }\n",
       "    };\n",
       "};\n",
       "\n",
       "// from http://stackoverflow.com/questions/1114465/getting-mouse-location-in-canvas\n",
       "mpl.findpos = function (e) {\n",
       "    //this section is from http://www.quirksmode.org/js/events_properties.html\n",
       "    var targ;\n",
       "    if (!e) {\n",
       "        e = window.event;\n",
       "    }\n",
       "    if (e.target) {\n",
       "        targ = e.target;\n",
       "    } else if (e.srcElement) {\n",
       "        targ = e.srcElement;\n",
       "    }\n",
       "    if (targ.nodeType === 3) {\n",
       "        // defeat Safari bug\n",
       "        targ = targ.parentNode;\n",
       "    }\n",
       "\n",
       "    // pageX,Y are the mouse positions relative to the document\n",
       "    var boundingRect = targ.getBoundingClientRect();\n",
       "    var x = e.pageX - (boundingRect.left + document.body.scrollLeft);\n",
       "    var y = e.pageY - (boundingRect.top + document.body.scrollTop);\n",
       "\n",
       "    return { x: x, y: y };\n",
       "};\n",
       "\n",
       "/*\n",
       " * return a copy of an object with only non-object keys\n",
       " * we need this to avoid circular references\n",
       " * http://stackoverflow.com/a/24161582/3208463\n",
       " */\n",
       "function simpleKeys(original) {\n",
       "    return Object.keys(original).reduce(function (obj, key) {\n",
       "        if (typeof original[key] !== 'object') {\n",
       "            obj[key] = original[key];\n",
       "        }\n",
       "        return obj;\n",
       "    }, {});\n",
       "}\n",
       "\n",
       "mpl.figure.prototype.mouse_event = function (event, name) {\n",
       "    var canvas_pos = mpl.findpos(event);\n",
       "\n",
       "    if (name === 'button_press') {\n",
       "        this.canvas.focus();\n",
       "        this.canvas_div.focus();\n",
       "    }\n",
       "\n",
       "    var x = canvas_pos.x * this.ratio;\n",
       "    var y = canvas_pos.y * this.ratio;\n",
       "\n",
       "    this.send_message(name, {\n",
       "        x: x,\n",
       "        y: y,\n",
       "        button: event.button,\n",
       "        step: event.step,\n",
       "        guiEvent: simpleKeys(event),\n",
       "    });\n",
       "\n",
       "    /* This prevents the web browser from automatically changing to\n",
       "     * the text insertion cursor when the button is pressed.  We want\n",
       "     * to control all of the cursor setting manually through the\n",
       "     * 'cursor' event from matplotlib */\n",
       "    event.preventDefault();\n",
       "    return false;\n",
       "};\n",
       "\n",
       "mpl.figure.prototype._key_event_extra = function (_event, _name) {\n",
       "    // Handle any extra behaviour associated with a key event\n",
       "};\n",
       "\n",
       "mpl.figure.prototype.key_event = function (event, name) {\n",
       "    // Prevent repeat events\n",
       "    if (name === 'key_press') {\n",
       "        if (event.key === this._key) {\n",
       "            return;\n",
       "        } else {\n",
       "            this._key = event.key;\n",
       "        }\n",
       "    }\n",
       "    if (name === 'key_release') {\n",
       "        this._key = null;\n",
       "    }\n",
       "\n",
       "    var value = '';\n",
       "    if (event.ctrlKey && event.key !== 'Control') {\n",
       "        value += 'ctrl+';\n",
       "    }\n",
       "    else if (event.altKey && event.key !== 'Alt') {\n",
       "        value += 'alt+';\n",
       "    }\n",
       "    else if (event.shiftKey && event.key !== 'Shift') {\n",
       "        value += 'shift+';\n",
       "    }\n",
       "\n",
       "    value += 'k' + event.key;\n",
       "\n",
       "    this._key_event_extra(event, name);\n",
       "\n",
       "    this.send_message(name, { key: value, guiEvent: simpleKeys(event) });\n",
       "    return false;\n",
       "};\n",
       "\n",
       "mpl.figure.prototype.toolbar_button_onclick = function (name) {\n",
       "    if (name === 'download') {\n",
       "        this.handle_save(this, null);\n",
       "    } else {\n",
       "        this.send_message('toolbar_button', { name: name });\n",
       "    }\n",
       "};\n",
       "\n",
       "mpl.figure.prototype.toolbar_button_onmouseover = function (tooltip) {\n",
       "    this.message.textContent = tooltip;\n",
       "};\n",
       "\n",
       "///////////////// REMAINING CONTENT GENERATED BY embed_js.py /////////////////\n",
       "// prettier-ignore\n",
       "var _JSXTOOLS_RESIZE_OBSERVER=function(A){var t,i=new WeakMap,n=new WeakMap,a=new WeakMap,r=new WeakMap,o=new Set;function s(e){if(!(this instanceof s))throw new TypeError(\"Constructor requires 'new' operator\");i.set(this,e)}function h(){throw new TypeError(\"Function is not a constructor\")}function c(e,t,i,n){e=0 in arguments?Number(arguments[0]):0,t=1 in arguments?Number(arguments[1]):0,i=2 in arguments?Number(arguments[2]):0,n=3 in arguments?Number(arguments[3]):0,this.right=(this.x=this.left=e)+(this.width=i),this.bottom=(this.y=this.top=t)+(this.height=n),Object.freeze(this)}function d(){t=requestAnimationFrame(d);var s=new WeakMap,p=new Set;o.forEach((function(t){r.get(t).forEach((function(i){var r=t instanceof window.SVGElement,o=a.get(t),d=r?0:parseFloat(o.paddingTop),f=r?0:parseFloat(o.paddingRight),l=r?0:parseFloat(o.paddingBottom),u=r?0:parseFloat(o.paddingLeft),g=r?0:parseFloat(o.borderTopWidth),m=r?0:parseFloat(o.borderRightWidth),w=r?0:parseFloat(o.borderBottomWidth),b=u+f,F=d+l,v=(r?0:parseFloat(o.borderLeftWidth))+m,W=g+w,y=r?0:t.offsetHeight-W-t.clientHeight,E=r?0:t.offsetWidth-v-t.clientWidth,R=b+v,z=F+W,M=r?t.width:parseFloat(o.width)-R-E,O=r?t.height:parseFloat(o.height)-z-y;if(n.has(t)){var k=n.get(t);if(k[0]===M&&k[1]===O)return}n.set(t,[M,O]);var S=Object.create(h.prototype);S.target=t,S.contentRect=new c(u,d,M,O),s.has(i)||(s.set(i,[]),p.add(i)),s.get(i).push(S)}))})),p.forEach((function(e){i.get(e).call(e,s.get(e),e)}))}return s.prototype.observe=function(i){if(i instanceof window.Element){r.has(i)||(r.set(i,new Set),o.add(i),a.set(i,window.getComputedStyle(i)));var n=r.get(i);n.has(this)||n.add(this),cancelAnimationFrame(t),t=requestAnimationFrame(d)}},s.prototype.unobserve=function(i){if(i instanceof window.Element&&r.has(i)){var n=r.get(i);n.has(this)&&(n.delete(this),n.size||(r.delete(i),o.delete(i))),n.size||r.delete(i),o.size||cancelAnimationFrame(t)}},A.DOMRectReadOnly=c,A.ResizeObserver=s,A.ResizeObserverEntry=h,A}; // eslint-disable-line\n",
       "mpl.toolbar_items = [[\"Home\", \"Reset original view\", \"fa fa-home icon-home\", \"home\"], [\"Back\", \"Back to previous view\", \"fa fa-arrow-left icon-arrow-left\", \"back\"], [\"Forward\", \"Forward to next view\", \"fa fa-arrow-right icon-arrow-right\", \"forward\"], [\"\", \"\", \"\", \"\"], [\"Pan\", \"Left button pans, Right button zooms\\nx/y fixes axis, CTRL fixes aspect\", \"fa fa-arrows icon-move\", \"pan\"], [\"Zoom\", \"Zoom to rectangle\\nx/y fixes axis, CTRL fixes aspect\", \"fa fa-square-o icon-check-empty\", \"zoom\"], [\"\", \"\", \"\", \"\"], [\"Download\", \"Download plot\", \"fa fa-floppy-o icon-save\", \"download\"]];\n",
       "\n",
       "mpl.extensions = [\"eps\", \"jpeg\", \"pgf\", \"pdf\", \"png\", \"ps\", \"raw\", \"svg\", \"tif\"];\n",
       "\n",
       "mpl.default_extension = \"png\";/* global mpl */\n",
       "\n",
       "var comm_websocket_adapter = function (comm) {\n",
       "    // Create a \"websocket\"-like object which calls the given IPython comm\n",
       "    // object with the appropriate methods. Currently this is a non binary\n",
       "    // socket, so there is still some room for performance tuning.\n",
       "    var ws = {};\n",
       "\n",
       "    ws.binaryType = comm.kernel.ws.binaryType;\n",
       "    ws.readyState = comm.kernel.ws.readyState;\n",
       "    function updateReadyState(_event) {\n",
       "        if (comm.kernel.ws) {\n",
       "            ws.readyState = comm.kernel.ws.readyState;\n",
       "        } else {\n",
       "            ws.readyState = 3; // Closed state.\n",
       "        }\n",
       "    }\n",
       "    comm.kernel.ws.addEventListener('open', updateReadyState);\n",
       "    comm.kernel.ws.addEventListener('close', updateReadyState);\n",
       "    comm.kernel.ws.addEventListener('error', updateReadyState);\n",
       "\n",
       "    ws.close = function () {\n",
       "        comm.close();\n",
       "    };\n",
       "    ws.send = function (m) {\n",
       "        //console.log('sending', m);\n",
       "        comm.send(m);\n",
       "    };\n",
       "    // Register the callback with on_msg.\n",
       "    comm.on_msg(function (msg) {\n",
       "        //console.log('receiving', msg['content']['data'], msg);\n",
       "        var data = msg['content']['data'];\n",
       "        if (data['blob'] !== undefined) {\n",
       "            data = {\n",
       "                data: new Blob(msg['buffers'], { type: data['blob'] }),\n",
       "            };\n",
       "        }\n",
       "        // Pass the mpl event to the overridden (by mpl) onmessage function.\n",
       "        ws.onmessage(data);\n",
       "    });\n",
       "    return ws;\n",
       "};\n",
       "\n",
       "mpl.mpl_figure_comm = function (comm, msg) {\n",
       "    // This is the function which gets called when the mpl process\n",
       "    // starts-up an IPython Comm through the \"matplotlib\" channel.\n",
       "\n",
       "    var id = msg.content.data.id;\n",
       "    // Get hold of the div created by the display call when the Comm\n",
       "    // socket was opened in Python.\n",
       "    var element = document.getElementById(id);\n",
       "    var ws_proxy = comm_websocket_adapter(comm);\n",
       "\n",
       "    function ondownload(figure, _format) {\n",
       "        window.open(figure.canvas.toDataURL());\n",
       "    }\n",
       "\n",
       "    var fig = new mpl.figure(id, ws_proxy, ondownload, element);\n",
       "\n",
       "    // Call onopen now - mpl needs it, as it is assuming we've passed it a real\n",
       "    // web socket which is closed, not our websocket->open comm proxy.\n",
       "    ws_proxy.onopen();\n",
       "\n",
       "    fig.parent_element = element;\n",
       "    fig.cell_info = mpl.find_output_cell(\"<div id='\" + id + \"'></div>\");\n",
       "    if (!fig.cell_info) {\n",
       "        console.error('Failed to find cell for figure', id, fig);\n",
       "        return;\n",
       "    }\n",
       "    fig.cell_info[0].output_area.element.on(\n",
       "        'cleared',\n",
       "        { fig: fig },\n",
       "        fig._remove_fig_handler\n",
       "    );\n",
       "};\n",
       "\n",
       "mpl.figure.prototype.handle_close = function (fig, msg) {\n",
       "    var width = fig.canvas.width / fig.ratio;\n",
       "    fig.cell_info[0].output_area.element.off(\n",
       "        'cleared',\n",
       "        fig._remove_fig_handler\n",
       "    );\n",
       "    fig.resizeObserverInstance.unobserve(fig.canvas_div);\n",
       "\n",
       "    // Update the output cell to use the data from the current canvas.\n",
       "    fig.push_to_output();\n",
       "    var dataURL = fig.canvas.toDataURL();\n",
       "    // Re-enable the keyboard manager in IPython - without this line, in FF,\n",
       "    // the notebook keyboard shortcuts fail.\n",
       "    IPython.keyboard_manager.enable();\n",
       "    fig.parent_element.innerHTML =\n",
       "        '<img src=\"' + dataURL + '\" width=\"' + width + '\">';\n",
       "    fig.close_ws(fig, msg);\n",
       "};\n",
       "\n",
       "mpl.figure.prototype.close_ws = function (fig, msg) {\n",
       "    fig.send_message('closing', msg);\n",
       "    // fig.ws.close()\n",
       "};\n",
       "\n",
       "mpl.figure.prototype.push_to_output = function (_remove_interactive) {\n",
       "    // Turn the data on the canvas into data in the output cell.\n",
       "    var width = this.canvas.width / this.ratio;\n",
       "    var dataURL = this.canvas.toDataURL();\n",
       "    this.cell_info[1]['text/html'] =\n",
       "        '<img src=\"' + dataURL + '\" width=\"' + width + '\">';\n",
       "};\n",
       "\n",
       "mpl.figure.prototype.updated_canvas_event = function () {\n",
       "    // Tell IPython that the notebook contents must change.\n",
       "    IPython.notebook.set_dirty(true);\n",
       "    this.send_message('ack', {});\n",
       "    var fig = this;\n",
       "    // Wait a second, then push the new image to the DOM so\n",
       "    // that it is saved nicely (might be nice to debounce this).\n",
       "    setTimeout(function () {\n",
       "        fig.push_to_output();\n",
       "    }, 1000);\n",
       "};\n",
       "\n",
       "mpl.figure.prototype._init_toolbar = function () {\n",
       "    var fig = this;\n",
       "\n",
       "    var toolbar = document.createElement('div');\n",
       "    toolbar.classList = 'btn-toolbar';\n",
       "    this.root.appendChild(toolbar);\n",
       "\n",
       "    function on_click_closure(name) {\n",
       "        return function (_event) {\n",
       "            return fig.toolbar_button_onclick(name);\n",
       "        };\n",
       "    }\n",
       "\n",
       "    function on_mouseover_closure(tooltip) {\n",
       "        return function (event) {\n",
       "            if (!event.currentTarget.disabled) {\n",
       "                return fig.toolbar_button_onmouseover(tooltip);\n",
       "            }\n",
       "        };\n",
       "    }\n",
       "\n",
       "    fig.buttons = {};\n",
       "    var buttonGroup = document.createElement('div');\n",
       "    buttonGroup.classList = 'btn-group';\n",
       "    var button;\n",
       "    for (var toolbar_ind in mpl.toolbar_items) {\n",
       "        var name = mpl.toolbar_items[toolbar_ind][0];\n",
       "        var tooltip = mpl.toolbar_items[toolbar_ind][1];\n",
       "        var image = mpl.toolbar_items[toolbar_ind][2];\n",
       "        var method_name = mpl.toolbar_items[toolbar_ind][3];\n",
       "\n",
       "        if (!name) {\n",
       "            /* Instead of a spacer, we start a new button group. */\n",
       "            if (buttonGroup.hasChildNodes()) {\n",
       "                toolbar.appendChild(buttonGroup);\n",
       "            }\n",
       "            buttonGroup = document.createElement('div');\n",
       "            buttonGroup.classList = 'btn-group';\n",
       "            continue;\n",
       "        }\n",
       "\n",
       "        button = fig.buttons[name] = document.createElement('button');\n",
       "        button.classList = 'btn btn-default';\n",
       "        button.href = '#';\n",
       "        button.title = name;\n",
       "        button.innerHTML = '<i class=\"fa ' + image + ' fa-lg\"></i>';\n",
       "        button.addEventListener('click', on_click_closure(method_name));\n",
       "        button.addEventListener('mouseover', on_mouseover_closure(tooltip));\n",
       "        buttonGroup.appendChild(button);\n",
       "    }\n",
       "\n",
       "    if (buttonGroup.hasChildNodes()) {\n",
       "        toolbar.appendChild(buttonGroup);\n",
       "    }\n",
       "\n",
       "    // Add the status bar.\n",
       "    var status_bar = document.createElement('span');\n",
       "    status_bar.classList = 'mpl-message pull-right';\n",
       "    toolbar.appendChild(status_bar);\n",
       "    this.message = status_bar;\n",
       "\n",
       "    // Add the close button to the window.\n",
       "    var buttongrp = document.createElement('div');\n",
       "    buttongrp.classList = 'btn-group inline pull-right';\n",
       "    button = document.createElement('button');\n",
       "    button.classList = 'btn btn-mini btn-primary';\n",
       "    button.href = '#';\n",
       "    button.title = 'Stop Interaction';\n",
       "    button.innerHTML = '<i class=\"fa fa-power-off icon-remove icon-large\"></i>';\n",
       "    button.addEventListener('click', function (_evt) {\n",
       "        fig.handle_close(fig, {});\n",
       "    });\n",
       "    button.addEventListener(\n",
       "        'mouseover',\n",
       "        on_mouseover_closure('Stop Interaction')\n",
       "    );\n",
       "    buttongrp.appendChild(button);\n",
       "    var titlebar = this.root.querySelector('.ui-dialog-titlebar');\n",
       "    titlebar.insertBefore(buttongrp, titlebar.firstChild);\n",
       "};\n",
       "\n",
       "mpl.figure.prototype._remove_fig_handler = function (event) {\n",
       "    var fig = event.data.fig;\n",
       "    if (event.target !== this) {\n",
       "        // Ignore bubbled events from children.\n",
       "        return;\n",
       "    }\n",
       "    fig.close_ws(fig, {});\n",
       "};\n",
       "\n",
       "mpl.figure.prototype._root_extra_style = function (el) {\n",
       "    el.style.boxSizing = 'content-box'; // override notebook setting of border-box.\n",
       "};\n",
       "\n",
       "mpl.figure.prototype._canvas_extra_style = function (el) {\n",
       "    // this is important to make the div 'focusable\n",
       "    el.setAttribute('tabindex', 0);\n",
       "    // reach out to IPython and tell the keyboard manager to turn it's self\n",
       "    // off when our div gets focus\n",
       "\n",
       "    // location in version 3\n",
       "    if (IPython.notebook.keyboard_manager) {\n",
       "        IPython.notebook.keyboard_manager.register_events(el);\n",
       "    } else {\n",
       "        // location in version 2\n",
       "        IPython.keyboard_manager.register_events(el);\n",
       "    }\n",
       "};\n",
       "\n",
       "mpl.figure.prototype._key_event_extra = function (event, _name) {\n",
       "    var manager = IPython.notebook.keyboard_manager;\n",
       "    if (!manager) {\n",
       "        manager = IPython.keyboard_manager;\n",
       "    }\n",
       "\n",
       "    // Check for shift+enter\n",
       "    if (event.shiftKey && event.which === 13) {\n",
       "        this.canvas_div.blur();\n",
       "        // select the cell after this one\n",
       "        var index = IPython.notebook.find_cell_index(this.cell_info[0]);\n",
       "        IPython.notebook.select(index + 1);\n",
       "    }\n",
       "};\n",
       "\n",
       "mpl.figure.prototype.handle_save = function (fig, _msg) {\n",
       "    fig.ondownload(fig, null);\n",
       "};\n",
       "\n",
       "mpl.find_output_cell = function (html_output) {\n",
       "    // Return the cell and output element which can be found *uniquely* in the notebook.\n",
       "    // Note - this is a bit hacky, but it is done because the \"notebook_saving.Notebook\"\n",
       "    // IPython event is triggered only after the cells have been serialised, which for\n",
       "    // our purposes (turning an active figure into a static one), is too late.\n",
       "    var cells = IPython.notebook.get_cells();\n",
       "    var ncells = cells.length;\n",
       "    for (var i = 0; i < ncells; i++) {\n",
       "        var cell = cells[i];\n",
       "        if (cell.cell_type === 'code') {\n",
       "            for (var j = 0; j < cell.output_area.outputs.length; j++) {\n",
       "                var data = cell.output_area.outputs[j];\n",
       "                if (data.data) {\n",
       "                    // IPython >= 3 moved mimebundle to data attribute of output\n",
       "                    data = data.data;\n",
       "                }\n",
       "                if (data['text/html'] === html_output) {\n",
       "                    return [cell, data, j];\n",
       "                }\n",
       "            }\n",
       "        }\n",
       "    }\n",
       "};\n",
       "\n",
       "// Register the function which deals with the matplotlib target/channel.\n",
       "// The kernel may be null if the page has been refreshed.\n",
       "if (IPython.notebook.kernel !== null) {\n",
       "    IPython.notebook.kernel.comm_manager.register_target(\n",
       "        'matplotlib',\n",
       "        mpl.mpl_figure_comm\n",
       "    );\n",
       "}\n"
      ],
      "text/plain": [
       "<IPython.core.display.Javascript object>"
      ]
     },
     "metadata": {},
     "output_type": "display_data"
    },
    {
     "data": {
      "text/html": [
       "<img src=\"data:image/png;base64,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\" width=\"936.96\">"
      ],
      "text/plain": [
       "<IPython.core.display.HTML object>"
      ]
     },
     "metadata": {},
     "output_type": "display_data"
    }
   ],
   "source": [
    "x = np.arange(1.6, 3, 0.5)\n",
    "y = np.arange(1.6, 3, 0.5)\n",
    "X, Y = np.meshgrid(x, y)\n",
    "# print(np.meshgrid(x, y))\n",
    "# print(type(X)) # array\n",
    "Z1 = -4*X + 2*Y + 1\n",
    "Z2 = (-3*X - Y + 1)/3\n",
    "Z3 = (-2*X - 4*Y + 3)/5\n",
    "\n",
    "fig = plt.figure()\n",
    "ax1 = Axes3D(fig, auto_add_to_figure=False)\n",
    "fig.add_axes(ax1)\n",
    "ax1.plot_surface(X, Y, Z1, alpha = 0.5, color = 'red')\n",
    "ax1.plot_surface(X, Y, Z2, alpha = 0.5, color = 'blue')\n",
    "ax1.plot_surface(X, Y, Z3, alpha = 0.5, color = 'orange')\n",
    "ax1.set_xlabel('x axis')\n",
    "ax1.set_ylabel('y axis')\n",
    "ax1.set_zlabel('z axis')\n",
    "\n",
    "fig.set_figwidth(8) \n",
    "fig.set_figheight(6)"
   ]
  },
  {
   "cell_type": "markdown",
   "metadata": {},
   "source": [
    "### 從圖形來看，此三平面兩兩交於一直線，且沒有共同交點，所以我的程式碼判斷此方程組無解是正確的。"
   ]
  },
  {
   "cell_type": "markdown",
   "metadata": {},
   "source": [
    "## 3.無限多組解"
   ]
  },
  {
   "cell_type": "markdown",
   "metadata": {},
   "source": [
    "###   $\\begin{cases}2x-y-z=1\\\\x+y+2z=2 \\;\\;\\;\\;\\;\\;\\;-→\\\\-7x+2y+z=-5\\end{cases}  \\left[\\begin{matrix}2 & -1 & -1\\\\1 & 1 & 2\\\\-7 & 2 & 1\\end{matrix}\\right]  \\left[\\begin{matrix}x\\\\y\\\\z\\end{matrix}\\right]  =  \\left[\\begin{matrix}1\\\\2\\\\-5\\end{matrix}\\right]$"
   ]
  },
  {
   "cell_type": "code",
   "execution_count": 41,
   "metadata": {},
   "outputs": [],
   "source": [
    "from sympy.abc import x, y, z\n",
    "import sympy as sp"
   ]
  },
  {
   "cell_type": "code",
   "execution_count": 42,
   "metadata": {},
   "outputs": [],
   "source": [
    "from IPython.display import display, Markdown"
   ]
  },
  {
   "cell_type": "code",
   "execution_count": 43,
   "metadata": {},
   "outputs": [
    {
     "data": {
      "text/markdown": [
       "### $A\\;=\\left[\\begin{matrix}2 & -1 & -1\\\\1 & 1 & 2\\\\-7 & 2 & 1\\end{matrix}\\right],\\;x(matrix)\\;=\\left[\\begin{matrix}x\\\\y\\\\z\\end{matrix}\\right],\\;b\\;=\\left[\\begin{matrix}1\\\\2\\\\-5\\end{matrix}\\right]$"
      ],
      "text/plain": [
       "<IPython.core.display.Markdown object>"
      ]
     },
     "metadata": {},
     "output_type": "display_data"
    }
   ],
   "source": [
    "A = sp.Matrix([[2, -1, -1], \n",
    "               [1, 1, 2], \n",
    "               [-7, 2, 1]])\n",
    "x_matrix = sp.Matrix([[x], \n",
    "               [y], \n",
    "               [z]])\n",
    "b = sp.Matrix([[1], \n",
    "               [2], \n",
    "               [-5]])\n",
    "\n",
    "a = '### $'+'A\\;=' +  sp.latex(A) + ',\\;' + 'x(matrix)\\;=' + sp.latex(x_matrix) + ',\\;' + 'b\\;=' +  sp.latex(b) + '$'\n",
    "display(Markdown(a))"
   ]
  },
  {
   "cell_type": "markdown",
   "metadata": {},
   "source": [
    "## 我的程式碼計算的結果"
   ]
  },
  {
   "cell_type": "code",
   "execution_count": 44,
   "metadata": {},
   "outputs": [
    {
     "name": "stdout",
     "output_type": "stream",
     "text": [
      "無限多組解\n"
     ]
    },
    {
     "data": {
      "text/plain": [
       "''"
      ]
     },
     "execution_count": 44,
     "metadata": {},
     "output_type": "execute_result"
    }
   ],
   "source": [
    "state, x = Cramer(A, b)\n",
    "print(state)\n",
    "x"
   ]
  },
  {
   "cell_type": "markdown",
   "metadata": {},
   "source": [
    "### 下面為了驗證我的判斷，我在下面將該線性方程組的圖形畫出來，利用這些平面之間的幾何關係來驗證我的判斷是否正確。"
   ]
  },
  {
   "cell_type": "code",
   "execution_count": 45,
   "metadata": {},
   "outputs": [],
   "source": [
    "%matplotlib notebook\n",
    "from mpl_toolkits.mplot3d import Axes3D \n",
    "import matplotlib.pyplot as plt\n",
    "import numpy as np\n",
    "%config InlineBackend.figure_format  = 'svg'"
   ]
  },
  {
   "cell_type": "code",
   "execution_count": 46,
   "metadata": {
    "scrolled": false
   },
   "outputs": [
    {
     "data": {
      "application/javascript": [
       "/* Put everything inside the global mpl namespace */\n",
       "/* global mpl */\n",
       "window.mpl = {};\n",
       "\n",
       "mpl.get_websocket_type = function () {\n",
       "    if (typeof WebSocket !== 'undefined') {\n",
       "        return WebSocket;\n",
       "    } else if (typeof MozWebSocket !== 'undefined') {\n",
       "        return MozWebSocket;\n",
       "    } else {\n",
       "        alert(\n",
       "            'Your browser does not have WebSocket support. ' +\n",
       "                'Please try Chrome, Safari or Firefox ≥ 6. ' +\n",
       "                'Firefox 4 and 5 are also supported but you ' +\n",
       "                'have to enable WebSockets in about:config.'\n",
       "        );\n",
       "    }\n",
       "};\n",
       "\n",
       "mpl.figure = function (figure_id, websocket, ondownload, parent_element) {\n",
       "    this.id = figure_id;\n",
       "\n",
       "    this.ws = websocket;\n",
       "\n",
       "    this.supports_binary = this.ws.binaryType !== undefined;\n",
       "\n",
       "    if (!this.supports_binary) {\n",
       "        var warnings = document.getElementById('mpl-warnings');\n",
       "        if (warnings) {\n",
       "            warnings.style.display = 'block';\n",
       "            warnings.textContent =\n",
       "                'This browser does not support binary websocket messages. ' +\n",
       "                'Performance may be slow.';\n",
       "        }\n",
       "    }\n",
       "\n",
       "    this.imageObj = new Image();\n",
       "\n",
       "    this.context = undefined;\n",
       "    this.message = undefined;\n",
       "    this.canvas = undefined;\n",
       "    this.rubberband_canvas = undefined;\n",
       "    this.rubberband_context = undefined;\n",
       "    this.format_dropdown = undefined;\n",
       "\n",
       "    this.image_mode = 'full';\n",
       "\n",
       "    this.root = document.createElement('div');\n",
       "    this.root.setAttribute('style', 'display: inline-block');\n",
       "    this._root_extra_style(this.root);\n",
       "\n",
       "    parent_element.appendChild(this.root);\n",
       "\n",
       "    this._init_header(this);\n",
       "    this._init_canvas(this);\n",
       "    this._init_toolbar(this);\n",
       "\n",
       "    var fig = this;\n",
       "\n",
       "    this.waiting = false;\n",
       "\n",
       "    this.ws.onopen = function () {\n",
       "        fig.send_message('supports_binary', { value: fig.supports_binary });\n",
       "        fig.send_message('send_image_mode', {});\n",
       "        if (fig.ratio !== 1) {\n",
       "            fig.send_message('set_dpi_ratio', { dpi_ratio: fig.ratio });\n",
       "        }\n",
       "        fig.send_message('refresh', {});\n",
       "    };\n",
       "\n",
       "    this.imageObj.onload = function () {\n",
       "        if (fig.image_mode === 'full') {\n",
       "            // Full images could contain transparency (where diff images\n",
       "            // almost always do), so we need to clear the canvas so that\n",
       "            // there is no ghosting.\n",
       "            fig.context.clearRect(0, 0, fig.canvas.width, fig.canvas.height);\n",
       "        }\n",
       "        fig.context.drawImage(fig.imageObj, 0, 0);\n",
       "    };\n",
       "\n",
       "    this.imageObj.onunload = function () {\n",
       "        fig.ws.close();\n",
       "    };\n",
       "\n",
       "    this.ws.onmessage = this._make_on_message_function(this);\n",
       "\n",
       "    this.ondownload = ondownload;\n",
       "};\n",
       "\n",
       "mpl.figure.prototype._init_header = function () {\n",
       "    var titlebar = document.createElement('div');\n",
       "    titlebar.classList =\n",
       "        'ui-dialog-titlebar ui-widget-header ui-corner-all ui-helper-clearfix';\n",
       "    var titletext = document.createElement('div');\n",
       "    titletext.classList = 'ui-dialog-title';\n",
       "    titletext.setAttribute(\n",
       "        'style',\n",
       "        'width: 100%; text-align: center; padding: 3px;'\n",
       "    );\n",
       "    titlebar.appendChild(titletext);\n",
       "    this.root.appendChild(titlebar);\n",
       "    this.header = titletext;\n",
       "};\n",
       "\n",
       "mpl.figure.prototype._canvas_extra_style = function (_canvas_div) {};\n",
       "\n",
       "mpl.figure.prototype._root_extra_style = function (_canvas_div) {};\n",
       "\n",
       "mpl.figure.prototype._init_canvas = function () {\n",
       "    var fig = this;\n",
       "\n",
       "    var canvas_div = (this.canvas_div = document.createElement('div'));\n",
       "    canvas_div.setAttribute(\n",
       "        'style',\n",
       "        'border: 1px solid #ddd;' +\n",
       "            'box-sizing: content-box;' +\n",
       "            'clear: both;' +\n",
       "            'min-height: 1px;' +\n",
       "            'min-width: 1px;' +\n",
       "            'outline: 0;' +\n",
       "            'overflow: hidden;' +\n",
       "            'position: relative;' +\n",
       "            'resize: both;'\n",
       "    );\n",
       "\n",
       "    function on_keyboard_event_closure(name) {\n",
       "        return function (event) {\n",
       "            return fig.key_event(event, name);\n",
       "        };\n",
       "    }\n",
       "\n",
       "    canvas_div.addEventListener(\n",
       "        'keydown',\n",
       "        on_keyboard_event_closure('key_press')\n",
       "    );\n",
       "    canvas_div.addEventListener(\n",
       "        'keyup',\n",
       "        on_keyboard_event_closure('key_release')\n",
       "    );\n",
       "\n",
       "    this._canvas_extra_style(canvas_div);\n",
       "    this.root.appendChild(canvas_div);\n",
       "\n",
       "    var canvas = (this.canvas = document.createElement('canvas'));\n",
       "    canvas.classList.add('mpl-canvas');\n",
       "    canvas.setAttribute('style', 'box-sizing: content-box;');\n",
       "\n",
       "    this.context = canvas.getContext('2d');\n",
       "\n",
       "    var backingStore =\n",
       "        this.context.backingStorePixelRatio ||\n",
       "        this.context.webkitBackingStorePixelRatio ||\n",
       "        this.context.mozBackingStorePixelRatio ||\n",
       "        this.context.msBackingStorePixelRatio ||\n",
       "        this.context.oBackingStorePixelRatio ||\n",
       "        this.context.backingStorePixelRatio ||\n",
       "        1;\n",
       "\n",
       "    this.ratio = (window.devicePixelRatio || 1) / backingStore;\n",
       "\n",
       "    var rubberband_canvas = (this.rubberband_canvas = document.createElement(\n",
       "        'canvas'\n",
       "    ));\n",
       "    rubberband_canvas.setAttribute(\n",
       "        'style',\n",
       "        'box-sizing: content-box; position: absolute; left: 0; top: 0; z-index: 1;'\n",
       "    );\n",
       "\n",
       "    // Apply a ponyfill if ResizeObserver is not implemented by browser.\n",
       "    if (this.ResizeObserver === undefined) {\n",
       "        if (window.ResizeObserver !== undefined) {\n",
       "            this.ResizeObserver = window.ResizeObserver;\n",
       "        } else {\n",
       "            var obs = _JSXTOOLS_RESIZE_OBSERVER({});\n",
       "            this.ResizeObserver = obs.ResizeObserver;\n",
       "        }\n",
       "    }\n",
       "\n",
       "    this.resizeObserverInstance = new this.ResizeObserver(function (entries) {\n",
       "        var nentries = entries.length;\n",
       "        for (var i = 0; i < nentries; i++) {\n",
       "            var entry = entries[i];\n",
       "            var width, height;\n",
       "            if (entry.contentBoxSize) {\n",
       "                if (entry.contentBoxSize instanceof Array) {\n",
       "                    // Chrome 84 implements new version of spec.\n",
       "                    width = entry.contentBoxSize[0].inlineSize;\n",
       "                    height = entry.contentBoxSize[0].blockSize;\n",
       "                } else {\n",
       "                    // Firefox implements old version of spec.\n",
       "                    width = entry.contentBoxSize.inlineSize;\n",
       "                    height = entry.contentBoxSize.blockSize;\n",
       "                }\n",
       "            } else {\n",
       "                // Chrome <84 implements even older version of spec.\n",
       "                width = entry.contentRect.width;\n",
       "                height = entry.contentRect.height;\n",
       "            }\n",
       "\n",
       "            // Keep the size of the canvas and rubber band canvas in sync with\n",
       "            // the canvas container.\n",
       "            if (entry.devicePixelContentBoxSize) {\n",
       "                // Chrome 84 implements new version of spec.\n",
       "                canvas.setAttribute(\n",
       "                    'width',\n",
       "                    entry.devicePixelContentBoxSize[0].inlineSize\n",
       "                );\n",
       "                canvas.setAttribute(\n",
       "                    'height',\n",
       "                    entry.devicePixelContentBoxSize[0].blockSize\n",
       "                );\n",
       "            } else {\n",
       "                canvas.setAttribute('width', width * fig.ratio);\n",
       "                canvas.setAttribute('height', height * fig.ratio);\n",
       "            }\n",
       "            canvas.setAttribute(\n",
       "                'style',\n",
       "                'width: ' + width + 'px; height: ' + height + 'px;'\n",
       "            );\n",
       "\n",
       "            rubberband_canvas.setAttribute('width', width);\n",
       "            rubberband_canvas.setAttribute('height', height);\n",
       "\n",
       "            // And update the size in Python. We ignore the initial 0/0 size\n",
       "            // that occurs as the element is placed into the DOM, which should\n",
       "            // otherwise not happen due to the minimum size styling.\n",
       "            if (fig.ws.readyState == 1 && width != 0 && height != 0) {\n",
       "                fig.request_resize(width, height);\n",
       "            }\n",
       "        }\n",
       "    });\n",
       "    this.resizeObserverInstance.observe(canvas_div);\n",
       "\n",
       "    function on_mouse_event_closure(name) {\n",
       "        return function (event) {\n",
       "            return fig.mouse_event(event, name);\n",
       "        };\n",
       "    }\n",
       "\n",
       "    rubberband_canvas.addEventListener(\n",
       "        'mousedown',\n",
       "        on_mouse_event_closure('button_press')\n",
       "    );\n",
       "    rubberband_canvas.addEventListener(\n",
       "        'mouseup',\n",
       "        on_mouse_event_closure('button_release')\n",
       "    );\n",
       "    rubberband_canvas.addEventListener(\n",
       "        'dblclick',\n",
       "        on_mouse_event_closure('dblclick')\n",
       "    );\n",
       "    // Throttle sequential mouse events to 1 every 20ms.\n",
       "    rubberband_canvas.addEventListener(\n",
       "        'mousemove',\n",
       "        on_mouse_event_closure('motion_notify')\n",
       "    );\n",
       "\n",
       "    rubberband_canvas.addEventListener(\n",
       "        'mouseenter',\n",
       "        on_mouse_event_closure('figure_enter')\n",
       "    );\n",
       "    rubberband_canvas.addEventListener(\n",
       "        'mouseleave',\n",
       "        on_mouse_event_closure('figure_leave')\n",
       "    );\n",
       "\n",
       "    canvas_div.addEventListener('wheel', function (event) {\n",
       "        if (event.deltaY < 0) {\n",
       "            event.step = 1;\n",
       "        } else {\n",
       "            event.step = -1;\n",
       "        }\n",
       "        on_mouse_event_closure('scroll')(event);\n",
       "    });\n",
       "\n",
       "    canvas_div.appendChild(canvas);\n",
       "    canvas_div.appendChild(rubberband_canvas);\n",
       "\n",
       "    this.rubberband_context = rubberband_canvas.getContext('2d');\n",
       "    this.rubberband_context.strokeStyle = '#000000';\n",
       "\n",
       "    this._resize_canvas = function (width, height, forward) {\n",
       "        if (forward) {\n",
       "            canvas_div.style.width = width + 'px';\n",
       "            canvas_div.style.height = height + 'px';\n",
       "        }\n",
       "    };\n",
       "\n",
       "    // Disable right mouse context menu.\n",
       "    this.rubberband_canvas.addEventListener('contextmenu', function (_e) {\n",
       "        event.preventDefault();\n",
       "        return false;\n",
       "    });\n",
       "\n",
       "    function set_focus() {\n",
       "        canvas.focus();\n",
       "        canvas_div.focus();\n",
       "    }\n",
       "\n",
       "    window.setTimeout(set_focus, 100);\n",
       "};\n",
       "\n",
       "mpl.figure.prototype._init_toolbar = function () {\n",
       "    var fig = this;\n",
       "\n",
       "    var toolbar = document.createElement('div');\n",
       "    toolbar.classList = 'mpl-toolbar';\n",
       "    this.root.appendChild(toolbar);\n",
       "\n",
       "    function on_click_closure(name) {\n",
       "        return function (_event) {\n",
       "            return fig.toolbar_button_onclick(name);\n",
       "        };\n",
       "    }\n",
       "\n",
       "    function on_mouseover_closure(tooltip) {\n",
       "        return function (event) {\n",
       "            if (!event.currentTarget.disabled) {\n",
       "                return fig.toolbar_button_onmouseover(tooltip);\n",
       "            }\n",
       "        };\n",
       "    }\n",
       "\n",
       "    fig.buttons = {};\n",
       "    var buttonGroup = document.createElement('div');\n",
       "    buttonGroup.classList = 'mpl-button-group';\n",
       "    for (var toolbar_ind in mpl.toolbar_items) {\n",
       "        var name = mpl.toolbar_items[toolbar_ind][0];\n",
       "        var tooltip = mpl.toolbar_items[toolbar_ind][1];\n",
       "        var image = mpl.toolbar_items[toolbar_ind][2];\n",
       "        var method_name = mpl.toolbar_items[toolbar_ind][3];\n",
       "\n",
       "        if (!name) {\n",
       "            /* Instead of a spacer, we start a new button group. */\n",
       "            if (buttonGroup.hasChildNodes()) {\n",
       "                toolbar.appendChild(buttonGroup);\n",
       "            }\n",
       "            buttonGroup = document.createElement('div');\n",
       "            buttonGroup.classList = 'mpl-button-group';\n",
       "            continue;\n",
       "        }\n",
       "\n",
       "        var button = (fig.buttons[name] = document.createElement('button'));\n",
       "        button.classList = 'mpl-widget';\n",
       "        button.setAttribute('role', 'button');\n",
       "        button.setAttribute('aria-disabled', 'false');\n",
       "        button.addEventListener('click', on_click_closure(method_name));\n",
       "        button.addEventListener('mouseover', on_mouseover_closure(tooltip));\n",
       "\n",
       "        var icon_img = document.createElement('img');\n",
       "        icon_img.src = '_images/' + image + '.png';\n",
       "        icon_img.srcset = '_images/' + image + '_large.png 2x';\n",
       "        icon_img.alt = tooltip;\n",
       "        button.appendChild(icon_img);\n",
       "\n",
       "        buttonGroup.appendChild(button);\n",
       "    }\n",
       "\n",
       "    if (buttonGroup.hasChildNodes()) {\n",
       "        toolbar.appendChild(buttonGroup);\n",
       "    }\n",
       "\n",
       "    var fmt_picker = document.createElement('select');\n",
       "    fmt_picker.classList = 'mpl-widget';\n",
       "    toolbar.appendChild(fmt_picker);\n",
       "    this.format_dropdown = fmt_picker;\n",
       "\n",
       "    for (var ind in mpl.extensions) {\n",
       "        var fmt = mpl.extensions[ind];\n",
       "        var option = document.createElement('option');\n",
       "        option.selected = fmt === mpl.default_extension;\n",
       "        option.innerHTML = fmt;\n",
       "        fmt_picker.appendChild(option);\n",
       "    }\n",
       "\n",
       "    var status_bar = document.createElement('span');\n",
       "    status_bar.classList = 'mpl-message';\n",
       "    toolbar.appendChild(status_bar);\n",
       "    this.message = status_bar;\n",
       "};\n",
       "\n",
       "mpl.figure.prototype.request_resize = function (x_pixels, y_pixels) {\n",
       "    // Request matplotlib to resize the figure. Matplotlib will then trigger a resize in the client,\n",
       "    // which will in turn request a refresh of the image.\n",
       "    this.send_message('resize', { width: x_pixels, height: y_pixels });\n",
       "};\n",
       "\n",
       "mpl.figure.prototype.send_message = function (type, properties) {\n",
       "    properties['type'] = type;\n",
       "    properties['figure_id'] = this.id;\n",
       "    this.ws.send(JSON.stringify(properties));\n",
       "};\n",
       "\n",
       "mpl.figure.prototype.send_draw_message = function () {\n",
       "    if (!this.waiting) {\n",
       "        this.waiting = true;\n",
       "        this.ws.send(JSON.stringify({ type: 'draw', figure_id: this.id }));\n",
       "    }\n",
       "};\n",
       "\n",
       "mpl.figure.prototype.handle_save = function (fig, _msg) {\n",
       "    var format_dropdown = fig.format_dropdown;\n",
       "    var format = format_dropdown.options[format_dropdown.selectedIndex].value;\n",
       "    fig.ondownload(fig, format);\n",
       "};\n",
       "\n",
       "mpl.figure.prototype.handle_resize = function (fig, msg) {\n",
       "    var size = msg['size'];\n",
       "    if (size[0] !== fig.canvas.width || size[1] !== fig.canvas.height) {\n",
       "        fig._resize_canvas(size[0], size[1], msg['forward']);\n",
       "        fig.send_message('refresh', {});\n",
       "    }\n",
       "};\n",
       "\n",
       "mpl.figure.prototype.handle_rubberband = function (fig, msg) {\n",
       "    var x0 = msg['x0'] / fig.ratio;\n",
       "    var y0 = (fig.canvas.height - msg['y0']) / fig.ratio;\n",
       "    var x1 = msg['x1'] / fig.ratio;\n",
       "    var y1 = (fig.canvas.height - msg['y1']) / fig.ratio;\n",
       "    x0 = Math.floor(x0) + 0.5;\n",
       "    y0 = Math.floor(y0) + 0.5;\n",
       "    x1 = Math.floor(x1) + 0.5;\n",
       "    y1 = Math.floor(y1) + 0.5;\n",
       "    var min_x = Math.min(x0, x1);\n",
       "    var min_y = Math.min(y0, y1);\n",
       "    var width = Math.abs(x1 - x0);\n",
       "    var height = Math.abs(y1 - y0);\n",
       "\n",
       "    fig.rubberband_context.clearRect(\n",
       "        0,\n",
       "        0,\n",
       "        fig.canvas.width / fig.ratio,\n",
       "        fig.canvas.height / fig.ratio\n",
       "    );\n",
       "\n",
       "    fig.rubberband_context.strokeRect(min_x, min_y, width, height);\n",
       "};\n",
       "\n",
       "mpl.figure.prototype.handle_figure_label = function (fig, msg) {\n",
       "    // Updates the figure title.\n",
       "    fig.header.textContent = msg['label'];\n",
       "};\n",
       "\n",
       "mpl.figure.prototype.handle_cursor = function (fig, msg) {\n",
       "    var cursor = msg['cursor'];\n",
       "    switch (cursor) {\n",
       "        case 0:\n",
       "            cursor = 'pointer';\n",
       "            break;\n",
       "        case 1:\n",
       "            cursor = 'default';\n",
       "            break;\n",
       "        case 2:\n",
       "            cursor = 'crosshair';\n",
       "            break;\n",
       "        case 3:\n",
       "            cursor = 'move';\n",
       "            break;\n",
       "    }\n",
       "    fig.rubberband_canvas.style.cursor = cursor;\n",
       "};\n",
       "\n",
       "mpl.figure.prototype.handle_message = function (fig, msg) {\n",
       "    fig.message.textContent = msg['message'];\n",
       "};\n",
       "\n",
       "mpl.figure.prototype.handle_draw = function (fig, _msg) {\n",
       "    // Request the server to send over a new figure.\n",
       "    fig.send_draw_message();\n",
       "};\n",
       "\n",
       "mpl.figure.prototype.handle_image_mode = function (fig, msg) {\n",
       "    fig.image_mode = msg['mode'];\n",
       "};\n",
       "\n",
       "mpl.figure.prototype.handle_history_buttons = function (fig, msg) {\n",
       "    for (var key in msg) {\n",
       "        if (!(key in fig.buttons)) {\n",
       "            continue;\n",
       "        }\n",
       "        fig.buttons[key].disabled = !msg[key];\n",
       "        fig.buttons[key].setAttribute('aria-disabled', !msg[key]);\n",
       "    }\n",
       "};\n",
       "\n",
       "mpl.figure.prototype.handle_navigate_mode = function (fig, msg) {\n",
       "    if (msg['mode'] === 'PAN') {\n",
       "        fig.buttons['Pan'].classList.add('active');\n",
       "        fig.buttons['Zoom'].classList.remove('active');\n",
       "    } else if (msg['mode'] === 'ZOOM') {\n",
       "        fig.buttons['Pan'].classList.remove('active');\n",
       "        fig.buttons['Zoom'].classList.add('active');\n",
       "    } else {\n",
       "        fig.buttons['Pan'].classList.remove('active');\n",
       "        fig.buttons['Zoom'].classList.remove('active');\n",
       "    }\n",
       "};\n",
       "\n",
       "mpl.figure.prototype.updated_canvas_event = function () {\n",
       "    // Called whenever the canvas gets updated.\n",
       "    this.send_message('ack', {});\n",
       "};\n",
       "\n",
       "// A function to construct a web socket function for onmessage handling.\n",
       "// Called in the figure constructor.\n",
       "mpl.figure.prototype._make_on_message_function = function (fig) {\n",
       "    return function socket_on_message(evt) {\n",
       "        if (evt.data instanceof Blob) {\n",
       "            var img = evt.data;\n",
       "            if (img.type !== 'image/png') {\n",
       "                /* FIXME: We get \"Resource interpreted as Image but\n",
       "                 * transferred with MIME type text/plain:\" errors on\n",
       "                 * Chrome.  But how to set the MIME type?  It doesn't seem\n",
       "                 * to be part of the websocket stream */\n",
       "                img.type = 'image/png';\n",
       "            }\n",
       "\n",
       "            /* Free the memory for the previous frames */\n",
       "            if (fig.imageObj.src) {\n",
       "                (window.URL || window.webkitURL).revokeObjectURL(\n",
       "                    fig.imageObj.src\n",
       "                );\n",
       "            }\n",
       "\n",
       "            fig.imageObj.src = (window.URL || window.webkitURL).createObjectURL(\n",
       "                img\n",
       "            );\n",
       "            fig.updated_canvas_event();\n",
       "            fig.waiting = false;\n",
       "            return;\n",
       "        } else if (\n",
       "            typeof evt.data === 'string' &&\n",
       "            evt.data.slice(0, 21) === 'data:image/png;base64'\n",
       "        ) {\n",
       "            fig.imageObj.src = evt.data;\n",
       "            fig.updated_canvas_event();\n",
       "            fig.waiting = false;\n",
       "            return;\n",
       "        }\n",
       "\n",
       "        var msg = JSON.parse(evt.data);\n",
       "        var msg_type = msg['type'];\n",
       "\n",
       "        // Call the  \"handle_{type}\" callback, which takes\n",
       "        // the figure and JSON message as its only arguments.\n",
       "        try {\n",
       "            var callback = fig['handle_' + msg_type];\n",
       "        } catch (e) {\n",
       "            console.log(\n",
       "                \"No handler for the '\" + msg_type + \"' message type: \",\n",
       "                msg\n",
       "            );\n",
       "            return;\n",
       "        }\n",
       "\n",
       "        if (callback) {\n",
       "            try {\n",
       "                // console.log(\"Handling '\" + msg_type + \"' message: \", msg);\n",
       "                callback(fig, msg);\n",
       "            } catch (e) {\n",
       "                console.log(\n",
       "                    \"Exception inside the 'handler_\" + msg_type + \"' callback:\",\n",
       "                    e,\n",
       "                    e.stack,\n",
       "                    msg\n",
       "                );\n",
       "            }\n",
       "        }\n",
       "    };\n",
       "};\n",
       "\n",
       "// from http://stackoverflow.com/questions/1114465/getting-mouse-location-in-canvas\n",
       "mpl.findpos = function (e) {\n",
       "    //this section is from http://www.quirksmode.org/js/events_properties.html\n",
       "    var targ;\n",
       "    if (!e) {\n",
       "        e = window.event;\n",
       "    }\n",
       "    if (e.target) {\n",
       "        targ = e.target;\n",
       "    } else if (e.srcElement) {\n",
       "        targ = e.srcElement;\n",
       "    }\n",
       "    if (targ.nodeType === 3) {\n",
       "        // defeat Safari bug\n",
       "        targ = targ.parentNode;\n",
       "    }\n",
       "\n",
       "    // pageX,Y are the mouse positions relative to the document\n",
       "    var boundingRect = targ.getBoundingClientRect();\n",
       "    var x = e.pageX - (boundingRect.left + document.body.scrollLeft);\n",
       "    var y = e.pageY - (boundingRect.top + document.body.scrollTop);\n",
       "\n",
       "    return { x: x, y: y };\n",
       "};\n",
       "\n",
       "/*\n",
       " * return a copy of an object with only non-object keys\n",
       " * we need this to avoid circular references\n",
       " * http://stackoverflow.com/a/24161582/3208463\n",
       " */\n",
       "function simpleKeys(original) {\n",
       "    return Object.keys(original).reduce(function (obj, key) {\n",
       "        if (typeof original[key] !== 'object') {\n",
       "            obj[key] = original[key];\n",
       "        }\n",
       "        return obj;\n",
       "    }, {});\n",
       "}\n",
       "\n",
       "mpl.figure.prototype.mouse_event = function (event, name) {\n",
       "    var canvas_pos = mpl.findpos(event);\n",
       "\n",
       "    if (name === 'button_press') {\n",
       "        this.canvas.focus();\n",
       "        this.canvas_div.focus();\n",
       "    }\n",
       "\n",
       "    var x = canvas_pos.x * this.ratio;\n",
       "    var y = canvas_pos.y * this.ratio;\n",
       "\n",
       "    this.send_message(name, {\n",
       "        x: x,\n",
       "        y: y,\n",
       "        button: event.button,\n",
       "        step: event.step,\n",
       "        guiEvent: simpleKeys(event),\n",
       "    });\n",
       "\n",
       "    /* This prevents the web browser from automatically changing to\n",
       "     * the text insertion cursor when the button is pressed.  We want\n",
       "     * to control all of the cursor setting manually through the\n",
       "     * 'cursor' event from matplotlib */\n",
       "    event.preventDefault();\n",
       "    return false;\n",
       "};\n",
       "\n",
       "mpl.figure.prototype._key_event_extra = function (_event, _name) {\n",
       "    // Handle any extra behaviour associated with a key event\n",
       "};\n",
       "\n",
       "mpl.figure.prototype.key_event = function (event, name) {\n",
       "    // Prevent repeat events\n",
       "    if (name === 'key_press') {\n",
       "        if (event.key === this._key) {\n",
       "            return;\n",
       "        } else {\n",
       "            this._key = event.key;\n",
       "        }\n",
       "    }\n",
       "    if (name === 'key_release') {\n",
       "        this._key = null;\n",
       "    }\n",
       "\n",
       "    var value = '';\n",
       "    if (event.ctrlKey && event.key !== 'Control') {\n",
       "        value += 'ctrl+';\n",
       "    }\n",
       "    else if (event.altKey && event.key !== 'Alt') {\n",
       "        value += 'alt+';\n",
       "    }\n",
       "    else if (event.shiftKey && event.key !== 'Shift') {\n",
       "        value += 'shift+';\n",
       "    }\n",
       "\n",
       "    value += 'k' + event.key;\n",
       "\n",
       "    this._key_event_extra(event, name);\n",
       "\n",
       "    this.send_message(name, { key: value, guiEvent: simpleKeys(event) });\n",
       "    return false;\n",
       "};\n",
       "\n",
       "mpl.figure.prototype.toolbar_button_onclick = function (name) {\n",
       "    if (name === 'download') {\n",
       "        this.handle_save(this, null);\n",
       "    } else {\n",
       "        this.send_message('toolbar_button', { name: name });\n",
       "    }\n",
       "};\n",
       "\n",
       "mpl.figure.prototype.toolbar_button_onmouseover = function (tooltip) {\n",
       "    this.message.textContent = tooltip;\n",
       "};\n",
       "\n",
       "///////////////// REMAINING CONTENT GENERATED BY embed_js.py /////////////////\n",
       "// prettier-ignore\n",
       "var _JSXTOOLS_RESIZE_OBSERVER=function(A){var t,i=new WeakMap,n=new WeakMap,a=new WeakMap,r=new WeakMap,o=new Set;function s(e){if(!(this instanceof s))throw new TypeError(\"Constructor requires 'new' operator\");i.set(this,e)}function h(){throw new TypeError(\"Function is not a constructor\")}function c(e,t,i,n){e=0 in arguments?Number(arguments[0]):0,t=1 in arguments?Number(arguments[1]):0,i=2 in arguments?Number(arguments[2]):0,n=3 in arguments?Number(arguments[3]):0,this.right=(this.x=this.left=e)+(this.width=i),this.bottom=(this.y=this.top=t)+(this.height=n),Object.freeze(this)}function d(){t=requestAnimationFrame(d);var s=new WeakMap,p=new Set;o.forEach((function(t){r.get(t).forEach((function(i){var r=t instanceof window.SVGElement,o=a.get(t),d=r?0:parseFloat(o.paddingTop),f=r?0:parseFloat(o.paddingRight),l=r?0:parseFloat(o.paddingBottom),u=r?0:parseFloat(o.paddingLeft),g=r?0:parseFloat(o.borderTopWidth),m=r?0:parseFloat(o.borderRightWidth),w=r?0:parseFloat(o.borderBottomWidth),b=u+f,F=d+l,v=(r?0:parseFloat(o.borderLeftWidth))+m,W=g+w,y=r?0:t.offsetHeight-W-t.clientHeight,E=r?0:t.offsetWidth-v-t.clientWidth,R=b+v,z=F+W,M=r?t.width:parseFloat(o.width)-R-E,O=r?t.height:parseFloat(o.height)-z-y;if(n.has(t)){var k=n.get(t);if(k[0]===M&&k[1]===O)return}n.set(t,[M,O]);var S=Object.create(h.prototype);S.target=t,S.contentRect=new c(u,d,M,O),s.has(i)||(s.set(i,[]),p.add(i)),s.get(i).push(S)}))})),p.forEach((function(e){i.get(e).call(e,s.get(e),e)}))}return s.prototype.observe=function(i){if(i instanceof window.Element){r.has(i)||(r.set(i,new Set),o.add(i),a.set(i,window.getComputedStyle(i)));var n=r.get(i);n.has(this)||n.add(this),cancelAnimationFrame(t),t=requestAnimationFrame(d)}},s.prototype.unobserve=function(i){if(i instanceof window.Element&&r.has(i)){var n=r.get(i);n.has(this)&&(n.delete(this),n.size||(r.delete(i),o.delete(i))),n.size||r.delete(i),o.size||cancelAnimationFrame(t)}},A.DOMRectReadOnly=c,A.ResizeObserver=s,A.ResizeObserverEntry=h,A}; // eslint-disable-line\n",
       "mpl.toolbar_items = [[\"Home\", \"Reset original view\", \"fa fa-home icon-home\", \"home\"], [\"Back\", \"Back to previous view\", \"fa fa-arrow-left icon-arrow-left\", \"back\"], [\"Forward\", \"Forward to next view\", \"fa fa-arrow-right icon-arrow-right\", \"forward\"], [\"\", \"\", \"\", \"\"], [\"Pan\", \"Left button pans, Right button zooms\\nx/y fixes axis, CTRL fixes aspect\", \"fa fa-arrows icon-move\", \"pan\"], [\"Zoom\", \"Zoom to rectangle\\nx/y fixes axis, CTRL fixes aspect\", \"fa fa-square-o icon-check-empty\", \"zoom\"], [\"\", \"\", \"\", \"\"], [\"Download\", \"Download plot\", \"fa fa-floppy-o icon-save\", \"download\"]];\n",
       "\n",
       "mpl.extensions = [\"eps\", \"jpeg\", \"pgf\", \"pdf\", \"png\", \"ps\", \"raw\", \"svg\", \"tif\"];\n",
       "\n",
       "mpl.default_extension = \"png\";/* global mpl */\n",
       "\n",
       "var comm_websocket_adapter = function (comm) {\n",
       "    // Create a \"websocket\"-like object which calls the given IPython comm\n",
       "    // object with the appropriate methods. Currently this is a non binary\n",
       "    // socket, so there is still some room for performance tuning.\n",
       "    var ws = {};\n",
       "\n",
       "    ws.binaryType = comm.kernel.ws.binaryType;\n",
       "    ws.readyState = comm.kernel.ws.readyState;\n",
       "    function updateReadyState(_event) {\n",
       "        if (comm.kernel.ws) {\n",
       "            ws.readyState = comm.kernel.ws.readyState;\n",
       "        } else {\n",
       "            ws.readyState = 3; // Closed state.\n",
       "        }\n",
       "    }\n",
       "    comm.kernel.ws.addEventListener('open', updateReadyState);\n",
       "    comm.kernel.ws.addEventListener('close', updateReadyState);\n",
       "    comm.kernel.ws.addEventListener('error', updateReadyState);\n",
       "\n",
       "    ws.close = function () {\n",
       "        comm.close();\n",
       "    };\n",
       "    ws.send = function (m) {\n",
       "        //console.log('sending', m);\n",
       "        comm.send(m);\n",
       "    };\n",
       "    // Register the callback with on_msg.\n",
       "    comm.on_msg(function (msg) {\n",
       "        //console.log('receiving', msg['content']['data'], msg);\n",
       "        var data = msg['content']['data'];\n",
       "        if (data['blob'] !== undefined) {\n",
       "            data = {\n",
       "                data: new Blob(msg['buffers'], { type: data['blob'] }),\n",
       "            };\n",
       "        }\n",
       "        // Pass the mpl event to the overridden (by mpl) onmessage function.\n",
       "        ws.onmessage(data);\n",
       "    });\n",
       "    return ws;\n",
       "};\n",
       "\n",
       "mpl.mpl_figure_comm = function (comm, msg) {\n",
       "    // This is the function which gets called when the mpl process\n",
       "    // starts-up an IPython Comm through the \"matplotlib\" channel.\n",
       "\n",
       "    var id = msg.content.data.id;\n",
       "    // Get hold of the div created by the display call when the Comm\n",
       "    // socket was opened in Python.\n",
       "    var element = document.getElementById(id);\n",
       "    var ws_proxy = comm_websocket_adapter(comm);\n",
       "\n",
       "    function ondownload(figure, _format) {\n",
       "        window.open(figure.canvas.toDataURL());\n",
       "    }\n",
       "\n",
       "    var fig = new mpl.figure(id, ws_proxy, ondownload, element);\n",
       "\n",
       "    // Call onopen now - mpl needs it, as it is assuming we've passed it a real\n",
       "    // web socket which is closed, not our websocket->open comm proxy.\n",
       "    ws_proxy.onopen();\n",
       "\n",
       "    fig.parent_element = element;\n",
       "    fig.cell_info = mpl.find_output_cell(\"<div id='\" + id + \"'></div>\");\n",
       "    if (!fig.cell_info) {\n",
       "        console.error('Failed to find cell for figure', id, fig);\n",
       "        return;\n",
       "    }\n",
       "    fig.cell_info[0].output_area.element.on(\n",
       "        'cleared',\n",
       "        { fig: fig },\n",
       "        fig._remove_fig_handler\n",
       "    );\n",
       "};\n",
       "\n",
       "mpl.figure.prototype.handle_close = function (fig, msg) {\n",
       "    var width = fig.canvas.width / fig.ratio;\n",
       "    fig.cell_info[0].output_area.element.off(\n",
       "        'cleared',\n",
       "        fig._remove_fig_handler\n",
       "    );\n",
       "    fig.resizeObserverInstance.unobserve(fig.canvas_div);\n",
       "\n",
       "    // Update the output cell to use the data from the current canvas.\n",
       "    fig.push_to_output();\n",
       "    var dataURL = fig.canvas.toDataURL();\n",
       "    // Re-enable the keyboard manager in IPython - without this line, in FF,\n",
       "    // the notebook keyboard shortcuts fail.\n",
       "    IPython.keyboard_manager.enable();\n",
       "    fig.parent_element.innerHTML =\n",
       "        '<img src=\"' + dataURL + '\" width=\"' + width + '\">';\n",
       "    fig.close_ws(fig, msg);\n",
       "};\n",
       "\n",
       "mpl.figure.prototype.close_ws = function (fig, msg) {\n",
       "    fig.send_message('closing', msg);\n",
       "    // fig.ws.close()\n",
       "};\n",
       "\n",
       "mpl.figure.prototype.push_to_output = function (_remove_interactive) {\n",
       "    // Turn the data on the canvas into data in the output cell.\n",
       "    var width = this.canvas.width / this.ratio;\n",
       "    var dataURL = this.canvas.toDataURL();\n",
       "    this.cell_info[1]['text/html'] =\n",
       "        '<img src=\"' + dataURL + '\" width=\"' + width + '\">';\n",
       "};\n",
       "\n",
       "mpl.figure.prototype.updated_canvas_event = function () {\n",
       "    // Tell IPython that the notebook contents must change.\n",
       "    IPython.notebook.set_dirty(true);\n",
       "    this.send_message('ack', {});\n",
       "    var fig = this;\n",
       "    // Wait a second, then push the new image to the DOM so\n",
       "    // that it is saved nicely (might be nice to debounce this).\n",
       "    setTimeout(function () {\n",
       "        fig.push_to_output();\n",
       "    }, 1000);\n",
       "};\n",
       "\n",
       "mpl.figure.prototype._init_toolbar = function () {\n",
       "    var fig = this;\n",
       "\n",
       "    var toolbar = document.createElement('div');\n",
       "    toolbar.classList = 'btn-toolbar';\n",
       "    this.root.appendChild(toolbar);\n",
       "\n",
       "    function on_click_closure(name) {\n",
       "        return function (_event) {\n",
       "            return fig.toolbar_button_onclick(name);\n",
       "        };\n",
       "    }\n",
       "\n",
       "    function on_mouseover_closure(tooltip) {\n",
       "        return function (event) {\n",
       "            if (!event.currentTarget.disabled) {\n",
       "                return fig.toolbar_button_onmouseover(tooltip);\n",
       "            }\n",
       "        };\n",
       "    }\n",
       "\n",
       "    fig.buttons = {};\n",
       "    var buttonGroup = document.createElement('div');\n",
       "    buttonGroup.classList = 'btn-group';\n",
       "    var button;\n",
       "    for (var toolbar_ind in mpl.toolbar_items) {\n",
       "        var name = mpl.toolbar_items[toolbar_ind][0];\n",
       "        var tooltip = mpl.toolbar_items[toolbar_ind][1];\n",
       "        var image = mpl.toolbar_items[toolbar_ind][2];\n",
       "        var method_name = mpl.toolbar_items[toolbar_ind][3];\n",
       "\n",
       "        if (!name) {\n",
       "            /* Instead of a spacer, we start a new button group. */\n",
       "            if (buttonGroup.hasChildNodes()) {\n",
       "                toolbar.appendChild(buttonGroup);\n",
       "            }\n",
       "            buttonGroup = document.createElement('div');\n",
       "            buttonGroup.classList = 'btn-group';\n",
       "            continue;\n",
       "        }\n",
       "\n",
       "        button = fig.buttons[name] = document.createElement('button');\n",
       "        button.classList = 'btn btn-default';\n",
       "        button.href = '#';\n",
       "        button.title = name;\n",
       "        button.innerHTML = '<i class=\"fa ' + image + ' fa-lg\"></i>';\n",
       "        button.addEventListener('click', on_click_closure(method_name));\n",
       "        button.addEventListener('mouseover', on_mouseover_closure(tooltip));\n",
       "        buttonGroup.appendChild(button);\n",
       "    }\n",
       "\n",
       "    if (buttonGroup.hasChildNodes()) {\n",
       "        toolbar.appendChild(buttonGroup);\n",
       "    }\n",
       "\n",
       "    // Add the status bar.\n",
       "    var status_bar = document.createElement('span');\n",
       "    status_bar.classList = 'mpl-message pull-right';\n",
       "    toolbar.appendChild(status_bar);\n",
       "    this.message = status_bar;\n",
       "\n",
       "    // Add the close button to the window.\n",
       "    var buttongrp = document.createElement('div');\n",
       "    buttongrp.classList = 'btn-group inline pull-right';\n",
       "    button = document.createElement('button');\n",
       "    button.classList = 'btn btn-mini btn-primary';\n",
       "    button.href = '#';\n",
       "    button.title = 'Stop Interaction';\n",
       "    button.innerHTML = '<i class=\"fa fa-power-off icon-remove icon-large\"></i>';\n",
       "    button.addEventListener('click', function (_evt) {\n",
       "        fig.handle_close(fig, {});\n",
       "    });\n",
       "    button.addEventListener(\n",
       "        'mouseover',\n",
       "        on_mouseover_closure('Stop Interaction')\n",
       "    );\n",
       "    buttongrp.appendChild(button);\n",
       "    var titlebar = this.root.querySelector('.ui-dialog-titlebar');\n",
       "    titlebar.insertBefore(buttongrp, titlebar.firstChild);\n",
       "};\n",
       "\n",
       "mpl.figure.prototype._remove_fig_handler = function (event) {\n",
       "    var fig = event.data.fig;\n",
       "    if (event.target !== this) {\n",
       "        // Ignore bubbled events from children.\n",
       "        return;\n",
       "    }\n",
       "    fig.close_ws(fig, {});\n",
       "};\n",
       "\n",
       "mpl.figure.prototype._root_extra_style = function (el) {\n",
       "    el.style.boxSizing = 'content-box'; // override notebook setting of border-box.\n",
       "};\n",
       "\n",
       "mpl.figure.prototype._canvas_extra_style = function (el) {\n",
       "    // this is important to make the div 'focusable\n",
       "    el.setAttribute('tabindex', 0);\n",
       "    // reach out to IPython and tell the keyboard manager to turn it's self\n",
       "    // off when our div gets focus\n",
       "\n",
       "    // location in version 3\n",
       "    if (IPython.notebook.keyboard_manager) {\n",
       "        IPython.notebook.keyboard_manager.register_events(el);\n",
       "    } else {\n",
       "        // location in version 2\n",
       "        IPython.keyboard_manager.register_events(el);\n",
       "    }\n",
       "};\n",
       "\n",
       "mpl.figure.prototype._key_event_extra = function (event, _name) {\n",
       "    var manager = IPython.notebook.keyboard_manager;\n",
       "    if (!manager) {\n",
       "        manager = IPython.keyboard_manager;\n",
       "    }\n",
       "\n",
       "    // Check for shift+enter\n",
       "    if (event.shiftKey && event.which === 13) {\n",
       "        this.canvas_div.blur();\n",
       "        // select the cell after this one\n",
       "        var index = IPython.notebook.find_cell_index(this.cell_info[0]);\n",
       "        IPython.notebook.select(index + 1);\n",
       "    }\n",
       "};\n",
       "\n",
       "mpl.figure.prototype.handle_save = function (fig, _msg) {\n",
       "    fig.ondownload(fig, null);\n",
       "};\n",
       "\n",
       "mpl.find_output_cell = function (html_output) {\n",
       "    // Return the cell and output element which can be found *uniquely* in the notebook.\n",
       "    // Note - this is a bit hacky, but it is done because the \"notebook_saving.Notebook\"\n",
       "    // IPython event is triggered only after the cells have been serialised, which for\n",
       "    // our purposes (turning an active figure into a static one), is too late.\n",
       "    var cells = IPython.notebook.get_cells();\n",
       "    var ncells = cells.length;\n",
       "    for (var i = 0; i < ncells; i++) {\n",
       "        var cell = cells[i];\n",
       "        if (cell.cell_type === 'code') {\n",
       "            for (var j = 0; j < cell.output_area.outputs.length; j++) {\n",
       "                var data = cell.output_area.outputs[j];\n",
       "                if (data.data) {\n",
       "                    // IPython >= 3 moved mimebundle to data attribute of output\n",
       "                    data = data.data;\n",
       "                }\n",
       "                if (data['text/html'] === html_output) {\n",
       "                    return [cell, data, j];\n",
       "                }\n",
       "            }\n",
       "        }\n",
       "    }\n",
       "};\n",
       "\n",
       "// Register the function which deals with the matplotlib target/channel.\n",
       "// The kernel may be null if the page has been refreshed.\n",
       "if (IPython.notebook.kernel !== null) {\n",
       "    IPython.notebook.kernel.comm_manager.register_target(\n",
       "        'matplotlib',\n",
       "        mpl.mpl_figure_comm\n",
       "    );\n",
       "}\n"
      ],
      "text/plain": [
       "<IPython.core.display.Javascript object>"
      ]
     },
     "metadata": {},
     "output_type": "display_data"
    },
    {
     "data": {
      "text/html": [
       "<img src=\"data:image/png;base64,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\" width=\"936.96\">"
      ],
      "text/plain": [
       "<IPython.core.display.HTML object>"
      ]
     },
     "metadata": {},
     "output_type": "display_data"
    }
   ],
   "source": [
    "x = np.arange(-1, 3, 0.5)\n",
    "y = np.arange(-1, 3, 0.5)\n",
    "X, Y = np.meshgrid(x, y)\n",
    "# print(np.meshgrid(x, y))\n",
    "# print(type(X)) # array\n",
    "Z1 = 2*X - Y -1\n",
    "Z2 = (-X - Y + 2)/2\n",
    "Z3 = 7*X - 2*Y - 5\n",
    "\n",
    "fig = plt.figure()\n",
    "ax1 = Axes3D(fig, auto_add_to_figure=False)\n",
    "fig.add_axes(ax1)\n",
    "ax1.plot_surface(X, Y, Z1, alpha = 0.5, color = 'red')\n",
    "ax1.plot_surface(X, Y, Z2, alpha = 0.5, color = 'blue')\n",
    "ax1.plot_surface(X, Y, Z3, alpha = 0.5, color = 'orange')\n",
    "ax1.set_xlabel('x axis')\n",
    "ax1.set_ylabel('y axis')\n",
    "ax1.set_zlabel('z axis')\n",
    "\n",
    "fig.set_figwidth(8) \n",
    "fig.set_figheight(6)"
   ]
  },
  {
   "cell_type": "markdown",
   "metadata": {},
   "source": [
    "### 從圖形來看，此三平面共同交於一條直線，所以我的程式碼判斷出這個線性方程組為無線多組解是正確的。"
   ]
  },
  {
   "cell_type": "markdown",
   "metadata": {},
   "source": [
    "## (2)高斯消去法"
   ]
  },
  {
   "cell_type": "markdown",
   "metadata": {},
   "source": [
    "### 畢竟高斯消去法是$LU$分解重要的一環，而我又討論到線性方程組的求解，那就不能不提它了。其實在曾正男教授講解$LU$分解法前，他就有另外做了一個高斯消去法的教學影片，可見它的重要性。而教授同樣在影片最後面附上他所寫的程式碼，下面我同樣會對教授的程式碼進行修改。"
   ]
  },
  {
   "cell_type": "markdown",
   "metadata": {},
   "source": [
    "### 我在先前測試的時候發現教授的程式碼有與$LU$分解的程式碼相似的問題，只要主對角線上很多$0$的時候就容易發生問題。其實教授也有提到，他寫的程式碼沒辦法解出所有的線性方程組。所以，我想說，既然教授都寫到這裡了，剩下的部分為什麼不直接完成呢?$\\;$於是，我修改了教授的程式碼，使其能正確地求出解。"
   ]
  },
  {
   "cell_type": "markdown",
   "metadata": {},
   "source": [
    "## [曾正男教授的高斯消去法教學影片連結](https://www.youtube.com/watch?v=HWNgsIRt_oM)"
   ]
  },
  {
   "cell_type": "markdown",
   "metadata": {},
   "source": [
    "## <1> 教授寫的程式碼(有的註解是我自己加的，方便我記錄及理解)"
   ]
  },
  {
   "cell_type": "code",
   "execution_count": 47,
   "metadata": {},
   "outputs": [],
   "source": [
    "import numpy as np"
   ]
  },
  {
   "cell_type": "code",
   "execution_count": 48,
   "metadata": {},
   "outputs": [],
   "source": [
    "def Gauss_Elimination_1(A, b):\n",
    "    m, n = A.shape # array(matrix).shape 可以看array(matrix)的形狀 ; m-->rows ; n-->columns\n",
    "    R = np.mat(np.zeros([m, n+1])) \n",
    "    # R is the reduced row echelon form-->簡化後的列階梯形矩陣 ; n+1-->要在A矩陣中放入b, 即改成增廣矩陣\n",
    "    R[:,:n] = A # [rows, columns] ; [:, :n]-->rows:all ; cloloumns:0 ~ (n-1)\n",
    "    R[:,n] = b # [rows, columns] ; [:, n]-->rows:all ; cloloumn:n\n",
    "    \n",
    "    for i in range(m):\n",
    "        # find maximal element in the column i\n",
    "        maxEc = abs(R[i, i]) # maxEc為 A矩陣對角線上的值\n",
    "        maxRow = i\n",
    "        for k in range(i+1, m):\n",
    "            if abs(R[k, i]) > maxEc:\n",
    "                maxEc = abs(R[k, i])\n",
    "                maxRow = k\n",
    "                \n",
    "        # swap maximum row with current row\n",
    "        R[[i, maxRow], i:] = R[[maxRow, i], i:] \n",
    "        # [rows, columns] ; 第 i 列與第 maxRow 列互換 , 從該列的第 i 行開始(省略前面從第 0 行到第 (i-1)行的互換 ∵ 都是 0, 不用互換) \n",
    "        \n",
    "        # make all rows below this one to 0\n",
    "        for k in range(i+1, m):\n",
    "            c = -float(R[k, i])/R[i, i] # float要加, 避免發生計算錯誤\n",
    "            R[k, i:] = R[k, i:] + c*R[i, i:]\n",
    "    # solve equation for an upper triangular matrix(the numbers in the lower triangular matrix are all solved to 0)\n",
    "    x = np.mat(np.zeros([m, 1]))\n",
    "    for i in range(m-1, -1, -1):\n",
    "    # range(m-1, -1, -1)-->(m-1) ~ 0\n",
    "        x[i] = float(R[i, -1])/R[i, i] # 最後一行(b矩陣) / 對角線上對應的變數係數 [一元一次方程式]\n",
    "        # x[i]即是[i][0](只有一行不一定要寫) ; np.mat的形式可以用index去改變數值 \n",
    "        # R[i][i]在矩陣的對角線上,不包含矩陣 b的部分, 只有矩陣 A\n",
    "        \n",
    "        # 事實上 , 上三角不會被換成 0 最終目標是解出未知數 , \n",
    "        # 所以從最右列的最下面那行的一元一次方程式開始往上代入 , 以求出上面的其他未知數\n",
    "        for k in range(i-1, -1, -1):  \n",
    "        # range(i-1, -1, -1)-->(i-1) ~ 0\n",
    "            R[k, -1] -= R[k, i]*x[i] \n",
    "                     \n",
    "    return x "
   ]
  },
  {
   "cell_type": "markdown",
   "metadata": {},
   "source": [
    "## <2> 我修改後的的程式碼"
   ]
  },
  {
   "cell_type": "code",
   "execution_count": 49,
   "metadata": {},
   "outputs": [],
   "source": [
    "import numpy as np\n",
    "import sympy as sp"
   ]
  },
  {
   "cell_type": "code",
   "execution_count": 50,
   "metadata": {},
   "outputs": [],
   "source": [
    "def Gauss_Elimination_2(A, b):\n",
    "    m, n = A.shape\n",
    "    # Gauss Elimination(all contents below this line)\n",
    "    R = sp.Matrix(np.zeros([m, n+1]))\n",
    "    R[:, :n] = A\n",
    "    R[:,  n] = b\n",
    "    for k in R:\n",
    "        k = sp.Rational(k).limit_denominator()\n",
    "    \n",
    "    for i in range(m):\n",
    "        for v in range(i+1, m):\n",
    "            if R[i, i] == 0:\n",
    "                if R[v, i] != 0:\n",
    "                    R = np.mat(R)\n",
    "                    R[[v, i], :] = R[[i, v], :]\n",
    "                    R = sp.Matrix(R)\n",
    "                        \n",
    "        for h in range(i+1, m):\n",
    "            if R[i, i] == 0:\n",
    "                continue\n",
    "            c = R[h, i]/R[i, i]\n",
    "            R[h, :] = R[h, :] - c*R[i, :]\n",
    "    x = sp.zeros(m, 1) \n",
    "    for z in range(m-1, -1, -1):\n",
    "    # (m-1) ~ 0; index = (-1) --> the last one\n",
    "        x[z] = R[z, -1] / R[z, z]\n",
    "        for y in range(z-1, -1, -1):\n",
    "            R[y, -1] -= R[y, z] * x[z] \n",
    "        # 倒車往上消去未知數(先把A矩陣在主對角線下的元素全部消成0, \n",
    "        # 然後解好最下面的一元方程式, 往上代入二元方程式, 三元方程式, ...\n",
    "    \n",
    "\n",
    "        \n",
    "    return x"
   ]
  },
  {
   "cell_type": "markdown",
   "metadata": {},
   "source": [
    "### 下面我用和上面測試「恰有一解」時，一模一樣的方程組，比較我和教授的程式碼計算出來的答案有什麼不同"
   ]
  },
  {
   "cell_type": "markdown",
   "metadata": {},
   "source": [
    "###   $\\begin{cases}85x+69y-34z=120\\\\69x-85y+47z=10 \\;\\;\\;--→\\\\23x-200y-21z=-23\\end{cases} \\; \\left[\\begin{matrix}85 & 69 & -34\\\\69 & -85 & 47\\\\23 & -200 & -21\\end{matrix}\\right]  \\left[\\begin{matrix}x\\\\y\\\\z\\end{matrix}\\right]  =  \\left[\\begin{matrix}120\\\\10\\\\-23\\end{matrix}\\right]$"
   ]
  },
  {
   "cell_type": "code",
   "execution_count": 51,
   "metadata": {},
   "outputs": [],
   "source": [
    "from sympy.abc import x, y, z"
   ]
  },
  {
   "cell_type": "code",
   "execution_count": 52,
   "metadata": {},
   "outputs": [],
   "source": [
    "from IPython.display import display, Markdown"
   ]
  },
  {
   "cell_type": "code",
   "execution_count": 53,
   "metadata": {},
   "outputs": [
    {
     "data": {
      "text/markdown": [
       "### $A\\;=\\left[\\begin{matrix}85 & 69 & -34\\\\69 & -85 & 47\\\\23 & -200 & -21\\end{matrix}\\right],\\;x(matrix)\\;=\\left[\\begin{matrix}x\\\\y\\\\z\\end{matrix}\\right],\\;b\\;=\\left[\\begin{matrix}120\\\\10\\\\-23\\end{matrix}\\right]$"
      ],
      "text/plain": [
       "<IPython.core.display.Markdown object>"
      ]
     },
     "metadata": {},
     "output_type": "display_data"
    }
   ],
   "source": [
    "A = sp.Matrix([[85, 69, -34], \n",
    "               [69, -85, 47], \n",
    "               [23, -200, -21]])\n",
    "x_matrix = sp.Matrix([[x],\n",
    "                      [y], \n",
    "                      [z]])\n",
    "b = sp.Matrix([[120], \n",
    "               [10], \n",
    "               [-23]])\n",
    "\n",
    "a = '### $'+'A\\;=' +  sp.latex(A) + ',\\;' + 'x(matrix)\\;=' + sp.latex(x_matrix) + ',\\;' + 'b\\;=' +  sp.latex(b) + '$'\n",
    "display(Markdown(a))"
   ]
  },
  {
   "cell_type": "markdown",
   "metadata": {},
   "source": [
    "## 教授的程式碼計算的結果(為了清楚表示數學式，我將教授輸出的$x$矩陣從$np.mat( )$的形式切換成$sp.Matrix( )$的形式)"
   ]
  },
  {
   "cell_type": "code",
   "execution_count": 54,
   "metadata": {},
   "outputs": [
    {
     "data": {
      "text/markdown": [
       "### $x_1\\;=\\left[\\begin{matrix}0.927060093912076\\\\0.287569247885342\\\\-0.628165115099557\\end{matrix}\\right],\\;Ax_1\\;=\\left[\\begin{matrix}120.0\\\\9.99999999999999\\\\-23.0\\end{matrix}\\right],\\;b\\;=\\left[\\begin{matrix}120\\\\10\\\\-23\\end{matrix}\\right]\\;→Ax_1 ≠ b $"
      ],
      "text/plain": [
       "<IPython.core.display.Markdown object>"
      ]
     },
     "metadata": {},
     "output_type": "display_data"
    }
   ],
   "source": [
    "x1 = Gauss_Elimination_1(A, b)\n",
    "x1 = sp.Matrix(x1)\n",
    "a1 = '### $'+'x_1\\;=' + sp.latex(x1) + ',\\;' + 'Ax_1\\;=' \n",
    "a2 = sp.latex(A*x1) + ',\\;' + 'b\\;=' + sp.latex(b) + '\\;→' + 'Ax_1 ≠ b '+'$'\n",
    "a3 = a1 + a2\n",
    "display(Markdown(a3))"
   ]
  },
  {
   "cell_type": "markdown",
   "metadata": {},
   "source": [
    "## 我的程式碼計算的結果(高斯消去法, 此處我修改後的程式碼)"
   ]
  },
  {
   "cell_type": "code",
   "execution_count": 55,
   "metadata": {},
   "outputs": [
    {
     "data": {
      "text/markdown": [
       "### $x_2\\;=\\left[\\begin{matrix}\\frac{1416571}{1528025}\\\\\\frac{439413}{1528025}\\\\- \\frac{959852}{1528025}\\end{matrix}\\right],\\;Ax_2\\;=\\left[\\begin{matrix}120\\\\10\\\\-23\\end{matrix}\\right],\\;b\\;=\\left[\\begin{matrix}120\\\\10\\\\-23\\end{matrix}\\right]→\\;Ax_2 = b  (成立)$"
      ],
      "text/plain": [
       "<IPython.core.display.Markdown object>"
      ]
     },
     "metadata": {},
     "output_type": "display_data"
    }
   ],
   "source": [
    "x2 = Gauss_Elimination_2(A, b)\n",
    "a1 = '### $'+'x_2\\;=' + sp.latex(x2) + ',\\;' + 'Ax_2\\;=' \n",
    "a2 = sp.latex(A*x2) + ',\\;' + 'b\\;=' + sp.latex(b) + '→\\;' + 'Ax_2 = b  (成立)'+'$'\n",
    "a3 = a1 + a2\n",
    "display(Markdown(a3))"
   ]
  },
  {
   "cell_type": "markdown",
   "metadata": {},
   "source": [
    "## 我的程式碼計算的結果(在1.克拉瑪公式那裡寫的程式碼)"
   ]
  },
  {
   "cell_type": "code",
   "execution_count": 56,
   "metadata": {},
   "outputs": [
    {
     "name": "stdout",
     "output_type": "stream",
     "text": [
      "恰有一解\n"
     ]
    },
    {
     "data": {
      "text/markdown": [
       "### $x_3\\;=\\left[\\begin{matrix}\\frac{1416571}{1528025}\\\\\\frac{439413}{1528025}\\\\- \\frac{959852}{1528025}\\end{matrix}\\right],\\;Ax_3\\;=\\left[\\begin{matrix}120\\\\10\\\\-23\\end{matrix}\\right],\\;b\\;=\\left[\\begin{matrix}120\\\\10\\\\-23\\end{matrix}\\right]→\\;Ax_3 = b  (成立)$"
      ],
      "text/plain": [
       "<IPython.core.display.Markdown object>"
      ]
     },
     "metadata": {},
     "output_type": "display_data"
    }
   ],
   "source": [
    "state, x3 = Cramer(A, b)\n",
    "print(state)\n",
    "a1 = '### $'+'x_3\\;=' + sp.latex(x3) + ',\\;' + 'Ax_3\\;=' \n",
    "a2 = sp.latex(A*x3) + ',\\;' + 'b\\;=' + sp.latex(b) + '→\\;' + 'Ax_3 = b  (成立)'+'$'\n",
    "a3 = a1 + a2\n",
    "display(Markdown(a3))"
   ]
  },
  {
   "cell_type": "markdown",
   "metadata": {},
   "source": [
    "### ↑$x_2 = x_3$，加上$x_3$這個答案在上面已經被驗證為正確的，所以我的程式碼計算出的$x_2$也是正確的。"
   ]
  },
  {
   "cell_type": "markdown",
   "metadata": {},
   "source": [
    "### 由上可知，儘管教授的程式碼在計算時沒有出現差錯，一樣能計算出答案。不過，因為每個解皆是非常複雜的小數，若用$「float」$的小數形式來計算，則$Python$在顯示小數的數值時，小數末幾位可能產生偏差，進而導致$A$矩陣與$x_1$矩陣相乘後，與$b$矩陣間有極小的誤差。而我主要用和上面，改良$LU$分解在計算時產生的誤差一樣的想法進行修改: 「用分數取代小數進行計算」，這樣可使解的各個數值皆為標準無偏差，也能使$Ax=b$的等式成立。"
   ]
  },
  {
   "cell_type": "markdown",
   "metadata": {},
   "source": [
    "## (3)矩陣計算直接求解"
   ]
  },
  {
   "cell_type": "markdown",
   "metadata": {},
   "source": [
    "### 如果說要偷懶一下，省去高斯消去法的計算，事實上只要確定$A$矩陣為可逆矩陣$(det(A)≠0)$，在$Ax=b$的兩邊同乘$A^{-1}$，然後就可得到:$x = A^{-1}b$，$「x$矩陣」中的元素即為解。下面我用和上面測試「恰有一解」時，一模一樣的方程組，看看使用矩陣計算求出來的解和我在上面算出來的正確答案是否相同。"
   ]
  },
  {
   "cell_type": "markdown",
   "metadata": {},
   "source": [
    "###   $\\begin{cases}85x+69y-34z=120\\\\69x-85y+47z=10 \\;\\;\\;--→\\\\23x-200y-21z=-23\\end{cases} \\; \\left[\\begin{matrix}85 & 69 & -34\\\\69 & -85 & 47\\\\23 & -200 & -21\\end{matrix}\\right]  \\left[\\begin{matrix}x\\\\y\\\\z\\end{matrix}\\right]  =  \\left[\\begin{matrix}120\\\\10\\\\-23\\end{matrix}\\right]$"
   ]
  },
  {
   "cell_type": "code",
   "execution_count": 57,
   "metadata": {},
   "outputs": [],
   "source": [
    "import numpy as np\n",
    "import sympy as sp"
   ]
  },
  {
   "cell_type": "code",
   "execution_count": 58,
   "metadata": {},
   "outputs": [],
   "source": [
    "from IPython.display import display, Markdown"
   ]
  },
  {
   "cell_type": "code",
   "execution_count": 59,
   "metadata": {},
   "outputs": [
    {
     "data": {
      "text/markdown": [
       "### $A\\;=\\left[\\begin{matrix}85 & 69 & -34\\\\69 & -85 & 47\\\\23 & -200 & -21\\end{matrix}\\right],\\;x(matrix)\\;=\\left[\\begin{matrix}x\\\\y\\\\z\\end{matrix}\\right],\\;b\\;=\\left[\\begin{matrix}120\\\\10\\\\-23\\end{matrix}\\right]$"
      ],
      "text/plain": [
       "<IPython.core.display.Markdown object>"
      ]
     },
     "metadata": {},
     "output_type": "display_data"
    }
   ],
   "source": [
    "A = sp.Matrix([[85, 69, -34], \n",
    "               [69, -85, 47], \n",
    "               [23, -200, -21]])\n",
    "x_matrix = sp.Matrix([[x],\n",
    "                      [y], \n",
    "                      [z]])\n",
    "b = sp.Matrix([[120], \n",
    "               [10], \n",
    "               [-23]])\n",
    "\n",
    "a = '### $'+'A\\;=' +  sp.latex(A) + ',\\;' + 'x(matrix)\\;=' + sp.latex(x_matrix) + ',\\;' + 'b\\;=' +  sp.latex(b) + '$'\n",
    "display(Markdown(a))"
   ]
  },
  {
   "cell_type": "markdown",
   "metadata": {},
   "source": [
    "## 我的程式碼計算的結果(矩陣直接計算)"
   ]
  },
  {
   "cell_type": "code",
   "execution_count": 60,
   "metadata": {},
   "outputs": [
    {
     "data": {
      "text/markdown": [
       "### $x_4\\;=\\left[\\begin{matrix}\\frac{1416571}{1528025}\\\\\\frac{439413}{1528025}\\\\- \\frac{959852}{1528025}\\end{matrix}\\right],\\;Ax_4\\;=\\left[\\begin{matrix}120\\\\10\\\\-23\\end{matrix}\\right],\\;b\\;=\\left[\\begin{matrix}120\\\\10\\\\-23\\end{matrix}\\right]→\\;Ax_4 = b  (成立)$"
      ],
      "text/plain": [
       "<IPython.core.display.Markdown object>"
      ]
     },
     "metadata": {},
     "output_type": "display_data"
    }
   ],
   "source": [
    "A1 = A.inv()\n",
    "x4 = A1 * b\n",
    "a1 = '### $'+'x_4\\;=' + sp.latex(x3) + ',\\;' + 'Ax_4\\;=' \n",
    "a2 = sp.latex(A*x4) + ',\\;' + 'b\\;=' + sp.latex(b) + '→\\;' + 'Ax_4 = b  (成立)'+'$'\n",
    "a3 = a1 + a2\n",
    "display(Markdown(a3))"
   ]
  },
  {
   "cell_type": "markdown",
   "metadata": {},
   "source": [
    "## 我的程式碼計算的結果(在1.克拉瑪公式那裡寫的程式碼)"
   ]
  },
  {
   "cell_type": "code",
   "execution_count": 61,
   "metadata": {},
   "outputs": [
    {
     "name": "stdout",
     "output_type": "stream",
     "text": [
      "恰有一解\n"
     ]
    },
    {
     "data": {
      "text/markdown": [
       "### $x_5\\;=\\left[\\begin{matrix}\\frac{1416571}{1528025}\\\\\\frac{439413}{1528025}\\\\- \\frac{959852}{1528025}\\end{matrix}\\right],\\;Ax_5\\;=\\left[\\begin{matrix}120\\\\10\\\\-23\\end{matrix}\\right],\\;b\\;=\\left[\\begin{matrix}120\\\\10\\\\-23\\end{matrix}\\right]→\\;Ax_5 = b  (成立)$"
      ],
      "text/plain": [
       "<IPython.core.display.Markdown object>"
      ]
     },
     "metadata": {},
     "output_type": "display_data"
    }
   ],
   "source": [
    "state, x5 = Cramer(A, b)\n",
    "print(state)\n",
    "a1 = '### $'+'x_5\\;=' + sp.latex(x5) + ',\\;' + 'Ax_5\\;=' \n",
    "a2 = sp.latex(A*x5) + ',\\;' + 'b\\;=' + sp.latex(b) + '→\\;' + 'Ax_5 = b  (成立)'+'$'\n",
    "a3 = a1 + a2\n",
    "display(Markdown(a3))"
   ]
  },
  {
   "cell_type": "markdown",
   "metadata": {},
   "source": [
    "## 我的程式碼計算的結果(在2.高斯消去法那裡寫的程式碼)"
   ]
  },
  {
   "cell_type": "code",
   "execution_count": 62,
   "metadata": {},
   "outputs": [
    {
     "data": {
      "text/markdown": [
       "### $x_6\\;=\\left[\\begin{matrix}\\frac{1416571}{1528025}\\\\\\frac{439413}{1528025}\\\\- \\frac{959852}{1528025}\\end{matrix}\\right],\\;Ax_6\\;=\\left[\\begin{matrix}120\\\\10\\\\-23\\end{matrix}\\right],\\;b\\;=\\left[\\begin{matrix}120\\\\10\\\\-23\\end{matrix}\\right]→\\;Ax_6 = b  (成立)$"
      ],
      "text/plain": [
       "<IPython.core.display.Markdown object>"
      ]
     },
     "metadata": {},
     "output_type": "display_data"
    }
   ],
   "source": [
    "x6 = Gauss_Elimination_2(A, b)\n",
    "a1 = '### $'+'x_6\\;=' + sp.latex(x6) + ',\\;' + 'Ax_6\\;=' \n",
    "a2 = sp.latex(A*x6) + ',\\;' + 'b\\;=' + sp.latex(b) + '→\\;' + 'Ax_6 = b  (成立)'+'$'\n",
    "a3 = a1 + a2\n",
    "display(Markdown(a3))"
   ]
  },
  {
   "cell_type": "markdown",
   "metadata": {},
   "source": [
    "### $↑x_4 = x_5 = x_6$，且由上可知，運用矩陣計算求出來的$x_4$與我利用克拉瑪公式所得的$x_5$及高斯消去法求得的$x_6$相同，且$x_5$和$x_6$在上面已經被驗證過是正確的，所以運用矩陣計算求出來的$x_4$也是正確的。"
   ]
  },
  {
   "cell_type": "code",
   "execution_count": null,
   "metadata": {},
   "outputs": [],
   "source": []
  }
 ],
 "metadata": {
  "kernelspec": {
   "display_name": "Python 3",
   "language": "python",
   "name": "python3"
  },
  "language_info": {
   "codemirror_mode": {
    "name": "ipython",
    "version": 3
   },
   "file_extension": ".py",
   "mimetype": "text/x-python",
   "name": "python",
   "nbconvert_exporter": "python",
   "pygments_lexer": "ipython3",
   "version": "3.8.8"
  }
 },
 "nbformat": 4,
 "nbformat_minor": 5
}
