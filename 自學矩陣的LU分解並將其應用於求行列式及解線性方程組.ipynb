{
 "cells": [
  {
   "cell_type": "markdown",
   "id": "4f40e846",
   "metadata": {},
   "source": [
    "# 自學矩陣的$LU$分解並將其應用於求行列式及解線性方程組"
   ]
  },
  {
   "cell_type": "markdown",
   "id": "7bbe3752",
   "metadata": {},
   "source": [
    "### 前情提要，請點下面的連結(我以拍照的方式將手寫筆記上傳到另一個$Jupyter Notebook$的檔案儲存為下面的線上連結，兩個連結的內容皆相同)"
   ]
  },
  {
   "cell_type": "markdown",
   "id": "c9056f4e",
   "metadata": {},
   "source": [
    "[LU分解學習紀錄連結1](https://nbviewer.org/github/maxjiang323/s/blob/main/LU%E5%88%86%E8%A7%A3%E5%AD%B8%E7%BF%92%E7%B4%80%E9%8C%84.ipynb)"
   ]
  },
  {
   "cell_type": "markdown",
   "id": "c54ad6d1",
   "metadata": {},
   "source": [
    "[LU分解學習紀錄連結2](https://github.com/maxjiang323/s/blob/main/LU%E5%88%86%E8%A7%A3%E5%AD%B8%E7%BF%92%E7%B4%80%E9%8C%84.ipynb)"
   ]
  },
  {
   "cell_type": "markdown",
   "id": "30d4b5f7",
   "metadata": {},
   "source": [
    "### 在上面的筆記中，所有的程式碼我皆有測試過，只是當時僅用手寫的方式記錄下來。接下來，我要記錄我實作的部分，我會先寫下教授的程式碼，以及我第一、二次修改的程式碼，以幾個矩陣分別測試我和教授的程式碼的計算結果，並進行比較。"
   ]
  },
  {
   "cell_type": "markdown",
   "id": "155094a7",
   "metadata": {},
   "source": [
    "# 1. $LU$分解法"
   ]
  },
  {
   "cell_type": "markdown",
   "id": "3e9b7c89",
   "metadata": {},
   "source": [
    "## (1)教授寫的程式碼(有的註解是我自己加的，方便我記錄及理解)"
   ]
  },
  {
   "cell_type": "markdown",
   "id": "cf9d9e3c",
   "metadata": {},
   "source": [
    "[曾正男教授的LU分解教學影片連結](https://www.youtube.com/watch?v=W1elv5pS9xg)"
   ]
  },
  {
   "cell_type": "code",
   "execution_count": 1,
   "id": "3022c1eb",
   "metadata": {},
   "outputs": [],
   "source": [
    "import numpy as np"
   ]
  },
  {
   "cell_type": "code",
   "execution_count": 2,
   "id": "ac72ea90",
   "metadata": {},
   "outputs": [],
   "source": [
    "def LU_1(A):\n",
    "    m, n = A.shape # array(matrix).shape 可以看array(matrix)的形狀 ; m-->rows ; n-->columns\n",
    "    U = A.copy()\n",
    "    L = np.mat(np.identity(m)) # L最初的型態為單位矩陣\n",
    "    P = L.copy()\n",
    "    \n",
    "    for i in range(m):\n",
    "        \n",
    "        maxEc = abs(U[i, i])\n",
    "        maxRow = i\n",
    "        for k in range(i+1, m):\n",
    "            if abs(U[k, i]) > maxEc:\n",
    "                maxEc = U[k, i]\n",
    "                maxRow = k\n",
    "        # swap maximum row with current row\n",
    "        # [rows, columns] ; 第 i 列與第 maxRow 列互換 \n",
    "        # 從該列的第 i 行開始(省略前面從第 0 行到第 (i-1)行的互換 ∵ 都是 0, 不用互換)\n",
    "        U[[i, maxRow], i:] = U[[maxRow, i], i:]\n",
    "        # [rows, columns] ; L矩陣要整行都互換, 而 P矩陣也要整列都互換\n",
    "        L[[i, maxRow], :] = L[[maxRow, i], :]\n",
    "        P[:, [i, maxRow]] = P[:, [maxRow, i]]\n",
    "        \n",
    "        # gauss elimination \n",
    "        for t in range(i+1, m):\n",
    "            c = -float(U[t, i])/U[i, i] # U[i, i]--> U矩陣對角線上的數值\n",
    "            # delete row t by i\n",
    "            U[t, i:] = U[t, i:] + c*U[i, i:] # 列運算\n",
    "            # delete column i by t\n",
    "            L[t:, i] = L[t:, i] - c*L[t:, t] # 行運算\n",
    "    return L, U, P"
   ]
  },
  {
   "cell_type": "markdown",
   "id": "19e0b5ea",
   "metadata": {},
   "source": [
    "## (2)我第一次修改後的程式碼"
   ]
  },
  {
   "cell_type": "code",
   "execution_count": 3,
   "id": "4e57c7cb",
   "metadata": {},
   "outputs": [],
   "source": [
    "import numpy as np"
   ]
  },
  {
   "cell_type": "code",
   "execution_count": 4,
   "id": "e304e60c",
   "metadata": {},
   "outputs": [],
   "source": [
    "def LU_2(A):\n",
    "    m, n = A.shape\n",
    "    U = np.array(A.copy())\n",
    "    L = np.mat(np.identity(m))\n",
    "    P = L.copy()\n",
    "    \n",
    "    for i in range(m):\n",
    "         for t in range(i, m-1): \n",
    "         # from the first row to (the second to last), from the second row to (the second to last)... \n",
    "            for h in range(t+1, m): \n",
    "            # from the second row to the last, from the third row to the last...\n",
    "                U = np.mat(U)\n",
    "                if U[t, i] == 0:\n",
    "                    continue\n",
    "                else:\n",
    "                    c = -(U[h ,i] / U[t, i])\n",
    "                    U[h, :] = U[h, :] + c * U[t,:]\n",
    "                    L[:, t] = L[:, t] - c * L[:, h]\n",
    "                \n",
    "                   \n",
    "    \n",
    "   \n",
    "         for k in range(i+1, m):\n",
    "            changeRow = i\n",
    "            U = np.array(U)\n",
    "            nonzero = np.count_nonzero(U, axis = 1) # row\n",
    "            if nonzero[k] > nonzero[i]:\n",
    "                changeRow = k\n",
    "                U = np.mat(U)\n",
    "                U[[changeRow, i], :] = U[[i, changeRow], :]\n",
    "                P[[changeRow, i], :] = P[[i, changeRow], :]\n",
    "                L[[changeRow, i], :] = L[[i, changeRow], :]\n",
    "                L[:, [changeRow, i]] = L[:, [i, changeRow]]\n",
    "                \n",
    "                \n",
    "    \n",
    "       \n",
    "    U = np.mat(U)\n",
    "    return L, U, P\n",
    "       "
   ]
  },
  {
   "cell_type": "markdown",
   "id": "d4878d6b",
   "metadata": {},
   "source": [
    "## (3)我第二次修改後的程式碼"
   ]
  },
  {
   "cell_type": "code",
   "execution_count": 5,
   "id": "1fc22cce",
   "metadata": {},
   "outputs": [],
   "source": [
    "import numpy as np"
   ]
  },
  {
   "cell_type": "code",
   "execution_count": 6,
   "id": "5c71c068",
   "metadata": {},
   "outputs": [],
   "source": [
    "def LU_3(A):\n",
    "    m, n = A.shape\n",
    "    U = A.copy()\n",
    "    U = U.astype('float64')\n",
    "    P = np.mat(np.identity(m))\n",
    "    L = P.copy()\n",
    "    \n",
    "    for i in range(m-1):\n",
    "        for x in range(i+1, m):\n",
    "            if U[i, i] == 0:\n",
    "                if U[x, i] != 0:\n",
    "                    U[[x, i], i:] = U[[i, x], i:]\n",
    "                    P[[x, i], :] = P[[i, x], :]\n",
    "                    L[[x, i], :] = L[[i, x], :]\n",
    "                    L[:, [x, i]] = L[:, [i, x]]\n",
    "        \n",
    "        for t in range(i+1, m):\n",
    "            if U[i, i] == 0:\n",
    "                continue\n",
    "            c = -(U[t, i]/U[i, i])\n",
    "            U[t, i:] = U[t, i:] + c*U[i, i:]\n",
    "            L[t, i] = L[t, i] - c*L[t, t]\n",
    "            \n",
    "    return L, U, P"
   ]
  },
  {
   "cell_type": "markdown",
   "id": "dd16017b",
   "metadata": {},
   "source": [
    "### 為了「清楚地表示數學式」，下面我不會使用$print$直接輸出矩陣及算式，我會將我和教授的輸出的矩陣從$numpy.mat( )$轉換成$sympy.Matrix( )$的形式($sympy$在後面我會提到) ，然後用$display$&$Markdown$這兩個函式輸出矩陣。\n",
    "### 註記:用$display$&$Markdown$取代$print$輸出矩陣及算式的原因是:用$display$&$Markdown$的話，輸出的字體較用$print$來得大且較工整，下面我舉個例子來比較兩者差異"
   ]
  },
  {
   "cell_type": "markdown",
   "id": "bc7432d4",
   "metadata": {},
   "source": [
    "## 1.使用$print$輸出矩陣及算式"
   ]
  },
  {
   "cell_type": "code",
   "execution_count": 7,
   "id": "262bbce2",
   "metadata": {},
   "outputs": [],
   "source": [
    "import numpy as np"
   ]
  },
  {
   "cell_type": "code",
   "execution_count": 8,
   "id": "33489d51",
   "metadata": {},
   "outputs": [
    {
     "name": "stdout",
     "output_type": "stream",
     "text": [
      "ss = \n",
      "[[1 2 3]\n",
      " [4 5 6]\n",
      " [7 8 9]]\n",
      "ss * I3 =[[1 2 3]\n",
      " [4 5 6]\n",
      " [7 8 9]][[1. 0. 0.]\n",
      " [0. 1. 0.]\n",
      " [0. 0. 1.]]=[[1. 2. 3.]\n",
      " [4. 5. 6.]\n",
      " [7. 8. 9.]]\n"
     ]
    }
   ],
   "source": [
    "ss = np.mat([[1, 2, 3],\n",
    "             [4, 5, 6],\n",
    "             [7, 8, 9]])\n",
    "print('ss = ')\n",
    "print(ss)\n",
    "\n",
    "print('ss * I3 =' + str(ss) + str(np.identity(3)) + '=' + str(ss*np.identity(3)))"
   ]
  },
  {
   "cell_type": "markdown",
   "id": "d6190b91",
   "metadata": {},
   "source": [
    "## 2.使用$display$&$Markdown$輸出矩陣及算式(先把矩陣轉換成$sympy.Matrix( )$的形式)"
   ]
  },
  {
   "cell_type": "code",
   "execution_count": 9,
   "id": "4f7c6ded",
   "metadata": {},
   "outputs": [],
   "source": [
    "from IPython.display import display, Markdown\n",
    "import numpy as np\n",
    "import sympy as sp"
   ]
  },
  {
   "cell_type": "code",
   "execution_count": 10,
   "id": "350dd238",
   "metadata": {},
   "outputs": [
    {
     "data": {
      "text/markdown": [
       "### $ss =\\left[\\begin{matrix}1 & 2 & 3\\\\4 & 5 & 6\\\\7 & 8 & 9\\end{matrix}\\right]$"
      ],
      "text/plain": [
       "<IPython.core.display.Markdown object>"
      ]
     },
     "metadata": {},
     "output_type": "display_data"
    },
    {
     "data": {
      "text/markdown": [
       "### $ss * I_3  =\\left[\\begin{matrix}1 & 2 & 3\\\\4 & 5 & 6\\\\7 & 8 & 9\\end{matrix}\\right]\\left[\\begin{matrix}1 & 0 & 0\\\\0 & 1 & 0\\\\0 & 0 & 1\\end{matrix}\\right]=\\left[\\begin{matrix}1 & 2 & 3\\\\4 & 5 & 6\\\\7 & 8 & 9\\end{matrix}\\right]$"
      ],
      "text/plain": [
       "<IPython.core.display.Markdown object>"
      ]
     },
     "metadata": {},
     "output_type": "display_data"
    }
   ],
   "source": [
    "ss = np.mat([[1, 2, 3],\n",
    "             [4, 5, 6],\n",
    "             [7, 8, 9]])\n",
    "ss_1 = sp.Matrix(ss)\n",
    "\n",
    "a1 = '### $' + 'ss =' + sp.latex(ss_1) + '$'\n",
    "display(Markdown(a1))\n",
    "\n",
    "a2 = '### $' + 'ss * I_3  =' + sp.latex(ss_1) + sp.latex(sp.eye(3)) + '=' + sp.latex(ss_1 * sp.eye(3)) + '$'\n",
    "display(Markdown(a2))"
   ]
  },
  {
   "cell_type": "markdown",
   "id": "df5cb179",
   "metadata": {},
   "source": [
    "### 由上可見兩者之差異。因此，下面的矩陣及算式我將全部採用$display$&$Markdown$進行輸出(若矩陣的型態為$numpy.mat()$，我會將它先轉換成$sympy.Matrix()$的形式)"
   ]
  },
  {
   "cell_type": "markdown",
   "id": "e49e1948",
   "metadata": {},
   "source": [
    "### 接下來我會分別以一個 $4$ x $5$ 的矩陣$A$和 $5$ x $4$ 的矩陣$B$ 測試三個(包含教授的)不同的程式碼計算矩陣的 $LU$分解的結果，並測試該次$LU$分解後，矩陣$A$和矩陣$B$各自的$L$矩陣、$U$矩陣、$P$矩陣是否可以滿足: $PA = LU$ 還有 $PB = LU$。"
   ]
  },
  {
   "cell_type": "code",
   "execution_count": 11,
   "id": "07cbc40b",
   "metadata": {},
   "outputs": [],
   "source": [
    "from IPython.display import display, Markdown"
   ]
  },
  {
   "cell_type": "code",
   "execution_count": 12,
   "id": "1faea808",
   "metadata": {},
   "outputs": [
    {
     "data": {
      "text/markdown": [
       "### $A\\;=\\left[\\begin{matrix}4 & 6 & 2 & 0 & 1\\\\0 & 5 & -2 & -1 & 2\\\\12 & 38 & -2 & 0 & 3\\\\0 & 3 & 4 & 0 & 4\\end{matrix}\\right],\\;B\\;=\\left[\\begin{matrix}4 & 6 & 2 & 0\\\\0 & 5 & -2 & -1\\\\12 & 38 & -2 & 0\\\\0 & 3 & 4 & 0\\\\1 & 2 & 3 & 4\\end{matrix}\\right]$"
      ],
      "text/plain": [
       "<IPython.core.display.Markdown object>"
      ]
     },
     "metadata": {},
     "output_type": "display_data"
    }
   ],
   "source": [
    "A = np.mat([[4, 6, 2, 0, 1], \n",
    "            [0, 5, -2, -1, 2], \n",
    "            [12, 38, -2, 0, 3], \n",
    "            [0, 3, 4, 0, 4]])\n",
    "\n",
    "B = np.mat([[4, 6, 2, 0], \n",
    "            [0, 5, -2, -1], \n",
    "            [12, 38, -2, 0], \n",
    "            [0, 3, 4, 0], \n",
    "            [1, 2, 3, 4]])\n",
    "\n",
    "\n",
    "A_1 = sp.Matrix(A)\n",
    "B_1 = sp.Matrix(B)\n",
    "a = '### $'+'A\\;=' +  sp.latex(A_1) + ',\\;' +'B\\;=' +  sp.latex(B_1) + '$'\n",
    "display(Markdown(a))"
   ]
  },
  {
   "cell_type": "markdown",
   "id": "44565ba0",
   "metadata": {},
   "source": [
    "## 教授程式碼的計算結果"
   ]
  },
  {
   "cell_type": "code",
   "execution_count": 13,
   "id": "82603ec7",
   "metadata": {
    "scrolled": false
   },
   "outputs": [
    {
     "data": {
      "text/markdown": [
       "### $P\\;=\\left[\\begin{matrix}0 & 0 & 1.0 & 0\\\\0 & 0 & 0 & 1.0\\\\1.0 & 0 & 0 & 0\\\\0 & 1.0 & 0 & 0\\end{matrix}\\right],\\;A\\;=\\left[\\begin{matrix}4 & 6 & 2 & 0 & 1\\\\0 & 5 & -2 & -1 & 2\\\\12 & 38 & -2 & 0 & 3\\\\0 & 3 & 4 & 0 & 4\\end{matrix}\\right]$"
      ],
      "text/plain": [
       "<IPython.core.display.Markdown object>"
      ]
     },
     "metadata": {},
     "output_type": "display_data"
    },
    {
     "data": {
      "text/markdown": [
       "### $L\\;=\\left[\\begin{matrix}0 & 0 & 1.0 & 0\\\\0 & 0 & 0 & 1.0\\\\1.0 & 0 & 0 & 0\\\\0 & 1.0 & 0 & 0\\end{matrix}\\right],\\;U\\;=\\left[\\begin{matrix}12 & 38 & -2 & 0 & 3\\\\0 & 3 & 4 & 0 & 4\\\\0 & 0 & 10 & 0 & 8\\\\0 & 0 & 0 & -1 & 2\\end{matrix}\\right]$"
      ],
      "text/plain": [
       "<IPython.core.display.Markdown object>"
      ]
     },
     "metadata": {},
     "output_type": "display_data"
    },
    {
     "data": {
      "text/markdown": [
       "### $PA\\;=\\left[\\begin{matrix}12.0 & 38.0 & -2.0 & 0 & 3.0\\\\0 & 3.0 & 4.0 & 0 & 4.0\\\\4.0 & 6.0 & 2.0 & 0 & 1.0\\\\0 & 5.0 & -2.0 & -1.0 & 2.0\\end{matrix}\\right],\\;LU\\;=\\left[\\begin{matrix}0 & 0 & 10.0 & 0 & 8.0\\\\0 & 0 & 0 & -1.0 & 2.0\\\\12.0 & 38.0 & -2.0 & 0 & 3.0\\\\0 & 3.0 & 4.0 & 0 & 4.0\\end{matrix}\\right]$"
      ],
      "text/plain": [
       "<IPython.core.display.Markdown object>"
      ]
     },
     "metadata": {},
     "output_type": "display_data"
    }
   ],
   "source": [
    "L, U, P = LU_1(A)\n",
    "L_1 = sp.Matrix(L)\n",
    "U_1 = sp.Matrix(U)\n",
    "P_1 = sp.Matrix(P)\n",
    "\n",
    "a0 = '### $'+'P\\;=' +  sp.latex(P_1) + ',\\;' + 'A\\;=' + sp.latex(A_1) +'$'\n",
    "display(Markdown(a0))\n",
    "\n",
    "a1 = '### $'+'L\\;=' +  sp.latex(L_1) + ',\\;' + 'U\\;=' + sp.latex(U_1) +'$'\n",
    "display(Markdown(a1))\n",
    "\n",
    "a2 = '### $'+'PA\\;=' +  sp.latex(P_1 * A_1) + ',\\;' + 'LU\\;=' + sp.latex(L_1 * U_1) +'$'\n",
    "display(Markdown(a2))"
   ]
  },
  {
   "cell_type": "markdown",
   "id": "4b9f67c4",
   "metadata": {},
   "source": [
    "### $↑PA ≠ LU$，而$L$矩陣主對角線上元素皆不為$\\;1\\;$(不合$L$矩陣的規則)，且其主對角線上方的元素有兩個不為$\\;0\\;$(不合$L$矩陣的規則)"
   ]
  },
  {
   "cell_type": "code",
   "execution_count": 14,
   "id": "a02516ef",
   "metadata": {},
   "outputs": [
    {
     "ename": "IndexError",
     "evalue": "index 4 is out of bounds for axis 1 with size 4",
     "output_type": "error",
     "traceback": [
      "\u001b[1;31m---------------------------------------------------------------------------\u001b[0m",
      "\u001b[1;31mIndexError\u001b[0m                                Traceback (most recent call last)",
      "\u001b[1;32m~\\AppData\\Local\\Temp/ipykernel_1272/2774687033.py\u001b[0m in \u001b[0;36m<module>\u001b[1;34m\u001b[0m\n\u001b[1;32m----> 1\u001b[1;33m \u001b[0mL\u001b[0m\u001b[1;33m,\u001b[0m \u001b[0mU\u001b[0m\u001b[1;33m,\u001b[0m \u001b[0mP\u001b[0m \u001b[1;33m=\u001b[0m \u001b[0mLU_1\u001b[0m\u001b[1;33m(\u001b[0m\u001b[0mB\u001b[0m\u001b[1;33m)\u001b[0m\u001b[1;33m\u001b[0m\u001b[1;33m\u001b[0m\u001b[0m\n\u001b[0m\u001b[0;32m      2\u001b[0m \u001b[0mL_1\u001b[0m \u001b[1;33m=\u001b[0m \u001b[0msp\u001b[0m\u001b[1;33m.\u001b[0m\u001b[0mMatrix\u001b[0m\u001b[1;33m(\u001b[0m\u001b[0mL\u001b[0m\u001b[1;33m)\u001b[0m\u001b[1;33m\u001b[0m\u001b[1;33m\u001b[0m\u001b[0m\n\u001b[0;32m      3\u001b[0m \u001b[0mU_1\u001b[0m \u001b[1;33m=\u001b[0m \u001b[0msp\u001b[0m\u001b[1;33m.\u001b[0m\u001b[0mMatrix\u001b[0m\u001b[1;33m(\u001b[0m\u001b[0mU\u001b[0m\u001b[1;33m)\u001b[0m\u001b[1;33m\u001b[0m\u001b[1;33m\u001b[0m\u001b[0m\n\u001b[0;32m      4\u001b[0m \u001b[0mP_1\u001b[0m \u001b[1;33m=\u001b[0m \u001b[0msp\u001b[0m\u001b[1;33m.\u001b[0m\u001b[0mMatrix\u001b[0m\u001b[1;33m(\u001b[0m\u001b[0mP\u001b[0m\u001b[1;33m)\u001b[0m\u001b[1;33m\u001b[0m\u001b[1;33m\u001b[0m\u001b[0m\n\u001b[0;32m      5\u001b[0m \u001b[1;33m\u001b[0m\u001b[0m\n",
      "\u001b[1;32m~\\AppData\\Local\\Temp/ipykernel_1272/4163885610.py\u001b[0m in \u001b[0;36mLU_1\u001b[1;34m(A)\u001b[0m\n\u001b[0;32m      7\u001b[0m     \u001b[1;32mfor\u001b[0m \u001b[0mi\u001b[0m \u001b[1;32min\u001b[0m \u001b[0mrange\u001b[0m\u001b[1;33m(\u001b[0m\u001b[0mm\u001b[0m\u001b[1;33m)\u001b[0m\u001b[1;33m:\u001b[0m\u001b[1;33m\u001b[0m\u001b[1;33m\u001b[0m\u001b[0m\n\u001b[0;32m      8\u001b[0m \u001b[1;33m\u001b[0m\u001b[0m\n\u001b[1;32m----> 9\u001b[1;33m         \u001b[0mmaxEc\u001b[0m \u001b[1;33m=\u001b[0m \u001b[0mabs\u001b[0m\u001b[1;33m(\u001b[0m\u001b[0mU\u001b[0m\u001b[1;33m[\u001b[0m\u001b[0mi\u001b[0m\u001b[1;33m,\u001b[0m \u001b[0mi\u001b[0m\u001b[1;33m]\u001b[0m\u001b[1;33m)\u001b[0m\u001b[1;33m\u001b[0m\u001b[1;33m\u001b[0m\u001b[0m\n\u001b[0m\u001b[0;32m     10\u001b[0m         \u001b[0mmaxRow\u001b[0m \u001b[1;33m=\u001b[0m \u001b[0mi\u001b[0m\u001b[1;33m\u001b[0m\u001b[1;33m\u001b[0m\u001b[0m\n\u001b[0;32m     11\u001b[0m         \u001b[1;32mfor\u001b[0m \u001b[0mk\u001b[0m \u001b[1;32min\u001b[0m \u001b[0mrange\u001b[0m\u001b[1;33m(\u001b[0m\u001b[0mi\u001b[0m\u001b[1;33m+\u001b[0m\u001b[1;36m1\u001b[0m\u001b[1;33m,\u001b[0m \u001b[0mm\u001b[0m\u001b[1;33m)\u001b[0m\u001b[1;33m:\u001b[0m\u001b[1;33m\u001b[0m\u001b[1;33m\u001b[0m\u001b[0m\n",
      "\u001b[1;32m~\\anaconda3\\lib\\site-packages\\numpy\\matrixlib\\defmatrix.py\u001b[0m in \u001b[0;36m__getitem__\u001b[1;34m(self, index)\u001b[0m\n\u001b[0;32m    191\u001b[0m \u001b[1;33m\u001b[0m\u001b[0m\n\u001b[0;32m    192\u001b[0m         \u001b[1;32mtry\u001b[0m\u001b[1;33m:\u001b[0m\u001b[1;33m\u001b[0m\u001b[1;33m\u001b[0m\u001b[0m\n\u001b[1;32m--> 193\u001b[1;33m             \u001b[0mout\u001b[0m \u001b[1;33m=\u001b[0m \u001b[0mN\u001b[0m\u001b[1;33m.\u001b[0m\u001b[0mndarray\u001b[0m\u001b[1;33m.\u001b[0m\u001b[0m__getitem__\u001b[0m\u001b[1;33m(\u001b[0m\u001b[0mself\u001b[0m\u001b[1;33m,\u001b[0m \u001b[0mindex\u001b[0m\u001b[1;33m)\u001b[0m\u001b[1;33m\u001b[0m\u001b[1;33m\u001b[0m\u001b[0m\n\u001b[0m\u001b[0;32m    194\u001b[0m         \u001b[1;32mfinally\u001b[0m\u001b[1;33m:\u001b[0m\u001b[1;33m\u001b[0m\u001b[1;33m\u001b[0m\u001b[0m\n\u001b[0;32m    195\u001b[0m             \u001b[0mself\u001b[0m\u001b[1;33m.\u001b[0m\u001b[0m_getitem\u001b[0m \u001b[1;33m=\u001b[0m \u001b[1;32mFalse\u001b[0m\u001b[1;33m\u001b[0m\u001b[1;33m\u001b[0m\u001b[0m\n",
      "\u001b[1;31mIndexError\u001b[0m: index 4 is out of bounds for axis 1 with size 4"
     ]
    }
   ],
   "source": [
    "L, U, P = LU_1(B)\n",
    "L_1 = sp.Matrix(L)\n",
    "U_1 = sp.Matrix(U)\n",
    "P_1 = sp.Matrix(P)\n",
    "\n",
    "a0 = '### $'+'P\\;=' +  sp.latex(P_1) + ',\\;' + 'B\\;=' + sp.latex(B_1) +'$'\n",
    "display(Markdown(a0))\n",
    "\n",
    "a1 = '### $'+'L\\;=' +  sp.latex(L_1) + ',\\;' + 'U\\;=' + sp.latex(U_1) +'$'\n",
    "display(Markdown(a1))\n",
    "\n",
    "a2 = '### $'+'PB\\;=' +  sp.latex(P_1 * B_1) + ',\\;' + 'LU\\;=' + sp.latex(L_1 * U_1) +'$'\n",
    "display(Markdown(a2))"
   ]
  },
  {
   "cell_type": "markdown",
   "id": "451b8e04",
   "metadata": {},
   "source": [
    "### $↑Compile\\;Errors$(編譯錯誤)"
   ]
  },
  {
   "cell_type": "markdown",
   "id": "a6d43f4b",
   "metadata": {},
   "source": [
    "## 我第一次修改後的程式碼的計算結果"
   ]
  },
  {
   "cell_type": "code",
   "execution_count": null,
   "id": "da085459",
   "metadata": {},
   "outputs": [],
   "source": [
    "L, U, P = LU_2(A)\n",
    "L_1 = sp.Matrix(L)\n",
    "U_1 = sp.Matrix(U)\n",
    "P_1 = sp.Matrix(P)\n",
    "\n",
    "a0 = '### $'+'P\\;=' +  sp.latex(P_1) + ',\\;' + 'A\\;=' + sp.latex(A_1) +'$'\n",
    "display(Markdown(a0))\n",
    "\n",
    "a1 = '### $'+'L\\;=' +  sp.latex(L_1) + ',\\;' + 'U\\;=' + sp.latex(U_1) +'$'\n",
    "display(Markdown(a1))\n",
    "\n",
    "a2 = '### $'+'PA\\;=' +  sp.latex(P_1 * A_1) + ',\\;' + 'LU\\;=' + sp.latex(L_1 * U_1) +'$'\n",
    "display(Markdown(a2))"
   ]
  },
  {
   "cell_type": "markdown",
   "id": "6e6eef31",
   "metadata": {},
   "source": [
    "### $↑PA ≠ LU$，且$U$矩陣主對角線下有一個元素不為$\\;0\\;$(不合$U$矩陣的規則)"
   ]
  },
  {
   "cell_type": "code",
   "execution_count": 15,
   "id": "e829b22a",
   "metadata": {},
   "outputs": [
    {
     "data": {
      "text/markdown": [
       "### $P\\;=\\left[\\begin{matrix}1.0 & 0 & 0 & 0 & 0\\\\0 & 1.0 & 0 & 0 & 0\\\\0 & 0 & 1.0 & 0 & 0\\\\0 & 0 & 0 & 1.0 & 0\\\\0 & 0 & 0 & 0 & 1.0\\end{matrix}\\right],\\;B\\;=\\left[\\begin{matrix}4 & 6 & 2 & 0\\\\0 & 5 & -2 & -1\\\\12 & 38 & -2 & 0\\\\0 & 3 & 4 & 0\\\\1 & 2 & 3 & 4\\end{matrix}\\right]$"
      ],
      "text/plain": [
       "<IPython.core.display.Markdown object>"
      ]
     },
     "metadata": {},
     "output_type": "display_data"
    },
    {
     "data": {
      "text/markdown": [
       "### $L\\;=\\left[\\begin{matrix}1.0 & 0 & 0 & 0 & 0\\\\0 & 1.0 & 0 & 0 & 0\\\\3.0 & 4.0 & 1.0 & 0 & 0\\\\0 & 0.6 & 0 & 1.0 & 0\\\\0.25 & 0 & 0 & 0.4 & 1.0\\end{matrix}\\right],\\;U\\;=\\left[\\begin{matrix}4 & 6 & 2 & 0\\\\0 & 5 & -2 & -1\\\\0 & 0 & 0 & 4\\\\0 & 0 & 5 & 0\\\\0 & 0 & 0 & 4\\end{matrix}\\right]$"
      ],
      "text/plain": [
       "<IPython.core.display.Markdown object>"
      ]
     },
     "metadata": {},
     "output_type": "display_data"
    },
    {
     "data": {
      "text/markdown": [
       "### $PB\\;=\\left[\\begin{matrix}4.0 & 6.0 & 2.0 & 0\\\\0 & 5.0 & -2.0 & -1.0\\\\12.0 & 38.0 & -2.0 & 0\\\\0 & 3.0 & 4.0 & 0\\\\1.0 & 2.0 & 3.0 & 4.0\\end{matrix}\\right],\\;LU\\;=\\left[\\begin{matrix}4.0 & 6.0 & 2.0 & 0\\\\0 & 5.0 & -2.0 & -1.0\\\\12.0 & 38.0 & -2.0 & 0\\\\0 & 3.0 & 3.8 & -0.6\\\\1.0 & 1.5 & 2.5 & 4.0\\end{matrix}\\right]$"
      ],
      "text/plain": [
       "<IPython.core.display.Markdown object>"
      ]
     },
     "metadata": {},
     "output_type": "display_data"
    }
   ],
   "source": [
    "L, U, P = LU_2(B)\n",
    "L_1 = sp.Matrix(L)\n",
    "U_1 = sp.Matrix(U)\n",
    "P_1 = sp.Matrix(P)\n",
    "\n",
    "a0 = '### $'+'P\\;=' +  sp.latex(P_1) + ',\\;' + 'B\\;=' + sp.latex(B_1) +'$'\n",
    "display(Markdown(a0))\n",
    "\n",
    "a1 = '### $'+'L\\;=' +  sp.latex(L_1) + ',\\;' + 'U\\;=' + sp.latex(U_1) +'$'\n",
    "display(Markdown(a1))\n",
    "\n",
    "a2 = '### $'+'PB\\;=' +  sp.latex(P_1 * B_1) + ',\\;' + 'LU\\;=' + sp.latex(L_1 * U_1) +'$'\n",
    "display(Markdown(a2))"
   ]
  },
  {
   "cell_type": "markdown",
   "id": "e8a916b1",
   "metadata": {},
   "source": [
    "### $↑PB ≠ LU$，且$U$矩陣主對角線下方有一個元素不為$\\;0\\;$(不合$U$矩陣的規則)"
   ]
  },
  {
   "cell_type": "markdown",
   "id": "e01ad8d0",
   "metadata": {},
   "source": [
    "## 我第二次修改後的程式碼的計算結果"
   ]
  },
  {
   "cell_type": "code",
   "execution_count": 16,
   "id": "4ed09efd",
   "metadata": {
    "scrolled": false
   },
   "outputs": [
    {
     "data": {
      "text/markdown": [
       "### $P\\;=\\left[\\begin{matrix}1.0 & 0 & 0 & 0\\\\0 & 1.0 & 0 & 0\\\\0 & 0 & 0 & 1.0\\\\0 & 0 & 1.0 & 0\\end{matrix}\\right],\\;A\\;=\\left[\\begin{matrix}4 & 6 & 2 & 0 & 1\\\\0 & 5 & -2 & -1 & 2\\\\12 & 38 & -2 & 0 & 3\\\\0 & 3 & 4 & 0 & 4\\end{matrix}\\right]$"
      ],
      "text/plain": [
       "<IPython.core.display.Markdown object>"
      ]
     },
     "metadata": {},
     "output_type": "display_data"
    },
    {
     "data": {
      "text/markdown": [
       "### $L\\;=\\left[\\begin{matrix}1.0 & 0 & 0 & 0\\\\0 & 1.0 & 0 & 0\\\\0 & 0.6 & 1.0 & 0\\\\3.0 & 4.0 & 0 & 1.0\\end{matrix}\\right],\\;U\\;=\\left[\\begin{matrix}4.0 & 6.0 & 2.0 & 0 & 1.0\\\\0 & 5.0 & -2.0 & -1.0 & 2.0\\\\0 & 0 & 5.2 & 0.6 & 2.8\\\\0 & 0 & 0 & 4.0 & -8.0\\end{matrix}\\right]$"
      ],
      "text/plain": [
       "<IPython.core.display.Markdown object>"
      ]
     },
     "metadata": {},
     "output_type": "display_data"
    },
    {
     "data": {
      "text/markdown": [
       "### $PA\\;=\\left[\\begin{matrix}4.0 & 6.0 & 2.0 & 0 & 1.0\\\\0 & 5.0 & -2.0 & -1.0 & 2.0\\\\0 & 3.0 & 4.0 & 0 & 4.0\\\\12.0 & 38.0 & -2.0 & 0 & 3.0\\end{matrix}\\right],\\;LU\\;=\\left[\\begin{matrix}4.0 & 6.0 & 2.0 & 0 & 1.0\\\\0 & 5.0 & -2.0 & -1.0 & 2.0\\\\0 & 3.0 & 4.0 & 0 & 4.0\\\\12.0 & 38.0 & -2.0 & 0 & 3.0\\end{matrix}\\right]$"
      ],
      "text/plain": [
       "<IPython.core.display.Markdown object>"
      ]
     },
     "metadata": {},
     "output_type": "display_data"
    }
   ],
   "source": [
    "L, U, P = LU_3(A)\n",
    "L_1 = sp.Matrix(L)\n",
    "U_1 = sp.Matrix(U)\n",
    "P_1 = sp.Matrix(P)\n",
    "\n",
    "a0 = '### $'+'P\\;=' +  sp.latex(P_1) + ',\\;' + 'A\\;=' + sp.latex(A_1) +'$'\n",
    "display(Markdown(a0))\n",
    "\n",
    "a1 = '### $'+'L\\;=' +  sp.latex(L_1) + ',\\;' + 'U\\;=' + sp.latex(U_1) +'$'\n",
    "display(Markdown(a1))\n",
    "\n",
    "a2 = '### $'+'PA\\;=' +  sp.latex(P_1 * A_1) + ',\\;' + 'LU\\;=' + sp.latex(L_1 * U_1) +'$'\n",
    "display(Markdown(a2))"
   ]
  },
  {
   "cell_type": "markdown",
   "id": "83810ee3",
   "metadata": {},
   "source": [
    "### $↑PA = LU$，且$L$矩陣和$U$矩陣皆符合規則"
   ]
  },
  {
   "cell_type": "code",
   "execution_count": 17,
   "id": "da839152",
   "metadata": {},
   "outputs": [
    {
     "data": {
      "text/markdown": [
       "### $P\\;=\\left[\\begin{matrix}1.0 & 0 & 0 & 0 & 0\\\\0 & 1.0 & 0 & 0 & 0\\\\0 & 0 & 0 & 1.0 & 0\\\\0 & 0 & 1.0 & 0 & 0\\\\0 & 0 & 0 & 0 & 1.0\\end{matrix}\\right],\\;B\\;=\\left[\\begin{matrix}4 & 6 & 2 & 0\\\\0 & 5 & -2 & -1\\\\12 & 38 & -2 & 0\\\\0 & 3 & 4 & 0\\\\1 & 2 & 3 & 4\\end{matrix}\\right]$"
      ],
      "text/plain": [
       "<IPython.core.display.Markdown object>"
      ]
     },
     "metadata": {},
     "output_type": "display_data"
    },
    {
     "data": {
      "text/markdown": [
       "### $L\\;=\\left[\\begin{matrix}1.0 & 0 & 0 & 0 & 0\\\\0 & 1.0 & 0 & 0 & 0\\\\0 & 0.6 & 1.0 & 0 & 0\\\\3.0 & 4.0 & 0 & 1.0 & 0\\\\0.25 & 0.1 & 0.519230769230769 & 0.947115384615385 & 1.0\\end{matrix}\\right],\\;U\\;=\\left[\\begin{matrix}4.0 & 6.0 & 2.0 & 0\\\\0 & 5.0 & -2.0 & -1.0\\\\0 & 0 & 5.2 & 0.6\\\\0 & 0 & 0 & 4.0\\\\0 & 0 & 0 & 0\\end{matrix}\\right]$"
      ],
      "text/plain": [
       "<IPython.core.display.Markdown object>"
      ]
     },
     "metadata": {},
     "output_type": "display_data"
    },
    {
     "data": {
      "text/markdown": [
       "### $PB\\;=\\left[\\begin{matrix}4.0 & 6.0 & 2.0 & 0\\\\0 & 5.0 & -2.0 & -1.0\\\\0 & 3.0 & 4.0 & 0\\\\12.0 & 38.0 & -2.0 & 0\\\\1.0 & 2.0 & 3.0 & 4.0\\end{matrix}\\right],\\;LU\\;=\\left[\\begin{matrix}4.0 & 6.0 & 2.0 & 0\\\\0 & 5.0 & -2.0 & -1.0\\\\0 & 3.0 & 4.0 & 0\\\\12.0 & 38.0 & -2.0 & 0\\\\1.0 & 2.0 & 3.0 & 4.0\\end{matrix}\\right]$"
      ],
      "text/plain": [
       "<IPython.core.display.Markdown object>"
      ]
     },
     "metadata": {},
     "output_type": "display_data"
    }
   ],
   "source": [
    "L, U, P = LU_3(B)\n",
    "L_1 = sp.Matrix(L)\n",
    "U_1 = sp.Matrix(U)\n",
    "P_1 = sp.Matrix(P)\n",
    "\n",
    "a0 = '### $'+'P\\;=' +  sp.latex(P_1) + ',\\;' + 'B\\;=' + sp.latex(B_1) +'$'\n",
    "display(Markdown(a0))\n",
    "\n",
    "a1 = '### $'+'L\\;=' +  sp.latex(L_1) + ',\\;' + 'U\\;=' + sp.latex(U_1) +'$'\n",
    "display(Markdown(a1))\n",
    "\n",
    "a2 = '### $'+'PB\\;=' +  sp.latex(P_1 * B_1) + ',\\;' + 'LU\\;=' + sp.latex(L_1 * U_1) +'$'\n",
    "display(Markdown(a2))"
   ]
  },
  {
   "cell_type": "markdown",
   "id": "cd224c58",
   "metadata": {},
   "source": [
    "### $↑PB = LU$，且$L$矩陣和$U$矩陣皆符合規則"
   ]
  },
  {
   "cell_type": "markdown",
   "id": "a40e67a5",
   "metadata": {},
   "source": [
    "### 下面附上我在網路上的矩陣計算器計算出來的結果截圖"
   ]
  },
  {
   "cell_type": "markdown",
   "id": "b7c161bd",
   "metadata": {},
   "source": [
    "### $A$矩陣$LU$分解的計算結果(在網站上的矩陣計算器的計算結果截圖)"
   ]
  },
  {
   "cell_type": "markdown",
   "id": "86e9ed4b",
   "metadata": {},
   "source": [
    "[![image1](https://www.linkpicture.com/q/61b9eba42dd17.png)](https://www.linkpicture.com/view.php?img=LPic61baa39a169b824069399)"
   ]
  },
  {
   "cell_type": "markdown",
   "id": "021aca14",
   "metadata": {},
   "source": [
    "### $B$矩陣$LU$分解的計算結果(在網站上的矩陣計算器的計算結果截圖)"
   ]
  },
  {
   "cell_type": "markdown",
   "id": "6c31f823",
   "metadata": {},
   "source": [
    "[![image2](https://www.linkpicture.com/q/61b9ebc0aded8.png)](https://www.linkpicture.com/view.php?img=LPic61baa417c43091198458380)"
   ]
  },
  {
   "cell_type": "markdown",
   "id": "e71b0a35",
   "metadata": {},
   "source": [
    "### 由上可以發現，「只有」我第二次修改後的程式碼，其計算後的結果符合 $PA = LU$ 和$PB = LU$ 兩個等式，且$L$矩陣和$U$矩陣符合規則($L$矩陣主對角線上元素皆為$1$且對角線上元素皆為$0$；$U$矩陣對角線下元素皆為$0$)，沒有編譯錯誤，計算也正確。由上可知，教授的程式碼沒辦法處理某些特定情況的矩陣(我在筆記中有詳細說明)。\n",
    "### 註記:我在後面寫求行列式的程式碼時找到了一個更好、更準確的$LU$分解法，詳見下面的2.求行列式"
   ]
  },
  {
   "cell_type": "markdown",
   "id": "88d1fb21",
   "metadata": {},
   "source": [
    "# 2.求行列式\n",
    "### 此前我在手寫筆記的心得中寫到$LU$分解後可以用來計算高階矩陣的行列式，但我那時候沒有考慮到那是在$P$矩陣是「進行列對調的次數為偶數時」的情況下， $det(A) = \\prod_{i = 1}^nU_{(i, i)}, where\\;A\\;is$ $a\\;nxn\\;matrix\\;$才必定成立。在$P$矩陣有進行列對調的情況下，有可能出現$det(P) = -1$的情況，使式子變成$det(A) = -\\prod_{i = 1}^nU_{(i, i)}, where\\;A\\;is$ $a\\;nxn\\;matrix$。所以$A$的行列式應該以\n",
    "\n",
    "## $ A\\;is\\;a\\;nxn\\;matrix,\\;det(A)= \\begin{cases} \\prod_{i = 1}^nU_{(i, i)}\\;, & \\text {if$\\;det(P)=1$} \\\\ -\\prod_{i = 1}^nU_{(i, i)}, & \\text{if$\\;det(P)=-1$} \\end{cases} $  \n",
    "### 來表示。這一點我在寫心得的時候沒有注意到，因此我在這裡說明清楚。另外，下面我的程式碼在計算矩陣的行列式即是利用上面的數學式來求出行列式。而我判斷$P$矩陣的行列式為$1$還是$-1$時，我利用了行列式的基本性質:「兩行(列)對調後，行列式的數值變號」。所以，只要$P$矩陣列對調的次數為$2$的倍數(即偶數)，$P$矩陣的行列式就是$1$，否則就是$-1$($∵$$P$矩陣的初始設定為單位矩陣，而單位矩陣的行列式必為$1$)。"
   ]
  },
  {
   "cell_type": "markdown",
   "id": "5e881387",
   "metadata": {},
   "source": [
    "## (1)利用$LU$分解法"
   ]
  },
  {
   "cell_type": "code",
   "execution_count": 18,
   "id": "36dc25e5",
   "metadata": {},
   "outputs": [],
   "source": [
    "import numpy as np\n",
    "import sympy as sp"
   ]
  },
  {
   "cell_type": "code",
   "execution_count": 19,
   "id": "75d54459",
   "metadata": {},
   "outputs": [],
   "source": [
    "def det_LU(A):\n",
    "    # LU Decomposition\n",
    "    m, n = A.shape\n",
    "    U = A.copy()\n",
    "    U = U.astype('float64')\n",
    "    P = np.mat(np.identity(m))\n",
    "    L = P.copy()\n",
    "    count = 0\n",
    "    \n",
    "    for i in range(m-1):\n",
    "        for x in range(i+1, m):\n",
    "            if U[i, i] == 0:\n",
    "                if U[x, i] != 0:\n",
    "                    U[[x, i], i:] = U[[i, x], i:]\n",
    "                    P[[x, i], :] = P[[i, x], :]\n",
    "                    L[[x, i], :] = L[[i, x], :]\n",
    "                    L[:, [x, i]] = L[:, [i, x]]\n",
    "                    count = count + 1\n",
    "        \n",
    "        for t in range(i+1, m):\n",
    "            if U[i, i] == 0:\n",
    "                continue\n",
    "            c = -(U[t, i]/U[i, i])\n",
    "            U[t, i:] = U[t, i:] + c*U[i, i:]\n",
    "            L[t, i] = L[t, i] - c*L[t, t] \n",
    "\n",
    "                \n",
    "    det_U = 1\n",
    "    for j in range(m):\n",
    "        det_U = det_U * U[j, j]\n",
    "        \n",
    "    # check count is an even or odd to ascertain its determinant(1 or -1)\n",
    "    if count % 2 == 1:\n",
    "        det_P = -1\n",
    "    else:\n",
    "        det_P = 1\n",
    "    \n",
    "    # check whether det_U is going to multiply (-1) or not\n",
    "    # the final version of det_U is the determinant of A\n",
    "    if det_P == -1:\n",
    "        det_U = (-1)*det_U\n",
    "    \n",
    "    return det_P, det_U, L, U, P"
   ]
  },
  {
   "cell_type": "markdown",
   "id": "40310809",
   "metadata": {},
   "source": [
    "### 接下來我以一個 $4$ x $4$ 的矩陣 $A\\;$($A$的$P$矩陣的行列式為$1$)$\\;$及一個 $5$ x $5$ 的矩陣 $B\\;$($B$的$P$矩陣的行列式為$-1$)$\\;$為例子，利用我寫的程式碼來計算它們的行列式。(程式的計算結果下面附上在網站上的矩陣計算器的計算結果截圖)"
   ]
  },
  {
   "cell_type": "code",
   "execution_count": 20,
   "id": "3f9752f9",
   "metadata": {},
   "outputs": [],
   "source": [
    "from IPython.display import display, Markdown"
   ]
  },
  {
   "cell_type": "code",
   "execution_count": 21,
   "id": "22bbd217",
   "metadata": {},
   "outputs": [
    {
     "data": {
      "text/markdown": [
       "### $det(P)\\;=1,\\;det(A)\\;=\\prod_{i = 1}^nU_{(i, i)}\\;=-27323.999999999454,\\;where\\;A\\;is\\;a\\;nxn\\;matrix$"
      ],
      "text/plain": [
       "<IPython.core.display.Markdown object>"
      ]
     },
     "metadata": {},
     "output_type": "display_data"
    }
   ],
   "source": [
    "A = np.mat([[1, 3, 4, 5], \n",
    "            [0, -11, 33, 7], \n",
    "            [81, 15, -15, 2], \n",
    "            [34, 1, 10, 2]])\n",
    "A_1 = sp.Matrix(A)\n",
    "det_P, det_U, L, U, P = det_LU(A)\n",
    "\n",
    "\n",
    "a41 = '### $'+'det(P)\\;=' + str(det_P) + ',\\;' + 'det(A)\\;=\\prod_{i = 1}^nU_{(i, i)}\\;=' \n",
    "a42 = str(det_U) + ',\\;where\\;A\\;is\\;a\\;nxn\\;matrix$'\n",
    "a4 = a41 + a42\n",
    "display(Markdown(a4))"
   ]
  },
  {
   "cell_type": "markdown",
   "id": "6a4494ab",
   "metadata": {},
   "source": [
    "### $A$矩陣的行列式(在網站上的矩陣計算器的計算結果截圖)"
   ]
  },
  {
   "cell_type": "markdown",
   "id": "ece26cbb",
   "metadata": {},
   "source": [
    "[![image3](https://www.linkpicture.com/q/6155234308ef7.jpg)](https://www.linkpicture.com/view.php?img=LPic61baa3d79fc9a410846949)"
   ]
  },
  {
   "cell_type": "code",
   "execution_count": 22,
   "id": "ad8af2be",
   "metadata": {},
   "outputs": [
    {
     "data": {
      "text/markdown": [
       "### $det(P)\\;=-1,\\;det(B)\\;=-\\prod_{i = 1}^nU_{(i, i)}\\;=-745137.9999999763,\\;where\\;B\\;is\\;a\\;nxn\\;matrix$"
      ],
      "text/plain": [
       "<IPython.core.display.Markdown object>"
      ]
     },
     "metadata": {},
     "output_type": "display_data"
    }
   ],
   "source": [
    "B = np.mat([[0, -11, 33, 7, 13], \n",
    "            [1, 3, 4, 5, 8], \n",
    "            [81, 15, -15, 2, 4], \n",
    "            [34, 1, 10, 2, 5], \n",
    "            [-10, 4, 88, 9, 0]])\n",
    "B_1 = sp.Matrix(B)\n",
    "det_P, det_U, L, U, P = det_LU(B)\n",
    "\n",
    "a41 = '### $'+'det(P)\\;=' + str(det_P) + ',\\;' + 'det(B)\\;=-\\prod_{i = 1}^nU_{(i, i)}\\;=' \n",
    "a42 = str(det_U) + ',\\;where\\;B\\;is\\;a\\;nxn\\;matrix$'\n",
    "a4 = a41 + a42\n",
    "display(Markdown(a4))"
   ]
  },
  {
   "cell_type": "markdown",
   "id": "4eee0087",
   "metadata": {},
   "source": [
    "### $B$矩陣的行列式(在網站上的矩陣計算器的計算結果截圖)"
   ]
  },
  {
   "cell_type": "markdown",
   "id": "08ad4605",
   "metadata": {},
   "source": [
    "[![image4](https://www.linkpicture.com/q/615d52e99f772.png)](https://www.linkpicture.com/view.php?img=LPic61baa44d244ba1432427979)"
   ]
  },
  {
   "cell_type": "markdown",
   "id": "b610ebfc",
   "metadata": {},
   "source": [
    "### 然而，在我用網路上的矩陣計算器確認我的行列式是否正確時，我發現我算的答案與實際答案差了一點。我推斷是$Python\\;$在計算上可能因為涉及到無限循環小數而造成數值上的誤差，在這裡就是如此。而我在想，究竟我用我$LU$分解算出的行列式要「無條件捨去小數」、「無條件進位」、還是「四捨五入」呢?"
   ]
  },
  {
   "cell_type": "markdown",
   "id": "43e2b787",
   "metadata": {},
   "source": [
    "### 此時，我想起之前在網路上無意間看到同為政治大學的蔡炎龍教授在$\\;youtube\\;$發布的教學影片(下面附上連結)，內容主要是用$「sympy」$這個模組來進行矩陣的各種計算。與$numpy.mat()$製造出的矩陣不同的是，$「sympy」$在計算時(以下簡稱$sympy$為$sp$)，能夠使用$sp.Rational().limit\\_denominator()$將$sp.Matrix()$製造出的矩陣中所有的元素強制轉換成「分數」的形式進行計算。這個設定幫了我一個大忙，如此一來，就可以避免在計算上涉及無限循環小數時產生的誤差，可以精準地算出該矩陣的行列式。"
   ]
  },
  {
   "cell_type": "markdown",
   "id": "f86219fa",
   "metadata": {},
   "source": [
    "[蔡炎龍教授的教學影片連結-Sympy中的符號型的計算](https://www.youtube.com/watch?v=3PGQS6hzThc&t=221s)"
   ]
  },
  {
   "cell_type": "markdown",
   "id": "e477b560",
   "metadata": {},
   "source": [
    "[蔡炎龍教授的教學影片連結-Sympy中的矩陣](https://www.youtube.com/watch?v=NgdzGygs1NE&t=261s)"
   ]
  },
  {
   "cell_type": "markdown",
   "id": "dc98fe48",
   "metadata": {},
   "source": [
    "## (2)利用$LU$分解法(修改後的程式碼):"
   ]
  },
  {
   "cell_type": "code",
   "execution_count": 23,
   "id": "a3cb37e2",
   "metadata": {},
   "outputs": [],
   "source": [
    "import numpy as np\n",
    "import sympy as sp"
   ]
  },
  {
   "cell_type": "code",
   "execution_count": 24,
   "id": "988c5d68",
   "metadata": {},
   "outputs": [],
   "source": [
    "def det_LU_sympy(A):\n",
    "    # LU Decomposition\n",
    "    m, n = A.shape\n",
    "    U = A.copy()\n",
    "    P = sp.eye(m)\n",
    "    L = P.copy()\n",
    "    count = 0\n",
    "    \n",
    "    for k in L or U or P:\n",
    "        k = sp.Rational(k)\n",
    "    \n",
    "    for i in range(m-1):\n",
    "        for x in range(i+1, m):\n",
    "            if U[i, i] == 0:\n",
    "                if U[x, i] != 0:\n",
    "                    L = np.mat(L)\n",
    "                    U = np.mat(U)\n",
    "                    P = np.mat(P)\n",
    "                    U[[x, i], i:] = U[[i, x], i:]\n",
    "                    P[[x, i], :] = P[[i, x], :]\n",
    "                    L[[x, i], :] = L[[i, x], :] # row interchange\n",
    "                    L[:, [x, i]] = L[:, [i, x]] # column interchange\n",
    "                    count = count + 1\n",
    "                    L = sp.Matrix(L)\n",
    "                    U = sp.Matrix(U)\n",
    "                    P = sp.Matrix(P)\n",
    "                    for g in range(m):\n",
    "                        for h in range(m):\n",
    "                            L[g, h] = sp.Rational(L[g, h]).limit_denominator()\n",
    "                            U[g, h] = sp.Rational(U[g, h]).limit_denominator()\n",
    "                    \n",
    "\n",
    "        \n",
    "        for t in range(i+1, m):\n",
    "            if U[i, i] == 0:\n",
    "                continue\n",
    "            c = -(U[t, i]/U[i, i])\n",
    "            U[t, i:] = U[t, i:] + c*U[i, i:]\n",
    "            L[t, i] = L[t, i] - c*L[t, t]    \n",
    "    det_U = 1\n",
    "    for j in range(m):\n",
    "        det_U = det_U * U[j, j]\n",
    "        \n",
    "    # check count is an even or odd to ascertain its determinant(1 or -1)\n",
    "    if count % 2 == 1:\n",
    "        det_P = -1\n",
    "    else:\n",
    "        det_P = 1\n",
    "    \n",
    "    # check whether det_U is going to multiply (-1) or not\n",
    "    # the final version of det_U is the determinant of A\n",
    "    if det_P == -1:\n",
    "        det_U = (-1)*det_U\n",
    "    \n",
    "    return det_P, det_U, L, U, P"
   ]
  },
  {
   "cell_type": "markdown",
   "id": "3ffef467",
   "metadata": {},
   "source": [
    "### 下面我使用和上面一樣的$A$矩陣和$B$矩陣作為例子來測試我的程式碼。另外，因為在計算矩陣行列式的過程中我使用了$LU$分解法，因此，在我輸出$A$矩陣和$B$矩陣各自行列式的計算結果後面，我附上在這過程裡所得的$A$矩陣和$B$矩陣個別的$L$矩陣、$U$矩陣、$P$矩陣、以及$PA(PB)$和$LU$的計算結果。(程式的計算結果下面附上在網站上的矩陣計算器的計算結果截圖)"
   ]
  },
  {
   "cell_type": "code",
   "execution_count": 25,
   "id": "807d3435",
   "metadata": {},
   "outputs": [],
   "source": [
    "from IPython.display import display, Markdown"
   ]
  },
  {
   "cell_type": "code",
   "execution_count": 26,
   "id": "833a05a6",
   "metadata": {},
   "outputs": [
    {
     "data": {
      "text/markdown": [
       "### $det(P)\\;=1,\\;det(A)\\;=\\prod_{i = 1}^nU_{(i, i)}\\;=-27324,\\;where\\;A\\;is\\;a\\;nxn\\;matrix$"
      ],
      "text/plain": [
       "<IPython.core.display.Markdown object>"
      ]
     },
     "metadata": {},
     "output_type": "display_data"
    },
    {
     "data": {
      "text/markdown": [
       "### $P\\;=\\left[\\begin{matrix}1 & 0 & 0 & 0\\\\0 & 1 & 0 & 0\\\\0 & 0 & 1 & 0\\\\0 & 0 & 0 & 1\\end{matrix}\\right],\\;A\\;=\\left[\\begin{matrix}1 & 3 & 4 & 5\\\\0 & -11 & 33 & 7\\\\81 & 15 & -15 & 2\\\\34 & 1 & 10 & 2\\end{matrix}\\right]$"
      ],
      "text/plain": [
       "<IPython.core.display.Markdown object>"
      ]
     },
     "metadata": {},
     "output_type": "display_data"
    },
    {
     "data": {
      "text/markdown": [
       "### $L\\;=\\left[\\begin{matrix}1 & 0 & 0 & 0\\\\0 & 1 & 0 & 0\\\\81 & \\frac{228}{11} & 1 & 0\\\\34 & \\frac{101}{11} & \\frac{13}{31} & 1\\end{matrix}\\right],\\;U\\;=\\left[\\begin{matrix}1 & 3 & 4 & 5\\\\0 & -11 & 33 & 7\\\\0 & 0 & -1023 & - \\frac{6029}{11}\\\\0 & 0 & 0 & - \\frac{828}{341}\\end{matrix}\\right]$"
      ],
      "text/plain": [
       "<IPython.core.display.Markdown object>"
      ]
     },
     "metadata": {},
     "output_type": "display_data"
    },
    {
     "data": {
      "text/markdown": [
       "### $PA\\;=\\left[\\begin{matrix}1 & 3 & 4 & 5\\\\0 & -11 & 33 & 7\\\\81 & 15 & -15 & 2\\\\34 & 1 & 10 & 2\\end{matrix}\\right],\\;LU\\;=\\left[\\begin{matrix}1 & 3 & 4 & 5\\\\0 & -11 & 33 & 7\\\\81 & 15 & -15 & 2\\\\34 & 1 & 10 & 2\\end{matrix}\\right]$"
      ],
      "text/plain": [
       "<IPython.core.display.Markdown object>"
      ]
     },
     "metadata": {},
     "output_type": "display_data"
    }
   ],
   "source": [
    "A = sp.Matrix([[1, 3, 4, 5], \n",
    "            [0, -11, 33, 7], \n",
    "            [81, 15, -15, 2], \n",
    "            [34, 1, 10, 2]])\n",
    "det_P, det_U, L, U, P = det_LU_sympy(A)\n",
    "\n",
    "\n",
    "a31 = '### $'+'det(P)\\;=' + sp.latex(det_P) + ',\\;' + 'det(A)\\;=\\prod_{i = 1}^nU_{(i, i)}\\;=' \n",
    "a32 = sp.latex(det_U) + ',\\;where\\;A\\;is\\;a\\;nxn\\;matrix$'\n",
    "a3 = a31 + a32\n",
    "display(Markdown(a3))\n",
    "\n",
    "a0 = '### $'+'P\\;=' +  sp.latex(P) + ',\\;' + 'A\\;=' + sp.latex(A) +'$'\n",
    "display(Markdown(a0))\n",
    "\n",
    "a1 = '### $'+'L\\;=' +  sp.latex(L) + ',\\;' + 'U\\;=' + sp.latex(U) +'$'\n",
    "display(Markdown(a1))\n",
    "\n",
    "a2 = '### $'+'PA\\;=' +  sp.latex(P * A) + ',\\;' + 'LU\\;=' + sp.latex(L * U) +'$'\n",
    "display(Markdown(a2))"
   ]
  },
  {
   "cell_type": "markdown",
   "id": "68bc46f1",
   "metadata": {},
   "source": [
    "### $A$矩陣的行列式(在網站上的矩陣計算器的計算結果截圖)"
   ]
  },
  {
   "cell_type": "markdown",
   "id": "5353aa95",
   "metadata": {},
   "source": [
    "[![image3](https://www.linkpicture.com/q/6155234308ef7.jpg)](https://www.linkpicture.com/view.php?img=LPic61baa3d79fc9a410846949)"
   ]
  },
  {
   "cell_type": "markdown",
   "id": "a9c4c688",
   "metadata": {},
   "source": [
    "### $A$矩陣的$LU$分解結果(在網站上的矩陣計算器的計算結果截圖)\n",
    "### 註記:$A$矩陣的$P$矩陣為單位矩陣，所以網站上的計算結果截圖中沒有顯示出來。"
   ]
  },
  {
   "cell_type": "markdown",
   "id": "4b1c3c79",
   "metadata": {},
   "source": [
    "[![image5](https://www.linkpicture.com/q/615e65e7af288.png)](https://www.linkpicture.com/view.php?img=LPic61baa47504ce9219908038)"
   ]
  },
  {
   "cell_type": "code",
   "execution_count": 27,
   "id": "e9e3900a",
   "metadata": {},
   "outputs": [
    {
     "data": {
      "text/markdown": [
       "### $det(P)\\;=-1,\\;det(B)\\;=-\\prod_{i = 1}^nU_{(i, i)}\\;=-745138,\\;where\\;B\\;is\\;a\\;nxn\\;matrix$"
      ],
      "text/plain": [
       "<IPython.core.display.Markdown object>"
      ]
     },
     "metadata": {},
     "output_type": "display_data"
    },
    {
     "data": {
      "text/markdown": [
       "### $P\\;=\\left[\\begin{matrix}0 & 1 & 0 & 0 & 0\\\\1 & 0 & 0 & 0 & 0\\\\0 & 0 & 1 & 0 & 0\\\\0 & 0 & 0 & 1 & 0\\\\0 & 0 & 0 & 0 & 1\\end{matrix}\\right],\\;B\\;=\\left[\\begin{matrix}0 & -11 & 33 & 7 & 13\\\\1 & 3 & 4 & 5 & 8\\\\81 & 15 & -15 & 2 & 4\\\\34 & 1 & 10 & 2 & 5\\\\-10 & 4 & 88 & 9 & 0\\end{matrix}\\right]$"
      ],
      "text/plain": [
       "<IPython.core.display.Markdown object>"
      ]
     },
     "metadata": {},
     "output_type": "display_data"
    },
    {
     "data": {
      "text/markdown": [
       "### $L\\;=\\left[\\begin{matrix}1 & 0 & 0 & 0 & 0\\\\0 & 1 & 0 & 0 & 0\\\\81 & \\frac{228}{11} & 1 & 0 & 0\\\\34 & \\frac{101}{11} & \\frac{13}{31} & 1 & 0\\\\-10 & - \\frac{34}{11} & - \\frac{230}{1023} & \\frac{479269}{27324} & 1\\end{matrix}\\right],\\;U\\;=\\left[\\begin{matrix}1 & 3 & 4 & 5 & 8\\\\0 & -11 & 33 & 7 & 13\\\\0 & 0 & -1023 & - \\frac{6029}{11} & - \\frac{10048}{11}\\\\0 & 0 & 0 & - \\frac{828}{341} & - \\frac{1126}{341}\\\\0 & 0 & 0 & 0 & - \\frac{372569}{13662}\\end{matrix}\\right]$"
      ],
      "text/plain": [
       "<IPython.core.display.Markdown object>"
      ]
     },
     "metadata": {},
     "output_type": "display_data"
    },
    {
     "data": {
      "text/markdown": [
       "### $PB\\;=\\left[\\begin{matrix}1 & 3 & 4 & 5 & 8\\\\0 & -11 & 33 & 7 & 13\\\\81 & 15 & -15 & 2 & 4\\\\34 & 1 & 10 & 2 & 5\\\\-10 & 4 & 88 & 9 & 0\\end{matrix}\\right],\\;LU\\;=\\left[\\begin{matrix}1 & 3 & 4 & 5 & 8\\\\0 & -11 & 33 & 7 & 13\\\\81 & 15 & -15 & 2 & 4\\\\34 & 1 & 10 & 2 & 5\\\\-10 & 4 & 88 & 9 & 0\\end{matrix}\\right]$"
      ],
      "text/plain": [
       "<IPython.core.display.Markdown object>"
      ]
     },
     "metadata": {},
     "output_type": "display_data"
    }
   ],
   "source": [
    "B = sp.Matrix([[0, -11, 33, 7, 13], \n",
    "               [1, 3, 4, 5, 8], \n",
    "               [81, 15, -15, 2, 4], \n",
    "               [34, 1, 10, 2, 5], \n",
    "               [-10, 4, 88, 9, 0]])\n",
    "det_P, det_U, L, U, P = det_LU_sympy(B)\n",
    "\n",
    "\n",
    "a31 = '### $'+'det(P)\\;=' + sp.latex(det_P) + ',\\;' + 'det(B)\\;=-\\prod_{i = 1}^nU_{(i, i)}\\;=' \n",
    "a32 = sp.latex(det_U) + ',\\;where\\;B\\;is\\;a\\;nxn\\;matrix$'\n",
    "a3 = a31 + a32\n",
    "display(Markdown(a3))\n",
    "\n",
    "a0 = '### $'+'P\\;=' +  sp.latex(P) + ',\\;' + 'B\\;=' + sp.latex(B) +'$'\n",
    "display(Markdown(a0))\n",
    "\n",
    "a1 = '### $'+'L\\;=' +  sp.latex(L) + ',\\;' +'U\\;=' +  sp.latex(U) +'$'\n",
    "display(Markdown(a1))\n",
    "\n",
    "a2 = '### $'+'PB\\;=' +  sp.latex(P * B) + ',\\;' + 'LU\\;=' + sp.latex(L * U) +'$'\n",
    "display(Markdown(a2))"
   ]
  },
  {
   "cell_type": "markdown",
   "id": "e5858120",
   "metadata": {},
   "source": [
    "### $B$矩陣的行列式(在網站上的矩陣計算器的計算結果截圖)"
   ]
  },
  {
   "cell_type": "markdown",
   "id": "708f2722",
   "metadata": {},
   "source": [
    "[![image4](https://www.linkpicture.com/q/615d52e99f772.png)](https://www.linkpicture.com/view.php?img=LPic61baa44d244ba1432427979)"
   ]
  },
  {
   "cell_type": "markdown",
   "id": "230be531",
   "metadata": {},
   "source": [
    "### $B$矩陣的$LU$分解結果(在網站上的矩陣計算器的計算結果截圖)"
   ]
  },
  {
   "cell_type": "markdown",
   "id": "6a66373f",
   "metadata": {},
   "source": [
    "[![image](https://www.linkpicture.com/q/61a72a546e647.png)](https://www.linkpicture.com/view.php?img=LPic61baa4c10a9591484895043)"
   ]
  },
  {
   "cell_type": "markdown",
   "id": "58d0110f",
   "metadata": {},
   "source": [
    "### 由上可以知道，用我修改後的程式碼可以算出準確的行列式(不論$P$矩陣的行列式為$1$或$-1$)，且修改後的程式碼也可以正確地求出矩陣的$LU$分解形式(即求出$L$矩陣、$U$矩陣、$P$矩陣)。"
   ]
  },
  {
   "cell_type": "markdown",
   "id": "17d199c2",
   "metadata": {},
   "source": [
    "## (3)利用特徵方程式\n",
    "### 我知道計算矩陣的行列式其實也可以使用$\\;Cayley-Hamilton\\;$定理。先寫出矩陣的特徵方程式，而方程式中的常數項即為矩陣的行列式。不過，這個部分超出我的能力範圍，以我現在所學的還無法寫出以此為基礎來計算行列式的程式碼，因此這部份我從略。"
   ]
  },
  {
   "cell_type": "markdown",
   "id": "0f2d5334",
   "metadata": {},
   "source": [
    "# 3. 線性方程式求解"
   ]
  },
  {
   "cell_type": "markdown",
   "id": "53894ad8",
   "metadata": {},
   "source": [
    "## (1)克拉瑪公式(求解&判斷解的情況)"
   ]
  },
  {
   "cell_type": "markdown",
   "id": "5783c20f",
   "metadata": {},
   "source": [
    "### 承接上面的內容，利用$LU$分解，我得以快速且正確地求出高階矩陣的行列式，而不用將其一個個以餘因子降階展開整理。接著，我打算運用這個計算行列式的方法，結合克拉瑪公式，求出「恰有一解」的方程組之答案，並進一步判斷方程組之解的情況，即「恰有一解、無解、無限多組解」。\n",
    "### 註記:下面的$△,\\;△_x,\\;△_y,\\;△_z\\;$的數值計算使用上面計算行列式時使用的函數"
   ]
  },
  {
   "cell_type": "markdown",
   "id": "9b41a927",
   "metadata": {},
   "source": [
    "### 克拉瑪公式:$\\;1.\\;two-dimensional$(二維)$\\;\\begin{cases}x = \\frac{△_x}{△} \\\\y = \\frac{△_y}{△}\\end{cases} \\;,$ $2.\\;three-dimensional$(三維)$\\;\\begin{cases}x = \\frac{△_x}{△} \\\\y = \\frac{△_y}{△} \\\\z = \\frac{△_z}{△}\\end{cases} $"
   ]
  },
  {
   "cell_type": "code",
   "execution_count": 28,
   "id": "b6a5128a",
   "metadata": {},
   "outputs": [],
   "source": [
    "import sympy as sp\n",
    "import numpy as np"
   ]
  },
  {
   "cell_type": "code",
   "execution_count": 29,
   "id": "3374dca2",
   "metadata": {},
   "outputs": [],
   "source": [
    "def Cramer(A, b):\n",
    "    m, n = A.shape\n",
    "    delta = A.copy() # delta --> the matrix form of △\n",
    "    \n",
    "    delta_x = sp.zeros(m, n) # delta_x --> the matrix form of △x\n",
    "    delta_x[:, :n] = A\n",
    "    delta_x[:, 0] = b\n",
    "   \n",
    "    delta_y = sp.zeros(m, n) # delta_y --> the matrix form of △y\n",
    "    delta_y[:, :n] = A\n",
    "    delta_y[:, 1] = b\n",
    "    \n",
    "    det_P1, det_delta, L1, U1, P1 = det_LU_sympy(A) # det_delta --> △\n",
    "    det_P2, det_delta_x, L2, U2, P2 = det_LU_sympy(delta_x) # det_delta_x --> △x\n",
    "    det_P3, det_delta_y, L3, U3, P3 = det_LU_sympy(delta_y) # det_delta_y --> △y\n",
    "\n",
    "    if m == 3: # three-dimensional \n",
    "        delta_z = sp.zeros(m, n) # delta_z --> the matrix form of △z\n",
    "        delta_z[:, :n] = A\n",
    "        delta_z[:, 2] = b\n",
    "      \n",
    "        det_P3, det_delta_z, L3, U3, P3 = det_LU_sympy(delta_z) # det_delta_z --> △z\n",
    " \n",
    "    \n",
    "    # a unique solution(一組解)\n",
    "    # △ ≠ 0\n",
    "    if det_delta != 0: \n",
    "        state = '恰有一解'\n",
    "        if m == 2: # two-dimensional\n",
    "            x = sp.zeros(2, 1)\n",
    "            x[0, 0] = det_delta_x / det_delta\n",
    "            x[1, 0] = det_delta_y / det_delta\n",
    "            \n",
    "        else: # three-dimensional\n",
    "            x = sp.zeros(3, 1)\n",
    "            x[0, 0] = det_delta_x / det_delta\n",
    "            x[1, 0] = det_delta_y / det_delta\n",
    "            x[2, 0] = det_delta_z / det_delta\n",
    "    \n",
    "    # no solution(無解)\n",
    "    # △ = 0, one (or more) of △x and △y is(are) ≠ 0  [two-dimensional]\n",
    "    # △ = 0, one (or more) of △x, △y and △z is(are) ≠ 0  [three-dimensional]\n",
    "    \n",
    "    # no solution or infinitely many solutions(無解, 或是無限多組解)\n",
    "    # △ = △x = △y = 0 → infinitely many solutions(無限多組解) [two-dimensional]\n",
    "    # △ = △x = △y = △z = 0 → no solution or infinitely many solutions(無解, 或是無限多組解) [three-dimensional]    \n",
    "    \n",
    "    if m == 2 and det_delta == 0: # two-dimensional\n",
    "        if det_delta_x != 0 or det_delta_y != 0:\n",
    "            state = '無解'\n",
    "            x = ''\n",
    "        else:\n",
    "            state = '無限多組解'\n",
    "            x = '' \n",
    "    \n",
    "    if m == 3 and det_delta == 0: # three-dimensional\n",
    "        # △x, △y, △z是否至少其一不為 0 的判斷 \n",
    "        if det_delta_x != 0 or det_delta_y != 0 or det_delta_z != 0: \n",
    "            state = '無解'\n",
    "            x = ''\n",
    "        else:\n",
    "            # △ = △x = △y = △z = 0的情形\n",
    "            \n",
    "            # 1. 取三平面法向量\n",
    "            n1 = A[0, :]\n",
    "            n2 = A[1, :]\n",
    "            n3 = A[2, :]\n",
    "            \n",
    "            # 2. 取三平面法向量兩兩的外積\n",
    "            s12 = n1.cross(n2)\n",
    "            s23 = n2.cross(n3)\n",
    "            s31 = n3.cross(n1)\n",
    "            \n",
    "            # 3. 以布林值(bool)判斷 s12, s23, s31 是否為零向量\n",
    "            #  是零向量 : 回傳 True ; 不是零向量 : 回傳 False\n",
    "            bool1 = s12.is_zero_matrix\n",
    "            bool2 = s23.is_zero_matrix\n",
    "            bool3 = s31.is_zero_matrix\n",
    "            \n",
    "            if bool1 and bool2 and bool3: # 如果 s12, s23, s31皆為零向量\n",
    "                d1 = b[0, 0]\n",
    "                d2 = b[1, 0]\n",
    "                d3 = b[2, 0]\n",
    "    \n",
    "                for i in range(0, n-1):\n",
    "                    if n1[0, i] == 0:\n",
    "                        continue\n",
    "        \n",
    "                    else:\n",
    "                        e1 = (1 / n1[0, i]) * d1\n",
    "                        e2 = (1 / n2[0, i]) * d2\n",
    "                        e3 = (1 / n3[0, i]) * d3\n",
    "                        break\n",
    "     \n",
    "                if e1 == e2 and e2 == e3: # 如果 e1 = e2 = e3\n",
    "                    state = '無限多組解'\n",
    "                    x = ''\n",
    "    \n",
    "                else:\n",
    "                    state = '無解'\n",
    "                    x = ''\n",
    "                    \n",
    "            else: # [s12, s23, s31皆為零向量]不成立時\n",
    "                state = '無限多組解' \n",
    "                x = ''\n",
    "              \n",
    "  \n",
    "    return state, x"
   ]
  },
  {
   "cell_type": "markdown",
   "id": "7fe822f2",
   "metadata": {},
   "source": [
    "### 在寫主程式碼之前，我已經在紙上徹底地將各個不同條件下($△≠0;\\; △=△_x=△_y=△_z=0;\\;△=0, (△_x, △_y, △_z)$至少其一不為$0$)下所有可能發生的三平面的狀況，以自問自答的方式，依序分析這些狀況是否符合原先的條件？要用什麼方法來進行完整地分類？尤其是$△=△_x=△_y=△_z=0$的條件下，可能會有「無解」或是「無限多組解」兩種結果，這部分我也有記錄我判斷的依據及流程。以下連結的內容是我在學習「克拉瑪公式&三元線性方程組」的筆記(我以拍照的方式上傳到另一個$Jupyter Notebook$的檔案儲存為下面的線上連結，兩個連結的內容皆相同)。另外，下面的圖片為我上方程式碼的完整流程圖。"
   ]
  },
  {
   "cell_type": "markdown",
   "id": "2d2545fa",
   "metadata": {},
   "source": [
    "[克拉瑪公式&三元線性方程組的統整筆記連結1](https://nbviewer.org/github/maxjiang323/s/blob/main/%E5%85%8B%E6%8B%89%E7%91%AA%E5%85%AC%E5%BC%8F%20%26%20%E4%B8%89%E5%85%83%E7%B7%9A%E6%80%A7%E6%96%B9%E7%A8%8B%E7%B5%84%E7%9A%84%E7%B5%B1%E6%95%B4%E7%AD%86%E8%A8%98.ipynb)"
   ]
  },
  {
   "cell_type": "markdown",
   "id": "bbda8e6c",
   "metadata": {},
   "source": [
    "[克拉瑪公式&三元線性方程組的統整筆記連結2](https://github.com/maxjiang323/s/blob/main/%E5%85%8B%E6%8B%89%E7%91%AA%E5%85%AC%E5%BC%8F%20%26%20%E4%B8%89%E5%85%83%E7%B7%9A%E6%80%A7%E6%96%B9%E7%A8%8B%E7%B5%84%E7%9A%84%E7%B5%B1%E6%95%B4%E7%AD%86%E8%A8%98.ipynb)"
   ]
  },
  {
   "cell_type": "markdown",
   "id": "65bc6507",
   "metadata": {},
   "source": [
    "### 註記:以下的流程圖是我的程式碼計算「三元」線性方程組的過程"
   ]
  },
  {
   "cell_type": "markdown",
   "id": "2b9e2f9f",
   "metadata": {},
   "source": [
    "#### [![image](https://www.linkpicture.com/q/0001_81.jpg)](https://www.linkpicture.com/view.php?img=LPic61c5a27ae61541019528714)"
   ]
  },
  {
   "cell_type": "markdown",
   "id": "08426420",
   "metadata": {},
   "source": [
    "###  接下來，我會以三種不同三元線性方程組的情況(恰有一解、無解、和無限多組解)各舉出一個例子，用我的程式碼來進行計算。其中，我會把方程組以$Ax=b$的形式表示，而恰有一解中算出來的答案我會用$A$矩陣與解($x$矩陣)相乘，測試其結果是否會和$b$矩陣相同，即是否能滿足$Ax=b$的等式。另外，雖然我的程式碼也可以進行二元線性方程組的求解及判斷解的情況，但因為二元線性方程組計算上及判斷解不會太複雜，而教授在教學影片中也只有提及三元的方程組，所以我這裡只舉出三元的三個例子。"
   ]
  },
  {
   "cell_type": "markdown",
   "id": "174f0262",
   "metadata": {},
   "source": [
    "## 1.恰有一解"
   ]
  },
  {
   "cell_type": "markdown",
   "id": "15559ce4",
   "metadata": {},
   "source": [
    "###   $\\begin{cases}85x+69y-34z=120\\\\69x-85y+47z=10 \\;\\;\\;--→\\\\23x-200y-21z=-23\\end{cases} \\; \\left[\\begin{matrix}85 & 69 & -34\\\\69 & -85 & 47\\\\23 & -200 & -21\\end{matrix}\\right]  \\left[\\begin{matrix}x\\\\y\\\\z\\end{matrix}\\right]  =  \\left[\\begin{matrix}120\\\\10\\\\-23\\end{matrix}\\right]$"
   ]
  },
  {
   "cell_type": "code",
   "execution_count": 30,
   "id": "db395a36",
   "metadata": {},
   "outputs": [],
   "source": [
    "from sympy.abc import x, y, z\n",
    "import sympy as sp"
   ]
  },
  {
   "cell_type": "code",
   "execution_count": 31,
   "id": "b79f6df2",
   "metadata": {},
   "outputs": [],
   "source": [
    "from IPython.display import display, Markdown"
   ]
  },
  {
   "cell_type": "code",
   "execution_count": 32,
   "id": "72dfbba1",
   "metadata": {},
   "outputs": [
    {
     "data": {
      "text/markdown": [
       "### $A\\;=\\left[\\begin{matrix}85 & 69 & -34\\\\69 & -85 & 47\\\\23 & -200 & -21\\end{matrix}\\right],\\;x(matrix)\\;=\\left[\\begin{matrix}x\\\\y\\\\z\\end{matrix}\\right],\\;b\\;=\\left[\\begin{matrix}120\\\\10\\\\-23\\end{matrix}\\right]$"
      ],
      "text/plain": [
       "<IPython.core.display.Markdown object>"
      ]
     },
     "metadata": {},
     "output_type": "display_data"
    }
   ],
   "source": [
    "A = sp.Matrix([[85, 69, -34], \n",
    "               [69, -85, 47], \n",
    "               [23, -200, -21]])\n",
    "x_matrix = sp.Matrix([[x],\n",
    "                      [y], \n",
    "                      [z]])\n",
    "b = sp.Matrix([[120], \n",
    "               [10], \n",
    "               [-23]])\n",
    "\n",
    "a = '### $'+'A\\;=' +  sp.latex(A) + ',\\;' + 'x(matrix)\\;=' + sp.latex(x_matrix) + ',\\;' + 'b\\;=' +  sp.latex(b) + '$'\n",
    "display(Markdown(a))"
   ]
  },
  {
   "cell_type": "markdown",
   "id": "885b1eaa",
   "metadata": {},
   "source": [
    "## 我的程式碼計算的結果"
   ]
  },
  {
   "cell_type": "code",
   "execution_count": 33,
   "id": "225b8aca",
   "metadata": {},
   "outputs": [
    {
     "name": "stdout",
     "output_type": "stream",
     "text": [
      "恰有一解\n"
     ]
    },
    {
     "data": {
      "text/markdown": [
       "### $x_\\;=\\left[\\begin{matrix}\\frac{1416571}{1528025}\\\\\\frac{439413}{1528025}\\\\- \\frac{959852}{1528025}\\end{matrix}\\right],\\;Ax_\\;=\\left[\\begin{matrix}120\\\\10\\\\-23\\end{matrix}\\right],\\;b\\;=\\left[\\begin{matrix}120\\\\10\\\\-23\\end{matrix}\\right]→\\;Ax = b  (成立)$"
      ],
      "text/plain": [
       "<IPython.core.display.Markdown object>"
      ]
     },
     "metadata": {},
     "output_type": "display_data"
    }
   ],
   "source": [
    "state, x = Cramer(A, b)\n",
    "print(state)\n",
    "\n",
    "a1 = '### $'+'x_\\;=' + sp.latex(x) + ',\\;' + 'Ax_\\;=' \n",
    "a2 = sp.latex(A*x) + ',\\;' + 'b\\;=' + sp.latex(b) + '→\\;' + 'Ax = b  (成立)'+'$'\n",
    "a3 = a1 + a2\n",
    "display(Markdown(a3))"
   ]
  },
  {
   "cell_type": "markdown",
   "id": "c07da406",
   "metadata": {},
   "source": [
    "### 因為我的程式碼計算出來的$x$矩陣可以滿足$Ax=b$，且沒有發生編譯錯誤或是計算錯誤，因此這個答案是正確的"
   ]
  },
  {
   "cell_type": "markdown",
   "id": "152c80df",
   "metadata": {},
   "source": [
    "## 2.無解"
   ]
  },
  {
   "cell_type": "markdown",
   "id": "ef1badc7",
   "metadata": {},
   "source": [
    "###   $\\begin{cases}-4x+2y-z=-1\\\\3x+y+3z=1 \\;\\;\\;\\;\\;-→\\\\2x+4y+5z=3\\end{cases}  \\left[\\begin{matrix}-4 & 2 & -1\\\\3 & 1 & 3\\\\2 & 4 & 5\\end{matrix}\\right]  \\left[\\begin{matrix}x\\\\y\\\\z\\end{matrix}\\right]  =  \\left[\\begin{matrix}-1\\\\1\\\\3\\end{matrix}\\right]$'"
   ]
  },
  {
   "cell_type": "code",
   "execution_count": 34,
   "id": "9d951819",
   "metadata": {},
   "outputs": [],
   "source": [
    "from sympy.abc import x, y, z\n",
    "import sympy as sp"
   ]
  },
  {
   "cell_type": "code",
   "execution_count": 35,
   "id": "7310f463",
   "metadata": {},
   "outputs": [],
   "source": [
    "from IPython.display import display, Markdown"
   ]
  },
  {
   "cell_type": "code",
   "execution_count": 36,
   "id": "9311d5f1",
   "metadata": {},
   "outputs": [
    {
     "data": {
      "text/markdown": [
       "### $A\\;=\\left[\\begin{matrix}-4 & 2 & -1\\\\3 & 1 & 3\\\\2 & 4 & 5\\end{matrix}\\right],\\;x(matrix)\\;=\\left[\\begin{matrix}x\\\\y\\\\z\\end{matrix}\\right],\\;b\\;=\\left[\\begin{matrix}-1\\\\1\\\\3\\end{matrix}\\right]$"
      ],
      "text/plain": [
       "<IPython.core.display.Markdown object>"
      ]
     },
     "metadata": {},
     "output_type": "display_data"
    }
   ],
   "source": [
    "A = sp.Matrix([[-4, 2, -1], \n",
    "               [3, 1, 3], \n",
    "               [2, 4, 5]])\n",
    "x_matrix = sp.Matrix([[x], \n",
    "                      [y], \n",
    "                      [z]])\n",
    "b = sp.Matrix([[-1], \n",
    "               [1], \n",
    "               [3]])\n",
    "\n",
    "a = '### $'+'A\\;=' +  sp.latex(A) + ',\\;' + 'x(matrix)\\;=' + sp.latex(x_matrix) + ',\\;' + 'b\\;=' +  sp.latex(b) + '$'\n",
    "display(Markdown(a))"
   ]
  },
  {
   "cell_type": "markdown",
   "id": "d8aed774",
   "metadata": {},
   "source": [
    "## 我的程式碼計算的結果"
   ]
  },
  {
   "cell_type": "code",
   "execution_count": 37,
   "id": "2d2bebbf",
   "metadata": {},
   "outputs": [
    {
     "name": "stdout",
     "output_type": "stream",
     "text": [
      "無解\n"
     ]
    },
    {
     "data": {
      "text/plain": [
       "''"
      ]
     },
     "execution_count": 37,
     "metadata": {},
     "output_type": "execute_result"
    }
   ],
   "source": [
    "state, x = Cramer(A, b)\n",
    "print(state)\n",
    "x"
   ]
  },
  {
   "cell_type": "markdown",
   "id": "6d16fd16",
   "metadata": {},
   "source": [
    "### 下面為了驗證我的判斷，我在下面將該線性方程組的圖形畫出來，利用這些平面之間的幾何關係來驗證我的判斷是否正確。"
   ]
  },
  {
   "cell_type": "code",
   "execution_count": 64,
   "id": "a640521f",
   "metadata": {},
   "outputs": [],
   "source": [
    "%matplotlib notebook\n",
    "from mpl_toolkits.mplot3d import Axes3D\n",
    "import matplotlib.pyplot as plt\n",
    "import numpy as np\n",
    "%config InlineBackend.figure_format  = 'svg'"
   ]
  },
  {
   "cell_type": "code",
   "execution_count": 65,
   "id": "d83289fa",
   "metadata": {},
   "outputs": [
    {
     "data": {
      "application/javascript": [
       "/* Put everything inside the global mpl namespace */\n",
       "/* global mpl */\n",
       "window.mpl = {};\n",
       "\n",
       "mpl.get_websocket_type = function () {\n",
       "    if (typeof WebSocket !== 'undefined') {\n",
       "        return WebSocket;\n",
       "    } else if (typeof MozWebSocket !== 'undefined') {\n",
       "        return MozWebSocket;\n",
       "    } else {\n",
       "        alert(\n",
       "            'Your browser does not have WebSocket support. ' +\n",
       "                'Please try Chrome, Safari or Firefox ≥ 6. ' +\n",
       "                'Firefox 4 and 5 are also supported but you ' +\n",
       "                'have to enable WebSockets in about:config.'\n",
       "        );\n",
       "    }\n",
       "};\n",
       "\n",
       "mpl.figure = function (figure_id, websocket, ondownload, parent_element) {\n",
       "    this.id = figure_id;\n",
       "\n",
       "    this.ws = websocket;\n",
       "\n",
       "    this.supports_binary = this.ws.binaryType !== undefined;\n",
       "\n",
       "    if (!this.supports_binary) {\n",
       "        var warnings = document.getElementById('mpl-warnings');\n",
       "        if (warnings) {\n",
       "            warnings.style.display = 'block';\n",
       "            warnings.textContent =\n",
       "                'This browser does not support binary websocket messages. ' +\n",
       "                'Performance may be slow.';\n",
       "        }\n",
       "    }\n",
       "\n",
       "    this.imageObj = new Image();\n",
       "\n",
       "    this.context = undefined;\n",
       "    this.message = undefined;\n",
       "    this.canvas = undefined;\n",
       "    this.rubberband_canvas = undefined;\n",
       "    this.rubberband_context = undefined;\n",
       "    this.format_dropdown = undefined;\n",
       "\n",
       "    this.image_mode = 'full';\n",
       "\n",
       "    this.root = document.createElement('div');\n",
       "    this.root.setAttribute('style', 'display: inline-block');\n",
       "    this._root_extra_style(this.root);\n",
       "\n",
       "    parent_element.appendChild(this.root);\n",
       "\n",
       "    this._init_header(this);\n",
       "    this._init_canvas(this);\n",
       "    this._init_toolbar(this);\n",
       "\n",
       "    var fig = this;\n",
       "\n",
       "    this.waiting = false;\n",
       "\n",
       "    this.ws.onopen = function () {\n",
       "        fig.send_message('supports_binary', { value: fig.supports_binary });\n",
       "        fig.send_message('send_image_mode', {});\n",
       "        if (fig.ratio !== 1) {\n",
       "            fig.send_message('set_dpi_ratio', { dpi_ratio: fig.ratio });\n",
       "        }\n",
       "        fig.send_message('refresh', {});\n",
       "    };\n",
       "\n",
       "    this.imageObj.onload = function () {\n",
       "        if (fig.image_mode === 'full') {\n",
       "            // Full images could contain transparency (where diff images\n",
       "            // almost always do), so we need to clear the canvas so that\n",
       "            // there is no ghosting.\n",
       "            fig.context.clearRect(0, 0, fig.canvas.width, fig.canvas.height);\n",
       "        }\n",
       "        fig.context.drawImage(fig.imageObj, 0, 0);\n",
       "    };\n",
       "\n",
       "    this.imageObj.onunload = function () {\n",
       "        fig.ws.close();\n",
       "    };\n",
       "\n",
       "    this.ws.onmessage = this._make_on_message_function(this);\n",
       "\n",
       "    this.ondownload = ondownload;\n",
       "};\n",
       "\n",
       "mpl.figure.prototype._init_header = function () {\n",
       "    var titlebar = document.createElement('div');\n",
       "    titlebar.classList =\n",
       "        'ui-dialog-titlebar ui-widget-header ui-corner-all ui-helper-clearfix';\n",
       "    var titletext = document.createElement('div');\n",
       "    titletext.classList = 'ui-dialog-title';\n",
       "    titletext.setAttribute(\n",
       "        'style',\n",
       "        'width: 100%; text-align: center; padding: 3px;'\n",
       "    );\n",
       "    titlebar.appendChild(titletext);\n",
       "    this.root.appendChild(titlebar);\n",
       "    this.header = titletext;\n",
       "};\n",
       "\n",
       "mpl.figure.prototype._canvas_extra_style = function (_canvas_div) {};\n",
       "\n",
       "mpl.figure.prototype._root_extra_style = function (_canvas_div) {};\n",
       "\n",
       "mpl.figure.prototype._init_canvas = function () {\n",
       "    var fig = this;\n",
       "\n",
       "    var canvas_div = (this.canvas_div = document.createElement('div'));\n",
       "    canvas_div.setAttribute(\n",
       "        'style',\n",
       "        'border: 1px solid #ddd;' +\n",
       "            'box-sizing: content-box;' +\n",
       "            'clear: both;' +\n",
       "            'min-height: 1px;' +\n",
       "            'min-width: 1px;' +\n",
       "            'outline: 0;' +\n",
       "            'overflow: hidden;' +\n",
       "            'position: relative;' +\n",
       "            'resize: both;'\n",
       "    );\n",
       "\n",
       "    function on_keyboard_event_closure(name) {\n",
       "        return function (event) {\n",
       "            return fig.key_event(event, name);\n",
       "        };\n",
       "    }\n",
       "\n",
       "    canvas_div.addEventListener(\n",
       "        'keydown',\n",
       "        on_keyboard_event_closure('key_press')\n",
       "    );\n",
       "    canvas_div.addEventListener(\n",
       "        'keyup',\n",
       "        on_keyboard_event_closure('key_release')\n",
       "    );\n",
       "\n",
       "    this._canvas_extra_style(canvas_div);\n",
       "    this.root.appendChild(canvas_div);\n",
       "\n",
       "    var canvas = (this.canvas = document.createElement('canvas'));\n",
       "    canvas.classList.add('mpl-canvas');\n",
       "    canvas.setAttribute('style', 'box-sizing: content-box;');\n",
       "\n",
       "    this.context = canvas.getContext('2d');\n",
       "\n",
       "    var backingStore =\n",
       "        this.context.backingStorePixelRatio ||\n",
       "        this.context.webkitBackingStorePixelRatio ||\n",
       "        this.context.mozBackingStorePixelRatio ||\n",
       "        this.context.msBackingStorePixelRatio ||\n",
       "        this.context.oBackingStorePixelRatio ||\n",
       "        this.context.backingStorePixelRatio ||\n",
       "        1;\n",
       "\n",
       "    this.ratio = (window.devicePixelRatio || 1) / backingStore;\n",
       "\n",
       "    var rubberband_canvas = (this.rubberband_canvas = document.createElement(\n",
       "        'canvas'\n",
       "    ));\n",
       "    rubberband_canvas.setAttribute(\n",
       "        'style',\n",
       "        'box-sizing: content-box; position: absolute; left: 0; top: 0; z-index: 1;'\n",
       "    );\n",
       "\n",
       "    // Apply a ponyfill if ResizeObserver is not implemented by browser.\n",
       "    if (this.ResizeObserver === undefined) {\n",
       "        if (window.ResizeObserver !== undefined) {\n",
       "            this.ResizeObserver = window.ResizeObserver;\n",
       "        } else {\n",
       "            var obs = _JSXTOOLS_RESIZE_OBSERVER({});\n",
       "            this.ResizeObserver = obs.ResizeObserver;\n",
       "        }\n",
       "    }\n",
       "\n",
       "    this.resizeObserverInstance = new this.ResizeObserver(function (entries) {\n",
       "        var nentries = entries.length;\n",
       "        for (var i = 0; i < nentries; i++) {\n",
       "            var entry = entries[i];\n",
       "            var width, height;\n",
       "            if (entry.contentBoxSize) {\n",
       "                if (entry.contentBoxSize instanceof Array) {\n",
       "                    // Chrome 84 implements new version of spec.\n",
       "                    width = entry.contentBoxSize[0].inlineSize;\n",
       "                    height = entry.contentBoxSize[0].blockSize;\n",
       "                } else {\n",
       "                    // Firefox implements old version of spec.\n",
       "                    width = entry.contentBoxSize.inlineSize;\n",
       "                    height = entry.contentBoxSize.blockSize;\n",
       "                }\n",
       "            } else {\n",
       "                // Chrome <84 implements even older version of spec.\n",
       "                width = entry.contentRect.width;\n",
       "                height = entry.contentRect.height;\n",
       "            }\n",
       "\n",
       "            // Keep the size of the canvas and rubber band canvas in sync with\n",
       "            // the canvas container.\n",
       "            if (entry.devicePixelContentBoxSize) {\n",
       "                // Chrome 84 implements new version of spec.\n",
       "                canvas.setAttribute(\n",
       "                    'width',\n",
       "                    entry.devicePixelContentBoxSize[0].inlineSize\n",
       "                );\n",
       "                canvas.setAttribute(\n",
       "                    'height',\n",
       "                    entry.devicePixelContentBoxSize[0].blockSize\n",
       "                );\n",
       "            } else {\n",
       "                canvas.setAttribute('width', width * fig.ratio);\n",
       "                canvas.setAttribute('height', height * fig.ratio);\n",
       "            }\n",
       "            canvas.setAttribute(\n",
       "                'style',\n",
       "                'width: ' + width + 'px; height: ' + height + 'px;'\n",
       "            );\n",
       "\n",
       "            rubberband_canvas.setAttribute('width', width);\n",
       "            rubberband_canvas.setAttribute('height', height);\n",
       "\n",
       "            // And update the size in Python. We ignore the initial 0/0 size\n",
       "            // that occurs as the element is placed into the DOM, which should\n",
       "            // otherwise not happen due to the minimum size styling.\n",
       "            if (fig.ws.readyState == 1 && width != 0 && height != 0) {\n",
       "                fig.request_resize(width, height);\n",
       "            }\n",
       "        }\n",
       "    });\n",
       "    this.resizeObserverInstance.observe(canvas_div);\n",
       "\n",
       "    function on_mouse_event_closure(name) {\n",
       "        return function (event) {\n",
       "            return fig.mouse_event(event, name);\n",
       "        };\n",
       "    }\n",
       "\n",
       "    rubberband_canvas.addEventListener(\n",
       "        'mousedown',\n",
       "        on_mouse_event_closure('button_press')\n",
       "    );\n",
       "    rubberband_canvas.addEventListener(\n",
       "        'mouseup',\n",
       "        on_mouse_event_closure('button_release')\n",
       "    );\n",
       "    rubberband_canvas.addEventListener(\n",
       "        'dblclick',\n",
       "        on_mouse_event_closure('dblclick')\n",
       "    );\n",
       "    // Throttle sequential mouse events to 1 every 20ms.\n",
       "    rubberband_canvas.addEventListener(\n",
       "        'mousemove',\n",
       "        on_mouse_event_closure('motion_notify')\n",
       "    );\n",
       "\n",
       "    rubberband_canvas.addEventListener(\n",
       "        'mouseenter',\n",
       "        on_mouse_event_closure('figure_enter')\n",
       "    );\n",
       "    rubberband_canvas.addEventListener(\n",
       "        'mouseleave',\n",
       "        on_mouse_event_closure('figure_leave')\n",
       "    );\n",
       "\n",
       "    canvas_div.addEventListener('wheel', function (event) {\n",
       "        if (event.deltaY < 0) {\n",
       "            event.step = 1;\n",
       "        } else {\n",
       "            event.step = -1;\n",
       "        }\n",
       "        on_mouse_event_closure('scroll')(event);\n",
       "    });\n",
       "\n",
       "    canvas_div.appendChild(canvas);\n",
       "    canvas_div.appendChild(rubberband_canvas);\n",
       "\n",
       "    this.rubberband_context = rubberband_canvas.getContext('2d');\n",
       "    this.rubberband_context.strokeStyle = '#000000';\n",
       "\n",
       "    this._resize_canvas = function (width, height, forward) {\n",
       "        if (forward) {\n",
       "            canvas_div.style.width = width + 'px';\n",
       "            canvas_div.style.height = height + 'px';\n",
       "        }\n",
       "    };\n",
       "\n",
       "    // Disable right mouse context menu.\n",
       "    this.rubberband_canvas.addEventListener('contextmenu', function (_e) {\n",
       "        event.preventDefault();\n",
       "        return false;\n",
       "    });\n",
       "\n",
       "    function set_focus() {\n",
       "        canvas.focus();\n",
       "        canvas_div.focus();\n",
       "    }\n",
       "\n",
       "    window.setTimeout(set_focus, 100);\n",
       "};\n",
       "\n",
       "mpl.figure.prototype._init_toolbar = function () {\n",
       "    var fig = this;\n",
       "\n",
       "    var toolbar = document.createElement('div');\n",
       "    toolbar.classList = 'mpl-toolbar';\n",
       "    this.root.appendChild(toolbar);\n",
       "\n",
       "    function on_click_closure(name) {\n",
       "        return function (_event) {\n",
       "            return fig.toolbar_button_onclick(name);\n",
       "        };\n",
       "    }\n",
       "\n",
       "    function on_mouseover_closure(tooltip) {\n",
       "        return function (event) {\n",
       "            if (!event.currentTarget.disabled) {\n",
       "                return fig.toolbar_button_onmouseover(tooltip);\n",
       "            }\n",
       "        };\n",
       "    }\n",
       "\n",
       "    fig.buttons = {};\n",
       "    var buttonGroup = document.createElement('div');\n",
       "    buttonGroup.classList = 'mpl-button-group';\n",
       "    for (var toolbar_ind in mpl.toolbar_items) {\n",
       "        var name = mpl.toolbar_items[toolbar_ind][0];\n",
       "        var tooltip = mpl.toolbar_items[toolbar_ind][1];\n",
       "        var image = mpl.toolbar_items[toolbar_ind][2];\n",
       "        var method_name = mpl.toolbar_items[toolbar_ind][3];\n",
       "\n",
       "        if (!name) {\n",
       "            /* Instead of a spacer, we start a new button group. */\n",
       "            if (buttonGroup.hasChildNodes()) {\n",
       "                toolbar.appendChild(buttonGroup);\n",
       "            }\n",
       "            buttonGroup = document.createElement('div');\n",
       "            buttonGroup.classList = 'mpl-button-group';\n",
       "            continue;\n",
       "        }\n",
       "\n",
       "        var button = (fig.buttons[name] = document.createElement('button'));\n",
       "        button.classList = 'mpl-widget';\n",
       "        button.setAttribute('role', 'button');\n",
       "        button.setAttribute('aria-disabled', 'false');\n",
       "        button.addEventListener('click', on_click_closure(method_name));\n",
       "        button.addEventListener('mouseover', on_mouseover_closure(tooltip));\n",
       "\n",
       "        var icon_img = document.createElement('img');\n",
       "        icon_img.src = '_images/' + image + '.png';\n",
       "        icon_img.srcset = '_images/' + image + '_large.png 2x';\n",
       "        icon_img.alt = tooltip;\n",
       "        button.appendChild(icon_img);\n",
       "\n",
       "        buttonGroup.appendChild(button);\n",
       "    }\n",
       "\n",
       "    if (buttonGroup.hasChildNodes()) {\n",
       "        toolbar.appendChild(buttonGroup);\n",
       "    }\n",
       "\n",
       "    var fmt_picker = document.createElement('select');\n",
       "    fmt_picker.classList = 'mpl-widget';\n",
       "    toolbar.appendChild(fmt_picker);\n",
       "    this.format_dropdown = fmt_picker;\n",
       "\n",
       "    for (var ind in mpl.extensions) {\n",
       "        var fmt = mpl.extensions[ind];\n",
       "        var option = document.createElement('option');\n",
       "        option.selected = fmt === mpl.default_extension;\n",
       "        option.innerHTML = fmt;\n",
       "        fmt_picker.appendChild(option);\n",
       "    }\n",
       "\n",
       "    var status_bar = document.createElement('span');\n",
       "    status_bar.classList = 'mpl-message';\n",
       "    toolbar.appendChild(status_bar);\n",
       "    this.message = status_bar;\n",
       "};\n",
       "\n",
       "mpl.figure.prototype.request_resize = function (x_pixels, y_pixels) {\n",
       "    // Request matplotlib to resize the figure. Matplotlib will then trigger a resize in the client,\n",
       "    // which will in turn request a refresh of the image.\n",
       "    this.send_message('resize', { width: x_pixels, height: y_pixels });\n",
       "};\n",
       "\n",
       "mpl.figure.prototype.send_message = function (type, properties) {\n",
       "    properties['type'] = type;\n",
       "    properties['figure_id'] = this.id;\n",
       "    this.ws.send(JSON.stringify(properties));\n",
       "};\n",
       "\n",
       "mpl.figure.prototype.send_draw_message = function () {\n",
       "    if (!this.waiting) {\n",
       "        this.waiting = true;\n",
       "        this.ws.send(JSON.stringify({ type: 'draw', figure_id: this.id }));\n",
       "    }\n",
       "};\n",
       "\n",
       "mpl.figure.prototype.handle_save = function (fig, _msg) {\n",
       "    var format_dropdown = fig.format_dropdown;\n",
       "    var format = format_dropdown.options[format_dropdown.selectedIndex].value;\n",
       "    fig.ondownload(fig, format);\n",
       "};\n",
       "\n",
       "mpl.figure.prototype.handle_resize = function (fig, msg) {\n",
       "    var size = msg['size'];\n",
       "    if (size[0] !== fig.canvas.width || size[1] !== fig.canvas.height) {\n",
       "        fig._resize_canvas(size[0], size[1], msg['forward']);\n",
       "        fig.send_message('refresh', {});\n",
       "    }\n",
       "};\n",
       "\n",
       "mpl.figure.prototype.handle_rubberband = function (fig, msg) {\n",
       "    var x0 = msg['x0'] / fig.ratio;\n",
       "    var y0 = (fig.canvas.height - msg['y0']) / fig.ratio;\n",
       "    var x1 = msg['x1'] / fig.ratio;\n",
       "    var y1 = (fig.canvas.height - msg['y1']) / fig.ratio;\n",
       "    x0 = Math.floor(x0) + 0.5;\n",
       "    y0 = Math.floor(y0) + 0.5;\n",
       "    x1 = Math.floor(x1) + 0.5;\n",
       "    y1 = Math.floor(y1) + 0.5;\n",
       "    var min_x = Math.min(x0, x1);\n",
       "    var min_y = Math.min(y0, y1);\n",
       "    var width = Math.abs(x1 - x0);\n",
       "    var height = Math.abs(y1 - y0);\n",
       "\n",
       "    fig.rubberband_context.clearRect(\n",
       "        0,\n",
       "        0,\n",
       "        fig.canvas.width / fig.ratio,\n",
       "        fig.canvas.height / fig.ratio\n",
       "    );\n",
       "\n",
       "    fig.rubberband_context.strokeRect(min_x, min_y, width, height);\n",
       "};\n",
       "\n",
       "mpl.figure.prototype.handle_figure_label = function (fig, msg) {\n",
       "    // Updates the figure title.\n",
       "    fig.header.textContent = msg['label'];\n",
       "};\n",
       "\n",
       "mpl.figure.prototype.handle_cursor = function (fig, msg) {\n",
       "    var cursor = msg['cursor'];\n",
       "    switch (cursor) {\n",
       "        case 0:\n",
       "            cursor = 'pointer';\n",
       "            break;\n",
       "        case 1:\n",
       "            cursor = 'default';\n",
       "            break;\n",
       "        case 2:\n",
       "            cursor = 'crosshair';\n",
       "            break;\n",
       "        case 3:\n",
       "            cursor = 'move';\n",
       "            break;\n",
       "    }\n",
       "    fig.rubberband_canvas.style.cursor = cursor;\n",
       "};\n",
       "\n",
       "mpl.figure.prototype.handle_message = function (fig, msg) {\n",
       "    fig.message.textContent = msg['message'];\n",
       "};\n",
       "\n",
       "mpl.figure.prototype.handle_draw = function (fig, _msg) {\n",
       "    // Request the server to send over a new figure.\n",
       "    fig.send_draw_message();\n",
       "};\n",
       "\n",
       "mpl.figure.prototype.handle_image_mode = function (fig, msg) {\n",
       "    fig.image_mode = msg['mode'];\n",
       "};\n",
       "\n",
       "mpl.figure.prototype.handle_history_buttons = function (fig, msg) {\n",
       "    for (var key in msg) {\n",
       "        if (!(key in fig.buttons)) {\n",
       "            continue;\n",
       "        }\n",
       "        fig.buttons[key].disabled = !msg[key];\n",
       "        fig.buttons[key].setAttribute('aria-disabled', !msg[key]);\n",
       "    }\n",
       "};\n",
       "\n",
       "mpl.figure.prototype.handle_navigate_mode = function (fig, msg) {\n",
       "    if (msg['mode'] === 'PAN') {\n",
       "        fig.buttons['Pan'].classList.add('active');\n",
       "        fig.buttons['Zoom'].classList.remove('active');\n",
       "    } else if (msg['mode'] === 'ZOOM') {\n",
       "        fig.buttons['Pan'].classList.remove('active');\n",
       "        fig.buttons['Zoom'].classList.add('active');\n",
       "    } else {\n",
       "        fig.buttons['Pan'].classList.remove('active');\n",
       "        fig.buttons['Zoom'].classList.remove('active');\n",
       "    }\n",
       "};\n",
       "\n",
       "mpl.figure.prototype.updated_canvas_event = function () {\n",
       "    // Called whenever the canvas gets updated.\n",
       "    this.send_message('ack', {});\n",
       "};\n",
       "\n",
       "// A function to construct a web socket function for onmessage handling.\n",
       "// Called in the figure constructor.\n",
       "mpl.figure.prototype._make_on_message_function = function (fig) {\n",
       "    return function socket_on_message(evt) {\n",
       "        if (evt.data instanceof Blob) {\n",
       "            var img = evt.data;\n",
       "            if (img.type !== 'image/png') {\n",
       "                /* FIXME: We get \"Resource interpreted as Image but\n",
       "                 * transferred with MIME type text/plain:\" errors on\n",
       "                 * Chrome.  But how to set the MIME type?  It doesn't seem\n",
       "                 * to be part of the websocket stream */\n",
       "                img.type = 'image/png';\n",
       "            }\n",
       "\n",
       "            /* Free the memory for the previous frames */\n",
       "            if (fig.imageObj.src) {\n",
       "                (window.URL || window.webkitURL).revokeObjectURL(\n",
       "                    fig.imageObj.src\n",
       "                );\n",
       "            }\n",
       "\n",
       "            fig.imageObj.src = (window.URL || window.webkitURL).createObjectURL(\n",
       "                img\n",
       "            );\n",
       "            fig.updated_canvas_event();\n",
       "            fig.waiting = false;\n",
       "            return;\n",
       "        } else if (\n",
       "            typeof evt.data === 'string' &&\n",
       "            evt.data.slice(0, 21) === 'data:image/png;base64'\n",
       "        ) {\n",
       "            fig.imageObj.src = evt.data;\n",
       "            fig.updated_canvas_event();\n",
       "            fig.waiting = false;\n",
       "            return;\n",
       "        }\n",
       "\n",
       "        var msg = JSON.parse(evt.data);\n",
       "        var msg_type = msg['type'];\n",
       "\n",
       "        // Call the  \"handle_{type}\" callback, which takes\n",
       "        // the figure and JSON message as its only arguments.\n",
       "        try {\n",
       "            var callback = fig['handle_' + msg_type];\n",
       "        } catch (e) {\n",
       "            console.log(\n",
       "                \"No handler for the '\" + msg_type + \"' message type: \",\n",
       "                msg\n",
       "            );\n",
       "            return;\n",
       "        }\n",
       "\n",
       "        if (callback) {\n",
       "            try {\n",
       "                // console.log(\"Handling '\" + msg_type + \"' message: \", msg);\n",
       "                callback(fig, msg);\n",
       "            } catch (e) {\n",
       "                console.log(\n",
       "                    \"Exception inside the 'handler_\" + msg_type + \"' callback:\",\n",
       "                    e,\n",
       "                    e.stack,\n",
       "                    msg\n",
       "                );\n",
       "            }\n",
       "        }\n",
       "    };\n",
       "};\n",
       "\n",
       "// from http://stackoverflow.com/questions/1114465/getting-mouse-location-in-canvas\n",
       "mpl.findpos = function (e) {\n",
       "    //this section is from http://www.quirksmode.org/js/events_properties.html\n",
       "    var targ;\n",
       "    if (!e) {\n",
       "        e = window.event;\n",
       "    }\n",
       "    if (e.target) {\n",
       "        targ = e.target;\n",
       "    } else if (e.srcElement) {\n",
       "        targ = e.srcElement;\n",
       "    }\n",
       "    if (targ.nodeType === 3) {\n",
       "        // defeat Safari bug\n",
       "        targ = targ.parentNode;\n",
       "    }\n",
       "\n",
       "    // pageX,Y are the mouse positions relative to the document\n",
       "    var boundingRect = targ.getBoundingClientRect();\n",
       "    var x = e.pageX - (boundingRect.left + document.body.scrollLeft);\n",
       "    var y = e.pageY - (boundingRect.top + document.body.scrollTop);\n",
       "\n",
       "    return { x: x, y: y };\n",
       "};\n",
       "\n",
       "/*\n",
       " * return a copy of an object with only non-object keys\n",
       " * we need this to avoid circular references\n",
       " * http://stackoverflow.com/a/24161582/3208463\n",
       " */\n",
       "function simpleKeys(original) {\n",
       "    return Object.keys(original).reduce(function (obj, key) {\n",
       "        if (typeof original[key] !== 'object') {\n",
       "            obj[key] = original[key];\n",
       "        }\n",
       "        return obj;\n",
       "    }, {});\n",
       "}\n",
       "\n",
       "mpl.figure.prototype.mouse_event = function (event, name) {\n",
       "    var canvas_pos = mpl.findpos(event);\n",
       "\n",
       "    if (name === 'button_press') {\n",
       "        this.canvas.focus();\n",
       "        this.canvas_div.focus();\n",
       "    }\n",
       "\n",
       "    var x = canvas_pos.x * this.ratio;\n",
       "    var y = canvas_pos.y * this.ratio;\n",
       "\n",
       "    this.send_message(name, {\n",
       "        x: x,\n",
       "        y: y,\n",
       "        button: event.button,\n",
       "        step: event.step,\n",
       "        guiEvent: simpleKeys(event),\n",
       "    });\n",
       "\n",
       "    /* This prevents the web browser from automatically changing to\n",
       "     * the text insertion cursor when the button is pressed.  We want\n",
       "     * to control all of the cursor setting manually through the\n",
       "     * 'cursor' event from matplotlib */\n",
       "    event.preventDefault();\n",
       "    return false;\n",
       "};\n",
       "\n",
       "mpl.figure.prototype._key_event_extra = function (_event, _name) {\n",
       "    // Handle any extra behaviour associated with a key event\n",
       "};\n",
       "\n",
       "mpl.figure.prototype.key_event = function (event, name) {\n",
       "    // Prevent repeat events\n",
       "    if (name === 'key_press') {\n",
       "        if (event.key === this._key) {\n",
       "            return;\n",
       "        } else {\n",
       "            this._key = event.key;\n",
       "        }\n",
       "    }\n",
       "    if (name === 'key_release') {\n",
       "        this._key = null;\n",
       "    }\n",
       "\n",
       "    var value = '';\n",
       "    if (event.ctrlKey && event.key !== 'Control') {\n",
       "        value += 'ctrl+';\n",
       "    }\n",
       "    else if (event.altKey && event.key !== 'Alt') {\n",
       "        value += 'alt+';\n",
       "    }\n",
       "    else if (event.shiftKey && event.key !== 'Shift') {\n",
       "        value += 'shift+';\n",
       "    }\n",
       "\n",
       "    value += 'k' + event.key;\n",
       "\n",
       "    this._key_event_extra(event, name);\n",
       "\n",
       "    this.send_message(name, { key: value, guiEvent: simpleKeys(event) });\n",
       "    return false;\n",
       "};\n",
       "\n",
       "mpl.figure.prototype.toolbar_button_onclick = function (name) {\n",
       "    if (name === 'download') {\n",
       "        this.handle_save(this, null);\n",
       "    } else {\n",
       "        this.send_message('toolbar_button', { name: name });\n",
       "    }\n",
       "};\n",
       "\n",
       "mpl.figure.prototype.toolbar_button_onmouseover = function (tooltip) {\n",
       "    this.message.textContent = tooltip;\n",
       "};\n",
       "\n",
       "///////////////// REMAINING CONTENT GENERATED BY embed_js.py /////////////////\n",
       "// prettier-ignore\n",
       "var _JSXTOOLS_RESIZE_OBSERVER=function(A){var t,i=new WeakMap,n=new WeakMap,a=new WeakMap,r=new WeakMap,o=new Set;function s(e){if(!(this instanceof s))throw new TypeError(\"Constructor requires 'new' operator\");i.set(this,e)}function h(){throw new TypeError(\"Function is not a constructor\")}function c(e,t,i,n){e=0 in arguments?Number(arguments[0]):0,t=1 in arguments?Number(arguments[1]):0,i=2 in arguments?Number(arguments[2]):0,n=3 in arguments?Number(arguments[3]):0,this.right=(this.x=this.left=e)+(this.width=i),this.bottom=(this.y=this.top=t)+(this.height=n),Object.freeze(this)}function d(){t=requestAnimationFrame(d);var s=new WeakMap,p=new Set;o.forEach((function(t){r.get(t).forEach((function(i){var r=t instanceof window.SVGElement,o=a.get(t),d=r?0:parseFloat(o.paddingTop),f=r?0:parseFloat(o.paddingRight),l=r?0:parseFloat(o.paddingBottom),u=r?0:parseFloat(o.paddingLeft),g=r?0:parseFloat(o.borderTopWidth),m=r?0:parseFloat(o.borderRightWidth),w=r?0:parseFloat(o.borderBottomWidth),b=u+f,F=d+l,v=(r?0:parseFloat(o.borderLeftWidth))+m,W=g+w,y=r?0:t.offsetHeight-W-t.clientHeight,E=r?0:t.offsetWidth-v-t.clientWidth,R=b+v,z=F+W,M=r?t.width:parseFloat(o.width)-R-E,O=r?t.height:parseFloat(o.height)-z-y;if(n.has(t)){var k=n.get(t);if(k[0]===M&&k[1]===O)return}n.set(t,[M,O]);var S=Object.create(h.prototype);S.target=t,S.contentRect=new c(u,d,M,O),s.has(i)||(s.set(i,[]),p.add(i)),s.get(i).push(S)}))})),p.forEach((function(e){i.get(e).call(e,s.get(e),e)}))}return s.prototype.observe=function(i){if(i instanceof window.Element){r.has(i)||(r.set(i,new Set),o.add(i),a.set(i,window.getComputedStyle(i)));var n=r.get(i);n.has(this)||n.add(this),cancelAnimationFrame(t),t=requestAnimationFrame(d)}},s.prototype.unobserve=function(i){if(i instanceof window.Element&&r.has(i)){var n=r.get(i);n.has(this)&&(n.delete(this),n.size||(r.delete(i),o.delete(i))),n.size||r.delete(i),o.size||cancelAnimationFrame(t)}},A.DOMRectReadOnly=c,A.ResizeObserver=s,A.ResizeObserverEntry=h,A}; // eslint-disable-line\n",
       "mpl.toolbar_items = [[\"Home\", \"Reset original view\", \"fa fa-home icon-home\", \"home\"], [\"Back\", \"Back to previous view\", \"fa fa-arrow-left icon-arrow-left\", \"back\"], [\"Forward\", \"Forward to next view\", \"fa fa-arrow-right icon-arrow-right\", \"forward\"], [\"\", \"\", \"\", \"\"], [\"Pan\", \"Left button pans, Right button zooms\\nx/y fixes axis, CTRL fixes aspect\", \"fa fa-arrows icon-move\", \"pan\"], [\"Zoom\", \"Zoom to rectangle\\nx/y fixes axis, CTRL fixes aspect\", \"fa fa-square-o icon-check-empty\", \"zoom\"], [\"\", \"\", \"\", \"\"], [\"Download\", \"Download plot\", \"fa fa-floppy-o icon-save\", \"download\"]];\n",
       "\n",
       "mpl.extensions = [\"eps\", \"jpeg\", \"pgf\", \"pdf\", \"png\", \"ps\", \"raw\", \"svg\", \"tif\"];\n",
       "\n",
       "mpl.default_extension = \"png\";/* global mpl */\n",
       "\n",
       "var comm_websocket_adapter = function (comm) {\n",
       "    // Create a \"websocket\"-like object which calls the given IPython comm\n",
       "    // object with the appropriate methods. Currently this is a non binary\n",
       "    // socket, so there is still some room for performance tuning.\n",
       "    var ws = {};\n",
       "\n",
       "    ws.binaryType = comm.kernel.ws.binaryType;\n",
       "    ws.readyState = comm.kernel.ws.readyState;\n",
       "    function updateReadyState(_event) {\n",
       "        if (comm.kernel.ws) {\n",
       "            ws.readyState = comm.kernel.ws.readyState;\n",
       "        } else {\n",
       "            ws.readyState = 3; // Closed state.\n",
       "        }\n",
       "    }\n",
       "    comm.kernel.ws.addEventListener('open', updateReadyState);\n",
       "    comm.kernel.ws.addEventListener('close', updateReadyState);\n",
       "    comm.kernel.ws.addEventListener('error', updateReadyState);\n",
       "\n",
       "    ws.close = function () {\n",
       "        comm.close();\n",
       "    };\n",
       "    ws.send = function (m) {\n",
       "        //console.log('sending', m);\n",
       "        comm.send(m);\n",
       "    };\n",
       "    // Register the callback with on_msg.\n",
       "    comm.on_msg(function (msg) {\n",
       "        //console.log('receiving', msg['content']['data'], msg);\n",
       "        var data = msg['content']['data'];\n",
       "        if (data['blob'] !== undefined) {\n",
       "            data = {\n",
       "                data: new Blob(msg['buffers'], { type: data['blob'] }),\n",
       "            };\n",
       "        }\n",
       "        // Pass the mpl event to the overridden (by mpl) onmessage function.\n",
       "        ws.onmessage(data);\n",
       "    });\n",
       "    return ws;\n",
       "};\n",
       "\n",
       "mpl.mpl_figure_comm = function (comm, msg) {\n",
       "    // This is the function which gets called when the mpl process\n",
       "    // starts-up an IPython Comm through the \"matplotlib\" channel.\n",
       "\n",
       "    var id = msg.content.data.id;\n",
       "    // Get hold of the div created by the display call when the Comm\n",
       "    // socket was opened in Python.\n",
       "    var element = document.getElementById(id);\n",
       "    var ws_proxy = comm_websocket_adapter(comm);\n",
       "\n",
       "    function ondownload(figure, _format) {\n",
       "        window.open(figure.canvas.toDataURL());\n",
       "    }\n",
       "\n",
       "    var fig = new mpl.figure(id, ws_proxy, ondownload, element);\n",
       "\n",
       "    // Call onopen now - mpl needs it, as it is assuming we've passed it a real\n",
       "    // web socket which is closed, not our websocket->open comm proxy.\n",
       "    ws_proxy.onopen();\n",
       "\n",
       "    fig.parent_element = element;\n",
       "    fig.cell_info = mpl.find_output_cell(\"<div id='\" + id + \"'></div>\");\n",
       "    if (!fig.cell_info) {\n",
       "        console.error('Failed to find cell for figure', id, fig);\n",
       "        return;\n",
       "    }\n",
       "    fig.cell_info[0].output_area.element.on(\n",
       "        'cleared',\n",
       "        { fig: fig },\n",
       "        fig._remove_fig_handler\n",
       "    );\n",
       "};\n",
       "\n",
       "mpl.figure.prototype.handle_close = function (fig, msg) {\n",
       "    var width = fig.canvas.width / fig.ratio;\n",
       "    fig.cell_info[0].output_area.element.off(\n",
       "        'cleared',\n",
       "        fig._remove_fig_handler\n",
       "    );\n",
       "    fig.resizeObserverInstance.unobserve(fig.canvas_div);\n",
       "\n",
       "    // Update the output cell to use the data from the current canvas.\n",
       "    fig.push_to_output();\n",
       "    var dataURL = fig.canvas.toDataURL();\n",
       "    // Re-enable the keyboard manager in IPython - without this line, in FF,\n",
       "    // the notebook keyboard shortcuts fail.\n",
       "    IPython.keyboard_manager.enable();\n",
       "    fig.parent_element.innerHTML =\n",
       "        '<img src=\"' + dataURL + '\" width=\"' + width + '\">';\n",
       "    fig.close_ws(fig, msg);\n",
       "};\n",
       "\n",
       "mpl.figure.prototype.close_ws = function (fig, msg) {\n",
       "    fig.send_message('closing', msg);\n",
       "    // fig.ws.close()\n",
       "};\n",
       "\n",
       "mpl.figure.prototype.push_to_output = function (_remove_interactive) {\n",
       "    // Turn the data on the canvas into data in the output cell.\n",
       "    var width = this.canvas.width / this.ratio;\n",
       "    var dataURL = this.canvas.toDataURL();\n",
       "    this.cell_info[1]['text/html'] =\n",
       "        '<img src=\"' + dataURL + '\" width=\"' + width + '\">';\n",
       "};\n",
       "\n",
       "mpl.figure.prototype.updated_canvas_event = function () {\n",
       "    // Tell IPython that the notebook contents must change.\n",
       "    IPython.notebook.set_dirty(true);\n",
       "    this.send_message('ack', {});\n",
       "    var fig = this;\n",
       "    // Wait a second, then push the new image to the DOM so\n",
       "    // that it is saved nicely (might be nice to debounce this).\n",
       "    setTimeout(function () {\n",
       "        fig.push_to_output();\n",
       "    }, 1000);\n",
       "};\n",
       "\n",
       "mpl.figure.prototype._init_toolbar = function () {\n",
       "    var fig = this;\n",
       "\n",
       "    var toolbar = document.createElement('div');\n",
       "    toolbar.classList = 'btn-toolbar';\n",
       "    this.root.appendChild(toolbar);\n",
       "\n",
       "    function on_click_closure(name) {\n",
       "        return function (_event) {\n",
       "            return fig.toolbar_button_onclick(name);\n",
       "        };\n",
       "    }\n",
       "\n",
       "    function on_mouseover_closure(tooltip) {\n",
       "        return function (event) {\n",
       "            if (!event.currentTarget.disabled) {\n",
       "                return fig.toolbar_button_onmouseover(tooltip);\n",
       "            }\n",
       "        };\n",
       "    }\n",
       "\n",
       "    fig.buttons = {};\n",
       "    var buttonGroup = document.createElement('div');\n",
       "    buttonGroup.classList = 'btn-group';\n",
       "    var button;\n",
       "    for (var toolbar_ind in mpl.toolbar_items) {\n",
       "        var name = mpl.toolbar_items[toolbar_ind][0];\n",
       "        var tooltip = mpl.toolbar_items[toolbar_ind][1];\n",
       "        var image = mpl.toolbar_items[toolbar_ind][2];\n",
       "        var method_name = mpl.toolbar_items[toolbar_ind][3];\n",
       "\n",
       "        if (!name) {\n",
       "            /* Instead of a spacer, we start a new button group. */\n",
       "            if (buttonGroup.hasChildNodes()) {\n",
       "                toolbar.appendChild(buttonGroup);\n",
       "            }\n",
       "            buttonGroup = document.createElement('div');\n",
       "            buttonGroup.classList = 'btn-group';\n",
       "            continue;\n",
       "        }\n",
       "\n",
       "        button = fig.buttons[name] = document.createElement('button');\n",
       "        button.classList = 'btn btn-default';\n",
       "        button.href = '#';\n",
       "        button.title = name;\n",
       "        button.innerHTML = '<i class=\"fa ' + image + ' fa-lg\"></i>';\n",
       "        button.addEventListener('click', on_click_closure(method_name));\n",
       "        button.addEventListener('mouseover', on_mouseover_closure(tooltip));\n",
       "        buttonGroup.appendChild(button);\n",
       "    }\n",
       "\n",
       "    if (buttonGroup.hasChildNodes()) {\n",
       "        toolbar.appendChild(buttonGroup);\n",
       "    }\n",
       "\n",
       "    // Add the status bar.\n",
       "    var status_bar = document.createElement('span');\n",
       "    status_bar.classList = 'mpl-message pull-right';\n",
       "    toolbar.appendChild(status_bar);\n",
       "    this.message = status_bar;\n",
       "\n",
       "    // Add the close button to the window.\n",
       "    var buttongrp = document.createElement('div');\n",
       "    buttongrp.classList = 'btn-group inline pull-right';\n",
       "    button = document.createElement('button');\n",
       "    button.classList = 'btn btn-mini btn-primary';\n",
       "    button.href = '#';\n",
       "    button.title = 'Stop Interaction';\n",
       "    button.innerHTML = '<i class=\"fa fa-power-off icon-remove icon-large\"></i>';\n",
       "    button.addEventListener('click', function (_evt) {\n",
       "        fig.handle_close(fig, {});\n",
       "    });\n",
       "    button.addEventListener(\n",
       "        'mouseover',\n",
       "        on_mouseover_closure('Stop Interaction')\n",
       "    );\n",
       "    buttongrp.appendChild(button);\n",
       "    var titlebar = this.root.querySelector('.ui-dialog-titlebar');\n",
       "    titlebar.insertBefore(buttongrp, titlebar.firstChild);\n",
       "};\n",
       "\n",
       "mpl.figure.prototype._remove_fig_handler = function (event) {\n",
       "    var fig = event.data.fig;\n",
       "    if (event.target !== this) {\n",
       "        // Ignore bubbled events from children.\n",
       "        return;\n",
       "    }\n",
       "    fig.close_ws(fig, {});\n",
       "};\n",
       "\n",
       "mpl.figure.prototype._root_extra_style = function (el) {\n",
       "    el.style.boxSizing = 'content-box'; // override notebook setting of border-box.\n",
       "};\n",
       "\n",
       "mpl.figure.prototype._canvas_extra_style = function (el) {\n",
       "    // this is important to make the div 'focusable\n",
       "    el.setAttribute('tabindex', 0);\n",
       "    // reach out to IPython and tell the keyboard manager to turn it's self\n",
       "    // off when our div gets focus\n",
       "\n",
       "    // location in version 3\n",
       "    if (IPython.notebook.keyboard_manager) {\n",
       "        IPython.notebook.keyboard_manager.register_events(el);\n",
       "    } else {\n",
       "        // location in version 2\n",
       "        IPython.keyboard_manager.register_events(el);\n",
       "    }\n",
       "};\n",
       "\n",
       "mpl.figure.prototype._key_event_extra = function (event, _name) {\n",
       "    var manager = IPython.notebook.keyboard_manager;\n",
       "    if (!manager) {\n",
       "        manager = IPython.keyboard_manager;\n",
       "    }\n",
       "\n",
       "    // Check for shift+enter\n",
       "    if (event.shiftKey && event.which === 13) {\n",
       "        this.canvas_div.blur();\n",
       "        // select the cell after this one\n",
       "        var index = IPython.notebook.find_cell_index(this.cell_info[0]);\n",
       "        IPython.notebook.select(index + 1);\n",
       "    }\n",
       "};\n",
       "\n",
       "mpl.figure.prototype.handle_save = function (fig, _msg) {\n",
       "    fig.ondownload(fig, null);\n",
       "};\n",
       "\n",
       "mpl.find_output_cell = function (html_output) {\n",
       "    // Return the cell and output element which can be found *uniquely* in the notebook.\n",
       "    // Note - this is a bit hacky, but it is done because the \"notebook_saving.Notebook\"\n",
       "    // IPython event is triggered only after the cells have been serialised, which for\n",
       "    // our purposes (turning an active figure into a static one), is too late.\n",
       "    var cells = IPython.notebook.get_cells();\n",
       "    var ncells = cells.length;\n",
       "    for (var i = 0; i < ncells; i++) {\n",
       "        var cell = cells[i];\n",
       "        if (cell.cell_type === 'code') {\n",
       "            for (var j = 0; j < cell.output_area.outputs.length; j++) {\n",
       "                var data = cell.output_area.outputs[j];\n",
       "                if (data.data) {\n",
       "                    // IPython >= 3 moved mimebundle to data attribute of output\n",
       "                    data = data.data;\n",
       "                }\n",
       "                if (data['text/html'] === html_output) {\n",
       "                    return [cell, data, j];\n",
       "                }\n",
       "            }\n",
       "        }\n",
       "    }\n",
       "};\n",
       "\n",
       "// Register the function which deals with the matplotlib target/channel.\n",
       "// The kernel may be null if the page has been refreshed.\n",
       "if (IPython.notebook.kernel !== null) {\n",
       "    IPython.notebook.kernel.comm_manager.register_target(\n",
       "        'matplotlib',\n",
       "        mpl.mpl_figure_comm\n",
       "    );\n",
       "}\n"
      ],
      "text/plain": [
       "<IPython.core.display.Javascript object>"
      ]
     },
     "metadata": {},
     "output_type": "display_data"
    },
    {
     "data": {
      "text/html": [
       "<img src=\"data:image/png;base64,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\" width=\"800\">"
      ],
      "text/plain": [
       "<IPython.core.display.HTML object>"
      ]
     },
     "metadata": {},
     "output_type": "display_data"
    }
   ],
   "source": [
    "x = np.arange(1.6, 3, 0.5)\n",
    "y = np.arange(1.6, 3, 0.5)\n",
    "X, Y = np.meshgrid(x, y)\n",
    "# print(np.meshgrid(x, y))\n",
    "# print(type(X)) # array\n",
    "Z1 = -4*X + 2*Y + 1\n",
    "Z2 = (-3*X - Y + 1)/3\n",
    "Z3 = (-2*X - 4*Y + 3)/5\n",
    "\n",
    "fig = plt.figure()\n",
    "ax1 = Axes3D(fig, auto_add_to_figure=False)\n",
    "fig.add_axes(ax1)\n",
    "ax1.plot_surface(X, Y, Z1, alpha = 0.5, color = 'red')\n",
    "ax1.plot_surface(X, Y, Z2, alpha = 0.5, color = 'blue')\n",
    "ax1.plot_surface(X, Y, Z3, alpha = 0.5, color = 'orange')\n",
    "ax1.set_xlabel('x axis')\n",
    "ax1.set_ylabel('y axis')\n",
    "ax1.set_zlabel('z axis')\n",
    "\n",
    "fig.set_figwidth(8) \n",
    "fig.set_figheight(6)"
   ]
  },
  {
   "cell_type": "markdown",
   "id": "bbdff824",
   "metadata": {},
   "source": [
    "### 從圖形來看，此三平面兩兩交於一直線，且沒有共同交點，所以我的程式碼判斷此方程組無解是正確的。"
   ]
  },
  {
   "cell_type": "markdown",
   "id": "71e55242",
   "metadata": {},
   "source": [
    "## 3.無限多組解"
   ]
  },
  {
   "cell_type": "markdown",
   "id": "6c034c05",
   "metadata": {},
   "source": [
    "###   $\\begin{cases}2x-y-z=1\\\\x+y+2z=2 \\;\\;\\;\\;\\;\\;\\;-→\\\\-7x+2y+z=-5\\end{cases}  \\left[\\begin{matrix}2 & -1 & -1\\\\1 & 1 & 2\\\\-7 & 2 & 1\\end{matrix}\\right]  \\left[\\begin{matrix}x\\\\y\\\\z\\end{matrix}\\right]  =  \\left[\\begin{matrix}1\\\\2\\\\-5\\end{matrix}\\right]$"
   ]
  },
  {
   "cell_type": "code",
   "execution_count": 66,
   "id": "3cdb2c39",
   "metadata": {},
   "outputs": [],
   "source": [
    "from sympy.abc import x, y, z\n",
    "import sympy as sp"
   ]
  },
  {
   "cell_type": "code",
   "execution_count": 67,
   "id": "4d421e83",
   "metadata": {},
   "outputs": [],
   "source": [
    "from IPython.display import display, Markdown"
   ]
  },
  {
   "cell_type": "code",
   "execution_count": 68,
   "id": "f0b13328",
   "metadata": {},
   "outputs": [
    {
     "data": {
      "text/markdown": [
       "### $A\\;=\\left[\\begin{matrix}2 & -1 & -1\\\\1 & 1 & 2\\\\-7 & 2 & 1\\end{matrix}\\right],\\;x(matrix)\\;=\\left[\\begin{matrix}x\\\\y\\\\z\\end{matrix}\\right],\\;b\\;=\\left[\\begin{matrix}1\\\\2\\\\-5\\end{matrix}\\right]$"
      ],
      "text/plain": [
       "<IPython.core.display.Markdown object>"
      ]
     },
     "metadata": {},
     "output_type": "display_data"
    }
   ],
   "source": [
    "A = sp.Matrix([[2, -1, -1], \n",
    "               [1, 1, 2], \n",
    "               [-7, 2, 1]])\n",
    "x_matrix = sp.Matrix([[x], \n",
    "               [y], \n",
    "               [z]])\n",
    "b = sp.Matrix([[1], \n",
    "               [2], \n",
    "               [-5]])\n",
    "\n",
    "a = '### $'+'A\\;=' +  sp.latex(A) + ',\\;' + 'x(matrix)\\;=' + sp.latex(x_matrix) + ',\\;' + 'b\\;=' +  sp.latex(b) + '$'\n",
    "display(Markdown(a))"
   ]
  },
  {
   "cell_type": "markdown",
   "id": "c53a6406",
   "metadata": {},
   "source": [
    "## 我的程式碼計算的結果"
   ]
  },
  {
   "cell_type": "code",
   "execution_count": 69,
   "id": "3972cb54",
   "metadata": {},
   "outputs": [
    {
     "name": "stdout",
     "output_type": "stream",
     "text": [
      "無限多組解\n"
     ]
    },
    {
     "data": {
      "text/plain": [
       "''"
      ]
     },
     "execution_count": 69,
     "metadata": {},
     "output_type": "execute_result"
    }
   ],
   "source": [
    "state, x = Cramer(A, b)\n",
    "print(state)\n",
    "x"
   ]
  },
  {
   "cell_type": "markdown",
   "id": "9f50ef0d",
   "metadata": {},
   "source": [
    "### 下面為了驗證我的判斷，我在下面將該線性方程組的圖形畫出來，利用這些平面之間的幾何關係來驗證我的判斷是否正確。"
   ]
  },
  {
   "cell_type": "code",
   "execution_count": 70,
   "id": "4a611534",
   "metadata": {},
   "outputs": [],
   "source": [
    "%matplotlib notebook\n",
    "from mpl_toolkits.mplot3d import Axes3D \n",
    "import matplotlib.pyplot as plt\n",
    "import numpy as np\n",
    "%config InlineBackend.figure_format  = 'svg'"
   ]
  },
  {
   "cell_type": "code",
   "execution_count": 71,
   "id": "dee8ea2e",
   "metadata": {
    "scrolled": false
   },
   "outputs": [
    {
     "data": {
      "application/javascript": [
       "/* Put everything inside the global mpl namespace */\n",
       "/* global mpl */\n",
       "window.mpl = {};\n",
       "\n",
       "mpl.get_websocket_type = function () {\n",
       "    if (typeof WebSocket !== 'undefined') {\n",
       "        return WebSocket;\n",
       "    } else if (typeof MozWebSocket !== 'undefined') {\n",
       "        return MozWebSocket;\n",
       "    } else {\n",
       "        alert(\n",
       "            'Your browser does not have WebSocket support. ' +\n",
       "                'Please try Chrome, Safari or Firefox ≥ 6. ' +\n",
       "                'Firefox 4 and 5 are also supported but you ' +\n",
       "                'have to enable WebSockets in about:config.'\n",
       "        );\n",
       "    }\n",
       "};\n",
       "\n",
       "mpl.figure = function (figure_id, websocket, ondownload, parent_element) {\n",
       "    this.id = figure_id;\n",
       "\n",
       "    this.ws = websocket;\n",
       "\n",
       "    this.supports_binary = this.ws.binaryType !== undefined;\n",
       "\n",
       "    if (!this.supports_binary) {\n",
       "        var warnings = document.getElementById('mpl-warnings');\n",
       "        if (warnings) {\n",
       "            warnings.style.display = 'block';\n",
       "            warnings.textContent =\n",
       "                'This browser does not support binary websocket messages. ' +\n",
       "                'Performance may be slow.';\n",
       "        }\n",
       "    }\n",
       "\n",
       "    this.imageObj = new Image();\n",
       "\n",
       "    this.context = undefined;\n",
       "    this.message = undefined;\n",
       "    this.canvas = undefined;\n",
       "    this.rubberband_canvas = undefined;\n",
       "    this.rubberband_context = undefined;\n",
       "    this.format_dropdown = undefined;\n",
       "\n",
       "    this.image_mode = 'full';\n",
       "\n",
       "    this.root = document.createElement('div');\n",
       "    this.root.setAttribute('style', 'display: inline-block');\n",
       "    this._root_extra_style(this.root);\n",
       "\n",
       "    parent_element.appendChild(this.root);\n",
       "\n",
       "    this._init_header(this);\n",
       "    this._init_canvas(this);\n",
       "    this._init_toolbar(this);\n",
       "\n",
       "    var fig = this;\n",
       "\n",
       "    this.waiting = false;\n",
       "\n",
       "    this.ws.onopen = function () {\n",
       "        fig.send_message('supports_binary', { value: fig.supports_binary });\n",
       "        fig.send_message('send_image_mode', {});\n",
       "        if (fig.ratio !== 1) {\n",
       "            fig.send_message('set_dpi_ratio', { dpi_ratio: fig.ratio });\n",
       "        }\n",
       "        fig.send_message('refresh', {});\n",
       "    };\n",
       "\n",
       "    this.imageObj.onload = function () {\n",
       "        if (fig.image_mode === 'full') {\n",
       "            // Full images could contain transparency (where diff images\n",
       "            // almost always do), so we need to clear the canvas so that\n",
       "            // there is no ghosting.\n",
       "            fig.context.clearRect(0, 0, fig.canvas.width, fig.canvas.height);\n",
       "        }\n",
       "        fig.context.drawImage(fig.imageObj, 0, 0);\n",
       "    };\n",
       "\n",
       "    this.imageObj.onunload = function () {\n",
       "        fig.ws.close();\n",
       "    };\n",
       "\n",
       "    this.ws.onmessage = this._make_on_message_function(this);\n",
       "\n",
       "    this.ondownload = ondownload;\n",
       "};\n",
       "\n",
       "mpl.figure.prototype._init_header = function () {\n",
       "    var titlebar = document.createElement('div');\n",
       "    titlebar.classList =\n",
       "        'ui-dialog-titlebar ui-widget-header ui-corner-all ui-helper-clearfix';\n",
       "    var titletext = document.createElement('div');\n",
       "    titletext.classList = 'ui-dialog-title';\n",
       "    titletext.setAttribute(\n",
       "        'style',\n",
       "        'width: 100%; text-align: center; padding: 3px;'\n",
       "    );\n",
       "    titlebar.appendChild(titletext);\n",
       "    this.root.appendChild(titlebar);\n",
       "    this.header = titletext;\n",
       "};\n",
       "\n",
       "mpl.figure.prototype._canvas_extra_style = function (_canvas_div) {};\n",
       "\n",
       "mpl.figure.prototype._root_extra_style = function (_canvas_div) {};\n",
       "\n",
       "mpl.figure.prototype._init_canvas = function () {\n",
       "    var fig = this;\n",
       "\n",
       "    var canvas_div = (this.canvas_div = document.createElement('div'));\n",
       "    canvas_div.setAttribute(\n",
       "        'style',\n",
       "        'border: 1px solid #ddd;' +\n",
       "            'box-sizing: content-box;' +\n",
       "            'clear: both;' +\n",
       "            'min-height: 1px;' +\n",
       "            'min-width: 1px;' +\n",
       "            'outline: 0;' +\n",
       "            'overflow: hidden;' +\n",
       "            'position: relative;' +\n",
       "            'resize: both;'\n",
       "    );\n",
       "\n",
       "    function on_keyboard_event_closure(name) {\n",
       "        return function (event) {\n",
       "            return fig.key_event(event, name);\n",
       "        };\n",
       "    }\n",
       "\n",
       "    canvas_div.addEventListener(\n",
       "        'keydown',\n",
       "        on_keyboard_event_closure('key_press')\n",
       "    );\n",
       "    canvas_div.addEventListener(\n",
       "        'keyup',\n",
       "        on_keyboard_event_closure('key_release')\n",
       "    );\n",
       "\n",
       "    this._canvas_extra_style(canvas_div);\n",
       "    this.root.appendChild(canvas_div);\n",
       "\n",
       "    var canvas = (this.canvas = document.createElement('canvas'));\n",
       "    canvas.classList.add('mpl-canvas');\n",
       "    canvas.setAttribute('style', 'box-sizing: content-box;');\n",
       "\n",
       "    this.context = canvas.getContext('2d');\n",
       "\n",
       "    var backingStore =\n",
       "        this.context.backingStorePixelRatio ||\n",
       "        this.context.webkitBackingStorePixelRatio ||\n",
       "        this.context.mozBackingStorePixelRatio ||\n",
       "        this.context.msBackingStorePixelRatio ||\n",
       "        this.context.oBackingStorePixelRatio ||\n",
       "        this.context.backingStorePixelRatio ||\n",
       "        1;\n",
       "\n",
       "    this.ratio = (window.devicePixelRatio || 1) / backingStore;\n",
       "\n",
       "    var rubberband_canvas = (this.rubberband_canvas = document.createElement(\n",
       "        'canvas'\n",
       "    ));\n",
       "    rubberband_canvas.setAttribute(\n",
       "        'style',\n",
       "        'box-sizing: content-box; position: absolute; left: 0; top: 0; z-index: 1;'\n",
       "    );\n",
       "\n",
       "    // Apply a ponyfill if ResizeObserver is not implemented by browser.\n",
       "    if (this.ResizeObserver === undefined) {\n",
       "        if (window.ResizeObserver !== undefined) {\n",
       "            this.ResizeObserver = window.ResizeObserver;\n",
       "        } else {\n",
       "            var obs = _JSXTOOLS_RESIZE_OBSERVER({});\n",
       "            this.ResizeObserver = obs.ResizeObserver;\n",
       "        }\n",
       "    }\n",
       "\n",
       "    this.resizeObserverInstance = new this.ResizeObserver(function (entries) {\n",
       "        var nentries = entries.length;\n",
       "        for (var i = 0; i < nentries; i++) {\n",
       "            var entry = entries[i];\n",
       "            var width, height;\n",
       "            if (entry.contentBoxSize) {\n",
       "                if (entry.contentBoxSize instanceof Array) {\n",
       "                    // Chrome 84 implements new version of spec.\n",
       "                    width = entry.contentBoxSize[0].inlineSize;\n",
       "                    height = entry.contentBoxSize[0].blockSize;\n",
       "                } else {\n",
       "                    // Firefox implements old version of spec.\n",
       "                    width = entry.contentBoxSize.inlineSize;\n",
       "                    height = entry.contentBoxSize.blockSize;\n",
       "                }\n",
       "            } else {\n",
       "                // Chrome <84 implements even older version of spec.\n",
       "                width = entry.contentRect.width;\n",
       "                height = entry.contentRect.height;\n",
       "            }\n",
       "\n",
       "            // Keep the size of the canvas and rubber band canvas in sync with\n",
       "            // the canvas container.\n",
       "            if (entry.devicePixelContentBoxSize) {\n",
       "                // Chrome 84 implements new version of spec.\n",
       "                canvas.setAttribute(\n",
       "                    'width',\n",
       "                    entry.devicePixelContentBoxSize[0].inlineSize\n",
       "                );\n",
       "                canvas.setAttribute(\n",
       "                    'height',\n",
       "                    entry.devicePixelContentBoxSize[0].blockSize\n",
       "                );\n",
       "            } else {\n",
       "                canvas.setAttribute('width', width * fig.ratio);\n",
       "                canvas.setAttribute('height', height * fig.ratio);\n",
       "            }\n",
       "            canvas.setAttribute(\n",
       "                'style',\n",
       "                'width: ' + width + 'px; height: ' + height + 'px;'\n",
       "            );\n",
       "\n",
       "            rubberband_canvas.setAttribute('width', width);\n",
       "            rubberband_canvas.setAttribute('height', height);\n",
       "\n",
       "            // And update the size in Python. We ignore the initial 0/0 size\n",
       "            // that occurs as the element is placed into the DOM, which should\n",
       "            // otherwise not happen due to the minimum size styling.\n",
       "            if (fig.ws.readyState == 1 && width != 0 && height != 0) {\n",
       "                fig.request_resize(width, height);\n",
       "            }\n",
       "        }\n",
       "    });\n",
       "    this.resizeObserverInstance.observe(canvas_div);\n",
       "\n",
       "    function on_mouse_event_closure(name) {\n",
       "        return function (event) {\n",
       "            return fig.mouse_event(event, name);\n",
       "        };\n",
       "    }\n",
       "\n",
       "    rubberband_canvas.addEventListener(\n",
       "        'mousedown',\n",
       "        on_mouse_event_closure('button_press')\n",
       "    );\n",
       "    rubberband_canvas.addEventListener(\n",
       "        'mouseup',\n",
       "        on_mouse_event_closure('button_release')\n",
       "    );\n",
       "    rubberband_canvas.addEventListener(\n",
       "        'dblclick',\n",
       "        on_mouse_event_closure('dblclick')\n",
       "    );\n",
       "    // Throttle sequential mouse events to 1 every 20ms.\n",
       "    rubberband_canvas.addEventListener(\n",
       "        'mousemove',\n",
       "        on_mouse_event_closure('motion_notify')\n",
       "    );\n",
       "\n",
       "    rubberband_canvas.addEventListener(\n",
       "        'mouseenter',\n",
       "        on_mouse_event_closure('figure_enter')\n",
       "    );\n",
       "    rubberband_canvas.addEventListener(\n",
       "        'mouseleave',\n",
       "        on_mouse_event_closure('figure_leave')\n",
       "    );\n",
       "\n",
       "    canvas_div.addEventListener('wheel', function (event) {\n",
       "        if (event.deltaY < 0) {\n",
       "            event.step = 1;\n",
       "        } else {\n",
       "            event.step = -1;\n",
       "        }\n",
       "        on_mouse_event_closure('scroll')(event);\n",
       "    });\n",
       "\n",
       "    canvas_div.appendChild(canvas);\n",
       "    canvas_div.appendChild(rubberband_canvas);\n",
       "\n",
       "    this.rubberband_context = rubberband_canvas.getContext('2d');\n",
       "    this.rubberband_context.strokeStyle = '#000000';\n",
       "\n",
       "    this._resize_canvas = function (width, height, forward) {\n",
       "        if (forward) {\n",
       "            canvas_div.style.width = width + 'px';\n",
       "            canvas_div.style.height = height + 'px';\n",
       "        }\n",
       "    };\n",
       "\n",
       "    // Disable right mouse context menu.\n",
       "    this.rubberband_canvas.addEventListener('contextmenu', function (_e) {\n",
       "        event.preventDefault();\n",
       "        return false;\n",
       "    });\n",
       "\n",
       "    function set_focus() {\n",
       "        canvas.focus();\n",
       "        canvas_div.focus();\n",
       "    }\n",
       "\n",
       "    window.setTimeout(set_focus, 100);\n",
       "};\n",
       "\n",
       "mpl.figure.prototype._init_toolbar = function () {\n",
       "    var fig = this;\n",
       "\n",
       "    var toolbar = document.createElement('div');\n",
       "    toolbar.classList = 'mpl-toolbar';\n",
       "    this.root.appendChild(toolbar);\n",
       "\n",
       "    function on_click_closure(name) {\n",
       "        return function (_event) {\n",
       "            return fig.toolbar_button_onclick(name);\n",
       "        };\n",
       "    }\n",
       "\n",
       "    function on_mouseover_closure(tooltip) {\n",
       "        return function (event) {\n",
       "            if (!event.currentTarget.disabled) {\n",
       "                return fig.toolbar_button_onmouseover(tooltip);\n",
       "            }\n",
       "        };\n",
       "    }\n",
       "\n",
       "    fig.buttons = {};\n",
       "    var buttonGroup = document.createElement('div');\n",
       "    buttonGroup.classList = 'mpl-button-group';\n",
       "    for (var toolbar_ind in mpl.toolbar_items) {\n",
       "        var name = mpl.toolbar_items[toolbar_ind][0];\n",
       "        var tooltip = mpl.toolbar_items[toolbar_ind][1];\n",
       "        var image = mpl.toolbar_items[toolbar_ind][2];\n",
       "        var method_name = mpl.toolbar_items[toolbar_ind][3];\n",
       "\n",
       "        if (!name) {\n",
       "            /* Instead of a spacer, we start a new button group. */\n",
       "            if (buttonGroup.hasChildNodes()) {\n",
       "                toolbar.appendChild(buttonGroup);\n",
       "            }\n",
       "            buttonGroup = document.createElement('div');\n",
       "            buttonGroup.classList = 'mpl-button-group';\n",
       "            continue;\n",
       "        }\n",
       "\n",
       "        var button = (fig.buttons[name] = document.createElement('button'));\n",
       "        button.classList = 'mpl-widget';\n",
       "        button.setAttribute('role', 'button');\n",
       "        button.setAttribute('aria-disabled', 'false');\n",
       "        button.addEventListener('click', on_click_closure(method_name));\n",
       "        button.addEventListener('mouseover', on_mouseover_closure(tooltip));\n",
       "\n",
       "        var icon_img = document.createElement('img');\n",
       "        icon_img.src = '_images/' + image + '.png';\n",
       "        icon_img.srcset = '_images/' + image + '_large.png 2x';\n",
       "        icon_img.alt = tooltip;\n",
       "        button.appendChild(icon_img);\n",
       "\n",
       "        buttonGroup.appendChild(button);\n",
       "    }\n",
       "\n",
       "    if (buttonGroup.hasChildNodes()) {\n",
       "        toolbar.appendChild(buttonGroup);\n",
       "    }\n",
       "\n",
       "    var fmt_picker = document.createElement('select');\n",
       "    fmt_picker.classList = 'mpl-widget';\n",
       "    toolbar.appendChild(fmt_picker);\n",
       "    this.format_dropdown = fmt_picker;\n",
       "\n",
       "    for (var ind in mpl.extensions) {\n",
       "        var fmt = mpl.extensions[ind];\n",
       "        var option = document.createElement('option');\n",
       "        option.selected = fmt === mpl.default_extension;\n",
       "        option.innerHTML = fmt;\n",
       "        fmt_picker.appendChild(option);\n",
       "    }\n",
       "\n",
       "    var status_bar = document.createElement('span');\n",
       "    status_bar.classList = 'mpl-message';\n",
       "    toolbar.appendChild(status_bar);\n",
       "    this.message = status_bar;\n",
       "};\n",
       "\n",
       "mpl.figure.prototype.request_resize = function (x_pixels, y_pixels) {\n",
       "    // Request matplotlib to resize the figure. Matplotlib will then trigger a resize in the client,\n",
       "    // which will in turn request a refresh of the image.\n",
       "    this.send_message('resize', { width: x_pixels, height: y_pixels });\n",
       "};\n",
       "\n",
       "mpl.figure.prototype.send_message = function (type, properties) {\n",
       "    properties['type'] = type;\n",
       "    properties['figure_id'] = this.id;\n",
       "    this.ws.send(JSON.stringify(properties));\n",
       "};\n",
       "\n",
       "mpl.figure.prototype.send_draw_message = function () {\n",
       "    if (!this.waiting) {\n",
       "        this.waiting = true;\n",
       "        this.ws.send(JSON.stringify({ type: 'draw', figure_id: this.id }));\n",
       "    }\n",
       "};\n",
       "\n",
       "mpl.figure.prototype.handle_save = function (fig, _msg) {\n",
       "    var format_dropdown = fig.format_dropdown;\n",
       "    var format = format_dropdown.options[format_dropdown.selectedIndex].value;\n",
       "    fig.ondownload(fig, format);\n",
       "};\n",
       "\n",
       "mpl.figure.prototype.handle_resize = function (fig, msg) {\n",
       "    var size = msg['size'];\n",
       "    if (size[0] !== fig.canvas.width || size[1] !== fig.canvas.height) {\n",
       "        fig._resize_canvas(size[0], size[1], msg['forward']);\n",
       "        fig.send_message('refresh', {});\n",
       "    }\n",
       "};\n",
       "\n",
       "mpl.figure.prototype.handle_rubberband = function (fig, msg) {\n",
       "    var x0 = msg['x0'] / fig.ratio;\n",
       "    var y0 = (fig.canvas.height - msg['y0']) / fig.ratio;\n",
       "    var x1 = msg['x1'] / fig.ratio;\n",
       "    var y1 = (fig.canvas.height - msg['y1']) / fig.ratio;\n",
       "    x0 = Math.floor(x0) + 0.5;\n",
       "    y0 = Math.floor(y0) + 0.5;\n",
       "    x1 = Math.floor(x1) + 0.5;\n",
       "    y1 = Math.floor(y1) + 0.5;\n",
       "    var min_x = Math.min(x0, x1);\n",
       "    var min_y = Math.min(y0, y1);\n",
       "    var width = Math.abs(x1 - x0);\n",
       "    var height = Math.abs(y1 - y0);\n",
       "\n",
       "    fig.rubberband_context.clearRect(\n",
       "        0,\n",
       "        0,\n",
       "        fig.canvas.width / fig.ratio,\n",
       "        fig.canvas.height / fig.ratio\n",
       "    );\n",
       "\n",
       "    fig.rubberband_context.strokeRect(min_x, min_y, width, height);\n",
       "};\n",
       "\n",
       "mpl.figure.prototype.handle_figure_label = function (fig, msg) {\n",
       "    // Updates the figure title.\n",
       "    fig.header.textContent = msg['label'];\n",
       "};\n",
       "\n",
       "mpl.figure.prototype.handle_cursor = function (fig, msg) {\n",
       "    var cursor = msg['cursor'];\n",
       "    switch (cursor) {\n",
       "        case 0:\n",
       "            cursor = 'pointer';\n",
       "            break;\n",
       "        case 1:\n",
       "            cursor = 'default';\n",
       "            break;\n",
       "        case 2:\n",
       "            cursor = 'crosshair';\n",
       "            break;\n",
       "        case 3:\n",
       "            cursor = 'move';\n",
       "            break;\n",
       "    }\n",
       "    fig.rubberband_canvas.style.cursor = cursor;\n",
       "};\n",
       "\n",
       "mpl.figure.prototype.handle_message = function (fig, msg) {\n",
       "    fig.message.textContent = msg['message'];\n",
       "};\n",
       "\n",
       "mpl.figure.prototype.handle_draw = function (fig, _msg) {\n",
       "    // Request the server to send over a new figure.\n",
       "    fig.send_draw_message();\n",
       "};\n",
       "\n",
       "mpl.figure.prototype.handle_image_mode = function (fig, msg) {\n",
       "    fig.image_mode = msg['mode'];\n",
       "};\n",
       "\n",
       "mpl.figure.prototype.handle_history_buttons = function (fig, msg) {\n",
       "    for (var key in msg) {\n",
       "        if (!(key in fig.buttons)) {\n",
       "            continue;\n",
       "        }\n",
       "        fig.buttons[key].disabled = !msg[key];\n",
       "        fig.buttons[key].setAttribute('aria-disabled', !msg[key]);\n",
       "    }\n",
       "};\n",
       "\n",
       "mpl.figure.prototype.handle_navigate_mode = function (fig, msg) {\n",
       "    if (msg['mode'] === 'PAN') {\n",
       "        fig.buttons['Pan'].classList.add('active');\n",
       "        fig.buttons['Zoom'].classList.remove('active');\n",
       "    } else if (msg['mode'] === 'ZOOM') {\n",
       "        fig.buttons['Pan'].classList.remove('active');\n",
       "        fig.buttons['Zoom'].classList.add('active');\n",
       "    } else {\n",
       "        fig.buttons['Pan'].classList.remove('active');\n",
       "        fig.buttons['Zoom'].classList.remove('active');\n",
       "    }\n",
       "};\n",
       "\n",
       "mpl.figure.prototype.updated_canvas_event = function () {\n",
       "    // Called whenever the canvas gets updated.\n",
       "    this.send_message('ack', {});\n",
       "};\n",
       "\n",
       "// A function to construct a web socket function for onmessage handling.\n",
       "// Called in the figure constructor.\n",
       "mpl.figure.prototype._make_on_message_function = function (fig) {\n",
       "    return function socket_on_message(evt) {\n",
       "        if (evt.data instanceof Blob) {\n",
       "            var img = evt.data;\n",
       "            if (img.type !== 'image/png') {\n",
       "                /* FIXME: We get \"Resource interpreted as Image but\n",
       "                 * transferred with MIME type text/plain:\" errors on\n",
       "                 * Chrome.  But how to set the MIME type?  It doesn't seem\n",
       "                 * to be part of the websocket stream */\n",
       "                img.type = 'image/png';\n",
       "            }\n",
       "\n",
       "            /* Free the memory for the previous frames */\n",
       "            if (fig.imageObj.src) {\n",
       "                (window.URL || window.webkitURL).revokeObjectURL(\n",
       "                    fig.imageObj.src\n",
       "                );\n",
       "            }\n",
       "\n",
       "            fig.imageObj.src = (window.URL || window.webkitURL).createObjectURL(\n",
       "                img\n",
       "            );\n",
       "            fig.updated_canvas_event();\n",
       "            fig.waiting = false;\n",
       "            return;\n",
       "        } else if (\n",
       "            typeof evt.data === 'string' &&\n",
       "            evt.data.slice(0, 21) === 'data:image/png;base64'\n",
       "        ) {\n",
       "            fig.imageObj.src = evt.data;\n",
       "            fig.updated_canvas_event();\n",
       "            fig.waiting = false;\n",
       "            return;\n",
       "        }\n",
       "\n",
       "        var msg = JSON.parse(evt.data);\n",
       "        var msg_type = msg['type'];\n",
       "\n",
       "        // Call the  \"handle_{type}\" callback, which takes\n",
       "        // the figure and JSON message as its only arguments.\n",
       "        try {\n",
       "            var callback = fig['handle_' + msg_type];\n",
       "        } catch (e) {\n",
       "            console.log(\n",
       "                \"No handler for the '\" + msg_type + \"' message type: \",\n",
       "                msg\n",
       "            );\n",
       "            return;\n",
       "        }\n",
       "\n",
       "        if (callback) {\n",
       "            try {\n",
       "                // console.log(\"Handling '\" + msg_type + \"' message: \", msg);\n",
       "                callback(fig, msg);\n",
       "            } catch (e) {\n",
       "                console.log(\n",
       "                    \"Exception inside the 'handler_\" + msg_type + \"' callback:\",\n",
       "                    e,\n",
       "                    e.stack,\n",
       "                    msg\n",
       "                );\n",
       "            }\n",
       "        }\n",
       "    };\n",
       "};\n",
       "\n",
       "// from http://stackoverflow.com/questions/1114465/getting-mouse-location-in-canvas\n",
       "mpl.findpos = function (e) {\n",
       "    //this section is from http://www.quirksmode.org/js/events_properties.html\n",
       "    var targ;\n",
       "    if (!e) {\n",
       "        e = window.event;\n",
       "    }\n",
       "    if (e.target) {\n",
       "        targ = e.target;\n",
       "    } else if (e.srcElement) {\n",
       "        targ = e.srcElement;\n",
       "    }\n",
       "    if (targ.nodeType === 3) {\n",
       "        // defeat Safari bug\n",
       "        targ = targ.parentNode;\n",
       "    }\n",
       "\n",
       "    // pageX,Y are the mouse positions relative to the document\n",
       "    var boundingRect = targ.getBoundingClientRect();\n",
       "    var x = e.pageX - (boundingRect.left + document.body.scrollLeft);\n",
       "    var y = e.pageY - (boundingRect.top + document.body.scrollTop);\n",
       "\n",
       "    return { x: x, y: y };\n",
       "};\n",
       "\n",
       "/*\n",
       " * return a copy of an object with only non-object keys\n",
       " * we need this to avoid circular references\n",
       " * http://stackoverflow.com/a/24161582/3208463\n",
       " */\n",
       "function simpleKeys(original) {\n",
       "    return Object.keys(original).reduce(function (obj, key) {\n",
       "        if (typeof original[key] !== 'object') {\n",
       "            obj[key] = original[key];\n",
       "        }\n",
       "        return obj;\n",
       "    }, {});\n",
       "}\n",
       "\n",
       "mpl.figure.prototype.mouse_event = function (event, name) {\n",
       "    var canvas_pos = mpl.findpos(event);\n",
       "\n",
       "    if (name === 'button_press') {\n",
       "        this.canvas.focus();\n",
       "        this.canvas_div.focus();\n",
       "    }\n",
       "\n",
       "    var x = canvas_pos.x * this.ratio;\n",
       "    var y = canvas_pos.y * this.ratio;\n",
       "\n",
       "    this.send_message(name, {\n",
       "        x: x,\n",
       "        y: y,\n",
       "        button: event.button,\n",
       "        step: event.step,\n",
       "        guiEvent: simpleKeys(event),\n",
       "    });\n",
       "\n",
       "    /* This prevents the web browser from automatically changing to\n",
       "     * the text insertion cursor when the button is pressed.  We want\n",
       "     * to control all of the cursor setting manually through the\n",
       "     * 'cursor' event from matplotlib */\n",
       "    event.preventDefault();\n",
       "    return false;\n",
       "};\n",
       "\n",
       "mpl.figure.prototype._key_event_extra = function (_event, _name) {\n",
       "    // Handle any extra behaviour associated with a key event\n",
       "};\n",
       "\n",
       "mpl.figure.prototype.key_event = function (event, name) {\n",
       "    // Prevent repeat events\n",
       "    if (name === 'key_press') {\n",
       "        if (event.key === this._key) {\n",
       "            return;\n",
       "        } else {\n",
       "            this._key = event.key;\n",
       "        }\n",
       "    }\n",
       "    if (name === 'key_release') {\n",
       "        this._key = null;\n",
       "    }\n",
       "\n",
       "    var value = '';\n",
       "    if (event.ctrlKey && event.key !== 'Control') {\n",
       "        value += 'ctrl+';\n",
       "    }\n",
       "    else if (event.altKey && event.key !== 'Alt') {\n",
       "        value += 'alt+';\n",
       "    }\n",
       "    else if (event.shiftKey && event.key !== 'Shift') {\n",
       "        value += 'shift+';\n",
       "    }\n",
       "\n",
       "    value += 'k' + event.key;\n",
       "\n",
       "    this._key_event_extra(event, name);\n",
       "\n",
       "    this.send_message(name, { key: value, guiEvent: simpleKeys(event) });\n",
       "    return false;\n",
       "};\n",
       "\n",
       "mpl.figure.prototype.toolbar_button_onclick = function (name) {\n",
       "    if (name === 'download') {\n",
       "        this.handle_save(this, null);\n",
       "    } else {\n",
       "        this.send_message('toolbar_button', { name: name });\n",
       "    }\n",
       "};\n",
       "\n",
       "mpl.figure.prototype.toolbar_button_onmouseover = function (tooltip) {\n",
       "    this.message.textContent = tooltip;\n",
       "};\n",
       "\n",
       "///////////////// REMAINING CONTENT GENERATED BY embed_js.py /////////////////\n",
       "// prettier-ignore\n",
       "var _JSXTOOLS_RESIZE_OBSERVER=function(A){var t,i=new WeakMap,n=new WeakMap,a=new WeakMap,r=new WeakMap,o=new Set;function s(e){if(!(this instanceof s))throw new TypeError(\"Constructor requires 'new' operator\");i.set(this,e)}function h(){throw new TypeError(\"Function is not a constructor\")}function c(e,t,i,n){e=0 in arguments?Number(arguments[0]):0,t=1 in arguments?Number(arguments[1]):0,i=2 in arguments?Number(arguments[2]):0,n=3 in arguments?Number(arguments[3]):0,this.right=(this.x=this.left=e)+(this.width=i),this.bottom=(this.y=this.top=t)+(this.height=n),Object.freeze(this)}function d(){t=requestAnimationFrame(d);var s=new WeakMap,p=new Set;o.forEach((function(t){r.get(t).forEach((function(i){var r=t instanceof window.SVGElement,o=a.get(t),d=r?0:parseFloat(o.paddingTop),f=r?0:parseFloat(o.paddingRight),l=r?0:parseFloat(o.paddingBottom),u=r?0:parseFloat(o.paddingLeft),g=r?0:parseFloat(o.borderTopWidth),m=r?0:parseFloat(o.borderRightWidth),w=r?0:parseFloat(o.borderBottomWidth),b=u+f,F=d+l,v=(r?0:parseFloat(o.borderLeftWidth))+m,W=g+w,y=r?0:t.offsetHeight-W-t.clientHeight,E=r?0:t.offsetWidth-v-t.clientWidth,R=b+v,z=F+W,M=r?t.width:parseFloat(o.width)-R-E,O=r?t.height:parseFloat(o.height)-z-y;if(n.has(t)){var k=n.get(t);if(k[0]===M&&k[1]===O)return}n.set(t,[M,O]);var S=Object.create(h.prototype);S.target=t,S.contentRect=new c(u,d,M,O),s.has(i)||(s.set(i,[]),p.add(i)),s.get(i).push(S)}))})),p.forEach((function(e){i.get(e).call(e,s.get(e),e)}))}return s.prototype.observe=function(i){if(i instanceof window.Element){r.has(i)||(r.set(i,new Set),o.add(i),a.set(i,window.getComputedStyle(i)));var n=r.get(i);n.has(this)||n.add(this),cancelAnimationFrame(t),t=requestAnimationFrame(d)}},s.prototype.unobserve=function(i){if(i instanceof window.Element&&r.has(i)){var n=r.get(i);n.has(this)&&(n.delete(this),n.size||(r.delete(i),o.delete(i))),n.size||r.delete(i),o.size||cancelAnimationFrame(t)}},A.DOMRectReadOnly=c,A.ResizeObserver=s,A.ResizeObserverEntry=h,A}; // eslint-disable-line\n",
       "mpl.toolbar_items = [[\"Home\", \"Reset original view\", \"fa fa-home icon-home\", \"home\"], [\"Back\", \"Back to previous view\", \"fa fa-arrow-left icon-arrow-left\", \"back\"], [\"Forward\", \"Forward to next view\", \"fa fa-arrow-right icon-arrow-right\", \"forward\"], [\"\", \"\", \"\", \"\"], [\"Pan\", \"Left button pans, Right button zooms\\nx/y fixes axis, CTRL fixes aspect\", \"fa fa-arrows icon-move\", \"pan\"], [\"Zoom\", \"Zoom to rectangle\\nx/y fixes axis, CTRL fixes aspect\", \"fa fa-square-o icon-check-empty\", \"zoom\"], [\"\", \"\", \"\", \"\"], [\"Download\", \"Download plot\", \"fa fa-floppy-o icon-save\", \"download\"]];\n",
       "\n",
       "mpl.extensions = [\"eps\", \"jpeg\", \"pgf\", \"pdf\", \"png\", \"ps\", \"raw\", \"svg\", \"tif\"];\n",
       "\n",
       "mpl.default_extension = \"png\";/* global mpl */\n",
       "\n",
       "var comm_websocket_adapter = function (comm) {\n",
       "    // Create a \"websocket\"-like object which calls the given IPython comm\n",
       "    // object with the appropriate methods. Currently this is a non binary\n",
       "    // socket, so there is still some room for performance tuning.\n",
       "    var ws = {};\n",
       "\n",
       "    ws.binaryType = comm.kernel.ws.binaryType;\n",
       "    ws.readyState = comm.kernel.ws.readyState;\n",
       "    function updateReadyState(_event) {\n",
       "        if (comm.kernel.ws) {\n",
       "            ws.readyState = comm.kernel.ws.readyState;\n",
       "        } else {\n",
       "            ws.readyState = 3; // Closed state.\n",
       "        }\n",
       "    }\n",
       "    comm.kernel.ws.addEventListener('open', updateReadyState);\n",
       "    comm.kernel.ws.addEventListener('close', updateReadyState);\n",
       "    comm.kernel.ws.addEventListener('error', updateReadyState);\n",
       "\n",
       "    ws.close = function () {\n",
       "        comm.close();\n",
       "    };\n",
       "    ws.send = function (m) {\n",
       "        //console.log('sending', m);\n",
       "        comm.send(m);\n",
       "    };\n",
       "    // Register the callback with on_msg.\n",
       "    comm.on_msg(function (msg) {\n",
       "        //console.log('receiving', msg['content']['data'], msg);\n",
       "        var data = msg['content']['data'];\n",
       "        if (data['blob'] !== undefined) {\n",
       "            data = {\n",
       "                data: new Blob(msg['buffers'], { type: data['blob'] }),\n",
       "            };\n",
       "        }\n",
       "        // Pass the mpl event to the overridden (by mpl) onmessage function.\n",
       "        ws.onmessage(data);\n",
       "    });\n",
       "    return ws;\n",
       "};\n",
       "\n",
       "mpl.mpl_figure_comm = function (comm, msg) {\n",
       "    // This is the function which gets called when the mpl process\n",
       "    // starts-up an IPython Comm through the \"matplotlib\" channel.\n",
       "\n",
       "    var id = msg.content.data.id;\n",
       "    // Get hold of the div created by the display call when the Comm\n",
       "    // socket was opened in Python.\n",
       "    var element = document.getElementById(id);\n",
       "    var ws_proxy = comm_websocket_adapter(comm);\n",
       "\n",
       "    function ondownload(figure, _format) {\n",
       "        window.open(figure.canvas.toDataURL());\n",
       "    }\n",
       "\n",
       "    var fig = new mpl.figure(id, ws_proxy, ondownload, element);\n",
       "\n",
       "    // Call onopen now - mpl needs it, as it is assuming we've passed it a real\n",
       "    // web socket which is closed, not our websocket->open comm proxy.\n",
       "    ws_proxy.onopen();\n",
       "\n",
       "    fig.parent_element = element;\n",
       "    fig.cell_info = mpl.find_output_cell(\"<div id='\" + id + \"'></div>\");\n",
       "    if (!fig.cell_info) {\n",
       "        console.error('Failed to find cell for figure', id, fig);\n",
       "        return;\n",
       "    }\n",
       "    fig.cell_info[0].output_area.element.on(\n",
       "        'cleared',\n",
       "        { fig: fig },\n",
       "        fig._remove_fig_handler\n",
       "    );\n",
       "};\n",
       "\n",
       "mpl.figure.prototype.handle_close = function (fig, msg) {\n",
       "    var width = fig.canvas.width / fig.ratio;\n",
       "    fig.cell_info[0].output_area.element.off(\n",
       "        'cleared',\n",
       "        fig._remove_fig_handler\n",
       "    );\n",
       "    fig.resizeObserverInstance.unobserve(fig.canvas_div);\n",
       "\n",
       "    // Update the output cell to use the data from the current canvas.\n",
       "    fig.push_to_output();\n",
       "    var dataURL = fig.canvas.toDataURL();\n",
       "    // Re-enable the keyboard manager in IPython - without this line, in FF,\n",
       "    // the notebook keyboard shortcuts fail.\n",
       "    IPython.keyboard_manager.enable();\n",
       "    fig.parent_element.innerHTML =\n",
       "        '<img src=\"' + dataURL + '\" width=\"' + width + '\">';\n",
       "    fig.close_ws(fig, msg);\n",
       "};\n",
       "\n",
       "mpl.figure.prototype.close_ws = function (fig, msg) {\n",
       "    fig.send_message('closing', msg);\n",
       "    // fig.ws.close()\n",
       "};\n",
       "\n",
       "mpl.figure.prototype.push_to_output = function (_remove_interactive) {\n",
       "    // Turn the data on the canvas into data in the output cell.\n",
       "    var width = this.canvas.width / this.ratio;\n",
       "    var dataURL = this.canvas.toDataURL();\n",
       "    this.cell_info[1]['text/html'] =\n",
       "        '<img src=\"' + dataURL + '\" width=\"' + width + '\">';\n",
       "};\n",
       "\n",
       "mpl.figure.prototype.updated_canvas_event = function () {\n",
       "    // Tell IPython that the notebook contents must change.\n",
       "    IPython.notebook.set_dirty(true);\n",
       "    this.send_message('ack', {});\n",
       "    var fig = this;\n",
       "    // Wait a second, then push the new image to the DOM so\n",
       "    // that it is saved nicely (might be nice to debounce this).\n",
       "    setTimeout(function () {\n",
       "        fig.push_to_output();\n",
       "    }, 1000);\n",
       "};\n",
       "\n",
       "mpl.figure.prototype._init_toolbar = function () {\n",
       "    var fig = this;\n",
       "\n",
       "    var toolbar = document.createElement('div');\n",
       "    toolbar.classList = 'btn-toolbar';\n",
       "    this.root.appendChild(toolbar);\n",
       "\n",
       "    function on_click_closure(name) {\n",
       "        return function (_event) {\n",
       "            return fig.toolbar_button_onclick(name);\n",
       "        };\n",
       "    }\n",
       "\n",
       "    function on_mouseover_closure(tooltip) {\n",
       "        return function (event) {\n",
       "            if (!event.currentTarget.disabled) {\n",
       "                return fig.toolbar_button_onmouseover(tooltip);\n",
       "            }\n",
       "        };\n",
       "    }\n",
       "\n",
       "    fig.buttons = {};\n",
       "    var buttonGroup = document.createElement('div');\n",
       "    buttonGroup.classList = 'btn-group';\n",
       "    var button;\n",
       "    for (var toolbar_ind in mpl.toolbar_items) {\n",
       "        var name = mpl.toolbar_items[toolbar_ind][0];\n",
       "        var tooltip = mpl.toolbar_items[toolbar_ind][1];\n",
       "        var image = mpl.toolbar_items[toolbar_ind][2];\n",
       "        var method_name = mpl.toolbar_items[toolbar_ind][3];\n",
       "\n",
       "        if (!name) {\n",
       "            /* Instead of a spacer, we start a new button group. */\n",
       "            if (buttonGroup.hasChildNodes()) {\n",
       "                toolbar.appendChild(buttonGroup);\n",
       "            }\n",
       "            buttonGroup = document.createElement('div');\n",
       "            buttonGroup.classList = 'btn-group';\n",
       "            continue;\n",
       "        }\n",
       "\n",
       "        button = fig.buttons[name] = document.createElement('button');\n",
       "        button.classList = 'btn btn-default';\n",
       "        button.href = '#';\n",
       "        button.title = name;\n",
       "        button.innerHTML = '<i class=\"fa ' + image + ' fa-lg\"></i>';\n",
       "        button.addEventListener('click', on_click_closure(method_name));\n",
       "        button.addEventListener('mouseover', on_mouseover_closure(tooltip));\n",
       "        buttonGroup.appendChild(button);\n",
       "    }\n",
       "\n",
       "    if (buttonGroup.hasChildNodes()) {\n",
       "        toolbar.appendChild(buttonGroup);\n",
       "    }\n",
       "\n",
       "    // Add the status bar.\n",
       "    var status_bar = document.createElement('span');\n",
       "    status_bar.classList = 'mpl-message pull-right';\n",
       "    toolbar.appendChild(status_bar);\n",
       "    this.message = status_bar;\n",
       "\n",
       "    // Add the close button to the window.\n",
       "    var buttongrp = document.createElement('div');\n",
       "    buttongrp.classList = 'btn-group inline pull-right';\n",
       "    button = document.createElement('button');\n",
       "    button.classList = 'btn btn-mini btn-primary';\n",
       "    button.href = '#';\n",
       "    button.title = 'Stop Interaction';\n",
       "    button.innerHTML = '<i class=\"fa fa-power-off icon-remove icon-large\"></i>';\n",
       "    button.addEventListener('click', function (_evt) {\n",
       "        fig.handle_close(fig, {});\n",
       "    });\n",
       "    button.addEventListener(\n",
       "        'mouseover',\n",
       "        on_mouseover_closure('Stop Interaction')\n",
       "    );\n",
       "    buttongrp.appendChild(button);\n",
       "    var titlebar = this.root.querySelector('.ui-dialog-titlebar');\n",
       "    titlebar.insertBefore(buttongrp, titlebar.firstChild);\n",
       "};\n",
       "\n",
       "mpl.figure.prototype._remove_fig_handler = function (event) {\n",
       "    var fig = event.data.fig;\n",
       "    if (event.target !== this) {\n",
       "        // Ignore bubbled events from children.\n",
       "        return;\n",
       "    }\n",
       "    fig.close_ws(fig, {});\n",
       "};\n",
       "\n",
       "mpl.figure.prototype._root_extra_style = function (el) {\n",
       "    el.style.boxSizing = 'content-box'; // override notebook setting of border-box.\n",
       "};\n",
       "\n",
       "mpl.figure.prototype._canvas_extra_style = function (el) {\n",
       "    // this is important to make the div 'focusable\n",
       "    el.setAttribute('tabindex', 0);\n",
       "    // reach out to IPython and tell the keyboard manager to turn it's self\n",
       "    // off when our div gets focus\n",
       "\n",
       "    // location in version 3\n",
       "    if (IPython.notebook.keyboard_manager) {\n",
       "        IPython.notebook.keyboard_manager.register_events(el);\n",
       "    } else {\n",
       "        // location in version 2\n",
       "        IPython.keyboard_manager.register_events(el);\n",
       "    }\n",
       "};\n",
       "\n",
       "mpl.figure.prototype._key_event_extra = function (event, _name) {\n",
       "    var manager = IPython.notebook.keyboard_manager;\n",
       "    if (!manager) {\n",
       "        manager = IPython.keyboard_manager;\n",
       "    }\n",
       "\n",
       "    // Check for shift+enter\n",
       "    if (event.shiftKey && event.which === 13) {\n",
       "        this.canvas_div.blur();\n",
       "        // select the cell after this one\n",
       "        var index = IPython.notebook.find_cell_index(this.cell_info[0]);\n",
       "        IPython.notebook.select(index + 1);\n",
       "    }\n",
       "};\n",
       "\n",
       "mpl.figure.prototype.handle_save = function (fig, _msg) {\n",
       "    fig.ondownload(fig, null);\n",
       "};\n",
       "\n",
       "mpl.find_output_cell = function (html_output) {\n",
       "    // Return the cell and output element which can be found *uniquely* in the notebook.\n",
       "    // Note - this is a bit hacky, but it is done because the \"notebook_saving.Notebook\"\n",
       "    // IPython event is triggered only after the cells have been serialised, which for\n",
       "    // our purposes (turning an active figure into a static one), is too late.\n",
       "    var cells = IPython.notebook.get_cells();\n",
       "    var ncells = cells.length;\n",
       "    for (var i = 0; i < ncells; i++) {\n",
       "        var cell = cells[i];\n",
       "        if (cell.cell_type === 'code') {\n",
       "            for (var j = 0; j < cell.output_area.outputs.length; j++) {\n",
       "                var data = cell.output_area.outputs[j];\n",
       "                if (data.data) {\n",
       "                    // IPython >= 3 moved mimebundle to data attribute of output\n",
       "                    data = data.data;\n",
       "                }\n",
       "                if (data['text/html'] === html_output) {\n",
       "                    return [cell, data, j];\n",
       "                }\n",
       "            }\n",
       "        }\n",
       "    }\n",
       "};\n",
       "\n",
       "// Register the function which deals with the matplotlib target/channel.\n",
       "// The kernel may be null if the page has been refreshed.\n",
       "if (IPython.notebook.kernel !== null) {\n",
       "    IPython.notebook.kernel.comm_manager.register_target(\n",
       "        'matplotlib',\n",
       "        mpl.mpl_figure_comm\n",
       "    );\n",
       "}\n"
      ],
      "text/plain": [
       "<IPython.core.display.Javascript object>"
      ]
     },
     "metadata": {},
     "output_type": "display_data"
    },
    {
     "data": {
      "text/html": [
       "<img src=\"data:image/png;base64,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\" width=\"800\">"
      ],
      "text/plain": [
       "<IPython.core.display.HTML object>"
      ]
     },
     "metadata": {},
     "output_type": "display_data"
    }
   ],
   "source": [
    "x = np.arange(-1, 3, 0.5)\n",
    "y = np.arange(-1, 3, 0.5)\n",
    "X, Y = np.meshgrid(x, y)\n",
    "# print(np.meshgrid(x, y))\n",
    "# print(type(X)) # array\n",
    "Z1 = 2*X - Y -1\n",
    "Z2 = (-X - Y + 2)/2\n",
    "Z3 = 7*X - 2*Y - 5\n",
    "\n",
    "fig = plt.figure()\n",
    "ax1 = Axes3D(fig, auto_add_to_figure=False)\n",
    "fig.add_axes(ax1)\n",
    "ax1.plot_surface(X, Y, Z1, alpha = 0.5, color = 'red')\n",
    "ax1.plot_surface(X, Y, Z2, alpha = 0.5, color = 'blue')\n",
    "ax1.plot_surface(X, Y, Z3, alpha = 0.5, color = 'orange')\n",
    "ax1.set_xlabel('x axis')\n",
    "ax1.set_ylabel('y axis')\n",
    "ax1.set_zlabel('z axis')\n",
    "\n",
    "fig.set_figwidth(8) \n",
    "fig.set_figheight(6)"
   ]
  },
  {
   "cell_type": "markdown",
   "id": "cb8b9eb6",
   "metadata": {},
   "source": [
    "### 從圖形來看，此三平面共同交於一條直線，所以我的程式碼判斷出這個線性方程組為無線多組解是正確的。"
   ]
  },
  {
   "cell_type": "markdown",
   "id": "4c11e3fb",
   "metadata": {},
   "source": [
    "## (2)高斯消去法"
   ]
  },
  {
   "cell_type": "markdown",
   "id": "30f32988",
   "metadata": {},
   "source": [
    "### 畢竟高斯消去法是$LU$分解重要的一環，而我又討論到線性方程組的求解，那就不能不提它了。其實在曾正男教授講解$LU$分解法前，他就有另外做了一個高斯消去法的教學影片，可見它的重要性。而教授同樣在影片最後面附上他所寫的程式碼，下面我同樣會對教授的程式碼進行修改。"
   ]
  },
  {
   "cell_type": "markdown",
   "id": "290a364b",
   "metadata": {},
   "source": [
    "### 我在先前測試的時候發現教授的程式碼有與$LU$分解的程式碼相似的問題，只要主對角線上很多$0$的時候就容易發生問題。其實教授也有提到，他寫的程式碼沒辦法解出所有的線性方程組。所以，我想說，既然教授都寫到這裡了，剩下的部分為什麼不直接完成呢?$\\;$於是，我修改了教授的程式碼，使其能正確地求出解。"
   ]
  },
  {
   "cell_type": "markdown",
   "id": "aec6f6ca",
   "metadata": {},
   "source": [
    "[曾正男教授的高斯消去法教學影片連結](https://www.youtube.com/watch?v=HWNgsIRt_oM)"
   ]
  },
  {
   "cell_type": "markdown",
   "id": "e4999466",
   "metadata": {},
   "source": [
    "## <1> 教授寫的程式碼(有的註解是我自己加的，方便我記錄及理解)"
   ]
  },
  {
   "cell_type": "code",
   "execution_count": 46,
   "id": "f72e8c81",
   "metadata": {},
   "outputs": [],
   "source": [
    "import numpy as np"
   ]
  },
  {
   "cell_type": "code",
   "execution_count": 47,
   "id": "5311347f",
   "metadata": {},
   "outputs": [],
   "source": [
    "def Gauss_Elimination_1(A, b):\n",
    "    m, n = A.shape # array(matrix).shape 可以看array(matrix)的形狀 ; m-->rows ; n-->columns\n",
    "    R = np.mat(np.zeros([m, n+1])) \n",
    "    # R is the reduced row echelon form-->簡化後的列階梯形矩陣 ; n+1-->要在A矩陣中放入b, 即改成增廣矩陣\n",
    "    R[:,:n] = A # [rows, columns] ; [:, :n]-->rows:all ; cloloumns:0 ~ (n-1)\n",
    "    R[:,n] = b # [rows, columns] ; [:, n]-->rows:all ; cloloumn:n\n",
    "    \n",
    "    for i in range(m):\n",
    "        # find maximal element in the column i\n",
    "        maxEc = abs(R[i, i]) # maxEc為 A矩陣對角線上的值\n",
    "        maxRow = i\n",
    "        for k in range(i+1, m):\n",
    "            if abs(R[k, i]) > maxEc:\n",
    "                maxEc = abs(R[k, i])\n",
    "                maxRow = k\n",
    "                \n",
    "        # swap maximum row with current row\n",
    "        R[[i, maxRow], i:] = R[[maxRow, i], i:] \n",
    "        # [rows, columns] ; 第 i 列與第 maxRow 列互換 , 從該列的第 i 行開始(省略前面從第 0 行到第 (i-1)行的互換 ∵ 都是 0, 不用互換) \n",
    "        \n",
    "        # make all rows below this one to 0\n",
    "        for k in range(i+1, m):\n",
    "            c = -float(R[k, i])/R[i, i] # float要加, 避免發生計算錯誤\n",
    "            R[k, i:] = R[k, i:] + c*R[i, i:]\n",
    "    # solve equation for an upper triangular matrix(the numbers in the lower triangular matrix are all solved to 0)\n",
    "    x = np.mat(np.zeros([m, 1]))\n",
    "    for i in range(m-1, -1, -1):\n",
    "    # range(m-1, -1, -1)-->(m-1) ~ 0\n",
    "        x[i] = float(R[i, -1])/R[i, i] # 最後一行(b矩陣) / 對角線上對應的變數係數 [一元一次方程式]\n",
    "        # x[i]即是[i][0](只有一行不一定要寫) ; np.mat的形式可以用index去改變數值 \n",
    "        # R[i][i]在矩陣的對角線上,不包含矩陣 b的部分, 只有矩陣 A\n",
    "        \n",
    "        # 事實上 , 上三角不會被換成 0 最終目標是解出未知數 , \n",
    "        # 所以從最右列的最下面那行的一元一次方程式開始往上代入 , 以求出上面的其他未知數\n",
    "        for k in range(i-1, -1, -1):  \n",
    "        # range(i-1, -1, -1)-->(i-1) ~ 0\n",
    "            R[k, -1] -= R[k, i]*x[i] \n",
    "                     \n",
    "    return x "
   ]
  },
  {
   "cell_type": "markdown",
   "id": "53a8d5e5",
   "metadata": {},
   "source": [
    "## <2> 我修改後的的程式碼"
   ]
  },
  {
   "cell_type": "code",
   "execution_count": 48,
   "id": "a0cc4137",
   "metadata": {},
   "outputs": [],
   "source": [
    "import numpy as np\n",
    "import sympy as sp"
   ]
  },
  {
   "cell_type": "code",
   "execution_count": 49,
   "id": "b0df4d0d",
   "metadata": {},
   "outputs": [],
   "source": [
    "def Gauss_Elimination_2(A, b):\n",
    "    m, n = A.shape\n",
    "    # Gauss Elimination(all contents below this line)\n",
    "    R = sp.Matrix(np.zeros([m, n+1]))\n",
    "    R[:, :n] = A\n",
    "    R[:,  n] = b\n",
    "    for k in R:\n",
    "        k = sp.Rational(k).limit_denominator()\n",
    "    \n",
    "    for i in range(m):\n",
    "        for v in range(i+1, m):\n",
    "            if R[i, i] == 0:\n",
    "                if R[v, i] != 0:\n",
    "                    R = np.mat(R)\n",
    "                    R[[v, i], :] = R[[i, v], :]\n",
    "                    R = sp.Matrix(R)\n",
    "                        \n",
    "        for h in range(i+1, m):\n",
    "            if R[i, i] == 0:\n",
    "                continue\n",
    "            c = R[h, i]/R[i, i]\n",
    "            R[h, :] = R[h, :] - c*R[i, :]\n",
    "    x = sp.zeros(m, 1) \n",
    "    for z in range(m-1, -1, -1):\n",
    "    # (m-1) ~ 0; index = (-1) --> the last one\n",
    "        x[z] = R[z, -1] / R[z, z]\n",
    "        for y in range(z-1, -1, -1):\n",
    "            R[y, -1] -= R[y, z] * x[z] \n",
    "        # 倒車往上消去未知數(先把A矩陣在主對角線下的元素全部消成0, \n",
    "        # 然後解好最下面的一元方程式, 往上代入二元方程式, 三元方程式, ...\n",
    "    \n",
    "\n",
    "        \n",
    "    return x"
   ]
  },
  {
   "cell_type": "markdown",
   "id": "820a311f",
   "metadata": {},
   "source": [
    "### 下面我用和上面測試「恰有一解」時，一模一樣的方程組，比較我和教授的程式碼計算出來的答案有什麼不同"
   ]
  },
  {
   "cell_type": "markdown",
   "id": "bd8bcddf",
   "metadata": {},
   "source": [
    "###   $\\begin{cases}85x+69y-34z=120\\\\69x-85y+47z=10 \\;\\;\\;--→\\\\23x-200y-21z=-23\\end{cases} \\; \\left[\\begin{matrix}85 & 69 & -34\\\\69 & -85 & 47\\\\23 & -200 & -21\\end{matrix}\\right]  \\left[\\begin{matrix}x\\\\y\\\\z\\end{matrix}\\right]  =  \\left[\\begin{matrix}120\\\\10\\\\-23\\end{matrix}\\right]$"
   ]
  },
  {
   "cell_type": "code",
   "execution_count": 50,
   "id": "c690360e",
   "metadata": {},
   "outputs": [],
   "source": [
    "from sympy.abc import x, y, z"
   ]
  },
  {
   "cell_type": "code",
   "execution_count": 51,
   "id": "fe553947",
   "metadata": {},
   "outputs": [],
   "source": [
    "from IPython.display import display, Markdown"
   ]
  },
  {
   "cell_type": "code",
   "execution_count": 52,
   "id": "9b2211c0",
   "metadata": {},
   "outputs": [
    {
     "data": {
      "text/markdown": [
       "### $A\\;=\\left[\\begin{matrix}85 & 69 & -34\\\\69 & -85 & 47\\\\23 & -200 & -21\\end{matrix}\\right],\\;x(matrix)\\;=\\left[\\begin{matrix}x\\\\y\\\\z\\end{matrix}\\right],\\;b\\;=\\left[\\begin{matrix}120\\\\10\\\\-23\\end{matrix}\\right]$"
      ],
      "text/plain": [
       "<IPython.core.display.Markdown object>"
      ]
     },
     "metadata": {},
     "output_type": "display_data"
    }
   ],
   "source": [
    "A = sp.Matrix([[85, 69, -34], \n",
    "               [69, -85, 47], \n",
    "               [23, -200, -21]])\n",
    "x_matrix = sp.Matrix([[x],\n",
    "                      [y], \n",
    "                      [z]])\n",
    "b = sp.Matrix([[120], \n",
    "               [10], \n",
    "               [-23]])\n",
    "\n",
    "a = '### $'+'A\\;=' +  sp.latex(A) + ',\\;' + 'x(matrix)\\;=' + sp.latex(x_matrix) + ',\\;' + 'b\\;=' +  sp.latex(b) + '$'\n",
    "display(Markdown(a))"
   ]
  },
  {
   "cell_type": "markdown",
   "id": "fc643fa0",
   "metadata": {},
   "source": [
    "## 教授的程式碼計算的結果(為了清楚表示數學式，我將教授輸出的$x$矩陣從$np.mat( )$的形式切換成$sp.Matrix( )$的形式)"
   ]
  },
  {
   "cell_type": "code",
   "execution_count": 53,
   "id": "238e3744",
   "metadata": {},
   "outputs": [
    {
     "data": {
      "text/markdown": [
       "### $x_1\\;=\\left[\\begin{matrix}0.927060093912076\\\\0.287569247885342\\\\-0.628165115099557\\end{matrix}\\right],\\;Ax_1\\;=\\left[\\begin{matrix}120.0\\\\9.99999999999999\\\\-23.0\\end{matrix}\\right],\\;b\\;=\\left[\\begin{matrix}120\\\\10\\\\-23\\end{matrix}\\right]\\;→Ax_1 ≠ b $"
      ],
      "text/plain": [
       "<IPython.core.display.Markdown object>"
      ]
     },
     "metadata": {},
     "output_type": "display_data"
    }
   ],
   "source": [
    "x1 = Gauss_Elimination_1(A, b)\n",
    "x1 = sp.Matrix(x1)\n",
    "a1 = '### $'+'x_1\\;=' + sp.latex(x1) + ',\\;' + 'Ax_1\\;=' \n",
    "a2 = sp.latex(A*x1) + ',\\;' + 'b\\;=' + sp.latex(b) + '\\;→' + 'Ax_1 ≠ b '+'$'\n",
    "a3 = a1 + a2\n",
    "display(Markdown(a3))"
   ]
  },
  {
   "cell_type": "markdown",
   "id": "bc066639",
   "metadata": {},
   "source": [
    "## 我的程式碼計算的結果(高斯消去法, 此處我修改後的程式碼)"
   ]
  },
  {
   "cell_type": "code",
   "execution_count": 54,
   "id": "8fc3eab5",
   "metadata": {},
   "outputs": [
    {
     "data": {
      "text/markdown": [
       "### $x_2\\;=\\left[\\begin{matrix}\\frac{1416571}{1528025}\\\\\\frac{439413}{1528025}\\\\- \\frac{959852}{1528025}\\end{matrix}\\right],\\;Ax_2\\;=\\left[\\begin{matrix}120\\\\10\\\\-23\\end{matrix}\\right],\\;b\\;=\\left[\\begin{matrix}120\\\\10\\\\-23\\end{matrix}\\right]→\\;Ax_2 = b  (成立)$"
      ],
      "text/plain": [
       "<IPython.core.display.Markdown object>"
      ]
     },
     "metadata": {},
     "output_type": "display_data"
    }
   ],
   "source": [
    "x2 = Gauss_Elimination_2(A, b)\n",
    "a1 = '### $'+'x_2\\;=' + sp.latex(x2) + ',\\;' + 'Ax_2\\;=' \n",
    "a2 = sp.latex(A*x2) + ',\\;' + 'b\\;=' + sp.latex(b) + '→\\;' + 'Ax_2 = b  (成立)'+'$'\n",
    "a3 = a1 + a2\n",
    "display(Markdown(a3))"
   ]
  },
  {
   "cell_type": "markdown",
   "id": "ffbfe8c6",
   "metadata": {},
   "source": [
    "## 我的程式碼計算的結果(在1.克拉瑪公式那裡寫的程式碼)"
   ]
  },
  {
   "cell_type": "code",
   "execution_count": 55,
   "id": "7b53550a",
   "metadata": {},
   "outputs": [
    {
     "name": "stdout",
     "output_type": "stream",
     "text": [
      "恰有一解\n"
     ]
    },
    {
     "data": {
      "text/markdown": [
       "### $x_3\\;=\\left[\\begin{matrix}\\frac{1416571}{1528025}\\\\\\frac{439413}{1528025}\\\\- \\frac{959852}{1528025}\\end{matrix}\\right],\\;Ax_3\\;=\\left[\\begin{matrix}120\\\\10\\\\-23\\end{matrix}\\right],\\;b\\;=\\left[\\begin{matrix}120\\\\10\\\\-23\\end{matrix}\\right]→\\;Ax_3 = b  (成立)$"
      ],
      "text/plain": [
       "<IPython.core.display.Markdown object>"
      ]
     },
     "metadata": {},
     "output_type": "display_data"
    }
   ],
   "source": [
    "state, x3 = Cramer(A, b)\n",
    "print(state)\n",
    "a1 = '### $'+'x_3\\;=' + sp.latex(x3) + ',\\;' + 'Ax_3\\;=' \n",
    "a2 = sp.latex(A*x3) + ',\\;' + 'b\\;=' + sp.latex(b) + '→\\;' + 'Ax_3 = b  (成立)'+'$'\n",
    "a3 = a1 + a2\n",
    "display(Markdown(a3))"
   ]
  },
  {
   "cell_type": "markdown",
   "id": "a84aeb1c",
   "metadata": {},
   "source": [
    "### ↑$x_2 = x_3$，加上$x_3$這個答案在上面已經被驗證為正確的，所以我的程式碼計算出的$x_2$也是正確的。"
   ]
  },
  {
   "cell_type": "markdown",
   "id": "d8e288ad",
   "metadata": {},
   "source": [
    "### 由上可知，儘管教授的程式碼在計算時沒有出現差錯，一樣能計算出答案。不過，因為每個解皆是非常複雜的小數，若用$「float」$的小數形式來計算，則$Python$在顯示小數的數值時，小數末幾位可能產生偏差，進而導致$A$矩陣與$x_1$矩陣相乘後，與$b$矩陣間有極小的誤差。而我主要用和上面，改良$LU$分解在計算時產生的誤差一樣的想法進行修改: 「用分數取代小數進行計算」，這樣可使解的各個數值皆為標準無偏差，也能使$Ax=b$的等式成立。"
   ]
  },
  {
   "cell_type": "markdown",
   "id": "edf47b59",
   "metadata": {},
   "source": [
    "## (3)矩陣計算直接求解"
   ]
  },
  {
   "cell_type": "markdown",
   "id": "f9a89ab9",
   "metadata": {},
   "source": [
    "### 如果說要偷懶一下，省去高斯消去法的計算，事實上只要確定$A$矩陣為可逆矩陣$(det(A)≠0)$，在$Ax=b$的兩邊同乘$A^{-1}$，然後就可得到:$x = A^{-1}b$，$「x$矩陣」中的元素即為解。下面我用和上面測試「恰有一解」時，一模一樣的方程組，看看使用矩陣計算求出來的解和我在上面算出來的正確答案是否相同。"
   ]
  },
  {
   "cell_type": "markdown",
   "id": "e60047a0",
   "metadata": {},
   "source": [
    "###   $\\begin{cases}85x+69y-34z=120\\\\69x-85y+47z=10 \\;\\;\\;--→\\\\23x-200y-21z=-23\\end{cases} \\; \\left[\\begin{matrix}85 & 69 & -34\\\\69 & -85 & 47\\\\23 & -200 & -21\\end{matrix}\\right]  \\left[\\begin{matrix}x\\\\y\\\\z\\end{matrix}\\right]  =  \\left[\\begin{matrix}120\\\\10\\\\-23\\end{matrix}\\right]$"
   ]
  },
  {
   "cell_type": "code",
   "execution_count": 56,
   "id": "08ffdf98",
   "metadata": {},
   "outputs": [],
   "source": [
    "import numpy as np\n",
    "import sympy as sp"
   ]
  },
  {
   "cell_type": "code",
   "execution_count": 57,
   "id": "e142a74b",
   "metadata": {},
   "outputs": [],
   "source": [
    "from IPython.display import display, Markdown"
   ]
  },
  {
   "cell_type": "code",
   "execution_count": 58,
   "id": "0e020d39",
   "metadata": {},
   "outputs": [
    {
     "data": {
      "text/markdown": [
       "### $A\\;=\\left[\\begin{matrix}85 & 69 & -34\\\\69 & -85 & 47\\\\23 & -200 & -21\\end{matrix}\\right],\\;x(matrix)\\;=\\left[\\begin{matrix}x\\\\y\\\\z\\end{matrix}\\right],\\;b\\;=\\left[\\begin{matrix}120\\\\10\\\\-23\\end{matrix}\\right]$"
      ],
      "text/plain": [
       "<IPython.core.display.Markdown object>"
      ]
     },
     "metadata": {},
     "output_type": "display_data"
    }
   ],
   "source": [
    "A = sp.Matrix([[85, 69, -34], \n",
    "               [69, -85, 47], \n",
    "               [23, -200, -21]])\n",
    "x_matrix = sp.Matrix([[x],\n",
    "                      [y], \n",
    "                      [z]])\n",
    "b = sp.Matrix([[120], \n",
    "               [10], \n",
    "               [-23]])\n",
    "\n",
    "a = '### $'+'A\\;=' +  sp.latex(A) + ',\\;' + 'x(matrix)\\;=' + sp.latex(x_matrix) + ',\\;' + 'b\\;=' +  sp.latex(b) + '$'\n",
    "display(Markdown(a))"
   ]
  },
  {
   "cell_type": "markdown",
   "id": "b2d86da5",
   "metadata": {},
   "source": [
    "## 我的程式碼計算的結果(矩陣直接計算)"
   ]
  },
  {
   "cell_type": "code",
   "execution_count": 59,
   "id": "90903f0c",
   "metadata": {},
   "outputs": [
    {
     "data": {
      "text/markdown": [
       "### $x_4\\;=\\left[\\begin{matrix}\\frac{1416571}{1528025}\\\\\\frac{439413}{1528025}\\\\- \\frac{959852}{1528025}\\end{matrix}\\right],\\;Ax_4\\;=\\left[\\begin{matrix}120\\\\10\\\\-23\\end{matrix}\\right],\\;b\\;=\\left[\\begin{matrix}120\\\\10\\\\-23\\end{matrix}\\right]→\\;Ax_4 = b  (成立)$"
      ],
      "text/plain": [
       "<IPython.core.display.Markdown object>"
      ]
     },
     "metadata": {},
     "output_type": "display_data"
    }
   ],
   "source": [
    "A1 = A.inv()\n",
    "x4 = A1 * b\n",
    "a1 = '### $'+'x_4\\;=' + sp.latex(x3) + ',\\;' + 'Ax_4\\;=' \n",
    "a2 = sp.latex(A*x4) + ',\\;' + 'b\\;=' + sp.latex(b) + '→\\;' + 'Ax_4 = b  (成立)'+'$'\n",
    "a3 = a1 + a2\n",
    "display(Markdown(a3))"
   ]
  },
  {
   "cell_type": "markdown",
   "id": "04c59720",
   "metadata": {},
   "source": [
    "## 我的程式碼計算的結果(在1.克拉瑪公式那裡寫的程式碼)"
   ]
  },
  {
   "cell_type": "code",
   "execution_count": 60,
   "id": "73e97b07",
   "metadata": {},
   "outputs": [
    {
     "name": "stdout",
     "output_type": "stream",
     "text": [
      "恰有一解\n"
     ]
    },
    {
     "data": {
      "text/markdown": [
       "### $x_5\\;=\\left[\\begin{matrix}\\frac{1416571}{1528025}\\\\\\frac{439413}{1528025}\\\\- \\frac{959852}{1528025}\\end{matrix}\\right],\\;Ax_5\\;=\\left[\\begin{matrix}120\\\\10\\\\-23\\end{matrix}\\right],\\;b\\;=\\left[\\begin{matrix}120\\\\10\\\\-23\\end{matrix}\\right]→\\;Ax_5 = b  (成立)$"
      ],
      "text/plain": [
       "<IPython.core.display.Markdown object>"
      ]
     },
     "metadata": {},
     "output_type": "display_data"
    }
   ],
   "source": [
    "state, x5 = Cramer(A, b)\n",
    "print(state)\n",
    "a1 = '### $'+'x_5\\;=' + sp.latex(x5) + ',\\;' + 'Ax_5\\;=' \n",
    "a2 = sp.latex(A*x5) + ',\\;' + 'b\\;=' + sp.latex(b) + '→\\;' + 'Ax_5 = b  (成立)'+'$'\n",
    "a3 = a1 + a2\n",
    "display(Markdown(a3))"
   ]
  },
  {
   "cell_type": "markdown",
   "id": "af00c8a2",
   "metadata": {},
   "source": [
    "## 我的程式碼計算的結果(在2.高斯消去法那裡寫的程式碼)"
   ]
  },
  {
   "cell_type": "code",
   "execution_count": 61,
   "id": "e2590ce2",
   "metadata": {},
   "outputs": [
    {
     "data": {
      "text/markdown": [
       "### $x_6\\;=\\left[\\begin{matrix}\\frac{1416571}{1528025}\\\\\\frac{439413}{1528025}\\\\- \\frac{959852}{1528025}\\end{matrix}\\right],\\;Ax_6\\;=\\left[\\begin{matrix}120\\\\10\\\\-23\\end{matrix}\\right],\\;b\\;=\\left[\\begin{matrix}120\\\\10\\\\-23\\end{matrix}\\right]→\\;Ax_6 = b  (成立)$"
      ],
      "text/plain": [
       "<IPython.core.display.Markdown object>"
      ]
     },
     "metadata": {},
     "output_type": "display_data"
    }
   ],
   "source": [
    "x6 = Gauss_Elimination_2(A, b)\n",
    "a1 = '### $'+'x_6\\;=' + sp.latex(x6) + ',\\;' + 'Ax_6\\;=' \n",
    "a2 = sp.latex(A*x6) + ',\\;' + 'b\\;=' + sp.latex(b) + '→\\;' + 'Ax_6 = b  (成立)'+'$'\n",
    "a3 = a1 + a2\n",
    "display(Markdown(a3))"
   ]
  },
  {
   "cell_type": "markdown",
   "id": "6c82feab",
   "metadata": {},
   "source": [
    "### $↑x_4 = x_5 = x_6$，且由上可知，運用矩陣計算求出來的$x_4$與我利用克拉瑪公式所得的$x_5$及高斯消去法求得的$x_6$相同，且$x_5$和$x_6$在上面已經被驗證過是正確的，所以運用矩陣計算求出來的$x_4$也是正確的。"
   ]
  },
  {
   "cell_type": "code",
   "execution_count": null,
   "id": "8f913c06",
   "metadata": {},
   "outputs": [],
   "source": []
  }
 ],
 "metadata": {
  "kernelspec": {
   "display_name": "Python 3 (ipykernel)",
   "language": "python",
   "name": "python3"
  },
  "language_info": {
   "codemirror_mode": {
    "name": "ipython",
    "version": 3
   },
   "file_extension": ".py",
   "mimetype": "text/x-python",
   "name": "python",
   "nbconvert_exporter": "python",
   "pygments_lexer": "ipython3",
   "version": "3.9.7"
  }
 },
 "nbformat": 4,
 "nbformat_minor": 5
}
