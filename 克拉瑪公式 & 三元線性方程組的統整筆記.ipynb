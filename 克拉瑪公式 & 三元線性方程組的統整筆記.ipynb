{
 "cells": [
  {
   "cell_type": "markdown",
   "id": "1eee50fd",
   "metadata": {},
   "source": [
    "# 克拉瑪公式 & 三元線性方程組的統整筆記"
   ]
  },
  {
   "cell_type": "markdown",
   "id": "cca2ed72",
   "metadata": {},
   "source": [
    "## 以下數頁是我對於克拉瑪公式與三元線性方程組的整理與探討，我以自問自答的方式對我曾經的一些問題進行討論，以自己的話寫下符合邏輯的推論過程，數學式得以成立的理由等。\n",
    "## 註記:以下內容可能有部分在螢幕放大比例較小的模式會稍顯模糊，放大一點看即可"
   ]
  },
  {
   "cell_type": "markdown",
   "id": "136ee5fe",
   "metadata": {},
   "source": [
    "[![image](https://www.linkpicture.com/q/2021_12_23-10_12-Office-Lens-1.jpg)](https://www.linkpicture.com/view.php?img=LPic61c3e440104221551182458)"
   ]
  },
  {
   "cell_type": "markdown",
   "id": "915a13ef",
   "metadata": {},
   "source": [
    "[![image](https://www.linkpicture.com/q/2021_12_23-10_12-Office-Lens-2.jpg)](https://www.linkpicture.com/view.php?img=LPic61c3e47b727621343125073)"
   ]
  },
  {
   "cell_type": "markdown",
   "id": "cabd46ac",
   "metadata": {},
   "source": [
    "[![image](https://www.linkpicture.com/q/2021_12_23-10_12-Office-Lens-3.jpg)](https://www.linkpicture.com/view.php?img=LPic61c3e4b7587351297559901)"
   ]
  },
  {
   "cell_type": "markdown",
   "id": "d1aeb8b3",
   "metadata": {},
   "source": [
    "[![image](https://www.linkpicture.com/q/2021_12_23-10_12-Office-Lens-4.jpg)](https://www.linkpicture.com/view.php?img=LPic61c3e4d4571e2216666332)"
   ]
  },
  {
   "cell_type": "markdown",
   "id": "6e4b6145",
   "metadata": {},
   "source": [
    "[![image](https://www.linkpicture.com/q/2021_12_23-10_12-Office-Lens-5.jpg)](https://www.linkpicture.com/view.php?img=LPic61c3e4e7465651768947904)"
   ]
  },
  {
   "cell_type": "markdown",
   "id": "31a0e281",
   "metadata": {},
   "source": [
    "[![image](https://www.linkpicture.com/q/2021_12_23-10_12-Office-Lens-5.jpg)](https://www.linkpicture.com/view.php?img=LPic61c3e4e7465651768947904)"
   ]
  },
  {
   "cell_type": "markdown",
   "id": "a2720926",
   "metadata": {},
   "source": [
    "[![image](https://www.linkpicture.com/q/2021_12_23-10_12-Office-Lens-5.jpg)](https://www.linkpicture.com/view.php?img=LPic61c3e4e7465651768947904)"
   ]
  },
  {
   "cell_type": "markdown",
   "id": "bd6f2dab",
   "metadata": {},
   "source": [
    "[![image](https://www.linkpicture.com/q/2021_12_23-10_16-Office-Lens.jpg)](https://www.linkpicture.com/view.php?img=LPic61c3e5053e0882084247543)"
   ]
  },
  {
   "cell_type": "code",
   "execution_count": null,
   "id": "fa313cec",
   "metadata": {},
   "outputs": [],
   "source": []
  }
 ],
 "metadata": {
  "kernelspec": {
   "display_name": "Python 3 (ipykernel)",
   "language": "python",
   "name": "python3"
  },
  "language_info": {
   "codemirror_mode": {
    "name": "ipython",
    "version": 3
   },
   "file_extension": ".py",
   "mimetype": "text/x-python",
   "name": "python",
   "nbconvert_exporter": "python",
   "pygments_lexer": "ipython3",
   "version": "3.9.7"
  }
 },
 "nbformat": 4,
 "nbformat_minor": 5
}
